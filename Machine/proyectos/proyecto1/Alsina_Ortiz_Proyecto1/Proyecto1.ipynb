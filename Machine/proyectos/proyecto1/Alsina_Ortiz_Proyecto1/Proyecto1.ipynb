{
 "cells": [
  {
   "cell_type": "markdown",
   "metadata": {
    "cell_id": "dbb3e703ed564a16b38e978bb6bdf8ea",
    "deepnote_cell_type": "markdown",
    "tags": []
   },
   "source": [
    "```\n",
    "💡Integrantes💡\n",
    "\n",
    "✨Laura Sofía Ortiz Arcos\n",
    "✨David Santiago Flórez Alsina\n",
    "```\n"
   ]
  },
  {
   "cell_type": "code",
   "execution_count": 41,
   "metadata": {
    "cell_id": "4d0fdc42f4dc42fcac653c3aeb3f3235",
    "deepnote_cell_type": "code",
    "deepnote_to_be_reexecuted": false,
    "execution_millis": 1,
    "execution_start": 1677969335513,
    "source_hash": "82cc5e73",
    "tags": []
   },
   "outputs": [],
   "source": [
    "import numpy             as np\n",
    "import pandas            as pd\n",
    "import matplotlib.pyplot as plt\n",
    "\n",
    "from sklearn.model_selection  import train_test_split\n",
    "from sklearn.neighbors        import KNeighborsClassifier\n",
    "from sklearn.tree             import DecisionTreeClassifier, plot_tree, DecisionTreeRegressor\n",
    "from sklearn                  import metrics\n",
    "from sklearn.linear_model     import Ridge, RidgeCV, Lasso, LassoCV\n",
    "from sklearn.metrics          import mean_squared_error\n",
    "from sklearn.linear_model     import LinearRegression \n",
    "from sklearn.neighbors        import KNeighborsClassifier\n",
    "from sklearn                  import decomposition, datasets\n",
    "from sklearn                  import tree\n",
    "from sklearn.pipeline         import Pipeline\n",
    "from sklearn                  import neighbors\n",
    "from sklearn.preprocessing    import StandardScaler\n",
    "from sklearn.model_selection  import GridSearchCV\n",
    "from sklearn.neighbors        import KNeighborsRegressor"
   ]
  },
  {
   "cell_type": "markdown",
   "metadata": {
    "cell_id": "8d845f005372450b9a365244aa590b29",
    "deepnote_cell_type": "markdown",
    "tags": []
   },
   "source": [
    "**1. Cargar el dataset HousingData, el cual se proveerá junto con un diccionario de los atributos. La variable objetivo es MEDV.**"
   ]
  },
  {
   "cell_type": "code",
   "execution_count": 42,
   "metadata": {
    "cell_id": "b05f6d23b6d54d5f8f0a7ed3269ac615",
    "deepnote_cell_type": "code",
    "deepnote_table_loading": false,
    "deepnote_table_state": {
     "filters": [],
     "pageIndex": 0,
     "pageSize": 50,
     "sortBy": []
    },
    "deepnote_to_be_reexecuted": false,
    "execution_millis": 73,
    "execution_start": 1677969339724,
    "source_hash": "da16ca20",
    "tags": []
   },
   "outputs": [
    {
     "data": {
      "application/vnd.deepnote.dataframe.v3+json": {
       "column_count": 14,
       "columns": [
        {
         "dtype": "int64",
         "name": "Unnamed: 0",
         "stats": {
          "histogram": [
           {
            "bin_end": 0.4,
            "bin_start": 0,
            "count": 1
           },
           {
            "bin_end": 0.8,
            "bin_start": 0.4,
            "count": 0
           },
           {
            "bin_end": 1.2000000000000002,
            "bin_start": 0.8,
            "count": 1
           },
           {
            "bin_end": 1.6,
            "bin_start": 1.2000000000000002,
            "count": 0
           },
           {
            "bin_end": 2,
            "bin_start": 1.6,
            "count": 0
           },
           {
            "bin_end": 2.4000000000000004,
            "bin_start": 2,
            "count": 1
           },
           {
            "bin_end": 2.8000000000000003,
            "bin_start": 2.4000000000000004,
            "count": 0
           },
           {
            "bin_end": 3.2,
            "bin_start": 2.8000000000000003,
            "count": 1
           },
           {
            "bin_end": 3.6,
            "bin_start": 3.2,
            "count": 0
           },
           {
            "bin_end": 4,
            "bin_start": 3.6,
            "count": 1
           }
          ],
          "max": "4",
          "min": "0",
          "nan_count": 0,
          "unique_count": 5
         }
        },
        {
         "dtype": "float64",
         "name": "CRIM",
         "stats": {
          "histogram": [
           {
            "bin_end": 0.012593,
            "bin_start": 0.00632,
            "count": 1
           },
           {
            "bin_end": 0.018865999999999997,
            "bin_start": 0.012593,
            "count": 0
           },
           {
            "bin_end": 0.025138999999999995,
            "bin_start": 0.018865999999999997,
            "count": 0
           },
           {
            "bin_end": 0.031411999999999995,
            "bin_start": 0.025138999999999995,
            "count": 2
           },
           {
            "bin_end": 0.037684999999999996,
            "bin_start": 0.031411999999999995,
            "count": 1
           },
           {
            "bin_end": 0.04395799999999999,
            "bin_start": 0.037684999999999996,
            "count": 0
           },
           {
            "bin_end": 0.05023099999999999,
            "bin_start": 0.04395799999999999,
            "count": 0
           },
           {
            "bin_end": 0.05650399999999999,
            "bin_start": 0.05023099999999999,
            "count": 0
           },
           {
            "bin_end": 0.062777,
            "bin_start": 0.05650399999999999,
            "count": 0
           },
           {
            "bin_end": 0.06905,
            "bin_start": 0.062777,
            "count": 1
           }
          ],
          "max": "0.06905",
          "min": "0.00632",
          "nan_count": 0,
          "unique_count": 5
         }
        },
        {
         "dtype": "float64",
         "name": "ZN",
         "stats": {
          "histogram": [
           {
            "bin_end": 1.8,
            "bin_start": 0,
            "count": 4
           },
           {
            "bin_end": 3.6,
            "bin_start": 1.8,
            "count": 0
           },
           {
            "bin_end": 5.4,
            "bin_start": 3.6,
            "count": 0
           },
           {
            "bin_end": 7.2,
            "bin_start": 5.4,
            "count": 0
           },
           {
            "bin_end": 9,
            "bin_start": 7.2,
            "count": 0
           },
           {
            "bin_end": 10.8,
            "bin_start": 9,
            "count": 0
           },
           {
            "bin_end": 12.6,
            "bin_start": 10.8,
            "count": 0
           },
           {
            "bin_end": 14.4,
            "bin_start": 12.6,
            "count": 0
           },
           {
            "bin_end": 16.2,
            "bin_start": 14.4,
            "count": 0
           },
           {
            "bin_end": 18,
            "bin_start": 16.2,
            "count": 1
           }
          ],
          "max": "18.0",
          "min": "0.0",
          "nan_count": 0,
          "unique_count": 2
         }
        },
        {
         "dtype": "float64",
         "name": "INDUS",
         "stats": {
          "histogram": [
           {
            "bin_end": 2.669,
            "bin_start": 2.18,
            "count": 3
           },
           {
            "bin_end": 3.1580000000000004,
            "bin_start": 2.669,
            "count": 0
           },
           {
            "bin_end": 3.6470000000000002,
            "bin_start": 3.1580000000000004,
            "count": 0
           },
           {
            "bin_end": 4.136,
            "bin_start": 3.6470000000000002,
            "count": 0
           },
           {
            "bin_end": 4.625,
            "bin_start": 4.136,
            "count": 0
           },
           {
            "bin_end": 5.114000000000001,
            "bin_start": 4.625,
            "count": 0
           },
           {
            "bin_end": 5.603000000000001,
            "bin_start": 5.114000000000001,
            "count": 0
           },
           {
            "bin_end": 6.0920000000000005,
            "bin_start": 5.603000000000001,
            "count": 0
           },
           {
            "bin_end": 6.581000000000001,
            "bin_start": 6.0920000000000005,
            "count": 0
           },
           {
            "bin_end": 7.07,
            "bin_start": 6.581000000000001,
            "count": 2
           }
          ],
          "max": "7.07",
          "min": "2.18",
          "nan_count": 0,
          "unique_count": 3
         }
        },
        {
         "dtype": "float64",
         "name": "CHAS",
         "stats": {
          "histogram": [
           {
            "bin_end": -0.4,
            "bin_start": -0.5,
            "count": 0
           },
           {
            "bin_end": -0.3,
            "bin_start": -0.4,
            "count": 0
           },
           {
            "bin_end": -0.19999999999999996,
            "bin_start": -0.3,
            "count": 0
           },
           {
            "bin_end": -0.09999999999999998,
            "bin_start": -0.19999999999999996,
            "count": 0
           },
           {
            "bin_end": 0,
            "bin_start": -0.09999999999999998,
            "count": 0
           },
           {
            "bin_end": 0.10000000000000009,
            "bin_start": 0,
            "count": 5
           },
           {
            "bin_end": 0.20000000000000007,
            "bin_start": 0.10000000000000009,
            "count": 0
           },
           {
            "bin_end": 0.30000000000000004,
            "bin_start": 0.20000000000000007,
            "count": 0
           },
           {
            "bin_end": 0.4,
            "bin_start": 0.30000000000000004,
            "count": 0
           },
           {
            "bin_end": 0.5,
            "bin_start": 0.4,
            "count": 0
           }
          ],
          "max": "0.0",
          "min": "0.0",
          "nan_count": 0,
          "unique_count": 1
         }
        },
        {
         "dtype": "float64",
         "name": "NOX",
         "stats": {
          "histogram": [
           {
            "bin_end": 0.466,
            "bin_start": 0.458,
            "count": 2
           },
           {
            "bin_end": 0.47400000000000003,
            "bin_start": 0.466,
            "count": 2
           },
           {
            "bin_end": 0.48200000000000004,
            "bin_start": 0.47400000000000003,
            "count": 0
           },
           {
            "bin_end": 0.49000000000000005,
            "bin_start": 0.48200000000000004,
            "count": 0
           },
           {
            "bin_end": 0.498,
            "bin_start": 0.49000000000000005,
            "count": 0
           },
           {
            "bin_end": 0.506,
            "bin_start": 0.498,
            "count": 0
           },
           {
            "bin_end": 0.514,
            "bin_start": 0.506,
            "count": 0
           },
           {
            "bin_end": 0.522,
            "bin_start": 0.514,
            "count": 0
           },
           {
            "bin_end": 0.53,
            "bin_start": 0.522,
            "count": 0
           },
           {
            "bin_end": 0.538,
            "bin_start": 0.53,
            "count": 1
           }
          ],
          "max": "0.538",
          "min": "0.458",
          "nan_count": 0,
          "unique_count": 3
         }
        },
        {
         "dtype": "float64",
         "name": "RM",
         "stats": {
          "histogram": [
           {
            "bin_end": 6.4974,
            "bin_start": 6.421,
            "count": 1
           },
           {
            "bin_end": 6.5738,
            "bin_start": 6.4974,
            "count": 0
           },
           {
            "bin_end": 6.6502,
            "bin_start": 6.5738,
            "count": 1
           },
           {
            "bin_end": 6.7266,
            "bin_start": 6.6502,
            "count": 0
           },
           {
            "bin_end": 6.803,
            "bin_start": 6.7266,
            "count": 0
           },
           {
            "bin_end": 6.8793999999999995,
            "bin_start": 6.803,
            "count": 0
           },
           {
            "bin_end": 6.9558,
            "bin_start": 6.8793999999999995,
            "count": 0
           },
           {
            "bin_end": 7.0322,
            "bin_start": 6.9558,
            "count": 1
           },
           {
            "bin_end": 7.1086,
            "bin_start": 7.0322,
            "count": 0
           },
           {
            "bin_end": 7.185,
            "bin_start": 7.1086,
            "count": 2
           }
          ],
          "max": "7.185",
          "min": "6.421",
          "nan_count": 0,
          "unique_count": 5
         }
        },
        {
         "dtype": "float64",
         "name": "AGE",
         "stats": {
          "histogram": [
           {
            "bin_end": 49.11,
            "bin_start": 45.8,
            "count": 1
           },
           {
            "bin_end": 52.42,
            "bin_start": 49.11,
            "count": 0
           },
           {
            "bin_end": 55.730000000000004,
            "bin_start": 52.42,
            "count": 1
           },
           {
            "bin_end": 59.04,
            "bin_start": 55.730000000000004,
            "count": 0
           },
           {
            "bin_end": 62.35,
            "bin_start": 59.04,
            "count": 1
           },
           {
            "bin_end": 65.66,
            "bin_start": 62.35,
            "count": 1
           },
           {
            "bin_end": 68.97,
            "bin_start": 65.66,
            "count": 0
           },
           {
            "bin_end": 72.28,
            "bin_start": 68.97,
            "count": 0
           },
           {
            "bin_end": 75.59,
            "bin_start": 72.28,
            "count": 0
           },
           {
            "bin_end": 78.9,
            "bin_start": 75.59,
            "count": 1
           }
          ],
          "max": "78.9",
          "min": "45.8",
          "nan_count": 0,
          "unique_count": 5
         }
        },
        {
         "dtype": "float64",
         "name": "DIS",
         "stats": {
          "histogram": [
           {
            "bin_end": 4.28722,
            "bin_start": 4.09,
            "count": 1
           },
           {
            "bin_end": 4.48444,
            "bin_start": 4.28722,
            "count": 0
           },
           {
            "bin_end": 4.68166,
            "bin_start": 4.48444,
            "count": 0
           },
           {
            "bin_end": 4.87888,
            "bin_start": 4.68166,
            "count": 0
           },
           {
            "bin_end": 5.0761,
            "bin_start": 4.87888,
            "count": 2
           },
           {
            "bin_end": 5.27332,
            "bin_start": 5.0761,
            "count": 0
           },
           {
            "bin_end": 5.47054,
            "bin_start": 5.27332,
            "count": 0
           },
           {
            "bin_end": 5.6677599999999995,
            "bin_start": 5.47054,
            "count": 0
           },
           {
            "bin_end": 5.86498,
            "bin_start": 5.6677599999999995,
            "count": 0
           },
           {
            "bin_end": 6.0622,
            "bin_start": 5.86498,
            "count": 2
           }
          ],
          "max": "6.0622",
          "min": "4.09",
          "nan_count": 0,
          "unique_count": 3
         }
        },
        {
         "dtype": "int64",
         "name": "RAD",
         "stats": {
          "histogram": [
           {
            "bin_end": 1.2,
            "bin_start": 1,
            "count": 1
           },
           {
            "bin_end": 1.4,
            "bin_start": 1.2,
            "count": 0
           },
           {
            "bin_end": 1.6,
            "bin_start": 1.4,
            "count": 0
           },
           {
            "bin_end": 1.8,
            "bin_start": 1.6,
            "count": 0
           },
           {
            "bin_end": 2,
            "bin_start": 1.8,
            "count": 0
           },
           {
            "bin_end": 2.2,
            "bin_start": 2,
            "count": 2
           },
           {
            "bin_end": 2.4000000000000004,
            "bin_start": 2.2,
            "count": 0
           },
           {
            "bin_end": 2.6,
            "bin_start": 2.4000000000000004,
            "count": 0
           },
           {
            "bin_end": 2.8,
            "bin_start": 2.6,
            "count": 0
           },
           {
            "bin_end": 3,
            "bin_start": 2.8,
            "count": 2
           }
          ],
          "max": "3",
          "min": "1",
          "nan_count": 0,
          "unique_count": 3
         }
        },
        {
         "dtype": "int64",
         "name": "TAX",
         "stats": {
          "histogram": [
           {
            "bin_end": 229.4,
            "bin_start": 222,
            "count": 2
           },
           {
            "bin_end": 236.8,
            "bin_start": 229.4,
            "count": 0
           },
           {
            "bin_end": 244.2,
            "bin_start": 236.8,
            "count": 2
           },
           {
            "bin_end": 251.6,
            "bin_start": 244.2,
            "count": 0
           },
           {
            "bin_end": 259,
            "bin_start": 251.6,
            "count": 0
           },
           {
            "bin_end": 266.4,
            "bin_start": 259,
            "count": 0
           },
           {
            "bin_end": 273.8,
            "bin_start": 266.4,
            "count": 0
           },
           {
            "bin_end": 281.2,
            "bin_start": 273.8,
            "count": 0
           },
           {
            "bin_end": 288.6,
            "bin_start": 281.2,
            "count": 0
           },
           {
            "bin_end": 296,
            "bin_start": 288.6,
            "count": 1
           }
          ],
          "max": "296",
          "min": "222",
          "nan_count": 0,
          "unique_count": 3
         }
        },
        {
         "dtype": "float64",
         "name": "PTRATIO",
         "stats": {
          "histogram": [
           {
            "bin_end": 15.64,
            "bin_start": 15.3,
            "count": 1
           },
           {
            "bin_end": 15.98,
            "bin_start": 15.64,
            "count": 0
           },
           {
            "bin_end": 16.32,
            "bin_start": 15.98,
            "count": 0
           },
           {
            "bin_end": 16.66,
            "bin_start": 16.32,
            "count": 0
           },
           {
            "bin_end": 17,
            "bin_start": 16.66,
            "count": 0
           },
           {
            "bin_end": 17.34,
            "bin_start": 17,
            "count": 0
           },
           {
            "bin_end": 17.68,
            "bin_start": 17.34,
            "count": 0
           },
           {
            "bin_end": 18.02,
            "bin_start": 17.68,
            "count": 2
           },
           {
            "bin_end": 18.36,
            "bin_start": 18.02,
            "count": 0
           },
           {
            "bin_end": 18.7,
            "bin_start": 18.36,
            "count": 2
           }
          ],
          "max": "18.7",
          "min": "15.3",
          "nan_count": 0,
          "unique_count": 3
         }
        },
        {
         "dtype": "float64",
         "name": "LSTAT",
         "stats": {
          "histogram": [
           {
            "bin_end": 3.56,
            "bin_start": 2.94,
            "count": 1
           },
           {
            "bin_end": 4.18,
            "bin_start": 3.56,
            "count": 1
           },
           {
            "bin_end": 4.800000000000001,
            "bin_start": 4.18,
            "count": 0
           },
           {
            "bin_end": 5.42,
            "bin_start": 4.800000000000001,
            "count": 1
           },
           {
            "bin_end": 6.040000000000001,
            "bin_start": 5.42,
            "count": 0
           },
           {
            "bin_end": 6.66,
            "bin_start": 6.040000000000001,
            "count": 0
           },
           {
            "bin_end": 7.280000000000001,
            "bin_start": 6.66,
            "count": 0
           },
           {
            "bin_end": 7.9,
            "bin_start": 7.280000000000001,
            "count": 0
           },
           {
            "bin_end": 8.520000000000001,
            "bin_start": 7.9,
            "count": 0
           },
           {
            "bin_end": 9.14,
            "bin_start": 8.520000000000001,
            "count": 1
           }
          ],
          "max": "9.14",
          "min": "2.94",
          "nan_count": 1,
          "unique_count": 4
         }
        },
        {
         "dtype": "float64",
         "name": "MEDV",
         "stats": {
          "histogram": [
           {
            "bin_end": 23.060000000000002,
            "bin_start": 21.6,
            "count": 1
           },
           {
            "bin_end": 24.520000000000003,
            "bin_start": 23.060000000000002,
            "count": 1
           },
           {
            "bin_end": 25.980000000000004,
            "bin_start": 24.520000000000003,
            "count": 0
           },
           {
            "bin_end": 27.44,
            "bin_start": 25.980000000000004,
            "count": 0
           },
           {
            "bin_end": 28.900000000000002,
            "bin_start": 27.44,
            "count": 0
           },
           {
            "bin_end": 30.360000000000003,
            "bin_start": 28.900000000000002,
            "count": 0
           },
           {
            "bin_end": 31.82,
            "bin_start": 30.360000000000003,
            "count": 0
           },
           {
            "bin_end": 33.28,
            "bin_start": 31.82,
            "count": 0
           },
           {
            "bin_end": 34.74,
            "bin_start": 33.28,
            "count": 2
           },
           {
            "bin_end": 36.2,
            "bin_start": 34.74,
            "count": 1
           }
          ],
          "max": "36.2",
          "min": "21.6",
          "nan_count": 0,
          "unique_count": 5
         }
        },
        {
         "dtype": "int64",
         "name": "_deepnote_index_column"
        }
       ],
       "row_count": 5,
       "rows": [
        {
         "AGE": "65.2",
         "CHAS": "0.0",
         "CRIM": "0.00632",
         "DIS": "4.09",
         "INDUS": "2.31",
         "LSTAT": "4.98",
         "MEDV": "24.0",
         "NOX": "0.538",
         "PTRATIO": "15.3",
         "RAD": "1",
         "RM": "6.575",
         "TAX": "296",
         "Unnamed: 0": "0",
         "ZN": "18.0",
         "_deepnote_index_column": "0"
        },
        {
         "AGE": "78.9",
         "CHAS": "0.0",
         "CRIM": "0.02731",
         "DIS": "4.9671",
         "INDUS": "7.07",
         "LSTAT": "9.14",
         "MEDV": "21.6",
         "NOX": "0.469",
         "PTRATIO": "17.8",
         "RAD": "2",
         "RM": "6.421",
         "TAX": "242",
         "Unnamed: 0": "1",
         "ZN": "0.0",
         "_deepnote_index_column": "1"
        },
        {
         "AGE": "61.1",
         "CHAS": "0.0",
         "CRIM": "0.02729",
         "DIS": "4.9671",
         "INDUS": "7.07",
         "LSTAT": "4.03",
         "MEDV": "34.7",
         "NOX": "0.469",
         "PTRATIO": "17.8",
         "RAD": "2",
         "RM": "7.185",
         "TAX": "242",
         "Unnamed: 0": "2",
         "ZN": "0.0",
         "_deepnote_index_column": "2"
        },
        {
         "AGE": "45.8",
         "CHAS": "0.0",
         "CRIM": "0.03237",
         "DIS": "6.0622",
         "INDUS": "2.18",
         "LSTAT": "2.94",
         "MEDV": "33.4",
         "NOX": "0.458",
         "PTRATIO": "18.7",
         "RAD": "3",
         "RM": "6.998",
         "TAX": "222",
         "Unnamed: 0": "3",
         "ZN": "0.0",
         "_deepnote_index_column": "3"
        },
        {
         "AGE": "54.2",
         "CHAS": "0.0",
         "CRIM": "0.06905",
         "DIS": "6.0622",
         "INDUS": "2.18",
         "LSTAT": "nan",
         "MEDV": "36.2",
         "NOX": "0.458",
         "PTRATIO": "18.7",
         "RAD": "3",
         "RM": "7.147",
         "TAX": "222",
         "Unnamed: 0": "4",
         "ZN": "0.0",
         "_deepnote_index_column": "4"
        }
       ]
      },
      "text/html": [
       "<div>\n",
       "<style scoped>\n",
       "    .dataframe tbody tr th:only-of-type {\n",
       "        vertical-align: middle;\n",
       "    }\n",
       "\n",
       "    .dataframe tbody tr th {\n",
       "        vertical-align: top;\n",
       "    }\n",
       "\n",
       "    .dataframe thead th {\n",
       "        text-align: right;\n",
       "    }\n",
       "</style>\n",
       "<table border=\"1\" class=\"dataframe\">\n",
       "  <thead>\n",
       "    <tr style=\"text-align: right;\">\n",
       "      <th></th>\n",
       "      <th>Unnamed: 0</th>\n",
       "      <th>CRIM</th>\n",
       "      <th>ZN</th>\n",
       "      <th>INDUS</th>\n",
       "      <th>CHAS</th>\n",
       "      <th>NOX</th>\n",
       "      <th>RM</th>\n",
       "      <th>AGE</th>\n",
       "      <th>DIS</th>\n",
       "      <th>RAD</th>\n",
       "      <th>TAX</th>\n",
       "      <th>PTRATIO</th>\n",
       "      <th>LSTAT</th>\n",
       "      <th>MEDV</th>\n",
       "    </tr>\n",
       "  </thead>\n",
       "  <tbody>\n",
       "    <tr>\n",
       "      <th>0</th>\n",
       "      <td>0</td>\n",
       "      <td>0.00632</td>\n",
       "      <td>18.0</td>\n",
       "      <td>2.31</td>\n",
       "      <td>0.0</td>\n",
       "      <td>0.538</td>\n",
       "      <td>6.575</td>\n",
       "      <td>65.2</td>\n",
       "      <td>4.0900</td>\n",
       "      <td>1</td>\n",
       "      <td>296</td>\n",
       "      <td>15.3</td>\n",
       "      <td>4.98</td>\n",
       "      <td>24.0</td>\n",
       "    </tr>\n",
       "    <tr>\n",
       "      <th>1</th>\n",
       "      <td>1</td>\n",
       "      <td>0.02731</td>\n",
       "      <td>0.0</td>\n",
       "      <td>7.07</td>\n",
       "      <td>0.0</td>\n",
       "      <td>0.469</td>\n",
       "      <td>6.421</td>\n",
       "      <td>78.9</td>\n",
       "      <td>4.9671</td>\n",
       "      <td>2</td>\n",
       "      <td>242</td>\n",
       "      <td>17.8</td>\n",
       "      <td>9.14</td>\n",
       "      <td>21.6</td>\n",
       "    </tr>\n",
       "    <tr>\n",
       "      <th>2</th>\n",
       "      <td>2</td>\n",
       "      <td>0.02729</td>\n",
       "      <td>0.0</td>\n",
       "      <td>7.07</td>\n",
       "      <td>0.0</td>\n",
       "      <td>0.469</td>\n",
       "      <td>7.185</td>\n",
       "      <td>61.1</td>\n",
       "      <td>4.9671</td>\n",
       "      <td>2</td>\n",
       "      <td>242</td>\n",
       "      <td>17.8</td>\n",
       "      <td>4.03</td>\n",
       "      <td>34.7</td>\n",
       "    </tr>\n",
       "    <tr>\n",
       "      <th>3</th>\n",
       "      <td>3</td>\n",
       "      <td>0.03237</td>\n",
       "      <td>0.0</td>\n",
       "      <td>2.18</td>\n",
       "      <td>0.0</td>\n",
       "      <td>0.458</td>\n",
       "      <td>6.998</td>\n",
       "      <td>45.8</td>\n",
       "      <td>6.0622</td>\n",
       "      <td>3</td>\n",
       "      <td>222</td>\n",
       "      <td>18.7</td>\n",
       "      <td>2.94</td>\n",
       "      <td>33.4</td>\n",
       "    </tr>\n",
       "    <tr>\n",
       "      <th>4</th>\n",
       "      <td>4</td>\n",
       "      <td>0.06905</td>\n",
       "      <td>0.0</td>\n",
       "      <td>2.18</td>\n",
       "      <td>0.0</td>\n",
       "      <td>0.458</td>\n",
       "      <td>7.147</td>\n",
       "      <td>54.2</td>\n",
       "      <td>6.0622</td>\n",
       "      <td>3</td>\n",
       "      <td>222</td>\n",
       "      <td>18.7</td>\n",
       "      <td>NaN</td>\n",
       "      <td>36.2</td>\n",
       "    </tr>\n",
       "  </tbody>\n",
       "</table>\n",
       "</div>"
      ],
      "text/plain": [
       "   Unnamed: 0     CRIM    ZN  INDUS  CHAS    NOX     RM   AGE     DIS  RAD  \\\n",
       "0           0  0.00632  18.0   2.31   0.0  0.538  6.575  65.2  4.0900    1   \n",
       "1           1  0.02731   0.0   7.07   0.0  0.469  6.421  78.9  4.9671    2   \n",
       "2           2  0.02729   0.0   7.07   0.0  0.469  7.185  61.1  4.9671    2   \n",
       "3           3  0.03237   0.0   2.18   0.0  0.458  6.998  45.8  6.0622    3   \n",
       "4           4  0.06905   0.0   2.18   0.0  0.458  7.147  54.2  6.0622    3   \n",
       "\n",
       "   TAX  PTRATIO  LSTAT  MEDV  \n",
       "0  296     15.3   4.98  24.0  \n",
       "1  242     17.8   9.14  21.6  \n",
       "2  242     17.8   4.03  34.7  \n",
       "3  222     18.7   2.94  33.4  \n",
       "4  222     18.7    NaN  36.2  "
      ]
     },
     "execution_count": 42,
     "metadata": {},
     "output_type": "execute_result"
    }
   ],
   "source": [
    "# Leemos el dataset, ya que es un .txt tenemos que poner como está separado para poder leerlo\n",
    "df = pd.read_csv('HousingData1.txt', sep=\",\")\n",
    "df.head(5)"
   ]
  },
  {
   "cell_type": "markdown",
   "metadata": {
    "cell_id": "7ea5ffa98f394c0abf6b6626a739f0f2",
    "deepnote_cell_type": "markdown",
    "tags": []
   },
   "source": [
    "**2. Examinar y realizar una breve descripción de los tipos de variable o cualquier observación que considere pertinente. Remueva filas con valores ausentes si en algún punto lo considera necesario.**\n",
    "\n",
    "_Note que todas las variables son numéricas._"
   ]
  },
  {
   "cell_type": "code",
   "execution_count": 43,
   "metadata": {
    "cell_id": "b97908fa29714bd0a839fa125d11fd92",
    "deepnote_cell_type": "code",
    "deepnote_to_be_reexecuted": false,
    "execution_millis": 83,
    "execution_start": 1677969394417,
    "source_hash": "7c90ea83",
    "tags": []
   },
   "outputs": [
    {
     "data": {
      "application/vnd.deepnote.dataframe.v3+json": {
       "column_count": 14,
       "columns": [
        {
         "dtype": "int64",
         "name": "Unnamed: 0",
         "stats": {
          "histogram": [
           {
            "bin_end": 0.5,
            "bin_start": 0,
            "count": 1
           },
           {
            "bin_end": 1,
            "bin_start": 0.5,
            "count": 0
           },
           {
            "bin_end": 1.5,
            "bin_start": 1,
            "count": 1
           },
           {
            "bin_end": 2,
            "bin_start": 1.5,
            "count": 0
           },
           {
            "bin_end": 2.5,
            "bin_start": 2,
            "count": 1
           },
           {
            "bin_end": 3,
            "bin_start": 2.5,
            "count": 0
           },
           {
            "bin_end": 3.5,
            "bin_start": 3,
            "count": 1
           },
           {
            "bin_end": 4,
            "bin_start": 3.5,
            "count": 0
           },
           {
            "bin_end": 4.5,
            "bin_start": 4,
            "count": 0
           },
           {
            "bin_end": 5,
            "bin_start": 4.5,
            "count": 1
           }
          ],
          "max": "5",
          "min": "0",
          "nan_count": 0,
          "unique_count": 5
         }
        },
        {
         "dtype": "float64",
         "name": "CRIM",
         "stats": {
          "histogram": [
           {
            "bin_end": 0.008925,
            "bin_start": 0.00632,
            "count": 1
           },
           {
            "bin_end": 0.011530000000000002,
            "bin_start": 0.008925,
            "count": 0
           },
           {
            "bin_end": 0.014135000000000002,
            "bin_start": 0.011530000000000002,
            "count": 0
           },
           {
            "bin_end": 0.01674,
            "bin_start": 0.014135000000000002,
            "count": 0
           },
           {
            "bin_end": 0.019345,
            "bin_start": 0.01674,
            "count": 0
           },
           {
            "bin_end": 0.021950000000000004,
            "bin_start": 0.019345,
            "count": 0
           },
           {
            "bin_end": 0.024555000000000004,
            "bin_start": 0.021950000000000004,
            "count": 0
           },
           {
            "bin_end": 0.027160000000000004,
            "bin_start": 0.024555000000000004,
            "count": 0
           },
           {
            "bin_end": 0.029765000000000003,
            "bin_start": 0.027160000000000004,
            "count": 2
           },
           {
            "bin_end": 0.03237,
            "bin_start": 0.029765000000000003,
            "count": 2
           }
          ],
          "max": "0.03237",
          "min": "0.00632",
          "nan_count": 0,
          "unique_count": 5
         }
        },
        {
         "dtype": "float64",
         "name": "ZN",
         "stats": {
          "histogram": [
           {
            "bin_end": 1.8,
            "bin_start": 0,
            "count": 4
           },
           {
            "bin_end": 3.6,
            "bin_start": 1.8,
            "count": 0
           },
           {
            "bin_end": 5.4,
            "bin_start": 3.6,
            "count": 0
           },
           {
            "bin_end": 7.2,
            "bin_start": 5.4,
            "count": 0
           },
           {
            "bin_end": 9,
            "bin_start": 7.2,
            "count": 0
           },
           {
            "bin_end": 10.8,
            "bin_start": 9,
            "count": 0
           },
           {
            "bin_end": 12.6,
            "bin_start": 10.8,
            "count": 0
           },
           {
            "bin_end": 14.4,
            "bin_start": 12.6,
            "count": 0
           },
           {
            "bin_end": 16.2,
            "bin_start": 14.4,
            "count": 0
           },
           {
            "bin_end": 18,
            "bin_start": 16.2,
            "count": 1
           }
          ],
          "max": "18.0",
          "min": "0.0",
          "nan_count": 0,
          "unique_count": 2
         }
        },
        {
         "dtype": "float64",
         "name": "INDUS",
         "stats": {
          "histogram": [
           {
            "bin_end": 2.669,
            "bin_start": 2.18,
            "count": 3
           },
           {
            "bin_end": 3.1580000000000004,
            "bin_start": 2.669,
            "count": 0
           },
           {
            "bin_end": 3.6470000000000002,
            "bin_start": 3.1580000000000004,
            "count": 0
           },
           {
            "bin_end": 4.136,
            "bin_start": 3.6470000000000002,
            "count": 0
           },
           {
            "bin_end": 4.625,
            "bin_start": 4.136,
            "count": 0
           },
           {
            "bin_end": 5.114000000000001,
            "bin_start": 4.625,
            "count": 0
           },
           {
            "bin_end": 5.603000000000001,
            "bin_start": 5.114000000000001,
            "count": 0
           },
           {
            "bin_end": 6.0920000000000005,
            "bin_start": 5.603000000000001,
            "count": 0
           },
           {
            "bin_end": 6.581000000000001,
            "bin_start": 6.0920000000000005,
            "count": 0
           },
           {
            "bin_end": 7.07,
            "bin_start": 6.581000000000001,
            "count": 2
           }
          ],
          "max": "7.07",
          "min": "2.18",
          "nan_count": 0,
          "unique_count": 3
         }
        },
        {
         "dtype": "float64",
         "name": "CHAS",
         "stats": {
          "histogram": [
           {
            "bin_end": -0.4,
            "bin_start": -0.5,
            "count": 0
           },
           {
            "bin_end": -0.3,
            "bin_start": -0.4,
            "count": 0
           },
           {
            "bin_end": -0.19999999999999996,
            "bin_start": -0.3,
            "count": 0
           },
           {
            "bin_end": -0.09999999999999998,
            "bin_start": -0.19999999999999996,
            "count": 0
           },
           {
            "bin_end": 0,
            "bin_start": -0.09999999999999998,
            "count": 0
           },
           {
            "bin_end": 0.10000000000000009,
            "bin_start": 0,
            "count": 5
           },
           {
            "bin_end": 0.20000000000000007,
            "bin_start": 0.10000000000000009,
            "count": 0
           },
           {
            "bin_end": 0.30000000000000004,
            "bin_start": 0.20000000000000007,
            "count": 0
           },
           {
            "bin_end": 0.4,
            "bin_start": 0.30000000000000004,
            "count": 0
           },
           {
            "bin_end": 0.5,
            "bin_start": 0.4,
            "count": 0
           }
          ],
          "max": "0.0",
          "min": "0.0",
          "nan_count": 0,
          "unique_count": 1
         }
        },
        {
         "dtype": "float64",
         "name": "NOX",
         "stats": {
          "histogram": [
           {
            "bin_end": 0.466,
            "bin_start": 0.458,
            "count": 2
           },
           {
            "bin_end": 0.47400000000000003,
            "bin_start": 0.466,
            "count": 2
           },
           {
            "bin_end": 0.48200000000000004,
            "bin_start": 0.47400000000000003,
            "count": 0
           },
           {
            "bin_end": 0.49000000000000005,
            "bin_start": 0.48200000000000004,
            "count": 0
           },
           {
            "bin_end": 0.498,
            "bin_start": 0.49000000000000005,
            "count": 0
           },
           {
            "bin_end": 0.506,
            "bin_start": 0.498,
            "count": 0
           },
           {
            "bin_end": 0.514,
            "bin_start": 0.506,
            "count": 0
           },
           {
            "bin_end": 0.522,
            "bin_start": 0.514,
            "count": 0
           },
           {
            "bin_end": 0.53,
            "bin_start": 0.522,
            "count": 0
           },
           {
            "bin_end": 0.538,
            "bin_start": 0.53,
            "count": 1
           }
          ],
          "max": "0.538",
          "min": "0.458",
          "nan_count": 0,
          "unique_count": 3
         }
        },
        {
         "dtype": "float64",
         "name": "RM",
         "stats": {
          "histogram": [
           {
            "bin_end": 6.4974,
            "bin_start": 6.421,
            "count": 2
           },
           {
            "bin_end": 6.5738,
            "bin_start": 6.4974,
            "count": 0
           },
           {
            "bin_end": 6.6502,
            "bin_start": 6.5738,
            "count": 1
           },
           {
            "bin_end": 6.7266,
            "bin_start": 6.6502,
            "count": 0
           },
           {
            "bin_end": 6.803,
            "bin_start": 6.7266,
            "count": 0
           },
           {
            "bin_end": 6.8793999999999995,
            "bin_start": 6.803,
            "count": 0
           },
           {
            "bin_end": 6.9558,
            "bin_start": 6.8793999999999995,
            "count": 0
           },
           {
            "bin_end": 7.0322,
            "bin_start": 6.9558,
            "count": 1
           },
           {
            "bin_end": 7.1086,
            "bin_start": 7.0322,
            "count": 0
           },
           {
            "bin_end": 7.185,
            "bin_start": 7.1086,
            "count": 1
           }
          ],
          "max": "7.185",
          "min": "6.421",
          "nan_count": 0,
          "unique_count": 5
         }
        },
        {
         "dtype": "float64",
         "name": "AGE",
         "stats": {
          "histogram": [
           {
            "bin_end": 49.11,
            "bin_start": 45.8,
            "count": 1
           },
           {
            "bin_end": 52.42,
            "bin_start": 49.11,
            "count": 0
           },
           {
            "bin_end": 55.730000000000004,
            "bin_start": 52.42,
            "count": 0
           },
           {
            "bin_end": 59.04,
            "bin_start": 55.730000000000004,
            "count": 1
           },
           {
            "bin_end": 62.35,
            "bin_start": 59.04,
            "count": 1
           },
           {
            "bin_end": 65.66,
            "bin_start": 62.35,
            "count": 1
           },
           {
            "bin_end": 68.97,
            "bin_start": 65.66,
            "count": 0
           },
           {
            "bin_end": 72.28,
            "bin_start": 68.97,
            "count": 0
           },
           {
            "bin_end": 75.59,
            "bin_start": 72.28,
            "count": 0
           },
           {
            "bin_end": 78.9,
            "bin_start": 75.59,
            "count": 1
           }
          ],
          "max": "78.9",
          "min": "45.8",
          "nan_count": 0,
          "unique_count": 5
         }
        },
        {
         "dtype": "float64",
         "name": "DIS",
         "stats": {
          "histogram": [
           {
            "bin_end": 4.28722,
            "bin_start": 4.09,
            "count": 1
           },
           {
            "bin_end": 4.48444,
            "bin_start": 4.28722,
            "count": 0
           },
           {
            "bin_end": 4.68166,
            "bin_start": 4.48444,
            "count": 0
           },
           {
            "bin_end": 4.87888,
            "bin_start": 4.68166,
            "count": 0
           },
           {
            "bin_end": 5.0761,
            "bin_start": 4.87888,
            "count": 2
           },
           {
            "bin_end": 5.27332,
            "bin_start": 5.0761,
            "count": 0
           },
           {
            "bin_end": 5.47054,
            "bin_start": 5.27332,
            "count": 0
           },
           {
            "bin_end": 5.6677599999999995,
            "bin_start": 5.47054,
            "count": 0
           },
           {
            "bin_end": 5.86498,
            "bin_start": 5.6677599999999995,
            "count": 0
           },
           {
            "bin_end": 6.0622,
            "bin_start": 5.86498,
            "count": 2
           }
          ],
          "max": "6.0622",
          "min": "4.09",
          "nan_count": 0,
          "unique_count": 3
         }
        },
        {
         "dtype": "int64",
         "name": "RAD",
         "stats": {
          "histogram": [
           {
            "bin_end": 1.2,
            "bin_start": 1,
            "count": 1
           },
           {
            "bin_end": 1.4,
            "bin_start": 1.2,
            "count": 0
           },
           {
            "bin_end": 1.6,
            "bin_start": 1.4,
            "count": 0
           },
           {
            "bin_end": 1.8,
            "bin_start": 1.6,
            "count": 0
           },
           {
            "bin_end": 2,
            "bin_start": 1.8,
            "count": 0
           },
           {
            "bin_end": 2.2,
            "bin_start": 2,
            "count": 2
           },
           {
            "bin_end": 2.4000000000000004,
            "bin_start": 2.2,
            "count": 0
           },
           {
            "bin_end": 2.6,
            "bin_start": 2.4000000000000004,
            "count": 0
           },
           {
            "bin_end": 2.8,
            "bin_start": 2.6,
            "count": 0
           },
           {
            "bin_end": 3,
            "bin_start": 2.8,
            "count": 2
           }
          ],
          "max": "3",
          "min": "1",
          "nan_count": 0,
          "unique_count": 3
         }
        },
        {
         "dtype": "int64",
         "name": "TAX",
         "stats": {
          "histogram": [
           {
            "bin_end": 229.4,
            "bin_start": 222,
            "count": 2
           },
           {
            "bin_end": 236.8,
            "bin_start": 229.4,
            "count": 0
           },
           {
            "bin_end": 244.2,
            "bin_start": 236.8,
            "count": 2
           },
           {
            "bin_end": 251.6,
            "bin_start": 244.2,
            "count": 0
           },
           {
            "bin_end": 259,
            "bin_start": 251.6,
            "count": 0
           },
           {
            "bin_end": 266.4,
            "bin_start": 259,
            "count": 0
           },
           {
            "bin_end": 273.8,
            "bin_start": 266.4,
            "count": 0
           },
           {
            "bin_end": 281.2,
            "bin_start": 273.8,
            "count": 0
           },
           {
            "bin_end": 288.6,
            "bin_start": 281.2,
            "count": 0
           },
           {
            "bin_end": 296,
            "bin_start": 288.6,
            "count": 1
           }
          ],
          "max": "296",
          "min": "222",
          "nan_count": 0,
          "unique_count": 3
         }
        },
        {
         "dtype": "float64",
         "name": "PTRATIO",
         "stats": {
          "histogram": [
           {
            "bin_end": 15.64,
            "bin_start": 15.3,
            "count": 1
           },
           {
            "bin_end": 15.98,
            "bin_start": 15.64,
            "count": 0
           },
           {
            "bin_end": 16.32,
            "bin_start": 15.98,
            "count": 0
           },
           {
            "bin_end": 16.66,
            "bin_start": 16.32,
            "count": 0
           },
           {
            "bin_end": 17,
            "bin_start": 16.66,
            "count": 0
           },
           {
            "bin_end": 17.34,
            "bin_start": 17,
            "count": 0
           },
           {
            "bin_end": 17.68,
            "bin_start": 17.34,
            "count": 0
           },
           {
            "bin_end": 18.02,
            "bin_start": 17.68,
            "count": 2
           },
           {
            "bin_end": 18.36,
            "bin_start": 18.02,
            "count": 0
           },
           {
            "bin_end": 18.7,
            "bin_start": 18.36,
            "count": 2
           }
          ],
          "max": "18.7",
          "min": "15.3",
          "nan_count": 0,
          "unique_count": 3
         }
        },
        {
         "dtype": "float64",
         "name": "LSTAT",
         "stats": {
          "histogram": [
           {
            "bin_end": 3.56,
            "bin_start": 2.94,
            "count": 1
           },
           {
            "bin_end": 4.18,
            "bin_start": 3.56,
            "count": 1
           },
           {
            "bin_end": 4.800000000000001,
            "bin_start": 4.18,
            "count": 0
           },
           {
            "bin_end": 5.42,
            "bin_start": 4.800000000000001,
            "count": 2
           },
           {
            "bin_end": 6.040000000000001,
            "bin_start": 5.42,
            "count": 0
           },
           {
            "bin_end": 6.66,
            "bin_start": 6.040000000000001,
            "count": 0
           },
           {
            "bin_end": 7.280000000000001,
            "bin_start": 6.66,
            "count": 0
           },
           {
            "bin_end": 7.9,
            "bin_start": 7.280000000000001,
            "count": 0
           },
           {
            "bin_end": 8.520000000000001,
            "bin_start": 7.9,
            "count": 0
           },
           {
            "bin_end": 9.14,
            "bin_start": 8.520000000000001,
            "count": 1
           }
          ],
          "max": "9.14",
          "min": "2.94",
          "nan_count": 0,
          "unique_count": 5
         }
        },
        {
         "dtype": "float64",
         "name": "MEDV",
         "stats": {
          "histogram": [
           {
            "bin_end": 22.91,
            "bin_start": 21.6,
            "count": 1
           },
           {
            "bin_end": 24.220000000000002,
            "bin_start": 22.91,
            "count": 1
           },
           {
            "bin_end": 25.53,
            "bin_start": 24.220000000000002,
            "count": 0
           },
           {
            "bin_end": 26.840000000000003,
            "bin_start": 25.53,
            "count": 0
           },
           {
            "bin_end": 28.150000000000002,
            "bin_start": 26.840000000000003,
            "count": 0
           },
           {
            "bin_end": 29.46,
            "bin_start": 28.150000000000002,
            "count": 1
           },
           {
            "bin_end": 30.770000000000003,
            "bin_start": 29.46,
            "count": 0
           },
           {
            "bin_end": 32.08,
            "bin_start": 30.770000000000003,
            "count": 0
           },
           {
            "bin_end": 33.39,
            "bin_start": 32.08,
            "count": 0
           },
           {
            "bin_end": 34.7,
            "bin_start": 33.39,
            "count": 2
           }
          ],
          "max": "34.7",
          "min": "21.6",
          "nan_count": 0,
          "unique_count": 5
         }
        },
        {
         "dtype": "int64",
         "name": "_deepnote_index_column"
        }
       ],
       "row_count": 5,
       "rows": [
        {
         "AGE": "65.2",
         "CHAS": "0.0",
         "CRIM": "0.00632",
         "DIS": "4.09",
         "INDUS": "2.31",
         "LSTAT": "4.98",
         "MEDV": "24.0",
         "NOX": "0.538",
         "PTRATIO": "15.3",
         "RAD": "1",
         "RM": "6.575",
         "TAX": "296",
         "Unnamed: 0": "0",
         "ZN": "18.0",
         "_deepnote_index_column": "0"
        },
        {
         "AGE": "78.9",
         "CHAS": "0.0",
         "CRIM": "0.02731",
         "DIS": "4.9671",
         "INDUS": "7.07",
         "LSTAT": "9.14",
         "MEDV": "21.6",
         "NOX": "0.469",
         "PTRATIO": "17.8",
         "RAD": "2",
         "RM": "6.421",
         "TAX": "242",
         "Unnamed: 0": "1",
         "ZN": "0.0",
         "_deepnote_index_column": "1"
        },
        {
         "AGE": "61.1",
         "CHAS": "0.0",
         "CRIM": "0.02729",
         "DIS": "4.9671",
         "INDUS": "7.07",
         "LSTAT": "4.03",
         "MEDV": "34.7",
         "NOX": "0.469",
         "PTRATIO": "17.8",
         "RAD": "2",
         "RM": "7.185",
         "TAX": "242",
         "Unnamed: 0": "2",
         "ZN": "0.0",
         "_deepnote_index_column": "2"
        },
        {
         "AGE": "45.8",
         "CHAS": "0.0",
         "CRIM": "0.03237",
         "DIS": "6.0622",
         "INDUS": "2.18",
         "LSTAT": "2.94",
         "MEDV": "33.4",
         "NOX": "0.458",
         "PTRATIO": "18.7",
         "RAD": "3",
         "RM": "6.998",
         "TAX": "222",
         "Unnamed: 0": "3",
         "ZN": "0.0",
         "_deepnote_index_column": "3"
        },
        {
         "AGE": "58.7",
         "CHAS": "0.0",
         "CRIM": "0.02985",
         "DIS": "6.0622",
         "INDUS": "2.18",
         "LSTAT": "5.21",
         "MEDV": "28.7",
         "NOX": "0.458",
         "PTRATIO": "18.7",
         "RAD": "3",
         "RM": "6.43",
         "TAX": "222",
         "Unnamed: 0": "5",
         "ZN": "0.0",
         "_deepnote_index_column": "5"
        }
       ]
      },
      "text/html": [
       "<div>\n",
       "<style scoped>\n",
       "    .dataframe tbody tr th:only-of-type {\n",
       "        vertical-align: middle;\n",
       "    }\n",
       "\n",
       "    .dataframe tbody tr th {\n",
       "        vertical-align: top;\n",
       "    }\n",
       "\n",
       "    .dataframe thead th {\n",
       "        text-align: right;\n",
       "    }\n",
       "</style>\n",
       "<table border=\"1\" class=\"dataframe\">\n",
       "  <thead>\n",
       "    <tr style=\"text-align: right;\">\n",
       "      <th></th>\n",
       "      <th>Unnamed: 0</th>\n",
       "      <th>CRIM</th>\n",
       "      <th>ZN</th>\n",
       "      <th>INDUS</th>\n",
       "      <th>CHAS</th>\n",
       "      <th>NOX</th>\n",
       "      <th>RM</th>\n",
       "      <th>AGE</th>\n",
       "      <th>DIS</th>\n",
       "      <th>RAD</th>\n",
       "      <th>TAX</th>\n",
       "      <th>PTRATIO</th>\n",
       "      <th>LSTAT</th>\n",
       "      <th>MEDV</th>\n",
       "    </tr>\n",
       "  </thead>\n",
       "  <tbody>\n",
       "    <tr>\n",
       "      <th>0</th>\n",
       "      <td>0</td>\n",
       "      <td>0.00632</td>\n",
       "      <td>18.0</td>\n",
       "      <td>2.31</td>\n",
       "      <td>0.0</td>\n",
       "      <td>0.538</td>\n",
       "      <td>6.575</td>\n",
       "      <td>65.2</td>\n",
       "      <td>4.0900</td>\n",
       "      <td>1</td>\n",
       "      <td>296</td>\n",
       "      <td>15.3</td>\n",
       "      <td>4.98</td>\n",
       "      <td>24.0</td>\n",
       "    </tr>\n",
       "    <tr>\n",
       "      <th>1</th>\n",
       "      <td>1</td>\n",
       "      <td>0.02731</td>\n",
       "      <td>0.0</td>\n",
       "      <td>7.07</td>\n",
       "      <td>0.0</td>\n",
       "      <td>0.469</td>\n",
       "      <td>6.421</td>\n",
       "      <td>78.9</td>\n",
       "      <td>4.9671</td>\n",
       "      <td>2</td>\n",
       "      <td>242</td>\n",
       "      <td>17.8</td>\n",
       "      <td>9.14</td>\n",
       "      <td>21.6</td>\n",
       "    </tr>\n",
       "    <tr>\n",
       "      <th>2</th>\n",
       "      <td>2</td>\n",
       "      <td>0.02729</td>\n",
       "      <td>0.0</td>\n",
       "      <td>7.07</td>\n",
       "      <td>0.0</td>\n",
       "      <td>0.469</td>\n",
       "      <td>7.185</td>\n",
       "      <td>61.1</td>\n",
       "      <td>4.9671</td>\n",
       "      <td>2</td>\n",
       "      <td>242</td>\n",
       "      <td>17.8</td>\n",
       "      <td>4.03</td>\n",
       "      <td>34.7</td>\n",
       "    </tr>\n",
       "    <tr>\n",
       "      <th>3</th>\n",
       "      <td>3</td>\n",
       "      <td>0.03237</td>\n",
       "      <td>0.0</td>\n",
       "      <td>2.18</td>\n",
       "      <td>0.0</td>\n",
       "      <td>0.458</td>\n",
       "      <td>6.998</td>\n",
       "      <td>45.8</td>\n",
       "      <td>6.0622</td>\n",
       "      <td>3</td>\n",
       "      <td>222</td>\n",
       "      <td>18.7</td>\n",
       "      <td>2.94</td>\n",
       "      <td>33.4</td>\n",
       "    </tr>\n",
       "    <tr>\n",
       "      <th>5</th>\n",
       "      <td>5</td>\n",
       "      <td>0.02985</td>\n",
       "      <td>0.0</td>\n",
       "      <td>2.18</td>\n",
       "      <td>0.0</td>\n",
       "      <td>0.458</td>\n",
       "      <td>6.430</td>\n",
       "      <td>58.7</td>\n",
       "      <td>6.0622</td>\n",
       "      <td>3</td>\n",
       "      <td>222</td>\n",
       "      <td>18.7</td>\n",
       "      <td>5.21</td>\n",
       "      <td>28.7</td>\n",
       "    </tr>\n",
       "  </tbody>\n",
       "</table>\n",
       "</div>"
      ],
      "text/plain": [
       "   Unnamed: 0     CRIM    ZN  INDUS  CHAS    NOX     RM   AGE     DIS  RAD  \\\n",
       "0           0  0.00632  18.0   2.31   0.0  0.538  6.575  65.2  4.0900    1   \n",
       "1           1  0.02731   0.0   7.07   0.0  0.469  6.421  78.9  4.9671    2   \n",
       "2           2  0.02729   0.0   7.07   0.0  0.469  7.185  61.1  4.9671    2   \n",
       "3           3  0.03237   0.0   2.18   0.0  0.458  6.998  45.8  6.0622    3   \n",
       "5           5  0.02985   0.0   2.18   0.0  0.458  6.430  58.7  6.0622    3   \n",
       "\n",
       "   TAX  PTRATIO  LSTAT  MEDV  \n",
       "0  296     15.3   4.98  24.0  \n",
       "1  242     17.8   9.14  21.6  \n",
       "2  242     17.8   4.03  34.7  \n",
       "3  222     18.7   2.94  33.4  \n",
       "5  222     18.7   5.21  28.7  "
      ]
     },
     "execution_count": 43,
     "metadata": {},
     "output_type": "execute_result"
    }
   ],
   "source": [
    "# Removemos las filas con valores NaN. \n",
    "df = df.dropna()\n",
    "df.head(5)"
   ]
  },
  {
   "cell_type": "code",
   "execution_count": 44,
   "metadata": {
    "cell_id": "5057373aa0d74735ac15b9fe3632dec0",
    "deepnote_cell_type": "code",
    "deepnote_to_be_reexecuted": false,
    "execution_millis": 162,
    "execution_start": 1677969413412,
    "source_hash": "f88152d9",
    "tags": []
   },
   "outputs": [
    {
     "data": {
      "application/vnd.deepnote.dataframe.v3+json": {
       "column_count": 14,
       "columns": [
        {
         "dtype": "float64",
         "name": "Unnamed: 0",
         "stats": {
          "histogram": [
           {
            "bin_end": 50.4,
            "bin_start": 0,
            "count": 1
           },
           {
            "bin_end": 100.8,
            "bin_start": 50.4,
            "count": 0
           },
           {
            "bin_end": 151.2,
            "bin_start": 100.8,
            "count": 2
           },
           {
            "bin_end": 201.6,
            "bin_start": 151.2,
            "count": 0
           },
           {
            "bin_end": 252,
            "bin_start": 201.6,
            "count": 1
           },
           {
            "bin_end": 302.4,
            "bin_start": 252,
            "count": 1
           },
           {
            "bin_end": 352.8,
            "bin_start": 302.4,
            "count": 0
           },
           {
            "bin_end": 403.2,
            "bin_start": 352.8,
            "count": 2
           },
           {
            "bin_end": 453.59999999999997,
            "bin_start": 403.2,
            "count": 0
           },
           {
            "bin_end": 504,
            "bin_start": 453.59999999999997,
            "count": 1
           }
          ],
          "max": "504.0",
          "min": "0.0",
          "nan_count": 0,
          "unique_count": 8
         }
        },
        {
         "dtype": "float64",
         "name": "CRIM",
         "stats": {
          "histogram": [
           {
            "bin_end": 39.405688,
            "bin_start": 0.00632,
            "count": 6
           },
           {
            "bin_end": 78.805056,
            "bin_start": 39.405688,
            "count": 0
           },
           {
            "bin_end": 118.20442399999999,
            "bin_start": 78.805056,
            "count": 1
           },
           {
            "bin_end": 157.60379199999997,
            "bin_start": 118.20442399999999,
            "count": 0
           },
           {
            "bin_end": 197.00315999999995,
            "bin_start": 157.60379199999997,
            "count": 0
           },
           {
            "bin_end": 236.40252799999996,
            "bin_start": 197.00315999999995,
            "count": 0
           },
           {
            "bin_end": 275.801896,
            "bin_start": 236.40252799999996,
            "count": 0
           },
           {
            "bin_end": 315.201264,
            "bin_start": 275.801896,
            "count": 0
           },
           {
            "bin_end": 354.60063199999996,
            "bin_start": 315.201264,
            "count": 0
           },
           {
            "bin_end": 394,
            "bin_start": 354.60063199999996,
            "count": 1
           }
          ],
          "max": "394.0",
          "min": "0.00632",
          "nan_count": 0,
          "unique_count": 8
         }
        },
        {
         "dtype": "float64",
         "name": "ZN",
         "stats": {
          "histogram": [
           {
            "bin_end": 39.4,
            "bin_start": 0,
            "count": 6
           },
           {
            "bin_end": 78.8,
            "bin_start": 39.4,
            "count": 0
           },
           {
            "bin_end": 118.19999999999999,
            "bin_start": 78.8,
            "count": 1
           },
           {
            "bin_end": 157.6,
            "bin_start": 118.19999999999999,
            "count": 0
           },
           {
            "bin_end": 197,
            "bin_start": 157.6,
            "count": 0
           },
           {
            "bin_end": 236.39999999999998,
            "bin_start": 197,
            "count": 0
           },
           {
            "bin_end": 275.8,
            "bin_start": 236.39999999999998,
            "count": 0
           },
           {
            "bin_end": 315.2,
            "bin_start": 275.8,
            "count": 0
           },
           {
            "bin_end": 354.59999999999997,
            "bin_start": 315.2,
            "count": 0
           },
           {
            "bin_end": 394,
            "bin_start": 354.59999999999997,
            "count": 1
           }
          ],
          "max": "394.0",
          "min": "0.0",
          "nan_count": 0,
          "unique_count": 6
         }
        },
        {
         "dtype": "float64",
         "name": "INDUS",
         "stats": {
          "histogram": [
           {
            "bin_end": 39.814,
            "bin_start": 0.46,
            "count": 7
           },
           {
            "bin_end": 79.16799999999999,
            "bin_start": 39.814,
            "count": 0
           },
           {
            "bin_end": 118.52199999999999,
            "bin_start": 79.16799999999999,
            "count": 0
           },
           {
            "bin_end": 157.876,
            "bin_start": 118.52199999999999,
            "count": 0
           },
           {
            "bin_end": 197.23,
            "bin_start": 157.876,
            "count": 0
           },
           {
            "bin_end": 236.584,
            "bin_start": 197.23,
            "count": 0
           },
           {
            "bin_end": 275.938,
            "bin_start": 236.584,
            "count": 0
           },
           {
            "bin_end": 315.292,
            "bin_start": 275.938,
            "count": 0
           },
           {
            "bin_end": 354.64599999999996,
            "bin_start": 315.292,
            "count": 0
           },
           {
            "bin_end": 394,
            "bin_start": 354.64599999999996,
            "count": 1
           }
          ],
          "max": "394.0",
          "min": "0.46",
          "nan_count": 0,
          "unique_count": 8
         }
        },
        {
         "dtype": "float64",
         "name": "CHAS",
         "stats": {
          "histogram": [
           {
            "bin_end": 39.4,
            "bin_start": 0,
            "count": 7
           },
           {
            "bin_end": 78.8,
            "bin_start": 39.4,
            "count": 0
           },
           {
            "bin_end": 118.19999999999999,
            "bin_start": 78.8,
            "count": 0
           },
           {
            "bin_end": 157.6,
            "bin_start": 118.19999999999999,
            "count": 0
           },
           {
            "bin_end": 197,
            "bin_start": 157.6,
            "count": 0
           },
           {
            "bin_end": 236.39999999999998,
            "bin_start": 197,
            "count": 0
           },
           {
            "bin_end": 275.8,
            "bin_start": 236.39999999999998,
            "count": 0
           },
           {
            "bin_end": 315.2,
            "bin_start": 275.8,
            "count": 0
           },
           {
            "bin_end": 354.59999999999997,
            "bin_start": 315.2,
            "count": 0
           },
           {
            "bin_end": 394,
            "bin_start": 354.59999999999997,
            "count": 1
           }
          ],
          "max": "394.0",
          "min": "0.0",
          "nan_count": 0,
          "unique_count": 5
         }
        },
        {
         "dtype": "float64",
         "name": "NOX",
         "stats": {
          "histogram": [
           {
            "bin_end": 39.50180124571445,
            "bin_start": 0.1131124952382757,
            "count": 7
           },
           {
            "bin_end": 78.89048999619061,
            "bin_start": 39.50180124571445,
            "count": 0
           },
           {
            "bin_end": 118.27917874666677,
            "bin_start": 78.89048999619061,
            "count": 0
           },
           {
            "bin_end": 157.66786749714296,
            "bin_start": 118.27917874666677,
            "count": 0
           },
           {
            "bin_end": 197.05655624761914,
            "bin_start": 157.66786749714296,
            "count": 0
           },
           {
            "bin_end": 236.4452449980953,
            "bin_start": 197.05655624761914,
            "count": 0
           },
           {
            "bin_end": 275.8339337485715,
            "bin_start": 236.4452449980953,
            "count": 0
           },
           {
            "bin_end": 315.22262249904765,
            "bin_start": 275.8339337485715,
            "count": 0
           },
           {
            "bin_end": 354.6113112495238,
            "bin_start": 315.22262249904765,
            "count": 0
           },
           {
            "bin_end": 394,
            "bin_start": 354.6113112495238,
            "count": 1
           }
          ],
          "max": "394.0",
          "min": "0.1131124952382757",
          "nan_count": 0,
          "unique_count": 8
         }
        },
        {
         "dtype": "float64",
         "name": "RM",
         "stats": {
          "histogram": [
           {
            "bin_end": 40.02818639376213,
            "bin_start": 0.6979848819579155,
            "count": 7
           },
           {
            "bin_end": 79.35838790556635,
            "bin_start": 40.02818639376213,
            "count": 0
           },
           {
            "bin_end": 118.68858941737057,
            "bin_start": 79.35838790556635,
            "count": 0
           },
           {
            "bin_end": 158.01879092917477,
            "bin_start": 118.68858941737057,
            "count": 0
           },
           {
            "bin_end": 197.34899244097898,
            "bin_start": 158.01879092917477,
            "count": 0
           },
           {
            "bin_end": 236.6791939527832,
            "bin_start": 197.34899244097898,
            "count": 0
           },
           {
            "bin_end": 276.0093954645874,
            "bin_start": 236.6791939527832,
            "count": 0
           },
           {
            "bin_end": 315.3395969763916,
            "bin_start": 276.0093954645874,
            "count": 0
           },
           {
            "bin_end": 354.6697984881958,
            "bin_start": 315.3395969763916,
            "count": 0
           },
           {
            "bin_end": 394,
            "bin_start": 354.6697984881958,
            "count": 1
           }
          ],
          "max": "394.0",
          "min": "0.6979848819579155",
          "nan_count": 0,
          "unique_count": 8
         }
        },
        {
         "dtype": "float64",
         "name": "AGE",
         "stats": {
          "histogram": [
           {
            "bin_end": 42.01,
            "bin_start": 2.9,
            "count": 2
           },
           {
            "bin_end": 81.12,
            "bin_start": 42.01,
            "count": 3
           },
           {
            "bin_end": 120.23,
            "bin_start": 81.12,
            "count": 2
           },
           {
            "bin_end": 159.34,
            "bin_start": 120.23,
            "count": 0
           },
           {
            "bin_end": 198.45000000000002,
            "bin_start": 159.34,
            "count": 0
           },
           {
            "bin_end": 237.56,
            "bin_start": 198.45000000000002,
            "count": 0
           },
           {
            "bin_end": 276.66999999999996,
            "bin_start": 237.56,
            "count": 0
           },
           {
            "bin_end": 315.78,
            "bin_start": 276.66999999999996,
            "count": 0
           },
           {
            "bin_end": 354.89,
            "bin_start": 315.78,
            "count": 0
           },
           {
            "bin_end": 394,
            "bin_start": 354.89,
            "count": 1
           }
          ],
          "max": "394.0",
          "min": "2.9",
          "nan_count": 0,
          "unique_count": 8
         }
        },
        {
         "dtype": "float64",
         "name": "DIS",
         "stats": {
          "histogram": [
           {
            "bin_end": 40.41664,
            "bin_start": 1.1296,
            "count": 7
           },
           {
            "bin_end": 79.70368,
            "bin_start": 40.41664,
            "count": 0
           },
           {
            "bin_end": 118.99072000000001,
            "bin_start": 79.70368,
            "count": 0
           },
           {
            "bin_end": 158.27776000000003,
            "bin_start": 118.99072000000001,
            "count": 0
           },
           {
            "bin_end": 197.56480000000002,
            "bin_start": 158.27776000000003,
            "count": 0
           },
           {
            "bin_end": 236.85184000000004,
            "bin_start": 197.56480000000002,
            "count": 0
           },
           {
            "bin_end": 276.13888000000003,
            "bin_start": 236.85184000000004,
            "count": 0
           },
           {
            "bin_end": 315.42592,
            "bin_start": 276.13888000000003,
            "count": 0
           },
           {
            "bin_end": 354.71296,
            "bin_start": 315.42592,
            "count": 0
           },
           {
            "bin_end": 394,
            "bin_start": 354.71296,
            "count": 1
           }
          ],
          "max": "394.0",
          "min": "1.1296",
          "nan_count": 0,
          "unique_count": 8
         }
        },
        {
         "dtype": "float64",
         "name": "RAD",
         "stats": {
          "histogram": [
           {
            "bin_end": 40.3,
            "bin_start": 1,
            "count": 7
           },
           {
            "bin_end": 79.6,
            "bin_start": 40.3,
            "count": 0
           },
           {
            "bin_end": 118.89999999999999,
            "bin_start": 79.6,
            "count": 0
           },
           {
            "bin_end": 158.2,
            "bin_start": 118.89999999999999,
            "count": 0
           },
           {
            "bin_end": 197.5,
            "bin_start": 158.2,
            "count": 0
           },
           {
            "bin_end": 236.79999999999998,
            "bin_start": 197.5,
            "count": 0
           },
           {
            "bin_end": 276.09999999999997,
            "bin_start": 236.79999999999998,
            "count": 0
           },
           {
            "bin_end": 315.4,
            "bin_start": 276.09999999999997,
            "count": 0
           },
           {
            "bin_end": 354.7,
            "bin_start": 315.4,
            "count": 0
           },
           {
            "bin_end": 394,
            "bin_start": 354.7,
            "count": 1
           }
          ],
          "max": "394.0",
          "min": "1.0",
          "nan_count": 0,
          "unique_count": 7
         }
        },
        {
         "dtype": "float64",
         "name": "TAX",
         "stats": {
          "histogram": [
           {
            "bin_end": 222.58117700898185,
            "bin_start": 168.31241889886874,
            "count": 2
           },
           {
            "bin_end": 276.849935119095,
            "bin_start": 222.58117700898185,
            "count": 0
           },
           {
            "bin_end": 331.11869322920813,
            "bin_start": 276.849935119095,
            "count": 2
           },
           {
            "bin_end": 385.3874513393213,
            "bin_start": 331.11869322920813,
            "count": 0
           },
           {
            "bin_end": 439.6562094494344,
            "bin_start": 385.3874513393213,
            "count": 2
           },
           {
            "bin_end": 493.92496755954744,
            "bin_start": 439.6562094494344,
            "count": 0
           },
           {
            "bin_end": 548.1937256696606,
            "bin_start": 493.92496755954744,
            "count": 0
           },
           {
            "bin_end": 602.4624837797737,
            "bin_start": 548.1937256696606,
            "count": 0
           },
           {
            "bin_end": 656.7312418898869,
            "bin_start": 602.4624837797737,
            "count": 0
           },
           {
            "bin_end": 711,
            "bin_start": 656.7312418898869,
            "count": 2
           }
          ],
          "max": "711.0",
          "min": "168.31241889886874",
          "nan_count": 0,
          "unique_count": 8
         }
        },
        {
         "dtype": "float64",
         "name": "PTRATIO",
         "stats": {
          "histogram": [
           {
            "bin_end": 41.349813646305286,
            "bin_start": 2.166459607005876,
            "count": 7
           },
           {
            "bin_end": 80.5331676856047,
            "bin_start": 41.349813646305286,
            "count": 0
           },
           {
            "bin_end": 119.7165217249041,
            "bin_start": 80.5331676856047,
            "count": 0
           },
           {
            "bin_end": 158.8998757642035,
            "bin_start": 119.7165217249041,
            "count": 0
           },
           {
            "bin_end": 198.08322980350292,
            "bin_start": 158.8998757642035,
            "count": 0
           },
           {
            "bin_end": 237.2665838428023,
            "bin_start": 198.08322980350292,
            "count": 0
           },
           {
            "bin_end": 276.4499378821018,
            "bin_start": 237.2665838428023,
            "count": 0
           },
           {
            "bin_end": 315.63329192140117,
            "bin_start": 276.4499378821018,
            "count": 0
           },
           {
            "bin_end": 354.81664596070055,
            "bin_start": 315.63329192140117,
            "count": 0
           },
           {
            "bin_end": 394,
            "bin_start": 354.81664596070055,
            "count": 1
           }
          ],
          "max": "394.0",
          "min": "2.166459607005876",
          "nan_count": 0,
          "unique_count": 8
         }
        },
        {
         "dtype": "float64",
         "name": "LSTAT",
         "stats": {
          "histogram": [
           {
            "bin_end": 40.956999999999994,
            "bin_start": 1.73,
            "count": 7
           },
           {
            "bin_end": 80.184,
            "bin_start": 40.956999999999994,
            "count": 0
           },
           {
            "bin_end": 119.41099999999999,
            "bin_start": 80.184,
            "count": 0
           },
           {
            "bin_end": 158.63799999999998,
            "bin_start": 119.41099999999999,
            "count": 0
           },
           {
            "bin_end": 197.86499999999998,
            "bin_start": 158.63799999999998,
            "count": 0
           },
           {
            "bin_end": 237.09199999999996,
            "bin_start": 197.86499999999998,
            "count": 0
           },
           {
            "bin_end": 276.319,
            "bin_start": 237.09199999999996,
            "count": 0
           },
           {
            "bin_end": 315.546,
            "bin_start": 276.319,
            "count": 0
           },
           {
            "bin_end": 354.77299999999997,
            "bin_start": 315.546,
            "count": 0
           },
           {
            "bin_end": 394,
            "bin_start": 354.77299999999997,
            "count": 1
           }
          ],
          "max": "394.0",
          "min": "1.73",
          "nan_count": 0,
          "unique_count": 8
         }
        },
        {
         "dtype": "float64",
         "name": "MEDV",
         "stats": {
          "histogram": [
           {
            "bin_end": 43.9,
            "bin_start": 5,
            "count": 6
           },
           {
            "bin_end": 82.8,
            "bin_start": 43.9,
            "count": 1
           },
           {
            "bin_end": 121.69999999999999,
            "bin_start": 82.8,
            "count": 0
           },
           {
            "bin_end": 160.6,
            "bin_start": 121.69999999999999,
            "count": 0
           },
           {
            "bin_end": 199.5,
            "bin_start": 160.6,
            "count": 0
           },
           {
            "bin_end": 238.39999999999998,
            "bin_start": 199.5,
            "count": 0
           },
           {
            "bin_end": 277.3,
            "bin_start": 238.39999999999998,
            "count": 0
           },
           {
            "bin_end": 316.2,
            "bin_start": 277.3,
            "count": 0
           },
           {
            "bin_end": 355.09999999999997,
            "bin_start": 316.2,
            "count": 0
           },
           {
            "bin_end": 394,
            "bin_start": 355.09999999999997,
            "count": 1
           }
          ],
          "max": "394.0",
          "min": "5.0",
          "nan_count": 0,
          "unique_count": 8
         }
        },
        {
         "dtype": "object",
         "name": "_deepnote_index_column"
        }
       ],
       "row_count": 8,
       "rows": [
        {
         "AGE": "394.0",
         "CHAS": "394.0",
         "CRIM": "394.0",
         "DIS": "394.0",
         "INDUS": "394.0",
         "LSTAT": "394.0",
         "MEDV": "394.0",
         "NOX": "394.0",
         "PTRATIO": "394.0",
         "RAD": "394.0",
         "RM": "394.0",
         "TAX": "394.0",
         "Unnamed: 0": "394.0",
         "ZN": "394.0",
         "_deepnote_index_column": "count"
        },
        {
         "AGE": "68.93274111675127",
         "CHAS": "0.06852791878172589",
         "CRIM": "3.6901361675126916",
         "DIS": "3.8052680203045686",
         "INDUS": "11.000862944162437",
         "LSTAT": "12.769111675126906",
         "MEDV": "22.359644670050763",
         "NOX": "0.5532154822335025",
         "PTRATIO": "18.53756345177665",
         "RAD": "9.403553299492385",
         "RM": "6.280015228426396",
         "TAX": "406.43147208121826",
         "Unnamed: 0": "250.16751269035532",
         "ZN": "11.460659898477157",
         "_deepnote_index_column": "mean"
        },
        {
         "AGE": "27.88870500341338",
         "CHAS": "0.2529708780114149",
         "CRIM": "9.202422580132147",
         "DIS": "2.0985711648613252",
         "INDUS": "6.908363612538852",
         "LSTAT": "7.308430453758221",
         "MEDV": "9.142979112356754",
         "NOX": "0.1131124952382757",
         "PTRATIO": "2.166459607005876",
         "RAD": "8.633450983908691",
         "RM": "0.6979848819579155",
         "TAX": "168.31241889886874",
         "Unnamed: 0": "148.7678053505202",
         "ZN": "23.954082464978665",
         "_deepnote_index_column": "std"
        },
        {
         "AGE": "2.9",
         "CHAS": "0.0",
         "CRIM": "0.00632",
         "DIS": "1.1296",
         "INDUS": "0.46",
         "LSTAT": "1.73",
         "MEDV": "5.0",
         "NOX": "0.389",
         "PTRATIO": "12.6",
         "RAD": "1.0",
         "RM": "3.561",
         "TAX": "187.0",
         "Unnamed: 0": "0.0",
         "ZN": "0.0",
         "_deepnote_index_column": "min"
        },
        {
         "AGE": "45.475",
         "CHAS": "0.0",
         "CRIM": "0.081955",
         "DIS": "2.1101",
         "INDUS": "5.13",
         "LSTAT": "7.125",
         "MEDV": "16.8",
         "NOX": "0.453",
         "PTRATIO": "17.4",
         "RAD": "4.0",
         "RM": "5.87925",
         "TAX": "280.25",
         "Unnamed: 0": "114.75",
         "ZN": "0.0",
         "_deepnote_index_column": "25%"
        },
        {
         "AGE": "77.7",
         "CHAS": "0.0",
         "CRIM": "0.26888",
         "DIS": "3.1992000000000003",
         "INDUS": "8.56",
         "LSTAT": "11.3",
         "MEDV": "21.05",
         "NOX": "0.538",
         "PTRATIO": "19.1",
         "RAD": "5.0",
         "RM": "6.2015",
         "TAX": "330.0",
         "Unnamed: 0": "252.5",
         "ZN": "0.0",
         "_deepnote_index_column": "50%"
        },
        {
         "AGE": "94.25",
         "CHAS": "0.0",
         "CRIM": "3.4359725",
         "DIS": "5.1167",
         "INDUS": "18.1",
         "LSTAT": "17.1175",
         "MEDV": "25.0",
         "NOX": "0.624",
         "PTRATIO": "20.2",
         "RAD": "24.0",
         "RM": "6.6055",
         "TAX": "666.0",
         "Unnamed: 0": "378.75",
         "ZN": "12.5",
         "_deepnote_index_column": "75%"
        },
        {
         "AGE": "100.0",
         "CHAS": "1.0",
         "CRIM": "88.9762",
         "DIS": "12.1265",
         "INDUS": "27.74",
         "LSTAT": "37.97",
         "MEDV": "50.0",
         "NOX": "0.871",
         "PTRATIO": "22.0",
         "RAD": "24.0",
         "RM": "8.78",
         "TAX": "711.0",
         "Unnamed: 0": "504.0",
         "ZN": "100.0",
         "_deepnote_index_column": "max"
        }
       ]
      },
      "text/html": [
       "<div>\n",
       "<style scoped>\n",
       "    .dataframe tbody tr th:only-of-type {\n",
       "        vertical-align: middle;\n",
       "    }\n",
       "\n",
       "    .dataframe tbody tr th {\n",
       "        vertical-align: top;\n",
       "    }\n",
       "\n",
       "    .dataframe thead th {\n",
       "        text-align: right;\n",
       "    }\n",
       "</style>\n",
       "<table border=\"1\" class=\"dataframe\">\n",
       "  <thead>\n",
       "    <tr style=\"text-align: right;\">\n",
       "      <th></th>\n",
       "      <th>Unnamed: 0</th>\n",
       "      <th>CRIM</th>\n",
       "      <th>ZN</th>\n",
       "      <th>INDUS</th>\n",
       "      <th>CHAS</th>\n",
       "      <th>NOX</th>\n",
       "      <th>RM</th>\n",
       "      <th>AGE</th>\n",
       "      <th>DIS</th>\n",
       "      <th>RAD</th>\n",
       "      <th>TAX</th>\n",
       "      <th>PTRATIO</th>\n",
       "      <th>LSTAT</th>\n",
       "      <th>MEDV</th>\n",
       "    </tr>\n",
       "  </thead>\n",
       "  <tbody>\n",
       "    <tr>\n",
       "      <th>count</th>\n",
       "      <td>394.000000</td>\n",
       "      <td>394.000000</td>\n",
       "      <td>394.000000</td>\n",
       "      <td>394.000000</td>\n",
       "      <td>394.000000</td>\n",
       "      <td>394.000000</td>\n",
       "      <td>394.000000</td>\n",
       "      <td>394.000000</td>\n",
       "      <td>394.000000</td>\n",
       "      <td>394.000000</td>\n",
       "      <td>394.000000</td>\n",
       "      <td>394.000000</td>\n",
       "      <td>394.000000</td>\n",
       "      <td>394.000000</td>\n",
       "    </tr>\n",
       "    <tr>\n",
       "      <th>mean</th>\n",
       "      <td>250.167513</td>\n",
       "      <td>3.690136</td>\n",
       "      <td>11.460660</td>\n",
       "      <td>11.000863</td>\n",
       "      <td>0.068528</td>\n",
       "      <td>0.553215</td>\n",
       "      <td>6.280015</td>\n",
       "      <td>68.932741</td>\n",
       "      <td>3.805268</td>\n",
       "      <td>9.403553</td>\n",
       "      <td>406.431472</td>\n",
       "      <td>18.537563</td>\n",
       "      <td>12.769112</td>\n",
       "      <td>22.359645</td>\n",
       "    </tr>\n",
       "    <tr>\n",
       "      <th>std</th>\n",
       "      <td>148.767805</td>\n",
       "      <td>9.202423</td>\n",
       "      <td>23.954082</td>\n",
       "      <td>6.908364</td>\n",
       "      <td>0.252971</td>\n",
       "      <td>0.113112</td>\n",
       "      <td>0.697985</td>\n",
       "      <td>27.888705</td>\n",
       "      <td>2.098571</td>\n",
       "      <td>8.633451</td>\n",
       "      <td>168.312419</td>\n",
       "      <td>2.166460</td>\n",
       "      <td>7.308430</td>\n",
       "      <td>9.142979</td>\n",
       "    </tr>\n",
       "    <tr>\n",
       "      <th>min</th>\n",
       "      <td>0.000000</td>\n",
       "      <td>0.006320</td>\n",
       "      <td>0.000000</td>\n",
       "      <td>0.460000</td>\n",
       "      <td>0.000000</td>\n",
       "      <td>0.389000</td>\n",
       "      <td>3.561000</td>\n",
       "      <td>2.900000</td>\n",
       "      <td>1.129600</td>\n",
       "      <td>1.000000</td>\n",
       "      <td>187.000000</td>\n",
       "      <td>12.600000</td>\n",
       "      <td>1.730000</td>\n",
       "      <td>5.000000</td>\n",
       "    </tr>\n",
       "    <tr>\n",
       "      <th>25%</th>\n",
       "      <td>114.750000</td>\n",
       "      <td>0.081955</td>\n",
       "      <td>0.000000</td>\n",
       "      <td>5.130000</td>\n",
       "      <td>0.000000</td>\n",
       "      <td>0.453000</td>\n",
       "      <td>5.879250</td>\n",
       "      <td>45.475000</td>\n",
       "      <td>2.110100</td>\n",
       "      <td>4.000000</td>\n",
       "      <td>280.250000</td>\n",
       "      <td>17.400000</td>\n",
       "      <td>7.125000</td>\n",
       "      <td>16.800000</td>\n",
       "    </tr>\n",
       "    <tr>\n",
       "      <th>50%</th>\n",
       "      <td>252.500000</td>\n",
       "      <td>0.268880</td>\n",
       "      <td>0.000000</td>\n",
       "      <td>8.560000</td>\n",
       "      <td>0.000000</td>\n",
       "      <td>0.538000</td>\n",
       "      <td>6.201500</td>\n",
       "      <td>77.700000</td>\n",
       "      <td>3.199200</td>\n",
       "      <td>5.000000</td>\n",
       "      <td>330.000000</td>\n",
       "      <td>19.100000</td>\n",
       "      <td>11.300000</td>\n",
       "      <td>21.050000</td>\n",
       "    </tr>\n",
       "    <tr>\n",
       "      <th>75%</th>\n",
       "      <td>378.750000</td>\n",
       "      <td>3.435973</td>\n",
       "      <td>12.500000</td>\n",
       "      <td>18.100000</td>\n",
       "      <td>0.000000</td>\n",
       "      <td>0.624000</td>\n",
       "      <td>6.605500</td>\n",
       "      <td>94.250000</td>\n",
       "      <td>5.116700</td>\n",
       "      <td>24.000000</td>\n",
       "      <td>666.000000</td>\n",
       "      <td>20.200000</td>\n",
       "      <td>17.117500</td>\n",
       "      <td>25.000000</td>\n",
       "    </tr>\n",
       "    <tr>\n",
       "      <th>max</th>\n",
       "      <td>504.000000</td>\n",
       "      <td>88.976200</td>\n",
       "      <td>100.000000</td>\n",
       "      <td>27.740000</td>\n",
       "      <td>1.000000</td>\n",
       "      <td>0.871000</td>\n",
       "      <td>8.780000</td>\n",
       "      <td>100.000000</td>\n",
       "      <td>12.126500</td>\n",
       "      <td>24.000000</td>\n",
       "      <td>711.000000</td>\n",
       "      <td>22.000000</td>\n",
       "      <td>37.970000</td>\n",
       "      <td>50.000000</td>\n",
       "    </tr>\n",
       "  </tbody>\n",
       "</table>\n",
       "</div>"
      ],
      "text/plain": [
       "       Unnamed: 0        CRIM          ZN       INDUS        CHAS         NOX  \\\n",
       "count  394.000000  394.000000  394.000000  394.000000  394.000000  394.000000   \n",
       "mean   250.167513    3.690136   11.460660   11.000863    0.068528    0.553215   \n",
       "std    148.767805    9.202423   23.954082    6.908364    0.252971    0.113112   \n",
       "min      0.000000    0.006320    0.000000    0.460000    0.000000    0.389000   \n",
       "25%    114.750000    0.081955    0.000000    5.130000    0.000000    0.453000   \n",
       "50%    252.500000    0.268880    0.000000    8.560000    0.000000    0.538000   \n",
       "75%    378.750000    3.435973   12.500000   18.100000    0.000000    0.624000   \n",
       "max    504.000000   88.976200  100.000000   27.740000    1.000000    0.871000   \n",
       "\n",
       "               RM         AGE         DIS         RAD         TAX     PTRATIO  \\\n",
       "count  394.000000  394.000000  394.000000  394.000000  394.000000  394.000000   \n",
       "mean     6.280015   68.932741    3.805268    9.403553  406.431472   18.537563   \n",
       "std      0.697985   27.888705    2.098571    8.633451  168.312419    2.166460   \n",
       "min      3.561000    2.900000    1.129600    1.000000  187.000000   12.600000   \n",
       "25%      5.879250   45.475000    2.110100    4.000000  280.250000   17.400000   \n",
       "50%      6.201500   77.700000    3.199200    5.000000  330.000000   19.100000   \n",
       "75%      6.605500   94.250000    5.116700   24.000000  666.000000   20.200000   \n",
       "max      8.780000  100.000000   12.126500   24.000000  711.000000   22.000000   \n",
       "\n",
       "            LSTAT        MEDV  \n",
       "count  394.000000  394.000000  \n",
       "mean    12.769112   22.359645  \n",
       "std      7.308430    9.142979  \n",
       "min      1.730000    5.000000  \n",
       "25%      7.125000   16.800000  \n",
       "50%     11.300000   21.050000  \n",
       "75%     17.117500   25.000000  \n",
       "max     37.970000   50.000000  "
      ]
     },
     "execution_count": 44,
     "metadata": {},
     "output_type": "execute_result"
    }
   ],
   "source": [
    "df.describe()"
   ]
  },
  {
   "cell_type": "markdown",
   "metadata": {
    "cell_id": "e1cd8203f4494bc9a24775dd0cbdb892",
    "deepnote_cell_type": "markdown",
    "tags": []
   },
   "source": [
    "**3. Separe el conjunto de datos en atributos X y variable objetivo y. Luego separe éstos en conjuntos de entrenamiento y testeo, con una proporción de 75-25.**"
   ]
  },
  {
   "cell_type": "code",
   "execution_count": 45,
   "metadata": {
    "cell_id": "42f89ec3b3b04d84b3e057b15c5c8768",
    "deepnote_cell_type": "code",
    "deepnote_to_be_reexecuted": false,
    "execution_millis": 5,
    "execution_start": 1677969423574,
    "source_hash": "533553e9",
    "tags": []
   },
   "outputs": [],
   "source": [
    "# Separamos el conjunto de datos en atributos X y variable objetivo y. \n",
    "X = df.drop('MEDV', axis=1)\n",
    "y = df['MEDV']\n",
    "\n",
    "# Separamos éstos en conjuntos de train y test, con una proporción de 75-25.\n",
    "X_train, X_test, y_train, y_test = train_test_split(X, y, test_size=0.25, train_size=0.75, random_state=0, shuffle=True)"
   ]
  },
  {
   "cell_type": "markdown",
   "metadata": {
    "cell_id": "dabe60a7f9494241a865b72cc8903a47",
    "deepnote_cell_type": "markdown",
    "tags": []
   },
   "source": [
    "**4. Entrene un modelo de regresión lineal usando el conjunto de entrenamiento. Determine su coeficiente de determinación (R2 o, en el caso de SKLearn el score). Extraiga los coeficientes o parámetros predichos por el modelo usando el atributo coef_.**"
   ]
  },
  {
   "cell_type": "code",
   "execution_count": 46,
   "metadata": {
    "cell_id": "00cd2a12ffb2466986dae02aef6a23ac",
    "deepnote_cell_type": "code",
    "deepnote_to_be_reexecuted": false,
    "execution_millis": 4,
    "execution_start": 1677969430052,
    "source_hash": "a4cb2a64",
    "tags": []
   },
   "outputs": [
    {
     "name": "stdout",
     "output_type": "stream",
     "text": [
      "Coeficiente de determinación es:  0.6492426739578858\n",
      "Coeficientes:  Unnamed: 0    -0.002406\n",
      "CRIM          -0.090417\n",
      "ZN             0.043268\n",
      "INDUS          0.056321\n",
      "CHAS           2.958271\n",
      "NOX          -22.318312\n",
      "RM             4.707874\n",
      "AGE           -0.021413\n",
      "DIS           -1.524308\n",
      "RAD            0.246751\n",
      "TAX           -0.012181\n",
      "PTRATIO       -0.951811\n",
      "LSTAT         -0.382522\n",
      "dtype: float64\n"
     ]
    }
   ],
   "source": [
    "regresion = LinearRegression()\n",
    "regresion.fit(X_train, y_train)\n",
    "\n",
    "# Hacemos predicciones en el conjunto de prueba y calculamos\n",
    "# el coeficiente de determinación (R²)\n",
    "r2 = regresion.score(X_test, y_test)\n",
    "print('Coeficiente de determinación es: ', r2)\n",
    "\n",
    "# Extraemos los coeficientes o parámetros predichos por el modelo\n",
    "coef = regresion.coef_\n",
    "coefs = []\n",
    "print('Coeficientes: ', pd.Series(coef, index = X.columns)) \n"
   ]
  },
  {
   "cell_type": "markdown",
   "metadata": {
    "cell_id": "60aa82896b7e4a0cb190bb2ca5e7e443",
    "deepnote_cell_type": "markdown",
    "tags": []
   },
   "source": [
    "**5. Mencione cuáles atributos obtuvieron un coeficiente con mayor magnitud. Éstos son los que más afectan a la variable objetivo.**"
   ]
  },
  {
   "cell_type": "markdown",
   "metadata": {
    "cell_id": "ccf83bec7de14ac5aa1f52adfba390b9",
    "deepnote_cell_type": "markdown",
    "tags": []
   },
   "source": [
    "Los atributos que obtuvieron un coeficiente con mayor magnitud fueron:\n",
    "\n",
    "- NOX         -> X[5]\n",
    "- RM           -> X[6]\n",
    "- CHAS      -> X[4]\n",
    "- PTRATIO -> X[11]\n",
    "Son los que afectan más a la variable objetivo.\n"
   ]
  },
  {
   "cell_type": "code",
   "execution_count": 48,
   "metadata": {
    "cell_id": "59b2564e15414779a4d92368a7585b56",
    "deepnote_cell_type": "code",
    "deepnote_to_be_reexecuted": false,
    "execution_millis": 4,
    "execution_start": 1677969507393,
    "source_hash": "a2cefe96",
    "tags": []
   },
   "outputs": [
    {
     "name": "stdout",
     "output_type": "stream",
     "text": [
      "Coeficientes:\n",
      "  NOX          -22.318312\n",
      "DIS           -1.524308\n",
      "PTRATIO       -0.951811\n",
      "LSTAT         -0.382522\n",
      "CRIM          -0.090417\n",
      "AGE           -0.021413\n",
      "TAX           -0.012181\n",
      "Unnamed: 0    -0.002406\n",
      "ZN             0.043268\n",
      "INDUS          0.056321\n",
      "RAD            0.246751\n",
      "CHAS           2.958271\n",
      "RM             4.707874\n",
      "dtype: float64\n"
     ]
    }
   ],
   "source": [
    "# ahora extraemos los coeficientes predichos por el modelo\n",
    "print('Coeficientes:\\n ', pd.Series(coef, index = X.columns).sort_values()) "
   ]
  },
  {
   "cell_type": "markdown",
   "metadata": {
    "cell_id": "748a2c601e69443aac8e83ba9d48a2ac",
    "deepnote_cell_type": "markdown",
    "tags": []
   },
   "source": [
    "**6. Cree una lista de valores para el parámetro alpha en los algoritmos de regularización. Usando la validación cruzada de Ridge, busque un valor óptimo para le parámetro $\\alpha$.**"
   ]
  },
  {
   "cell_type": "code",
   "execution_count": 54,
   "metadata": {
    "cell_id": "da48f65cccc6423b9eff4ab2bf6d86b1",
    "deepnote_cell_type": "code",
    "deepnote_to_be_reexecuted": false,
    "execution_millis": 19,
    "execution_start": 1677969644364,
    "source_hash": "6815d91f",
    "tags": []
   },
   "outputs": [
    {
     "name": "stdout",
     "output_type": "stream",
     "text": [
      "R²:  0.6497956041119761\n",
      "RSE:  25.0703669756565\n"
     ]
    }
   ],
   "source": [
    "lambdas = 10**np.linspace(start = -2, stop = 10, num= 100)\n",
    "\n",
    "# validación cruzada de Ridge (RidgeCV)\n",
    "ridgecv = RidgeCV(alphas=lambdas).fit(X_train, y_train)\n",
    "\n",
    "y_pred = ridgecv.predict(X_test)\n",
    "\n",
    "print(\"R²: \", ridgecv.score(X_test, y_test))\n",
    "print(\"RSE: \", mean_squared_error(y_test, y_pred))     "
   ]
  },
  {
   "cell_type": "markdown",
   "metadata": {
    "cell_id": "65c2d71d87fc4c829eb61a41ca998665",
    "deepnote_cell_type": "markdown",
    "tags": []
   },
   "source": [
    "**7. Realice una regresión de Ridge usando el parámetro $\\alpha$ hallado en el punto anterior.**"
   ]
  },
  {
   "cell_type": "code",
   "execution_count": 51,
   "metadata": {
    "cell_id": "622cde412ba5456c8404ead0fabac6dd",
    "deepnote_cell_type": "code",
    "deepnote_to_be_reexecuted": false,
    "execution_millis": 9,
    "execution_start": 1677969569374,
    "source_hash": "12613528",
    "tags": []
   },
   "outputs": [
    {
     "name": "stdout",
     "output_type": "stream",
     "text": [
      "R²:  0.6497955685852554\n",
      "RSE:  25.070369518936744\n"
     ]
    }
   ],
   "source": [
    "ridge  = Ridge(alpha = ridgecv.alpha_)\n",
    "ridge.fit(X_train, y_train)\n",
    "y_pred = ridge.predict(X_test)\n",
    "\n",
    "score_ridge = ridge.score(X_test, y_test)\n",
    "rse_ridge = mean_squared_error(y_test, y_pred)\n",
    "\n",
    "print(\"R²: \", score_ridge)\n",
    "print(\"RSE: \", rse_ridge)     "
   ]
  },
  {
   "cell_type": "markdown",
   "metadata": {
    "cell_id": "95dc16b10c1c42cd8931a9197635a61d",
    "deepnote_cell_type": "markdown",
    "tags": []
   },
   "source": [
    "**8. Repita los dos puntos anteriores para regresión de Lasso.**"
   ]
  },
  {
   "cell_type": "code",
   "execution_count": 52,
   "metadata": {
    "cell_id": "b1e1c1ea0637416cb6bd99b94cd49ea7",
    "deepnote_cell_type": "code",
    "deepnote_to_be_reexecuted": false,
    "execution_millis": 83,
    "execution_start": 1677969582901,
    "source_hash": "c26e22cc",
    "tags": []
   },
   "outputs": [
    {
     "data": {
      "text/plain": [
       "0.01"
      ]
     },
     "execution_count": 52,
     "metadata": {},
     "output_type": "execute_result"
    }
   ],
   "source": [
    "lassocv = LassoCV(alphas = lambdas)\n",
    "lassocv.fit(X_train, y_train)\n",
    "\n",
    "alphita = lassocv.alpha_\n",
    "alphita"
   ]
  },
  {
   "cell_type": "code",
   "execution_count": 53,
   "metadata": {
    "cell_id": "6c81a53efab04960b5e666c48be625e7",
    "deepnote_cell_type": "code",
    "deepnote_to_be_reexecuted": false,
    "execution_millis": 5,
    "execution_start": 1677969584613,
    "source_hash": "bb1b3778",
    "tags": []
   },
   "outputs": [
    {
     "name": "stdout",
     "output_type": "stream",
     "text": [
      "R²:  0.6536297295039765\n",
      "RSE = 24.795890322202762\n"
     ]
    }
   ],
   "source": [
    "lasso = Lasso(alpha = alphita)\n",
    "lasso.fit(X_train, y_train)                \n",
    "pred  = lasso.predict(X_test)  \n",
    "\n",
    "score_lasso = lasso.score(X_test, y_test)\n",
    "rse_lasso = mean_squared_error(y_test, pred)\n",
    "\n",
    "print(\"R²: \", score_lasso)\n",
    "print(\"RSE =\", rse_lasso)   "
   ]
  },
  {
   "cell_type": "markdown",
   "metadata": {
    "cell_id": "fba8fcb4469d44e696fb81c23f74db26",
    "deepnote_cell_type": "markdown",
    "tags": []
   },
   "source": [
    "**9. ¿Aplicar regresión de Ridge y Lasso mejoró el score de ésta regresion?**"
   ]
  },
  {
   "cell_type": "markdown",
   "metadata": {
    "cell_id": "9e0c97b6bc0b4dfaac90dbdcaa677c96",
    "deepnote_cell_type": "markdown",
    "tags": []
   },
   "source": [
    "_Sí, mejoró el score muy ligeramente, sin embargo hubo mejora._"
   ]
  },
  {
   "cell_type": "markdown",
   "metadata": {
    "cell_id": "6083e79f886548afa927e4d1f380db56",
    "deepnote_cell_type": "markdown",
    "tags": []
   },
   "source": [
    "**10. Aplique árboles de decisión de regresión para predecir la variable objetivo con distintos valores de los parámetros max leaf nodes y max depth. Quédese con el modelo que dé un mayor score.**"
   ]
  },
  {
   "cell_type": "code",
   "execution_count": 38,
   "metadata": {
    "cell_id": "a09cd1d1d2854525b4033551c75cae35",
    "deepnote_cell_type": "code",
    "deepnote_to_be_reexecuted": false,
    "execution_millis": 7102,
    "execution_start": 1677968841596,
    "source_hash": "2abc0964",
    "tags": []
   },
   "outputs": [
    {
     "data": {
      "text/plain": [
       "{'rf__max_depth': 6, 'rf__max_leaf_nodes': 12}"
      ]
     },
     "execution_count": 38,
     "metadata": {},
     "output_type": "execute_result"
    }
   ],
   "source": [
    "pipeline = Pipeline([(\"scaler\" , StandardScaler()),\n",
    "                     (\"rf\",DecisionTreeRegressor())])\n",
    "\n",
    "param_grid = {\n",
    "    'rf__max_depth': [1,2,3,4,5,6,7,8,9,10],\n",
    "    'rf__max_leaf_nodes': [2,3,4,5,6,7,8,9,10,11,12]\n",
    "}\n",
    "# initialize\n",
    "grid_pipeline = GridSearchCV(pipeline, param_grid, n_jobs=2)\n",
    "\n",
    "# fit\n",
    "grid_pipeline.fit(X_train,y_train)\n",
    "grid_pipeline.best_params_"
   ]
  },
  {
   "cell_type": "code",
   "execution_count": 39,
   "metadata": {
    "cell_id": "838d78a022ec49a79183ef7d73afb769",
    "deepnote_cell_type": "code",
    "deepnote_to_be_reexecuted": false,
    "execution_millis": 13,
    "execution_start": 1677968856252,
    "source_hash": "e0da683e",
    "tags": []
   },
   "outputs": [
    {
     "name": "stdout",
     "output_type": "stream",
     "text": [
      "R²: 0.9090632466039296\n",
      "RSE = 11.994791345806387\n"
     ]
    }
   ],
   "source": [
    "regressor = DecisionTreeRegressor(max_depth = 6, max_leaf_nodes = 12)\n",
    "regressor.fit(X_train, y_train)\n",
    "\n",
    "y_pred  = regressor.predict(X_test) \n",
    "rse_tree = mean_squared_error(y_test, y_pred)\n",
    "\n",
    "\n",
    "score_tree = regressor.score(X_train, y_train)\n",
    "print(\"R²:\", score_tree) \n",
    "print(\"RSE =\", rse_tree)   "
   ]
  },
  {
   "cell_type": "markdown",
   "metadata": {
    "cell_id": "764f5788b1ff4a8a94f704c925aaf8b8",
    "deepnote_cell_type": "markdown",
    "tags": []
   },
   "source": [
    "**11. Grafique el árbol con el cuál obtuvo un mayor score. Describa el modelo que define este árbol. ¿Qué atributos son los más importantes para éste modelo? Compare esta lista de atributos con los obtenidos en el ı́tem quinto.¿Se utilizan todos los atributos en éste modelo? Si no, ¿cuáles no utiliza?**"
   ]
  },
  {
   "cell_type": "code",
   "execution_count": 40,
   "metadata": {
    "cell_id": "4b91d12569ef4b68a175ca9e227ed4df",
    "deepnote_cell_type": "code",
    "deepnote_to_be_reexecuted": false,
    "execution_millis": 3584,
    "execution_start": 1677968865885,
    "source_hash": "7edb7dbb",
    "tags": []
   },
   "outputs": [
    {
     "data": {
      "image/png": "[encoded data removed]",
      "text/plain": [
       "<Figure size 4000x2000 with 1 Axes>"
      ]
     },
     "metadata": {
      "image/png": {
       "height": 1582,
       "width": 3120
      }
     },
     "output_type": "display_data"
    }
   ],
   "source": [
    "## Graficar el árbol\n",
    "\n",
    "plt.figure(figsize=(40,20))\n",
    "plot_tree(regressor, filled=True, class_names=True)\n",
    "plt.title(\"Regression tree training for training dataset\")\n",
    "plt.show()"
   ]
  },
  {
   "cell_type": "markdown",
   "metadata": {
    "cell_id": "836134288a754c658ff18152056891a6",
    "deepnote_cell_type": "markdown",
    "tags": []
   },
   "source": [
    "\n",
    "```\n",
    "💡⚠️ Note que al correr GridSearch, los óptimos pueden cambiar bastante, sin embargo siguen siendo óptimos.\n",
    "Los resultados que mostraremos acontinuación son para cuando los parámetros óptimos nos dieron:\n",
    "\n",
    "- profundidad de 8\n",
    "- cantidad máxima de hojas de 8\n",
    "```\n",
    "\n",
    "En su momento los atributos más importantes fueron, en este orden (según Ridge):\n",
    "- NOX         -> X[5]\n",
    "- RM           -> X[6]\n",
    "- CHAS      -> X[4]\n",
    "- PTRATIO -> X[11]\n",
    "Ahora note que las variables utilizadas por el **árbol** fueron:\n",
    "\n",
    "- RM        ->  X[6]\n",
    "- LSTAT   ->  X[12]\n",
    "- DIS        ->  X[8]\n",
    "- RAD       ->  X[9]\n",
    "- CRIM     ->  X[1]\n",
    "- NOX      ->  X[5]\n",
    "\n",
    "Note entonces que el árbol usa muchas menos variables que el modelo de regresión Ridge, y le da menos peso a las variables CHAS y PTRATIO, que eran significativas en Ridge. ***En concreto el árbol usa 5 variables menos que Ridge.*** _Descartó:_\n",
    "\n",
    "- CHAS      -> X[4]\n",
    "- PTRATIO -> X[11]\n",
    "- ZN          -> X[2]\n",
    "- INDUS    -> X[3]\n",
    "- AGE        -> X[7]"
   ]
  },
  {
   "cell_type": "markdown",
   "metadata": {
    "cell_id": "4479bfde6a754402b62292ae58785cfc",
    "deepnote_cell_type": "markdown",
    "tags": []
   },
   "source": [
    "**12. Ahora aplicaremos el método de vecinos más cercanos para regresión. Utilize el KNeighbors regressor de SKLearn para predecir nuestra variable objetivo usando diferentes valores del pará el parámetro k. Quédese con el mejor parámetro y mencione su score.**"
   ]
  },
  {
   "cell_type": "code",
   "execution_count": 15,
   "metadata": {
    "cell_id": "7048b80611cb44eb9294045a952727e6",
    "deepnote_cell_type": "code",
    "deepnote_to_be_reexecuted": false,
    "execution_millis": 3155,
    "execution_start": 1677968034992,
    "source_hash": "3ef2923b",
    "tags": []
   },
   "outputs": [
    {
     "name": "stdout",
     "output_type": "stream",
     "text": [
      "Score máximo: 0.747032447885513\n",
      "RSE:  69.62700736889926\n"
     ]
    }
   ],
   "source": [
    "k_values = [(2*n + 1) for n in range(0, 130)]\n",
    "\n",
    "# inicializar variables para el modelo con el score máximo\n",
    "max_score_kn = -np.inf\n",
    "rse_kn = -np.inf\n",
    "best_regressor = None\n",
    "\n",
    "# iterar sobre todos los valores de k\n",
    "for k in k_values:\n",
    "    # crear un modelo de vecinos más cercanos con el valor actual de k\n",
    "    regressor = KNeighborsRegressor(n_neighbors=k)\n",
    "    \n",
    "    # ajustar el modelo a los datos de entrenamiento\n",
    "    regressor.fit(X_train, y_train)\n",
    "    \n",
    "    # hacer predicciones en el conjunto de prueba y calcular el coeficiente de determinación \n",
    "    y_pred = regressor.predict(X_test)\n",
    "    score = regressor.score(X_test, y_test) \n",
    "    rse_kn = mean_squared_error(y_test, y_pred)\n",
    "    \n",
    "    # si el score es mayor que el score máximo anterior, actualizar las variables del modelo \n",
    "    # con el nuevo modelo\n",
    "    if score > max_score_kn:\n",
    "        max_score_kn = score\n",
    "        best_regressor = regressor\n",
    "\n",
    "# imprimir el score máximo \n",
    "print('Score máximo:', max_score_kn)\n",
    "print('RSE: ', rse_kn)"
   ]
  },
  {
   "cell_type": "markdown",
   "metadata": {
    "cell_id": "29a7f6c7ebcd4e7b8c3df5a005b3793e",
    "deepnote_cell_type": "markdown",
    "tags": []
   },
   "source": [
    "**13. Finalmente, compare los resultados obtenidos con los distintos métodos. ¿Cuál tuvo un mejor desempeño? ¿Cuál tuvo un peor desemempeño? Mencione cualquier otra conclusión que extraiga de estos resultados o de los datos, por ejemplo: ¿por qué podrı́a haberse comportado mejor un modelo que otro?**"
   ]
  },
  {
   "cell_type": "code",
   "execution_count": 16,
   "metadata": {
    "cell_id": "28eda92bb86b4f1f8d78a40fbc3cdf41",
    "deepnote_cell_type": "code",
    "deepnote_to_be_reexecuted": false,
    "execution_millis": 4,
    "execution_start": 1677968038143,
    "source_hash": "bfd75844",
    "tags": []
   },
   "outputs": [
    {
     "name": "stdout",
     "output_type": "stream",
     "text": [
      "R²:  0.6497955685852554\n",
      "RSE:  25.070369518936744 \n",
      "\n",
      "R²:  0.6536297295039765\n",
      "RSE = 24.795890322202762 \n",
      "\n",
      "R²: 0.9148372961897472\n",
      "RSE = 11.4962669464574 \n",
      "\n",
      "R²: 0.747032447885513\n",
      "RSE=  69.62700736889926\n"
     ]
    }
   ],
   "source": [
    "print(\"R²: \", score_ridge)\n",
    "print(\"RSE: \", rse_ridge, '\\n')\n",
    "\n",
    "print(\"R²: \", score_lasso)\n",
    "print(\"RSE =\", rse_lasso, '\\n') \n",
    "\n",
    "print(\"R²:\", score_tree) \n",
    "print(\"RSE =\", rse_tree, '\\n') \n",
    "\n",
    "print('R²:', max_score_kn)\n",
    "print('RSE= ', rse_kn)"
   ]
  },
  {
   "cell_type": "markdown",
   "metadata": {
    "cell_id": "f6b6ce5283914606a2e9075e9dbdee4d",
    "deepnote_cell_type": "markdown",
    "tags": []
   },
   "source": [
    "Como podemos ver el mejor desempeño fue logrado por el arbol de regresión, y el de peor desempeño fue la regresión ridge. Parece que por la naturaleza de los datos vemos que tratar de ajustarlos con un modelo lineal es una muy mala idea. Por lo tanto los árboles de decisión de regresión fueron mejores."
   ]
  },
  {
   "cell_type": "markdown",
   "metadata": {
    "created_in_deepnote_cell": true,
    "deepnote_cell_type": "markdown",
    "tags": []
   },
   "source": [
    "<a style='text-decoration:none;line-height:16px;display:flex;color:#5B5B62;padding:10px;justify-content:end;' href='https://deepnote.com?utm_source=created-in-deepnote-cell&projectId=40d35e2e-6794-447e-b1bd-d07209354f7d' target=\"_blank\">\n",
    "<img alt='Created in deepnote.com' style='display:inline;max-height:16px;margin:0px;margin-right:7.5px;' src='data:image/svg+xml;base64,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' > </img>\n",
    "Created in <span style='font-weight:600;margin-left:4px;'>Deepnote</span></a>"
   ]
  }
 ],
 "metadata": {
  "deepnote": {},
  "deepnote_execution_queue": [],
  "deepnote_full_width": true,
  "deepnote_notebook_id": "5dd9c0d618d34006ae6330f0e8228e8f",
  "deepnote_persisted_session": {
   "createdAt": "2023-03-04T20:01:35.783Z"
  },
  "kernelspec": {
   "display_name": "Python 3 (ipykernel)",
   "language": "python",
   "name": "python3"
  },
  "language_info": {
   "codemirror_mode": {
    "name": "ipython",
    "version": 3
   },
   "file_extension": ".py",
   "mimetype": "text/x-python",
   "name": "python",
   "nbconvert_exporter": "python",
   "pygments_lexer": "ipython3",
   "version": "3.9.7"
  }
 },
 "nbformat": 4,
 "nbformat_minor": 1
}
