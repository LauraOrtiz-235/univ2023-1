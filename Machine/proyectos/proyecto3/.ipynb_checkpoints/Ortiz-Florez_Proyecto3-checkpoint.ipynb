{
 "cells": [
  {
   "cell_type": "markdown",
   "metadata": {
    "cell_id": "b559bef4b99249a2912dd4e12658b128",
    "deepnote_cell_type": "markdown"
   },
   "source": [
    "<img src=\"https://s3.amazonaws.com/media-p.slid.es/uploads/1485763/images/9060062/Header.png\" alt=\"Header\" style=\"width: 800px;\"/>\n",
    "\n",
    "# Aprendizaje Automático de Máquina\n",
    "\n",
    "Yiby Karolina Morales Pinto\n",
    "\n",
    "```\n",
    "Laura Sofía Ortiz Arcos💡\n",
    "David Santiago Flórez Alsina💡\n",
    "```    \n",
    "\n",
    "<hr> </hr>\n",
    "\n",
    "Abril 27, 2023\n",
    "\n",
    "--------"
   ]
  },
  {
   "cell_type": "markdown",
   "metadata": {
    "cell_id": "b08cf5dbccd64bea933af8bb9d7c17fc",
    "deepnote_cell_type": "markdown"
   },
   "source": [
    "## Antecedentes\n",
    "\n",
    "Se detalla información de antecedentes del tema sobre el cual se propone el proyecto. Información (por ejemplo histórica) relevante. Debería describir una razón por la cual un problema al respecto debería resolverse.\n",
    "\n",
    "links para hablar: \n",
    "\n",
    "- https://repositorio.uniandes.edu.co/bitstream/handle/1992/45458/u827540.pdf?sequence=1 \n",
    "\n",
    "- https://upcommons.upc.edu/bitstream/handle/2117/108387/memoria-tfm-federico-aguilar-calvo.pdf?sequence=1&isAllowed=y\n",
    "\n",
    "- http://somim.org.mx/memorias/memorias2020/articulos/A4_6.pdf\n",
    "\n",
    "- https://oa.upm.es/11206/1/MARIA_GUADALUPE_CORTINA_JANUCHS.pdf\n",
    "\n",
    "_**Opcional:**_ una motivación personal para investigar el problema en particular."
   ]
  },
  {
   "cell_type": "markdown",
   "metadata": {
    "cell_id": "57134d5eff294f9599200e9788592acc",
    "deepnote_cell_type": "markdown"
   },
   "source": [
    "## Definición del problema\n",
    "\n",
    "Se describe claramente el problema que se resolverá. El problema debe estar bien definido, debe ser cuantificable y medible."
   ]
  },
  {
   "cell_type": "markdown",
   "metadata": {
    "cell_id": "e0db835c5426486eaf39c48cef6ae4cc",
    "deepnote_cell_type": "markdown"
   },
   "source": [
    "_Nos planteamos solucionar la problemática de predecir humedad y temperatura ambiental usando redes neuronales y tensorflow, lo haremos con predicciones para 10 min, 15 min, 30 min y 60 min en el futuro_."
   ]
  },
  {
   "cell_type": "markdown",
   "metadata": {
    "cell_id": "78a101d751d14f14a56b5575e4d1360f",
    "deepnote_cell_type": "markdown"
   },
   "source": [
    "## Descripción de la solución\n",
    "\n",
    "Descripción de cómo se abordará el problema. La estrategia planteada es aplicable al proyecto y apropiada para los datos dados. Adicionalmente, la solución es cuantificable y medible."
   ]
  },
  {
   "cell_type": "markdown",
   "metadata": {
    "cell_id": "f20810e77b4e419cb196a88583d49541",
    "deepnote_cell_type": "markdown"
   },
   "source": [
    "_Construir una red neuronal predictiva para los periodos de tiempo seleccionados, probaremos distintas arquitecturas y funciones de activación, para encontrar la mejor red de todas._"
   ]
  },
  {
   "cell_type": "markdown",
   "metadata": {
    "cell_id": "3bcf15922c74463381d7c7bf8aae9d24",
    "deepnote_cell_type": "markdown"
   },
   "source": [
    "## Datos\n",
    "\n",
    "El dataset a usar en el proyecto debe ser descrito detalladamente. Información acerca de dónde se obtuvo el dataset y sus características, debe ser incluída. Así como toda referencia utilizada."
   ]
  },
  {
   "cell_type": "markdown",
   "metadata": {
    "cell_id": "54df03c601af471eb6f10ccac7b5606c",
    "deepnote_cell_type": "markdown"
   },
   "source": [
    "Nuestro dataset se compone de las siguientes mediciones:\n",
    "- Luz (lux). \n",
    "- Humedad relativa (%). \n",
    "- Tempertura ambiental (°C). \n",
    "- Presión atmosférica (mmHg).\n",
    "\n",
    "Cada medición tiene un timestamp asociado que nos indica el instante en el que se midió."
   ]
  },
  {
   "cell_type": "markdown",
   "metadata": {
    "cell_id": "d0cc72a3ac104af5a7c025ac050a8283",
    "deepnote_cell_type": "markdown"
   },
   "source": [
    "## Modelo de referencia\n",
    "\n",
    "Se debe hacer un experimento preliminar con un primer algoritmo, puede ser simple. Esto con el fin de obtener una primera aproximación al problema, la cual se deberá mejorar durante el proyecto."
   ]
  },
  {
   "cell_type": "code",
   "execution_count": 3,
   "metadata": {
    "cell_id": "3861cab6a64149e4ab91df807cd61937",
    "deepnote_cell_type": "code",
    "deepnote_to_be_reexecuted": false,
    "execution_millis": 8831,
    "execution_start": 1683502581778,
    "source_hash": "90981e97"
   },
   "outputs": [
    {
     "name": "stderr",
     "output_type": "stream",
     "text": [
      "2023-05-07 23:36:22.869023: I tensorflow/core/platform/cpu_feature_guard.cc:193] This TensorFlow binary is optimized with oneAPI Deep Neural Network Library (oneDNN) to use the following CPU instructions in performance-critical operations:  AVX2 AVX512F AVX512_VNNI FMA\n",
      "To enable them in other operations, rebuild TensorFlow with the appropriate compiler flags.\n",
      "2023-05-07 23:36:22.982996: I tensorflow/core/util/util.cc:169] oneDNN custom operations are on. You may see slightly different numerical results due to floating-point round-off errors from different computation orders. To turn them off, set the environment variable `TF_ENABLE_ONEDNN_OPTS=0`.\n",
      "2023-05-07 23:36:22.987542: W tensorflow/stream_executor/platform/default/dso_loader.cc:64] Could not load dynamic library 'libcudart.so.11.0'; dlerror: libcudart.so.11.0: cannot open shared object file: No such file or directory\n",
      "2023-05-07 23:36:22.987557: I tensorflow/stream_executor/cuda/cudart_stub.cc:29] Ignore above cudart dlerror if you do not have a GPU set up on your machine.\n",
      "2023-05-07 23:36:23.016820: E tensorflow/stream_executor/cuda/cuda_blas.cc:2981] Unable to register cuBLAS factory: Attempting to register factory for plugin cuBLAS when one has already been registered\n",
      "2023-05-07 23:36:25.247508: W tensorflow/stream_executor/platform/default/dso_loader.cc:64] Could not load dynamic library 'libnvinfer.so.7'; dlerror: libnvinfer.so.7: cannot open shared object file: No such file or directory\n",
      "2023-05-07 23:36:25.247566: W tensorflow/stream_executor/platform/default/dso_loader.cc:64] Could not load dynamic library 'libnvinfer_plugin.so.7'; dlerror: libnvinfer_plugin.so.7: cannot open shared object file: No such file or directory\n",
      "2023-05-07 23:36:25.247572: W tensorflow/compiler/tf2tensorrt/utils/py_utils.cc:38] TF-TRT Warning: Cannot dlopen some TensorRT libraries. If you would like to use Nvidia GPU with TensorRT, please make sure the missing libraries mentioned above are installed properly.\n"
     ]
    }
   ],
   "source": [
    "import sklearn\n",
    "import datetime          as dt\n",
    "import pandas            as pd\n",
    "import tensorflow        as tf\n",
    "import numpy             as np\n",
    "import matplotlib.pyplot as plt\n",
    "\n",
    "from sklearn                 import preprocessing\n",
    "from tensorflow              import keras\n",
    "from datetime                import timedelta\n",
    "from sklearn.model_selection import train_test_split"
   ]
  },
  {
   "cell_type": "code",
   "execution_count": 4,
   "metadata": {
    "cell_id": "5ec286e4410b4c17bbe569f3b1caaf69",
    "deepnote_cell_type": "code",
    "deepnote_to_be_reexecuted": false,
    "execution_millis": 19,
    "execution_start": 1683502590614,
    "source_hash": "d4fbddc7"
   },
   "outputs": [],
   "source": [
    "def separate_timestamp(df):\n",
    "    \"\"\"\n",
    "    Converts the 'time' column in the input dataframe to a pandas datetime format.\n",
    "    \n",
    "    INPUT:\n",
    "        - df: A pandas DataFrame with a 'time' column\n",
    "    \n",
    "    OUTPUT:\n",
    "        - pd.DataFrame: A copy of the input dataframe with the 'time' column converted to pandas datetime format\n",
    "    \"\"\"\n",
    "    \n",
    "    # Convert the 'time' column to a pandas datetime format\n",
    "    df['time'] = pd.to_datetime(df['time'])\n",
    "\n",
    "    # Return the modified dataframe\n",
    "    return df\n"
   ]
  },
  {
   "cell_type": "code",
   "execution_count": 5,
   "metadata": {
    "cell_id": "5982699f61184089b19163f4fe7423a7",
    "deepnote_cell_type": "code",
    "deepnote_to_be_reexecuted": false,
    "execution_millis": 5,
    "execution_start": 1683502590672,
    "source_hash": "d9b9b919"
   },
   "outputs": [],
   "source": [
    "import pandas as pd\n",
    "\n",
    "def calculate_rolling_average(df: pd.DataFrame, N: list, var: str):\n",
    "    \"\"\"\n",
    "    Calculates rolling statistics of a specified variable for a given window size and adds them as new columns\n",
    "    to the input dataframe.\n",
    "    \n",
    "    Args:\n",
    "    - df (pandas DataFrame): input dataframe containing a column named 'time' and the variable of interest \n",
    "                             specified in the 'var' argument.\n",
    "    - N (list of integers):  list of window sizes (in minutes) for which to calculate rolling statistics.\n",
    "    - var (string):          name of the variable of interest for which to calculate rolling statistics.\n",
    "    \n",
    "    Returns:\n",
    "    - pandas DataFrame:      modified dataframe with new columns added for the rolling statistics.\n",
    "    \"\"\"\n",
    "    \n",
    "    # Set the 'time' column as the dataframe index\n",
    "    df.set_index('time', inplace=True)\n",
    "\n",
    "    # Calculate the rolling statistics of the 'var' column for each window size in the list N\n",
    "    for n in N:\n",
    "        rolling_average   = df[var].rolling(f'{n}min').mean()\n",
    "        rolling_variance  = df[var].rolling(f'{n}min').var()\n",
    "        rolling_minimum   = df[var].rolling(f'{n}min').min()\n",
    "        rolling_maximum   = df[var].rolling(f'{n}min').max()\n",
    "\n",
    "        # Add the rolling statistics as new columns to the dataframe, filling NaN values with the next valid value\n",
    "        df[f'avg_{n}min']  = rolling_average.bfill()\n",
    "        df[f'var_{n}min']  = rolling_variance.bfill()\n",
    "        df[f'max_{n}min']  = rolling_maximum.bfill()\n",
    "        df[f'min_{n}min']  = rolling_minimum.bfill()\n",
    "\n",
    "    # Return the modified dataframe\n",
    "    return df\n"
   ]
  },
  {
   "cell_type": "code",
   "execution_count": 6,
   "metadata": {
    "cell_id": "045882e6c0cb4ebf9a7699f3bd767135",
    "deepnote_cell_type": "code",
    "deepnote_table_loading": false,
    "deepnote_table_state": {
     "filters": [],
     "pageIndex": 0,
     "pageSize": 10,
     "sortBy": []
    },
    "deepnote_to_be_reexecuted": false,
    "execution_millis": 63,
    "execution_start": 1683502590673,
    "source_hash": "c356a434"
   },
   "outputs": [],
   "source": [
    "df = separate_timestamp( pd.read_csv('hum.csv') )\n",
    "features = calculate_rolling_average(df, [10, 15, 30, 60], 'hum_level')"
   ]
  },
  {
   "cell_type": "code",
   "execution_count": 7,
   "metadata": {
    "cell_id": "7e5fef00e43849faa9d7a18ac1845b6c",
    "deepnote_cell_type": "code",
    "deepnote_to_be_reexecuted": false,
    "execution_millis": 16,
    "execution_start": 1683502590720,
    "source_hash": "6145b3b4"
   },
   "outputs": [],
   "source": [
    "def data_scaling(data: pd.DataFrame,\n",
    "                 scaler: sklearn.preprocessing._data,\n",
    "                 scaling_columns     = [], \n",
    "                 not_scaling_columns = [], \n",
    "                 dropping = False):\n",
    "    \n",
    "    \"\"\"\n",
    "    Scales the specified columns in the input DataFrame using the given scaler object.\n",
    "    \n",
    "    INPUT:\n",
    "        - data:                Pandas DataFrame to be scaled\n",
    "        - scaler:              Scaler object from sklearn.preprocessing\n",
    "        - scaling_columns:     List of column names to scale\n",
    "        - not_scaling_columns: List of column names to not scale\n",
    "        \n",
    "    OUTPUT: \n",
    "        - pd.DataFrame:        A scaled copy of the input data with the specified columns scaled\n",
    "    \"\"\"\n",
    "\n",
    "    # if the user provided all the columns he wishes to scale \n",
    "    if scaling_columns:\n",
    "        data[scaling_columns] = scaler.fit_transform(data[scaling_columns].to_numpy())\n",
    "\n",
    "    # if user provided only the columns he doesn't want to scale\n",
    "    elif not_scaling_columns:\n",
    "        used_cols = data.columns.difference(not_scaling_columns)\n",
    "        data.loc[:, used_cols] = scaler.fit_transform(data.loc[:, used_cols].to_numpy())\n",
    "\n",
    "    else:\n",
    "        data.iloc[:] = scaler.fit_transform(data.iloc[:].to_numpy())\n",
    "    \n",
    "    return data"
   ]
  },
  {
   "cell_type": "code",
   "execution_count": 8,
   "metadata": {
    "cell_id": "71f0d9ce7d644539a6ec05141839d70a",
    "deepnote_cell_type": "code",
    "deepnote_to_be_reexecuted": false,
    "execution_millis": 33,
    "execution_start": 1683502590720,
    "source_hash": "2eee4e5"
   },
   "outputs": [],
   "source": [
    "def find_future_measurement(data: pd.DataFrame,\n",
    "                            curr_measurement: pd.core.series.Series,\n",
    "                            prediction_var: str,\n",
    "                            N: list) -> tuple:\n",
    "    \"\"\"\n",
    "    Takes a complete dataframe (data) and a row of this dataframe (curr_measurement), and finds the future measurements \n",
    "    for a given list of time intervals (N).\n",
    "    \n",
    "    INPUT:\n",
    "        - data: A pandas DataFrame containing the measurement data\n",
    "        - curr_measurement: A pandas Series containing a single row (measurement) of the DataFrame (data)\n",
    "        - prediction_var: A string representing the name of the column containing the measurement to predict\n",
    "        - N: A list of time intervals (in minutes) for which future measurements are to be predicted\n",
    "        \n",
    "    OUTPUT:\n",
    "        - A tuple containing the future measurement values for each of the time intervals in N\n",
    "    \n",
    "    Example:\n",
    "    If N = [30, 60], then the function will return a tuple containing the predicted measurements 30 and 60 minutes \n",
    "    into the future from the current measurement in curr_measurement.\n",
    "    \"\"\"\n",
    "    \n",
    "    # Take current measurement index (datetime)\n",
    "    curr_idx = curr_measurement.name\n",
    "    \n",
    "    # Go n units into the future for n in N\n",
    "    nearest_measurements = []\n",
    "    \n",
    "    for n in N:\n",
    "        # Calculate the datetime n minutes into the future\n",
    "        future_time = curr_idx + pd.Timedelta(minutes=n)\n",
    "        \n",
    "        # Calculate the time difference between each index in data and the future_time\n",
    "        time_diff = abs(data.index - future_time)\n",
    "        \n",
    "        # Find the index of the row with the smallest time difference (i.e., closest measurement)\n",
    "        nearest_idx = time_diff.argmin()\n",
    "        \n",
    "        # Get the row with the closest measurement and add the predicted measurement to the list\n",
    "        nearest_time = data.iloc[nearest_idx]\n",
    "        nearest_measurements.append(nearest_time[prediction_var])\n",
    "    \n",
    "    return tuple(nearest_measurements)\n"
   ]
  },
  {
   "cell_type": "code",
   "execution_count": 9,
   "metadata": {
    "cell_id": "7ca71a201e25485fb945ce2cf4a53d9c",
    "deepnote_cell_type": "code",
    "deepnote_to_be_reexecuted": false,
    "execution_millis": 16,
    "execution_start": 1683502590754,
    "source_hash": "57a7fcff"
   },
   "outputs": [],
   "source": [
    "def build_dataset(data: pd.DataFrame, N: list, prediction_var: str, scaler=None):\n",
    "    \"\"\"\n",
    "    Builds a dataset for time series prediction by creating X and Y matrices from the input data.\n",
    "\n",
    "    INPUT:\n",
    "        - data:           Pandas DataFrame containing the input data\n",
    "        - N:              List of integers representing the number of minutes into the future to predict for each sample\n",
    "        - prediction_var: String representing the name of the column to predict\n",
    "        - scaler:         Scaler object from sklearn.preprocessing to scale the input data\n",
    "\n",
    "    OUTPUT:\n",
    "        - Tuple of two numpy arrays: X matrix and Y matrix\n",
    "    \"\"\"\n",
    "\n",
    "    # Get the last hour of measurement\n",
    "    last_hour = data.tail(1).index[0] - pd.Timedelta(minutes=max(N))\n",
    "\n",
    "    # Drop the last hour of data\n",
    "    X = data.truncate(after=pd.Timestamp(last_hour))\n",
    "\n",
    "    # Build the Y matrix (the future measurements)\n",
    "    output_dims = (len(X), len(N))\n",
    "    Y = np.zeros(output_dims)\n",
    "\n",
    "    for i in range(len(X)):\n",
    "        current = X.iloc[i].name\n",
    "        Y[i, :] = find_future_measurement(data = X.truncate(after=current),\n",
    "                                          N    = N,\n",
    "                                          curr_measurement = X.iloc[i],\n",
    "                                          prediction_var   = prediction_var)\n",
    "\n",
    "    # Scale the data if requested\n",
    "    if scaler is not None:\n",
    "        X = data_scaling(data=X, scaler=scaler, not_scaling_columns=[prediction_var])\n",
    "\n",
    "    # Use all the columns but the column we want to predict\n",
    "    cols = X.columns.difference([prediction_var])\n",
    "\n",
    "    return X[cols].to_numpy(), Y\n"
   ]
  },
  {
   "cell_type": "code",
   "execution_count": 10,
   "metadata": {
    "cell_id": "0f3435d2c4ba4f7f9739f3e1395a55d1",
    "deepnote_cell_type": "code",
    "deepnote_to_be_reexecuted": false,
    "execution_millis": 30477,
    "execution_start": 1683502590766,
    "source_hash": "758b9e10"
   },
   "outputs": [],
   "source": [
    "X, Y = build_dataset( data = features,\n",
    "                      N = [10, 15, 30, 60],\n",
    "                      prediction_var = 'hum_level')\n",
    "\n",
    "X_train, X_test, y_train, y_test = train_test_split(X, Y,\n",
    "                                                    train_size   = 0.8,\n",
    "                                                    random_state = 69,)\n"
   ]
  },
  {
   "cell_type": "code",
   "execution_count": null,
   "metadata": {
    "cell_id": "2997b993ab14476798264f9df14c54ae",
    "deepnote_cell_type": "code",
    "deepnote_to_be_reexecuted": false,
    "execution_millis": 10,
    "execution_start": 1683499885189,
    "source_hash": "3ffabe0e"
   },
   "outputs": [],
   "source": [
    "model =  keras.Sequential([ keras.layers.Dense(units=16, activation='relu'),\n",
    "                            keras.layers.Dense(units=32, activation='relu'),\n",
    "                            keras.layers.Dense(units=48, activation='relu'),\n",
    "                            keras.layers.Dense(units=4, activation='relu')])\n",
    "\n",
    "model.compile(optimizer = tf.keras.optimizers.RMSprop(lr=0.01),\n",
    "              loss = 'mse')"
   ]
  },
  {
   "cell_type": "code",
   "execution_count": null,
   "metadata": {
    "cell_id": "5a9d362cbc06441d8e19096cf5705fe3",
    "deepnote_cell_type": "code",
    "deepnote_to_be_reexecuted": false,
    "execution_millis": 41031,
    "execution_start": 1683499926518,
    "source_hash": "fe38358c"
   },
   "outputs": [
    {
     "name": "stdout",
     "output_type": "stream",
     "text": [
      "Epoch 1/20\n",
      "1000/1000 [==============================] - 2s 2ms/step - loss: 594.3199 - val_loss: 589.8677\n",
      "Epoch 2/20\n",
      "1000/1000 [==============================] - 2s 2ms/step - loss: 588.7324 - val_loss: 589.8917\n",
      "Epoch 3/20\n",
      "1000/1000 [==============================] - 2s 2ms/step - loss: 593.5715 - val_loss: 590.5653\n",
      "Epoch 4/20\n",
      "1000/1000 [==============================] - 2s 2ms/step - loss: 590.6939 - val_loss: 589.8950\n",
      "Epoch 5/20\n",
      "1000/1000 [==============================] - 2s 2ms/step - loss: 595.5122 - val_loss: 589.8744\n",
      "Epoch 6/20\n",
      "1000/1000 [==============================] - 2s 2ms/step - loss: 440.6349 - val_loss: 1.2250\n",
      "Epoch 7/20\n",
      "1000/1000 [==============================] - 2s 2ms/step - loss: 3.2888 - val_loss: 1.3042\n",
      "Epoch 8/20\n",
      "1000/1000 [==============================] - 2s 2ms/step - loss: 3.2228 - val_loss: 2.3280\n",
      "Epoch 9/20\n",
      "1000/1000 [==============================] - 2s 2ms/step - loss: 3.0895 - val_loss: 2.0239\n",
      "Epoch 10/20\n",
      "1000/1000 [==============================] - 2s 2ms/step - loss: 3.1239 - val_loss: 6.9091\n",
      "Epoch 11/20\n",
      "1000/1000 [==============================] - 2s 2ms/step - loss: 3.1005 - val_loss: 0.4400\n",
      "Epoch 12/20\n",
      "1000/1000 [==============================] - 2s 2ms/step - loss: 3.0633 - val_loss: 1.6071\n",
      "Epoch 13/20\n",
      "1000/1000 [==============================] - 2s 2ms/step - loss: 2.9900 - val_loss: 4.6500\n",
      "Epoch 14/20\n",
      "1000/1000 [==============================] - 2s 2ms/step - loss: 3.0343 - val_loss: 2.2206\n",
      "Epoch 15/20\n",
      "1000/1000 [==============================] - 2s 2ms/step - loss: 3.0518 - val_loss: 4.6215\n",
      "Epoch 16/20\n",
      "1000/1000 [==============================] - 2s 2ms/step - loss: 3.0338 - val_loss: 0.7921\n",
      "Epoch 17/20\n",
      "1000/1000 [==============================] - 2s 2ms/step - loss: 3.0048 - val_loss: 0.2422\n",
      "Epoch 18/20\n",
      "1000/1000 [==============================] - 2s 2ms/step - loss: 3.0725 - val_loss: 2.8988\n",
      "Epoch 19/20\n",
      "1000/1000 [==============================] - 2s 2ms/step - loss: 2.9745 - val_loss: 1.2641\n",
      "Epoch 20/20\n",
      "1000/1000 [==============================] - 2s 2ms/step - loss: 2.9388 - val_loss: 1.5811\n"
     ]
    }
   ],
   "source": [
    "history = model.fit(X_train, y_train,\n",
    "                    epochs           = 20, \n",
    "                    batch_size       = 3,\n",
    "                    steps_per_epoch  = 1000,\n",
    "                    validation_split = 0.10)"
   ]
  },
  {
   "cell_type": "code",
   "execution_count": null,
   "metadata": {
    "cell_id": "dab43d7675594622bc0931a8a041698d",
    "deepnote_cell_type": "code",
    "deepnote_to_be_reexecuted": false,
    "execution_millis": 4,
    "execution_start": 1683499967554,
    "source_hash": "a07100b8"
   },
   "outputs": [],
   "source": [
    "def plot_loss(history):\n",
    "    plt.figure(figsize=(20,5))\n",
    "    plt.plot(history.history['loss'], 'g', label='Training Loss')\n",
    "    plt.plot(history.history['val_loss'], 'b', label='Validation Loss')\n",
    "    #plt.xlim([0, 100])\n",
    "    #plt.ylim([0, 300])\n",
    "    plt.xlabel('Epoch')\n",
    "    plt.ylabel('Loss')\n",
    "    plt.legend()\n",
    "    plt.grid(True)"
   ]
  },
  {
   "cell_type": "code",
   "execution_count": null,
   "metadata": {
    "cell_id": "3c5f7561efb34b83be23f6c514a94750",
    "deepnote_cell_type": "code",
    "deepnote_to_be_reexecuted": false,
    "execution_millis": 323,
    "execution_start": 1683499967561,
    "source_hash": "39089663"
   },
   "outputs": [
    {
     "data": {
      "image/png": "[encoded data removed]",
      "text/plain": [
       "<Figure size 2000x500 with 1 Axes>"
      ]
     },
     "metadata": {
      "image/png": {
       "height": 448,
       "width": 1625
      }
     },
     "output_type": "display_data"
    }
   ],
   "source": [
    "plot_loss(history)"
   ]
  },
  {
   "cell_type": "markdown",
   "metadata": {
    "cell_id": "160558983d6843e08a0d44906da712cf",
    "deepnote_cell_type": "markdown"
   },
   "source": [
    "## Métricas\n",
    "\n",
    "Se propone al menos una métrica de evaluación para cuantificar el desempeño del modelo. Las métricas propuestas son apropiadas para el problema. Un resumen del flujo de trabajo para abordar el proyecto. Se comentan estrategias a utilizar, qué análisis de los datos se podría requerir o qué algoritmos se considerarán."
   ]
  },
  {
   "cell_type": "markdown",
   "metadata": {
    "cell_id": "e9057d4b5a9a4bf09fa71e711c70ffac",
    "deepnote_cell_type": "markdown"
   },
   "source": [
    "### Estrategias y flujo de trabajo\n",
    "\n",
    "1. Preprocesamiento de datos, esto es: \n",
    "    - Extracción de características _(dada la naturaleza temporal de los datos, exploramos la extracción de características en intervalos de 10, 15, 30 y 60 minutos, para ayudar a nuestro modelo a hacer predicciones, sin recurrir a arquitecturas más complejas)_.\n",
    "    -  Escalamiento de datos (vamos a probar si es mejor con o sin este escalamiento).\n",
    "    - Combinación de las distintas bases de datos de mediciones de variables ambientales _(en la prueba de concepto presentada anteriormente se hizo uso únicamente de los datos de humedad para predecir los datos futuros de humedad, sin embargo queremos explorar si el incluir la influencia de otras variables ambientales nos ayuda a mejorar el resultado)_.\n",
    "\n",
    "2. Construcción de distintas redes neuronales:\n",
    "    - Con arquitecturas diferentes.\n",
    "    - Funciones de activación diferentes.\n",
    "    - Hiperparámetros diferentes. \n",
    "\n",
    "Tooodo esto para encontrar la mejor red neuronal, de hecho vamos a hacer el top 3 de las mejores redes neuronales y trataremos de deducir algunas concluciones de sus arquitecturas e hiperparámetros en relación con los datos. \n",
    "\n",
    "3. Comparación con los resultados de la red neuronal que solo hace uso de las características de la variable de predicción, con la red que hace uso de otros datos ambientales."
   ]
  },
  {
   "cell_type": "markdown",
   "metadata": {
    "cell_id": "b7255749b3b24cc3956c22260a73b805",
    "deepnote_cell_type": "markdown"
   },
   "source": [
    "Vamos a hacer uso de las siguientes métricas:\n",
    "\n",
    "- MSE (Mean Squared Error)\n",
    "- MAE (Mean Absolute Error) \n",
    "- RMSE (Root Mean Squared Error) \n",
    "\n",
    "Estas métricas son apropiadas para evaluar el desempeño de un modelo en problemas de regresión, ya que miden la diferencia entre los valores predichos y los valores reales de la variable objetivo.\n",
    "\n",
    "MSE mide el promedio del cuadrado de los errores, mientras que MAE mide el promedio de los errores en valor absoluto. RMSE es similar a MSE, pero toma la raíz cuadrada del promedio de los errores al cuadrado.\n",
    "\n",
    "Además, son adecuadas para nuestro problema porque estamos interesados en predecir valores continuos, como la temperatura, la presión, la humedad y la luz. Y también, son fáciles de entender y comunicar, y permiten comparar el desempeño de diferentes modelos.\n"
   ]
  },
  {
   "cell_type": "markdown",
   "metadata": {
    "created_in_deepnote_cell": true,
    "deepnote_cell_type": "markdown"
   },
   "source": [
    "<a style='text-decoration:none;line-height:16px;display:flex;color:#5B5B62;padding:10px;justify-content:end;' href='https://deepnote.com?utm_source=created-in-deepnote-cell&projectId=ff9b19c4-718d-4116-a04b-62cd53a598e5' target=\"_blank\">\n",
    "<img alt='Created in deepnote.com' style='display:inline;max-height:16px;margin:0px;margin-right:7.5px;' src='data:image/svg+xml;base64,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' > </img>\n",
    "Created in <span style='font-weight:600;margin-left:4px;'>Deepnote</span></a>"
   ]
  }
 ],
 "metadata": {
  "deepnote": {},
  "deepnote_execution_queue": [],
  "deepnote_notebook_id": "bd7d7009b99d4716a5d35de3415dd33d",
  "deepnote_persisted_session": {
   "createdAt": "2023-05-07T23:16:23.654Z"
  },
  "kernelspec": {
   "display_name": "Python 3 (ipykernel)",
   "language": "python",
   "name": "python3"
  },
  "language_info": {
   "codemirror_mode": {
    "name": "ipython",
    "version": 3
   },
   "file_extension": ".py",
   "mimetype": "text/x-python",
   "name": "python",
   "nbconvert_exporter": "python",
   "pygments_lexer": "ipython3",
   "version": "3.9.7"
  }
 },
 "nbformat": 4,
 "nbformat_minor": 1
}
