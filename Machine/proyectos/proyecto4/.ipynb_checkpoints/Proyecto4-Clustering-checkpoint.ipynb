{
 "cells": [
  {
   "cell_type": "markdown",
   "metadata": {
    "cell_id": "f518deae84fa477dbeb8e5aa26155632",
    "deepnote_cell_type": "text-cell-h1",
    "formattedRanges": [
     {
      "fromCodePoint": 0,
      "marks": {
       "color": "#0C5CED"
      },
      "toCodePoint": 23,
      "type": "marks"
     }
    ]
   },
   "source": [
    "# Proyecto 4 - Clustering"
   ]
  },
  {
   "cell_type": "markdown",
   "metadata": {
    "cell_id": "54a270dc-2457-4833-bccf-498dbb52f30b",
    "deepnote_cell_type": "text-cell-p",
    "formattedRanges": []
   },
   "source": [
    "Para esta proyecto vamos a implementar algunos algoritmos de clustering en una porción de un conjunto de datos sobre casos de crimen en Cambridge. "
   ]
  },
  {
   "cell_type": "code",
   "execution_count": 28,
   "metadata": {
    "cell_id": "9466fcfa9f714fb4b24707c293725725",
    "deepnote_cell_type": "code",
    "deepnote_to_be_reexecuted": false,
    "execution_millis": 4,
    "execution_start": 1685408911127,
    "source_hash": "757e0b8c"
   },
   "outputs": [],
   "source": [
    "import pandas            as pd\n",
    "import numpy             as np\n",
    "import matplotlib.pyplot as plt\n",
    "\n",
    "from sklearn.cluster          import DBSCAN\n",
    "from sklearn.decomposition    import PCA\n",
    "from sklearn.model_selection  import GridSearchCV\n",
    "from sklearn.svm              import SVC\n",
    "from sklearn                  import preprocessing\n",
    "from matplotlib               import colors\n",
    "from sklearn.cluster          import KMeans\n",
    "from sklearn.datasets         import make_blobs\n",
    "\n",
    "from numpy                    import unique\n",
    "from numpy                    import where\n",
    "from matplotlib               import pyplot\n",
    "from sklearn.datasets         import make_classification\n",
    "from sklearn.cluster          import AgglomerativeClustering\n",
    "from sklearn.metrics          import silhouette_score"
   ]
  },
  {
   "cell_type": "markdown",
   "metadata": {
    "cell_id": "2578f9b8f4544982adfcdfd46361b49f",
    "deepnote_cell_type": "markdown"
   },
   "source": [
    "Para empezar vamos a trabajar solo con las columnas ***Crime, Reporting Area y Neighbor-hood***. Entonces eliminaremos las demás."
   ]
  },
  {
   "cell_type": "code",
   "execution_count": 39,
   "metadata": {
    "cell_id": "466804192317453b92eb4539b0e3110f",
    "deepnote_cell_type": "code",
    "deepnote_to_be_reexecuted": false,
    "execution_millis": 507,
    "execution_start": 1685409080550,
    "source_hash": "f508b0ef"
   },
   "outputs": [
    {
     "data": {
      "application/vnd.deepnote.dataframe.v3+json": {
       "column_count": 3,
       "columns": [
        {
         "dtype": "object",
         "name": "Crime",
         "stats": {
          "categories": [
           {
            "count": 3,
            "name": "Simple Assault"
           },
           {
            "count": 1,
            "name": "Aggravated Assault"
           },
           {
            "count": 1,
            "name": "Disorderly"
           }
          ],
          "nan_count": 0,
          "unique_count": 3
         }
        },
        {
         "dtype": "float64",
         "name": "Reporting Area",
         "stats": {
          "histogram": [
           {
            "bin_end": 165.3,
            "bin_start": 105,
            "count": 1
           },
           {
            "bin_end": 225.6,
            "bin_start": 165.3,
            "count": 0
           },
           {
            "bin_end": 285.9,
            "bin_start": 225.6,
            "count": 0
           },
           {
            "bin_end": 346.2,
            "bin_start": 285.9,
            "count": 0
           },
           {
            "bin_end": 406.5,
            "bin_start": 346.2,
            "count": 0
           },
           {
            "bin_end": 466.79999999999995,
            "bin_start": 406.5,
            "count": 0
           },
           {
            "bin_end": 527.0999999999999,
            "bin_start": 466.79999999999995,
            "count": 1
           },
           {
            "bin_end": 587.4,
            "bin_start": 527.0999999999999,
            "count": 0
           },
           {
            "bin_end": 647.6999999999999,
            "bin_start": 587.4,
            "count": 1
           },
           {
            "bin_end": 708,
            "bin_start": 647.6999999999999,
            "count": 2
           }
          ],
          "max": "708.0",
          "min": "105.0",
          "nan_count": 0,
          "unique_count": 4
         }
        },
        {
         "dtype": "object",
         "name": "Neighborhood",
         "stats": {
          "categories": [
           {
            "count": 2,
            "name": "Riverside"
           },
           {
            "count": 1,
            "name": "Cambridgeport"
           },
           {
            "count": 2,
            "name": "2 others"
           }
          ],
          "nan_count": 0,
          "unique_count": 4
         }
        },
        {
         "dtype": "int64",
         "name": "_deepnote_index_column"
        }
       ],
       "row_count": 5,
       "rows": [
        {
         "Crime": "Simple Assault",
         "Neighborhood": "Cambridgeport",
         "Reporting Area": 504,
         "_deepnote_index_column": 0
        },
        {
         "Crime": "Simple Assault",
         "Neighborhood": "Mid-Cambridge",
         "Reporting Area": 610,
         "_deepnote_index_column": 1
        },
        {
         "Crime": "Aggravated Assault",
         "Neighborhood": "Riverside",
         "Reporting Area": 708,
         "_deepnote_index_column": 2
        },
        {
         "Crime": "Simple Assault",
         "Neighborhood": "East Cambridge",
         "Reporting Area": 105,
         "_deepnote_index_column": 3
        },
        {
         "Crime": "Disorderly",
         "Neighborhood": "Riverside",
         "Reporting Area": 708,
         "_deepnote_index_column": 4
        }
       ]
      },
      "text/html": [
       "<div>\n",
       "<style scoped>\n",
       "    .dataframe tbody tr th:only-of-type {\n",
       "        vertical-align: middle;\n",
       "    }\n",
       "\n",
       "    .dataframe tbody tr th {\n",
       "        vertical-align: top;\n",
       "    }\n",
       "\n",
       "    .dataframe thead th {\n",
       "        text-align: right;\n",
       "    }\n",
       "</style>\n",
       "<table border=\"1\" class=\"dataframe\">\n",
       "  <thead>\n",
       "    <tr style=\"text-align: right;\">\n",
       "      <th></th>\n",
       "      <th>Crime</th>\n",
       "      <th>Reporting Area</th>\n",
       "      <th>Neighborhood</th>\n",
       "    </tr>\n",
       "  </thead>\n",
       "  <tbody>\n",
       "    <tr>\n",
       "      <th>0</th>\n",
       "      <td>Simple Assault</td>\n",
       "      <td>504.0</td>\n",
       "      <td>Cambridgeport</td>\n",
       "    </tr>\n",
       "    <tr>\n",
       "      <th>1</th>\n",
       "      <td>Simple Assault</td>\n",
       "      <td>610.0</td>\n",
       "      <td>Mid-Cambridge</td>\n",
       "    </tr>\n",
       "    <tr>\n",
       "      <th>2</th>\n",
       "      <td>Aggravated Assault</td>\n",
       "      <td>708.0</td>\n",
       "      <td>Riverside</td>\n",
       "    </tr>\n",
       "    <tr>\n",
       "      <th>3</th>\n",
       "      <td>Simple Assault</td>\n",
       "      <td>105.0</td>\n",
       "      <td>East Cambridge</td>\n",
       "    </tr>\n",
       "    <tr>\n",
       "      <th>4</th>\n",
       "      <td>Disorderly</td>\n",
       "      <td>708.0</td>\n",
       "      <td>Riverside</td>\n",
       "    </tr>\n",
       "  </tbody>\n",
       "</table>\n",
       "</div>"
      ],
      "text/plain": [
       "                Crime  Reporting Area    Neighborhood\n",
       "0      Simple Assault           504.0   Cambridgeport\n",
       "1      Simple Assault           610.0   Mid-Cambridge\n",
       "2  Aggravated Assault           708.0       Riverside\n",
       "3      Simple Assault           105.0  East Cambridge\n",
       "4          Disorderly           708.0       Riverside"
      ]
     },
     "execution_count": 39,
     "metadata": {},
     "output_type": "execute_result"
    }
   ],
   "source": [
    "# Cargar el archivo CSV\n",
    "df = pd.read_csv(\"CrimenCambridge.csv\")\n",
    "\n",
    "# Seleccionar las columnas requeridas\n",
    "df = df[['Crime', 'Reporting Area', 'Neighborhood']]\n",
    "\n",
    "df.head()"
   ]
  },
  {
   "cell_type": "markdown",
   "metadata": {
    "cell_id": "86caf0402c61491b8bccec97e1f6761d",
    "deepnote_cell_type": "markdown"
   },
   "source": [
    "Convertiremos a Dummies las variables categóricas y tomamos una muestra aleatoria de 5000 registros."
   ]
  },
  {
   "cell_type": "code",
   "execution_count": 40,
   "metadata": {
    "cell_id": "8d2ea12c454642b0816805ef8db85c0a",
    "deepnote_cell_type": "code",
    "deepnote_to_be_reexecuted": false,
    "execution_millis": 291,
    "execution_start": 1685409082457,
    "source_hash": "f4a40a1c"
   },
   "outputs": [
    {
     "data": {
      "application/vnd.deepnote.dataframe.v3+json": {
       "column_count": 67,
       "columns": [
        {
         "dtype": "float64",
         "name": "Reporting Area",
         "stats": {
          "histogram": [
           {
            "bin_end": 221.3,
            "bin_start": 101,
            "count": 802
           },
           {
            "bin_end": 341.6,
            "bin_start": 221.3,
            "count": 373
           },
           {
            "bin_end": 461.9,
            "bin_start": 341.6,
            "count": 554
           },
           {
            "bin_end": 582.2,
            "bin_start": 461.9,
            "count": 683
           },
           {
            "bin_end": 702.5,
            "bin_start": 582.2,
            "count": 620
           },
           {
            "bin_end": 822.8,
            "bin_start": 702.5,
            "count": 445
           },
           {
            "bin_end": 943.1,
            "bin_start": 822.8,
            "count": 316
           },
           {
            "bin_end": 1063.4,
            "bin_start": 943.1,
            "count": 460
           },
           {
            "bin_end": 1183.7,
            "bin_start": 1063.4,
            "count": 513
           },
           {
            "bin_end": 1304,
            "bin_start": 1183.7,
            "count": 234
           }
          ],
          "max": "1304.0",
          "min": "101.0",
          "nan_count": 0,
          "unique_count": 114
         }
        },
        {
         "dtype": "uint8",
         "name": "Crime_Accident",
         "stats": {
          "histogram": [
           {
            "bin_end": 0.1,
            "bin_start": 0,
            "count": 4951
           },
           {
            "bin_end": 0.2,
            "bin_start": 0.1,
            "count": 0
           },
           {
            "bin_end": 0.30000000000000004,
            "bin_start": 0.2,
            "count": 0
           },
           {
            "bin_end": 0.4,
            "bin_start": 0.30000000000000004,
            "count": 0
           },
           {
            "bin_end": 0.5,
            "bin_start": 0.4,
            "count": 0
           },
           {
            "bin_end": 0.6000000000000001,
            "bin_start": 0.5,
            "count": 0
           },
           {
            "bin_end": 0.7000000000000001,
            "bin_start": 0.6000000000000001,
            "count": 0
           },
           {
            "bin_end": 0.8,
            "bin_start": 0.7000000000000001,
            "count": 0
           },
           {
            "bin_end": 0.9,
            "bin_start": 0.8,
            "count": 0
           },
           {
            "bin_end": 1,
            "bin_start": 0.9,
            "count": 49
           }
          ],
          "max": "1",
          "min": "0",
          "nan_count": 0,
          "unique_count": 2
         }
        },
        {
         "dtype": "uint8",
         "name": "Crime_Admin Error",
         "stats": {
          "histogram": [
           {
            "bin_end": 0.1,
            "bin_start": 0,
            "count": 4942
           },
           {
            "bin_end": 0.2,
            "bin_start": 0.1,
            "count": 0
           },
           {
            "bin_end": 0.30000000000000004,
            "bin_start": 0.2,
            "count": 0
           },
           {
            "bin_end": 0.4,
            "bin_start": 0.30000000000000004,
            "count": 0
           },
           {
            "bin_end": 0.5,
            "bin_start": 0.4,
            "count": 0
           },
           {
            "bin_end": 0.6000000000000001,
            "bin_start": 0.5,
            "count": 0
           },
           {
            "bin_end": 0.7000000000000001,
            "bin_start": 0.6000000000000001,
            "count": 0
           },
           {
            "bin_end": 0.8,
            "bin_start": 0.7000000000000001,
            "count": 0
           },
           {
            "bin_end": 0.9,
            "bin_start": 0.8,
            "count": 0
           },
           {
            "bin_end": 1,
            "bin_start": 0.9,
            "count": 58
           }
          ],
          "max": "1",
          "min": "0",
          "nan_count": 0,
          "unique_count": 2
         }
        },
        {
         "dtype": "uint8",
         "name": "Crime_Aggravated Assault",
         "stats": {
          "histogram": [
           {
            "bin_end": 0.1,
            "bin_start": 0,
            "count": 4846
           },
           {
            "bin_end": 0.2,
            "bin_start": 0.1,
            "count": 0
           },
           {
            "bin_end": 0.30000000000000004,
            "bin_start": 0.2,
            "count": 0
           },
           {
            "bin_end": 0.4,
            "bin_start": 0.30000000000000004,
            "count": 0
           },
           {
            "bin_end": 0.5,
            "bin_start": 0.4,
            "count": 0
           },
           {
            "bin_end": 0.6000000000000001,
            "bin_start": 0.5,
            "count": 0
           },
           {
            "bin_end": 0.7000000000000001,
            "bin_start": 0.6000000000000001,
            "count": 0
           },
           {
            "bin_end": 0.8,
            "bin_start": 0.7000000000000001,
            "count": 0
           },
           {
            "bin_end": 0.9,
            "bin_start": 0.8,
            "count": 0
           },
           {
            "bin_end": 1,
            "bin_start": 0.9,
            "count": 154
           }
          ],
          "max": "1",
          "min": "0",
          "nan_count": 0,
          "unique_count": 2
         }
        },
        {
         "dtype": "uint8",
         "name": "Crime_Annoying & Accosting",
         "stats": {
          "histogram": [
           {
            "bin_end": 0.1,
            "bin_start": 0,
            "count": 4993
           },
           {
            "bin_end": 0.2,
            "bin_start": 0.1,
            "count": 0
           },
           {
            "bin_end": 0.30000000000000004,
            "bin_start": 0.2,
            "count": 0
           },
           {
            "bin_end": 0.4,
            "bin_start": 0.30000000000000004,
            "count": 0
           },
           {
            "bin_end": 0.5,
            "bin_start": 0.4,
            "count": 0
           },
           {
            "bin_end": 0.6000000000000001,
            "bin_start": 0.5,
            "count": 0
           },
           {
            "bin_end": 0.7000000000000001,
            "bin_start": 0.6000000000000001,
            "count": 0
           },
           {
            "bin_end": 0.8,
            "bin_start": 0.7000000000000001,
            "count": 0
           },
           {
            "bin_end": 0.9,
            "bin_start": 0.8,
            "count": 0
           },
           {
            "bin_end": 1,
            "bin_start": 0.9,
            "count": 7
           }
          ],
          "max": "1",
          "min": "0",
          "nan_count": 0,
          "unique_count": 2
         }
        },
        {
         "dtype": "uint8",
         "name": "Crime_Arson",
         "stats": {
          "histogram": [
           {
            "bin_end": 0.1,
            "bin_start": 0,
            "count": 4992
           },
           {
            "bin_end": 0.2,
            "bin_start": 0.1,
            "count": 0
           },
           {
            "bin_end": 0.30000000000000004,
            "bin_start": 0.2,
            "count": 0
           },
           {
            "bin_end": 0.4,
            "bin_start": 0.30000000000000004,
            "count": 0
           },
           {
            "bin_end": 0.5,
            "bin_start": 0.4,
            "count": 0
           },
           {
            "bin_end": 0.6000000000000001,
            "bin_start": 0.5,
            "count": 0
           },
           {
            "bin_end": 0.7000000000000001,
            "bin_start": 0.6000000000000001,
            "count": 0
           },
           {
            "bin_end": 0.8,
            "bin_start": 0.7000000000000001,
            "count": 0
           },
           {
            "bin_end": 0.9,
            "bin_start": 0.8,
            "count": 0
           },
           {
            "bin_end": 1,
            "bin_start": 0.9,
            "count": 8
           }
          ],
          "max": "1",
          "min": "0",
          "nan_count": 0,
          "unique_count": 2
         }
        },
        {
         "dtype": "uint8",
         "name": "Crime_Auto Theft",
         "stats": {
          "histogram": [
           {
            "bin_end": 0.1,
            "bin_start": 0,
            "count": 4921
           },
           {
            "bin_end": 0.2,
            "bin_start": 0.1,
            "count": 0
           },
           {
            "bin_end": 0.30000000000000004,
            "bin_start": 0.2,
            "count": 0
           },
           {
            "bin_end": 0.4,
            "bin_start": 0.30000000000000004,
            "count": 0
           },
           {
            "bin_end": 0.5,
            "bin_start": 0.4,
            "count": 0
           },
           {
            "bin_end": 0.6000000000000001,
            "bin_start": 0.5,
            "count": 0
           },
           {
            "bin_end": 0.7000000000000001,
            "bin_start": 0.6000000000000001,
            "count": 0
           },
           {
            "bin_end": 0.8,
            "bin_start": 0.7000000000000001,
            "count": 0
           },
           {
            "bin_end": 0.9,
            "bin_start": 0.8,
            "count": 0
           },
           {
            "bin_end": 1,
            "bin_start": 0.9,
            "count": 79
           }
          ],
          "max": "1",
          "min": "0",
          "nan_count": 0,
          "unique_count": 2
         }
        },
        {
         "dtype": "uint8",
         "name": "Crime_Commercial Break",
         "stats": {
          "histogram": [
           {
            "bin_end": 0.1,
            "bin_start": 0,
            "count": 4964
           },
           {
            "bin_end": 0.2,
            "bin_start": 0.1,
            "count": 0
           },
           {
            "bin_end": 0.30000000000000004,
            "bin_start": 0.2,
            "count": 0
           },
           {
            "bin_end": 0.4,
            "bin_start": 0.30000000000000004,
            "count": 0
           },
           {
            "bin_end": 0.5,
            "bin_start": 0.4,
            "count": 0
           },
           {
            "bin_end": 0.6000000000000001,
            "bin_start": 0.5,
            "count": 0
           },
           {
            "bin_end": 0.7000000000000001,
            "bin_start": 0.6000000000000001,
            "count": 0
           },
           {
            "bin_end": 0.8,
            "bin_start": 0.7000000000000001,
            "count": 0
           },
           {
            "bin_end": 0.9,
            "bin_start": 0.8,
            "count": 0
           },
           {
            "bin_end": 1,
            "bin_start": 0.9,
            "count": 36
           }
          ],
          "max": "1",
          "min": "0",
          "nan_count": 0,
          "unique_count": 2
         }
        },
        {
         "dtype": "uint8",
         "name": "Crime_Commercial Robbery",
         "stats": {
          "histogram": [
           {
            "bin_end": 0.1,
            "bin_start": 0,
            "count": 4982
           },
           {
            "bin_end": 0.2,
            "bin_start": 0.1,
            "count": 0
           },
           {
            "bin_end": 0.30000000000000004,
            "bin_start": 0.2,
            "count": 0
           },
           {
            "bin_end": 0.4,
            "bin_start": 0.30000000000000004,
            "count": 0
           },
           {
            "bin_end": 0.5,
            "bin_start": 0.4,
            "count": 0
           },
           {
            "bin_end": 0.6000000000000001,
            "bin_start": 0.5,
            "count": 0
           },
           {
            "bin_end": 0.7000000000000001,
            "bin_start": 0.6000000000000001,
            "count": 0
           },
           {
            "bin_end": 0.8,
            "bin_start": 0.7000000000000001,
            "count": 0
           },
           {
            "bin_end": 0.9,
            "bin_start": 0.8,
            "count": 0
           },
           {
            "bin_end": 1,
            "bin_start": 0.9,
            "count": 18
           }
          ],
          "max": "1",
          "min": "0",
          "nan_count": 0,
          "unique_count": 2
         }
        },
        {
         "dtype": "uint8",
         "name": "Crime_Counterfeiting",
         "stats": {
          "histogram": [
           {
            "bin_end": 0.1,
            "bin_start": 0,
            "count": 4982
           },
           {
            "bin_end": 0.2,
            "bin_start": 0.1,
            "count": 0
           },
           {
            "bin_end": 0.30000000000000004,
            "bin_start": 0.2,
            "count": 0
           },
           {
            "bin_end": 0.4,
            "bin_start": 0.30000000000000004,
            "count": 0
           },
           {
            "bin_end": 0.5,
            "bin_start": 0.4,
            "count": 0
           },
           {
            "bin_end": 0.6000000000000001,
            "bin_start": 0.5,
            "count": 0
           },
           {
            "bin_end": 0.7000000000000001,
            "bin_start": 0.6000000000000001,
            "count": 0
           },
           {
            "bin_end": 0.8,
            "bin_start": 0.7000000000000001,
            "count": 0
           },
           {
            "bin_end": 0.9,
            "bin_start": 0.8,
            "count": 0
           },
           {
            "bin_end": 1,
            "bin_start": 0.9,
            "count": 18
           }
          ],
          "max": "1",
          "min": "0",
          "nan_count": 0,
          "unique_count": 2
         }
        },
        {
         "dtype": "uint8",
         "name": "Crime_Disorderly",
         "stats": {
          "histogram": [
           {
            "bin_end": 0.1,
            "bin_start": 0,
            "count": 4974
           },
           {
            "bin_end": 0.2,
            "bin_start": 0.1,
            "count": 0
           },
           {
            "bin_end": 0.30000000000000004,
            "bin_start": 0.2,
            "count": 0
           },
           {
            "bin_end": 0.4,
            "bin_start": 0.30000000000000004,
            "count": 0
           },
           {
            "bin_end": 0.5,
            "bin_start": 0.4,
            "count": 0
           },
           {
            "bin_end": 0.6000000000000001,
            "bin_start": 0.5,
            "count": 0
           },
           {
            "bin_end": 0.7000000000000001,
            "bin_start": 0.6000000000000001,
            "count": 0
           },
           {
            "bin_end": 0.8,
            "bin_start": 0.7000000000000001,
            "count": 0
           },
           {
            "bin_end": 0.9,
            "bin_start": 0.8,
            "count": 0
           },
           {
            "bin_end": 1,
            "bin_start": 0.9,
            "count": 26
           }
          ],
          "max": "1",
          "min": "0",
          "nan_count": 0,
          "unique_count": 2
         }
        },
        {
         "dtype": "uint8",
         "name": "Crime_Domestic Dispute",
         "stats": {
          "histogram": [
           {
            "bin_end": 0.1,
            "bin_start": 0,
            "count": 4628
           },
           {
            "bin_end": 0.2,
            "bin_start": 0.1,
            "count": 0
           },
           {
            "bin_end": 0.30000000000000004,
            "bin_start": 0.2,
            "count": 0
           },
           {
            "bin_end": 0.4,
            "bin_start": 0.30000000000000004,
            "count": 0
           },
           {
            "bin_end": 0.5,
            "bin_start": 0.4,
            "count": 0
           },
           {
            "bin_end": 0.6000000000000001,
            "bin_start": 0.5,
            "count": 0
           },
           {
            "bin_end": 0.7000000000000001,
            "bin_start": 0.6000000000000001,
            "count": 0
           },
           {
            "bin_end": 0.8,
            "bin_start": 0.7000000000000001,
            "count": 0
           },
           {
            "bin_end": 0.9,
            "bin_start": 0.8,
            "count": 0
           },
           {
            "bin_end": 1,
            "bin_start": 0.9,
            "count": 372
           }
          ],
          "max": "1",
          "min": "0",
          "nan_count": 0,
          "unique_count": 2
         }
        },
        {
         "dtype": "uint8",
         "name": "Crime_Drinking in Public",
         "stats": {
          "histogram": [
           {
            "bin_end": 0.1,
            "bin_start": 0,
            "count": 4988
           },
           {
            "bin_end": 0.2,
            "bin_start": 0.1,
            "count": 0
           },
           {
            "bin_end": 0.30000000000000004,
            "bin_start": 0.2,
            "count": 0
           },
           {
            "bin_end": 0.4,
            "bin_start": 0.30000000000000004,
            "count": 0
           },
           {
            "bin_end": 0.5,
            "bin_start": 0.4,
            "count": 0
           },
           {
            "bin_end": 0.6000000000000001,
            "bin_start": 0.5,
            "count": 0
           },
           {
            "bin_end": 0.7000000000000001,
            "bin_start": 0.6000000000000001,
            "count": 0
           },
           {
            "bin_end": 0.8,
            "bin_start": 0.7000000000000001,
            "count": 0
           },
           {
            "bin_end": 0.9,
            "bin_start": 0.8,
            "count": 0
           },
           {
            "bin_end": 1,
            "bin_start": 0.9,
            "count": 12
           }
          ],
          "max": "1",
          "min": "0",
          "nan_count": 0,
          "unique_count": 2
         }
        },
        {
         "dtype": "uint8",
         "name": "Crime_Drugs",
         "stats": {
          "histogram": [
           {
            "bin_end": 0.1,
            "bin_start": 0,
            "count": 4939
           },
           {
            "bin_end": 0.2,
            "bin_start": 0.1,
            "count": 0
           },
           {
            "bin_end": 0.30000000000000004,
            "bin_start": 0.2,
            "count": 0
           },
           {
            "bin_end": 0.4,
            "bin_start": 0.30000000000000004,
            "count": 0
           },
           {
            "bin_end": 0.5,
            "bin_start": 0.4,
            "count": 0
           },
           {
            "bin_end": 0.6000000000000001,
            "bin_start": 0.5,
            "count": 0
           },
           {
            "bin_end": 0.7000000000000001,
            "bin_start": 0.6000000000000001,
            "count": 0
           },
           {
            "bin_end": 0.8,
            "bin_start": 0.7000000000000001,
            "count": 0
           },
           {
            "bin_end": 0.9,
            "bin_start": 0.8,
            "count": 0
           },
           {
            "bin_end": 1,
            "bin_start": 0.9,
            "count": 61
           }
          ],
          "max": "1",
          "min": "0",
          "nan_count": 0,
          "unique_count": 2
         }
        },
        {
         "dtype": "uint8",
         "name": "Crime_Embezzlement",
         "stats": {
          "histogram": [
           {
            "bin_end": 0.1,
            "bin_start": 0,
            "count": 4996
           },
           {
            "bin_end": 0.2,
            "bin_start": 0.1,
            "count": 0
           },
           {
            "bin_end": 0.30000000000000004,
            "bin_start": 0.2,
            "count": 0
           },
           {
            "bin_end": 0.4,
            "bin_start": 0.30000000000000004,
            "count": 0
           },
           {
            "bin_end": 0.5,
            "bin_start": 0.4,
            "count": 0
           },
           {
            "bin_end": 0.6000000000000001,
            "bin_start": 0.5,
            "count": 0
           },
           {
            "bin_end": 0.7000000000000001,
            "bin_start": 0.6000000000000001,
            "count": 0
           },
           {
            "bin_end": 0.8,
            "bin_start": 0.7000000000000001,
            "count": 0
           },
           {
            "bin_end": 0.9,
            "bin_start": 0.8,
            "count": 0
           },
           {
            "bin_end": 1,
            "bin_start": 0.9,
            "count": 4
           }
          ],
          "max": "1",
          "min": "0",
          "nan_count": 0,
          "unique_count": 2
         }
        },
        {
         "dtype": "uint8",
         "name": "Crime_Extortion/Blackmail",
         "stats": {
          "histogram": [
           {
            "bin_end": 0.1,
            "bin_start": 0,
            "count": 4995
           },
           {
            "bin_end": 0.2,
            "bin_start": 0.1,
            "count": 0
           },
           {
            "bin_end": 0.30000000000000004,
            "bin_start": 0.2,
            "count": 0
           },
           {
            "bin_end": 0.4,
            "bin_start": 0.30000000000000004,
            "count": 0
           },
           {
            "bin_end": 0.5,
            "bin_start": 0.4,
            "count": 0
           },
           {
            "bin_end": 0.6000000000000001,
            "bin_start": 0.5,
            "count": 0
           },
           {
            "bin_end": 0.7000000000000001,
            "bin_start": 0.6000000000000001,
            "count": 0
           },
           {
            "bin_end": 0.8,
            "bin_start": 0.7000000000000001,
            "count": 0
           },
           {
            "bin_end": 0.9,
            "bin_start": 0.8,
            "count": 0
           },
           {
            "bin_end": 1,
            "bin_start": 0.9,
            "count": 5
           }
          ],
          "max": "1",
          "min": "0",
          "nan_count": 0,
          "unique_count": 2
         }
        },
        {
         "dtype": "uint8",
         "name": "Crime_Flim Flam",
         "stats": {
          "histogram": [
           {
            "bin_end": 0.1,
            "bin_start": 0,
            "count": 4920
           },
           {
            "bin_end": 0.2,
            "bin_start": 0.1,
            "count": 0
           },
           {
            "bin_end": 0.30000000000000004,
            "bin_start": 0.2,
            "count": 0
           },
           {
            "bin_end": 0.4,
            "bin_start": 0.30000000000000004,
            "count": 0
           },
           {
            "bin_end": 0.5,
            "bin_start": 0.4,
            "count": 0
           },
           {
            "bin_end": 0.6000000000000001,
            "bin_start": 0.5,
            "count": 0
           },
           {
            "bin_end": 0.7000000000000001,
            "bin_start": 0.6000000000000001,
            "count": 0
           },
           {
            "bin_end": 0.8,
            "bin_start": 0.7000000000000001,
            "count": 0
           },
           {
            "bin_end": 0.9,
            "bin_start": 0.8,
            "count": 0
           },
           {
            "bin_end": 1,
            "bin_start": 0.9,
            "count": 80
           }
          ],
          "max": "1",
          "min": "0",
          "nan_count": 0,
          "unique_count": 2
         }
        },
        {
         "dtype": "uint8",
         "name": "Crime_Forgery",
         "stats": {
          "histogram": [
           {
            "bin_end": 0.1,
            "bin_start": 0,
            "count": 4778
           },
           {
            "bin_end": 0.2,
            "bin_start": 0.1,
            "count": 0
           },
           {
            "bin_end": 0.30000000000000004,
            "bin_start": 0.2,
            "count": 0
           },
           {
            "bin_end": 0.4,
            "bin_start": 0.30000000000000004,
            "count": 0
           },
           {
            "bin_end": 0.5,
            "bin_start": 0.4,
            "count": 0
           },
           {
            "bin_end": 0.6000000000000001,
            "bin_start": 0.5,
            "count": 0
           },
           {
            "bin_end": 0.7000000000000001,
            "bin_start": 0.6000000000000001,
            "count": 0
           },
           {
            "bin_end": 0.8,
            "bin_start": 0.7000000000000001,
            "count": 0
           },
           {
            "bin_end": 0.9,
            "bin_start": 0.8,
            "count": 0
           },
           {
            "bin_end": 1,
            "bin_start": 0.9,
            "count": 222
           }
          ],
          "max": "1",
          "min": "0",
          "nan_count": 0,
          "unique_count": 2
         }
        },
        {
         "dtype": "uint8",
         "name": "Crime_Harassment",
         "stats": {
          "histogram": [
           {
            "bin_end": 0.1,
            "bin_start": 0,
            "count": 4916
           },
           {
            "bin_end": 0.2,
            "bin_start": 0.1,
            "count": 0
           },
           {
            "bin_end": 0.30000000000000004,
            "bin_start": 0.2,
            "count": 0
           },
           {
            "bin_end": 0.4,
            "bin_start": 0.30000000000000004,
            "count": 0
           },
           {
            "bin_end": 0.5,
            "bin_start": 0.4,
            "count": 0
           },
           {
            "bin_end": 0.6000000000000001,
            "bin_start": 0.5,
            "count": 0
           },
           {
            "bin_end": 0.7000000000000001,
            "bin_start": 0.6000000000000001,
            "count": 0
           },
           {
            "bin_end": 0.8,
            "bin_start": 0.7000000000000001,
            "count": 0
           },
           {
            "bin_end": 0.9,
            "bin_start": 0.8,
            "count": 0
           },
           {
            "bin_end": 1,
            "bin_start": 0.9,
            "count": 84
           }
          ],
          "max": "1",
          "min": "0",
          "nan_count": 0,
          "unique_count": 2
         }
        },
        {
         "dtype": "uint8",
         "name": "Crime_Hit and Run",
         "stats": {
          "histogram": [
           {
            "bin_end": 0.1,
            "bin_start": 0,
            "count": 4559
           },
           {
            "bin_end": 0.2,
            "bin_start": 0.1,
            "count": 0
           },
           {
            "bin_end": 0.30000000000000004,
            "bin_start": 0.2,
            "count": 0
           },
           {
            "bin_end": 0.4,
            "bin_start": 0.30000000000000004,
            "count": 0
           },
           {
            "bin_end": 0.5,
            "bin_start": 0.4,
            "count": 0
           },
           {
            "bin_end": 0.6000000000000001,
            "bin_start": 0.5,
            "count": 0
           },
           {
            "bin_end": 0.7000000000000001,
            "bin_start": 0.6000000000000001,
            "count": 0
           },
           {
            "bin_end": 0.8,
            "bin_start": 0.7000000000000001,
            "count": 0
           },
           {
            "bin_end": 0.9,
            "bin_start": 0.8,
            "count": 0
           },
           {
            "bin_end": 1,
            "bin_start": 0.9,
            "count": 441
           }
          ],
          "max": "1",
          "min": "0",
          "nan_count": 0,
          "unique_count": 2
         }
        },
        {
         "dtype": "uint8",
         "name": "Crime_Homicide"
        },
        {
         "dtype": "uint8",
         "name": "Crime_Housebreak"
        },
        {
         "dtype": "uint8",
         "name": "Crime_Indecent Exposure"
        },
        {
         "dtype": "uint8",
         "name": "Crime_Kidnapping"
        },
        {
         "dtype": "uint8",
         "name": "Crime_Larceny (Misc)"
        },
        {
         "dtype": "uint8",
         "name": "Crime_Larceny from Building"
        },
        {
         "dtype": "uint8",
         "name": "Crime_Larceny from MV"
        },
        {
         "dtype": "uint8",
         "name": "Crime_Larceny from Person"
        },
        {
         "dtype": "uint8",
         "name": "Crime_Larceny from Residence"
        },
        {
         "dtype": "uint8",
         "name": "Crime_Larceny of Bicycle"
        },
        {
         "dtype": "uint8",
         "name": "Crime_Larceny of Plate"
        },
        {
         "dtype": "uint8",
         "name": "Crime_Larceny of Services"
        },
        {
         "dtype": "uint8",
         "name": "Crime_Liquor Possession/Sale"
        },
        {
         "dtype": "uint8",
         "name": "Crime_Mal. Dest. Property"
        },
        {
         "dtype": "uint8",
         "name": "Crime_Missing Person"
        },
        {
         "dtype": "uint8",
         "name": "Crime_Noise Complaint"
        },
        {
         "dtype": "uint8",
         "name": "Crime_OUI"
        },
        {
         "dtype": "uint8",
         "name": "Crime_Peeping & Spying"
        },
        {
         "dtype": "uint8",
         "name": "Crime_Phone Calls"
        },
        {
         "dtype": "uint8",
         "name": "Crime_Prostitution"
        },
        {
         "dtype": "uint8",
         "name": "Crime_Rec. Stol. Property"
        },
        {
         "dtype": "uint8",
         "name": "Crime_Sex Offender Violation"
        },
        {
         "dtype": "uint8",
         "name": "Crime_Shoplifting"
        },
        {
         "dtype": "uint8",
         "name": "Crime_Simple Assault"
        },
        {
         "dtype": "uint8",
         "name": "Crime_Stalking"
        },
        {
         "dtype": "uint8",
         "name": "Crime_Street Robbery"
        },
        {
         "dtype": "uint8",
         "name": "Crime_Suspicious Package"
        },
        {
         "dtype": "uint8",
         "name": "Crime_Taxi Violation"
        },
        {
         "dtype": "uint8",
         "name": "Crime_Threats"
        },
        {
         "dtype": "uint8",
         "name": "Crime_Trespassing"
        },
        {
         "dtype": "uint8",
         "name": "Crime_Violation of H.O."
        },
        {
         "dtype": "uint8",
         "name": "Crime_Violation of R.O."
        },
        {
         "dtype": "uint8",
         "name": "Crime_Warrant Arrest"
        },
        {
         "dtype": "uint8",
         "name": "Crime_Weapon Violations"
        },
        {
         "dtype": "uint8",
         "name": "Neighborhood_Agassiz"
        },
        {
         "dtype": "uint8",
         "name": "Neighborhood_Area 4"
        },
        {
         "dtype": "uint8",
         "name": "Neighborhood_Cambridgeport"
        },
        {
         "dtype": "uint8",
         "name": "Neighborhood_East Cambridge"
        },
        {
         "dtype": "uint8",
         "name": "Neighborhood_Highlands"
        },
        {
         "dtype": "uint8",
         "name": "Neighborhood_Inman/Harrington"
        },
        {
         "dtype": "uint8",
         "name": "Neighborhood_MIT"
        },
        {
         "dtype": "uint8",
         "name": "Neighborhood_Mid-Cambridge"
        },
        {
         "dtype": "uint8",
         "name": "Neighborhood_North Cambridge"
        },
        {
         "dtype": "uint8",
         "name": "Neighborhood_Peabody"
        },
        {
         "dtype": "uint8",
         "name": "Neighborhood_Riverside"
        },
        {
         "dtype": "uint8",
         "name": "Neighborhood_Strawberry Hill"
        },
        {
         "dtype": "uint8",
         "name": "Neighborhood_West Cambridge"
        },
        {
         "dtype": "int64",
         "name": "_deepnote_index_column"
        }
       ],
       "row_count": 5000,
       "rows": [
        {
         "Crime_Accident": 0,
         "Crime_Admin Error": 0,
         "Crime_Aggravated Assault": 0,
         "Crime_Annoying & Accosting": 0,
         "Crime_Arson": 0,
         "Crime_Auto Theft": 0,
         "Crime_Commercial Break": 0,
         "Crime_Commercial Robbery": 0,
         "Crime_Counterfeiting": 0,
         "Crime_Disorderly": 0,
         "Crime_Domestic Dispute": 0,
         "Crime_Drinking in Public": 0,
         "Crime_Drugs": 0,
         "Crime_Embezzlement": 0,
         "Crime_Extortion/Blackmail": 0,
         "Crime_Flim Flam": 0,
         "Crime_Forgery": 0,
         "Crime_Harassment": 0,
         "Crime_Hit and Run": 0,
         "Crime_Homicide": 0,
         "Crime_Housebreak": 0,
         "Crime_Indecent Exposure": 0,
         "Crime_Kidnapping": 0,
         "Crime_Larceny (Misc)": 0,
         "Crime_Larceny from Building": 0,
         "Crime_Larceny from MV": 0,
         "Crime_Larceny from Person": 0,
         "Crime_Larceny from Residence": 0,
         "Crime_Larceny of Bicycle": 0,
         "Crime_Larceny of Plate": 0,
         "Crime_Larceny of Services": 0,
         "Crime_Liquor Possession/Sale": 0,
         "Crime_Mal. Dest. Property": 0,
         "Crime_Missing Person": 0,
         "Crime_Noise Complaint": 0,
         "Crime_OUI": 0,
         "Crime_Peeping & Spying": 0,
         "Crime_Phone Calls": 0,
         "Crime_Prostitution": 0,
         "Crime_Rec. Stol. Property": 0,
         "Crime_Sex Offender Violation": 0,
         "Crime_Shoplifting": 0,
         "Crime_Simple Assault": 0,
         "Crime_Stalking": 0,
         "Crime_Street Robbery": 0,
         "Crime_Suspicious Package": 0,
         "Crime_Taxi Violation": 0,
         "Crime_Threats": 1,
         "Crime_Trespassing": 0,
         "Crime_Violation of H.O.": 0,
         "Crime_Violation of R.O.": 0,
         "Crime_Warrant Arrest": 0,
         "Crime_Weapon Violations": 0,
         "Neighborhood_Agassiz": 0,
         "Neighborhood_Area 4": 0,
         "Neighborhood_Cambridgeport": 0,
         "Neighborhood_East Cambridge": 0,
         "Neighborhood_Highlands": 0,
         "Neighborhood_Inman/Harrington": 1,
         "Neighborhood_MIT": 0,
         "Neighborhood_Mid-Cambridge": 0,
         "Neighborhood_North Cambridge": 0,
         "Neighborhood_Peabody": 0,
         "Neighborhood_Riverside": 0,
         "Neighborhood_Strawberry Hill": 0,
         "Neighborhood_West Cambridge": 0,
         "Reporting Area": 305,
         "_deepnote_index_column": 26127
        },
        {
         "Crime_Accident": 0,
         "Crime_Admin Error": 0,
         "Crime_Aggravated Assault": 0,
         "Crime_Annoying & Accosting": 0,
         "Crime_Arson": 0,
         "Crime_Auto Theft": 0,
         "Crime_Commercial Break": 0,
         "Crime_Commercial Robbery": 0,
         "Crime_Counterfeiting": 0,
         "Crime_Disorderly": 0,
         "Crime_Domestic Dispute": 0,
         "Crime_Drinking in Public": 0,
         "Crime_Drugs": 0,
         "Crime_Embezzlement": 0,
         "Crime_Extortion/Blackmail": 0,
         "Crime_Flim Flam": 0,
         "Crime_Forgery": 0,
         "Crime_Harassment": 0,
         "Crime_Hit and Run": 0,
         "Crime_Homicide": 0,
         "Crime_Housebreak": 0,
         "Crime_Indecent Exposure": 0,
         "Crime_Kidnapping": 0,
         "Crime_Larceny (Misc)": 0,
         "Crime_Larceny from Building": 0,
         "Crime_Larceny from MV": 1,
         "Crime_Larceny from Person": 0,
         "Crime_Larceny from Residence": 0,
         "Crime_Larceny of Bicycle": 0,
         "Crime_Larceny of Plate": 0,
         "Crime_Larceny of Services": 0,
         "Crime_Liquor Possession/Sale": 0,
         "Crime_Mal. Dest. Property": 0,
         "Crime_Missing Person": 0,
         "Crime_Noise Complaint": 0,
         "Crime_OUI": 0,
         "Crime_Peeping & Spying": 0,
         "Crime_Phone Calls": 0,
         "Crime_Prostitution": 0,
         "Crime_Rec. Stol. Property": 0,
         "Crime_Sex Offender Violation": 0,
         "Crime_Shoplifting": 0,
         "Crime_Simple Assault": 0,
         "Crime_Stalking": 0,
         "Crime_Street Robbery": 0,
         "Crime_Suspicious Package": 0,
         "Crime_Taxi Violation": 0,
         "Crime_Threats": 0,
         "Crime_Trespassing": 0,
         "Crime_Violation of H.O.": 0,
         "Crime_Violation of R.O.": 0,
         "Crime_Warrant Arrest": 0,
         "Crime_Weapon Violations": 0,
         "Neighborhood_Agassiz": 0,
         "Neighborhood_Area 4": 0,
         "Neighborhood_Cambridgeport": 0,
         "Neighborhood_East Cambridge": 0,
         "Neighborhood_Highlands": 0,
         "Neighborhood_Inman/Harrington": 0,
         "Neighborhood_MIT": 0,
         "Neighborhood_Mid-Cambridge": 1,
         "Neighborhood_North Cambridge": 0,
         "Neighborhood_Peabody": 0,
         "Neighborhood_Riverside": 0,
         "Neighborhood_Strawberry Hill": 0,
         "Neighborhood_West Cambridge": 0,
         "Reporting Area": 605,
         "_deepnote_index_column": 512
        },
        {
         "Crime_Accident": 0,
         "Crime_Admin Error": 0,
         "Crime_Aggravated Assault": 0,
         "Crime_Annoying & Accosting": 0,
         "Crime_Arson": 0,
         "Crime_Auto Theft": 0,
         "Crime_Commercial Break": 0,
         "Crime_Commercial Robbery": 0,
         "Crime_Counterfeiting": 0,
         "Crime_Disorderly": 0,
         "Crime_Domestic Dispute": 0,
         "Crime_Drinking in Public": 0,
         "Crime_Drugs": 0,
         "Crime_Embezzlement": 0,
         "Crime_Extortion/Blackmail": 0,
         "Crime_Flim Flam": 1,
         "Crime_Forgery": 0,
         "Crime_Harassment": 0,
         "Crime_Hit and Run": 0,
         "Crime_Homicide": 0,
         "Crime_Housebreak": 0,
         "Crime_Indecent Exposure": 0,
         "Crime_Kidnapping": 0,
         "Crime_Larceny (Misc)": 0,
         "Crime_Larceny from Building": 0,
         "Crime_Larceny from MV": 0,
         "Crime_Larceny from Person": 0,
         "Crime_Larceny from Residence": 0,
         "Crime_Larceny of Bicycle": 0,
         "Crime_Larceny of Plate": 0,
         "Crime_Larceny of Services": 0,
         "Crime_Liquor Possession/Sale": 0,
         "Crime_Mal. Dest. Property": 0,
         "Crime_Missing Person": 0,
         "Crime_Noise Complaint": 0,
         "Crime_OUI": 0,
         "Crime_Peeping & Spying": 0,
         "Crime_Phone Calls": 0,
         "Crime_Prostitution": 0,
         "Crime_Rec. Stol. Property": 0,
         "Crime_Sex Offender Violation": 0,
         "Crime_Shoplifting": 0,
         "Crime_Simple Assault": 0,
         "Crime_Stalking": 0,
         "Crime_Street Robbery": 0,
         "Crime_Suspicious Package": 0,
         "Crime_Taxi Violation": 0,
         "Crime_Threats": 0,
         "Crime_Trespassing": 0,
         "Crime_Violation of H.O.": 0,
         "Crime_Violation of R.O.": 0,
         "Crime_Warrant Arrest": 0,
         "Crime_Weapon Violations": 0,
         "Neighborhood_Agassiz": 0,
         "Neighborhood_Area 4": 0,
         "Neighborhood_Cambridgeport": 0,
         "Neighborhood_East Cambridge": 0,
         "Neighborhood_Highlands": 0,
         "Neighborhood_Inman/Harrington": 1,
         "Neighborhood_MIT": 0,
         "Neighborhood_Mid-Cambridge": 0,
         "Neighborhood_North Cambridge": 0,
         "Neighborhood_Peabody": 0,
         "Neighborhood_Riverside": 0,
         "Neighborhood_Strawberry Hill": 0,
         "Neighborhood_West Cambridge": 0,
         "Reporting Area": 302,
         "_deepnote_index_column": 36938
        },
        {
         "Crime_Accident": 0,
         "Crime_Admin Error": 0,
         "Crime_Aggravated Assault": 0,
         "Crime_Annoying & Accosting": 0,
         "Crime_Arson": 0,
         "Crime_Auto Theft": 0,
         "Crime_Commercial Break": 0,
         "Crime_Commercial Robbery": 0,
         "Crime_Counterfeiting": 0,
         "Crime_Disorderly": 0,
         "Crime_Domestic Dispute": 0,
         "Crime_Drinking in Public": 0,
         "Crime_Drugs": 0,
         "Crime_Embezzlement": 0,
         "Crime_Extortion/Blackmail": 0,
         "Crime_Flim Flam": 0,
         "Crime_Forgery": 0,
         "Crime_Harassment": 0,
         "Crime_Hit and Run": 0,
         "Crime_Homicide": 0,
         "Crime_Housebreak": 0,
         "Crime_Indecent Exposure": 0,
         "Crime_Kidnapping": 0,
         "Crime_Larceny (Misc)": 0,
         "Crime_Larceny from Building": 0,
         "Crime_Larceny from MV": 0,
         "Crime_Larceny from Person": 0,
         "Crime_Larceny from Residence": 0,
         "Crime_Larceny of Bicycle": 0,
         "Crime_Larceny of Plate": 0,
         "Crime_Larceny of Services": 0,
         "Crime_Liquor Possession/Sale": 0,
         "Crime_Mal. Dest. Property": 1,
         "Crime_Missing Person": 0,
         "Crime_Noise Complaint": 0,
         "Crime_OUI": 0,
         "Crime_Peeping & Spying": 0,
         "Crime_Phone Calls": 0,
         "Crime_Prostitution": 0,
         "Crime_Rec. Stol. Property": 0,
         "Crime_Sex Offender Violation": 0,
         "Crime_Shoplifting": 0,
         "Crime_Simple Assault": 0,
         "Crime_Stalking": 0,
         "Crime_Street Robbery": 0,
         "Crime_Suspicious Package": 0,
         "Crime_Taxi Violation": 0,
         "Crime_Threats": 0,
         "Crime_Trespassing": 0,
         "Crime_Violation of H.O.": 0,
         "Crime_Violation of R.O.": 0,
         "Crime_Warrant Arrest": 0,
         "Crime_Weapon Violations": 0,
         "Neighborhood_Agassiz": 0,
         "Neighborhood_Area 4": 0,
         "Neighborhood_Cambridgeport": 0,
         "Neighborhood_East Cambridge": 1,
         "Neighborhood_Highlands": 0,
         "Neighborhood_Inman/Harrington": 0,
         "Neighborhood_MIT": 0,
         "Neighborhood_Mid-Cambridge": 0,
         "Neighborhood_North Cambridge": 0,
         "Neighborhood_Peabody": 0,
         "Neighborhood_Riverside": 0,
         "Neighborhood_Strawberry Hill": 0,
         "Neighborhood_West Cambridge": 0,
         "Reporting Area": 107,
         "_deepnote_index_column": 11236
        },
        {
         "Crime_Accident": 0,
         "Crime_Admin Error": 0,
         "Crime_Aggravated Assault": 0,
         "Crime_Annoying & Accosting": 0,
         "Crime_Arson": 0,
         "Crime_Auto Theft": 0,
         "Crime_Commercial Break": 0,
         "Crime_Commercial Robbery": 0,
         "Crime_Counterfeiting": 0,
         "Crime_Disorderly": 0,
         "Crime_Domestic Dispute": 0,
         "Crime_Drinking in Public": 0,
         "Crime_Drugs": 0,
         "Crime_Embezzlement": 0,
         "Crime_Extortion/Blackmail": 0,
         "Crime_Flim Flam": 0,
         "Crime_Forgery": 0,
         "Crime_Harassment": 0,
         "Crime_Hit and Run": 0,
         "Crime_Homicide": 0,
         "Crime_Housebreak": 0,
         "Crime_Indecent Exposure": 0,
         "Crime_Kidnapping": 0,
         "Crime_Larceny (Misc)": 0,
         "Crime_Larceny from Building": 0,
         "Crime_Larceny from MV": 0,
         "Crime_Larceny from Person": 0,
         "Crime_Larceny from Residence": 0,
         "Crime_Larceny of Bicycle": 0,
         "Crime_Larceny of Plate": 0,
         "Crime_Larceny of Services": 0,
         "Crime_Liquor Possession/Sale": 0,
         "Crime_Mal. Dest. Property": 0,
         "Crime_Missing Person": 0,
         "Crime_Noise Complaint": 0,
         "Crime_OUI": 1,
         "Crime_Peeping & Spying": 0,
         "Crime_Phone Calls": 0,
         "Crime_Prostitution": 0,
         "Crime_Rec. Stol. Property": 0,
         "Crime_Sex Offender Violation": 0,
         "Crime_Shoplifting": 0,
         "Crime_Simple Assault": 0,
         "Crime_Stalking": 0,
         "Crime_Street Robbery": 0,
         "Crime_Suspicious Package": 0,
         "Crime_Taxi Violation": 0,
         "Crime_Threats": 0,
         "Crime_Trespassing": 0,
         "Crime_Violation of H.O.": 0,
         "Crime_Violation of R.O.": 0,
         "Crime_Warrant Arrest": 0,
         "Crime_Weapon Violations": 0,
         "Neighborhood_Agassiz": 0,
         "Neighborhood_Area 4": 0,
         "Neighborhood_Cambridgeport": 1,
         "Neighborhood_East Cambridge": 0,
         "Neighborhood_Highlands": 0,
         "Neighborhood_Inman/Harrington": 0,
         "Neighborhood_MIT": 0,
         "Neighborhood_Mid-Cambridge": 0,
         "Neighborhood_North Cambridge": 0,
         "Neighborhood_Peabody": 0,
         "Neighborhood_Riverside": 0,
         "Neighborhood_Strawberry Hill": 0,
         "Neighborhood_West Cambridge": 0,
         "Reporting Area": 504,
         "_deepnote_index_column": 16540
        },
        {
         "Crime_Accident": 0,
         "Crime_Admin Error": 0,
         "Crime_Aggravated Assault": 0,
         "Crime_Annoying & Accosting": 0,
         "Crime_Arson": 0,
         "Crime_Auto Theft": 0,
         "Crime_Commercial Break": 0,
         "Crime_Commercial Robbery": 0,
         "Crime_Counterfeiting": 0,
         "Crime_Disorderly": 0,
         "Crime_Domestic Dispute": 0,
         "Crime_Drinking in Public": 0,
         "Crime_Drugs": 0,
         "Crime_Embezzlement": 0,
         "Crime_Extortion/Blackmail": 0,
         "Crime_Flim Flam": 0,
         "Crime_Forgery": 0,
         "Crime_Harassment": 0,
         "Crime_Hit and Run": 0,
         "Crime_Homicide": 0,
         "Crime_Housebreak": 1,
         "Crime_Indecent Exposure": 0,
         "Crime_Kidnapping": 0,
         "Crime_Larceny (Misc)": 0,
         "Crime_Larceny from Building": 0,
         "Crime_Larceny from MV": 0,
         "Crime_Larceny from Person": 0,
         "Crime_Larceny from Residence": 0,
         "Crime_Larceny of Bicycle": 0,
         "Crime_Larceny of Plate": 0,
         "Crime_Larceny of Services": 0,
         "Crime_Liquor Possession/Sale": 0,
         "Crime_Mal. Dest. Property": 0,
         "Crime_Missing Person": 0,
         "Crime_Noise Complaint": 0,
         "Crime_OUI": 0,
         "Crime_Peeping & Spying": 0,
         "Crime_Phone Calls": 0,
         "Crime_Prostitution": 0,
         "Crime_Rec. Stol. Property": 0,
         "Crime_Sex Offender Violation": 0,
         "Crime_Shoplifting": 0,
         "Crime_Simple Assault": 0,
         "Crime_Stalking": 0,
         "Crime_Street Robbery": 0,
         "Crime_Suspicious Package": 0,
         "Crime_Taxi Violation": 0,
         "Crime_Threats": 0,
         "Crime_Trespassing": 0,
         "Crime_Violation of H.O.": 0,
         "Crime_Violation of R.O.": 0,
         "Crime_Warrant Arrest": 0,
         "Crime_Weapon Violations": 0,
         "Neighborhood_Agassiz": 0,
         "Neighborhood_Area 4": 0,
         "Neighborhood_Cambridgeport": 1,
         "Neighborhood_East Cambridge": 0,
         "Neighborhood_Highlands": 0,
         "Neighborhood_Inman/Harrington": 0,
         "Neighborhood_MIT": 0,
         "Neighborhood_Mid-Cambridge": 0,
         "Neighborhood_North Cambridge": 0,
         "Neighborhood_Peabody": 0,
         "Neighborhood_Riverside": 0,
         "Neighborhood_Strawberry Hill": 0,
         "Neighborhood_West Cambridge": 0,
         "Reporting Area": 506,
         "_deepnote_index_column": 36883
        },
        {
         "Crime_Accident": 0,
         "Crime_Admin Error": 0,
         "Crime_Aggravated Assault": 0,
         "Crime_Annoying & Accosting": 0,
         "Crime_Arson": 0,
         "Crime_Auto Theft": 0,
         "Crime_Commercial Break": 0,
         "Crime_Commercial Robbery": 0,
         "Crime_Counterfeiting": 0,
         "Crime_Disorderly": 0,
         "Crime_Domestic Dispute": 0,
         "Crime_Drinking in Public": 0,
         "Crime_Drugs": 0,
         "Crime_Embezzlement": 0,
         "Crime_Extortion/Blackmail": 0,
         "Crime_Flim Flam": 0,
         "Crime_Forgery": 0,
         "Crime_Harassment": 0,
         "Crime_Hit and Run": 0,
         "Crime_Homicide": 0,
         "Crime_Housebreak": 0,
         "Crime_Indecent Exposure": 0,
         "Crime_Kidnapping": 0,
         "Crime_Larceny (Misc)": 0,
         "Crime_Larceny from Building": 0,
         "Crime_Larceny from MV": 0,
         "Crime_Larceny from Person": 0,
         "Crime_Larceny from Residence": 0,
         "Crime_Larceny of Bicycle": 0,
         "Crime_Larceny of Plate": 0,
         "Crime_Larceny of Services": 0,
         "Crime_Liquor Possession/Sale": 0,
         "Crime_Mal. Dest. Property": 0,
         "Crime_Missing Person": 1,
         "Crime_Noise Complaint": 0,
         "Crime_OUI": 0,
         "Crime_Peeping & Spying": 0,
         "Crime_Phone Calls": 0,
         "Crime_Prostitution": 0,
         "Crime_Rec. Stol. Property": 0,
         "Crime_Sex Offender Violation": 0,
         "Crime_Shoplifting": 0,
         "Crime_Simple Assault": 0,
         "Crime_Stalking": 0,
         "Crime_Street Robbery": 0,
         "Crime_Suspicious Package": 0,
         "Crime_Taxi Violation": 0,
         "Crime_Threats": 0,
         "Crime_Trespassing": 0,
         "Crime_Violation of H.O.": 0,
         "Crime_Violation of R.O.": 0,
         "Crime_Warrant Arrest": 0,
         "Crime_Weapon Violations": 0,
         "Neighborhood_Agassiz": 0,
         "Neighborhood_Area 4": 1,
         "Neighborhood_Cambridgeport": 0,
         "Neighborhood_East Cambridge": 0,
         "Neighborhood_Highlands": 0,
         "Neighborhood_Inman/Harrington": 0,
         "Neighborhood_MIT": 0,
         "Neighborhood_Mid-Cambridge": 0,
         "Neighborhood_North Cambridge": 0,
         "Neighborhood_Peabody": 0,
         "Neighborhood_Riverside": 0,
         "Neighborhood_Strawberry Hill": 0,
         "Neighborhood_West Cambridge": 0,
         "Reporting Area": 409,
         "_deepnote_index_column": 40580
        },
        {
         "Crime_Accident": 0,
         "Crime_Admin Error": 0,
         "Crime_Aggravated Assault": 0,
         "Crime_Annoying & Accosting": 0,
         "Crime_Arson": 0,
         "Crime_Auto Theft": 0,
         "Crime_Commercial Break": 0,
         "Crime_Commercial Robbery": 0,
         "Crime_Counterfeiting": 0,
         "Crime_Disorderly": 0,
         "Crime_Domestic Dispute": 1,
         "Crime_Drinking in Public": 0,
         "Crime_Drugs": 0,
         "Crime_Embezzlement": 0,
         "Crime_Extortion/Blackmail": 0,
         "Crime_Flim Flam": 0,
         "Crime_Forgery": 0,
         "Crime_Harassment": 0,
         "Crime_Hit and Run": 0,
         "Crime_Homicide": 0,
         "Crime_Housebreak": 0,
         "Crime_Indecent Exposure": 0,
         "Crime_Kidnapping": 0,
         "Crime_Larceny (Misc)": 0,
         "Crime_Larceny from Building": 0,
         "Crime_Larceny from MV": 0,
         "Crime_Larceny from Person": 0,
         "Crime_Larceny from Residence": 0,
         "Crime_Larceny of Bicycle": 0,
         "Crime_Larceny of Plate": 0,
         "Crime_Larceny of Services": 0,
         "Crime_Liquor Possession/Sale": 0,
         "Crime_Mal. Dest. Property": 0,
         "Crime_Missing Person": 0,
         "Crime_Noise Complaint": 0,
         "Crime_OUI": 0,
         "Crime_Peeping & Spying": 0,
         "Crime_Phone Calls": 0,
         "Crime_Prostitution": 0,
         "Crime_Rec. Stol. Property": 0,
         "Crime_Sex Offender Violation": 0,
         "Crime_Shoplifting": 0,
         "Crime_Simple Assault": 0,
         "Crime_Stalking": 0,
         "Crime_Street Robbery": 0,
         "Crime_Suspicious Package": 0,
         "Crime_Taxi Violation": 0,
         "Crime_Threats": 0,
         "Crime_Trespassing": 0,
         "Crime_Violation of H.O.": 0,
         "Crime_Violation of R.O.": 0,
         "Crime_Warrant Arrest": 0,
         "Crime_Weapon Violations": 0,
         "Neighborhood_Agassiz": 0,
         "Neighborhood_Area 4": 0,
         "Neighborhood_Cambridgeport": 0,
         "Neighborhood_East Cambridge": 0,
         "Neighborhood_Highlands": 0,
         "Neighborhood_Inman/Harrington": 0,
         "Neighborhood_MIT": 0,
         "Neighborhood_Mid-Cambridge": 0,
         "Neighborhood_North Cambridge": 0,
         "Neighborhood_Peabody": 0,
         "Neighborhood_Riverside": 1,
         "Neighborhood_Strawberry Hill": 0,
         "Neighborhood_West Cambridge": 0,
         "Reporting Area": 703,
         "_deepnote_index_column": 30723
        },
        {
         "Crime_Accident": 0,
         "Crime_Admin Error": 0,
         "Crime_Aggravated Assault": 0,
         "Crime_Annoying & Accosting": 0,
         "Crime_Arson": 0,
         "Crime_Auto Theft": 0,
         "Crime_Commercial Break": 0,
         "Crime_Commercial Robbery": 0,
         "Crime_Counterfeiting": 0,
         "Crime_Disorderly": 0,
         "Crime_Domestic Dispute": 0,
         "Crime_Drinking in Public": 0,
         "Crime_Drugs": 0,
         "Crime_Embezzlement": 0,
         "Crime_Extortion/Blackmail": 0,
         "Crime_Flim Flam": 0,
         "Crime_Forgery": 0,
         "Crime_Harassment": 0,
         "Crime_Hit and Run": 0,
         "Crime_Homicide": 0,
         "Crime_Housebreak": 0,
         "Crime_Indecent Exposure": 1,
         "Crime_Kidnapping": 0,
         "Crime_Larceny (Misc)": 0,
         "Crime_Larceny from Building": 0,
         "Crime_Larceny from MV": 0,
         "Crime_Larceny from Person": 0,
         "Crime_Larceny from Residence": 0,
         "Crime_Larceny of Bicycle": 0,
         "Crime_Larceny of Plate": 0,
         "Crime_Larceny of Services": 0,
         "Crime_Liquor Possession/Sale": 0,
         "Crime_Mal. Dest. Property": 0,
         "Crime_Missing Person": 0,
         "Crime_Noise Complaint": 0,
         "Crime_OUI": 0,
         "Crime_Peeping & Spying": 0,
         "Crime_Phone Calls": 0,
         "Crime_Prostitution": 0,
         "Crime_Rec. Stol. Property": 0,
         "Crime_Sex Offender Violation": 0,
         "Crime_Shoplifting": 0,
         "Crime_Simple Assault": 0,
         "Crime_Stalking": 0,
         "Crime_Street Robbery": 0,
         "Crime_Suspicious Package": 0,
         "Crime_Taxi Violation": 0,
         "Crime_Threats": 0,
         "Crime_Trespassing": 0,
         "Crime_Violation of H.O.": 0,
         "Crime_Violation of R.O.": 0,
         "Crime_Warrant Arrest": 0,
         "Crime_Weapon Violations": 0,
         "Neighborhood_Agassiz": 0,
         "Neighborhood_Area 4": 0,
         "Neighborhood_Cambridgeport": 0,
         "Neighborhood_East Cambridge": 0,
         "Neighborhood_Highlands": 0,
         "Neighborhood_Inman/Harrington": 1,
         "Neighborhood_MIT": 0,
         "Neighborhood_Mid-Cambridge": 0,
         "Neighborhood_North Cambridge": 0,
         "Neighborhood_Peabody": 0,
         "Neighborhood_Riverside": 0,
         "Neighborhood_Strawberry Hill": 0,
         "Neighborhood_West Cambridge": 0,
         "Reporting Area": 305,
         "_deepnote_index_column": 47861
        },
        {
         "Crime_Accident": 0,
         "Crime_Admin Error": 1,
         "Crime_Aggravated Assault": 0,
         "Crime_Annoying & Accosting": 0,
         "Crime_Arson": 0,
         "Crime_Auto Theft": 0,
         "Crime_Commercial Break": 0,
         "Crime_Commercial Robbery": 0,
         "Crime_Counterfeiting": 0,
         "Crime_Disorderly": 0,
         "Crime_Domestic Dispute": 0,
         "Crime_Drinking in Public": 0,
         "Crime_Drugs": 0,
         "Crime_Embezzlement": 0,
         "Crime_Extortion/Blackmail": 0,
         "Crime_Flim Flam": 0,
         "Crime_Forgery": 0,
         "Crime_Harassment": 0,
         "Crime_Hit and Run": 0,
         "Crime_Homicide": 0,
         "Crime_Housebreak": 0,
         "Crime_Indecent Exposure": 0,
         "Crime_Kidnapping": 0,
         "Crime_Larceny (Misc)": 0,
         "Crime_Larceny from Building": 0,
         "Crime_Larceny from MV": 0,
         "Crime_Larceny from Person": 0,
         "Crime_Larceny from Residence": 0,
         "Crime_Larceny of Bicycle": 0,
         "Crime_Larceny of Plate": 0,
         "Crime_Larceny of Services": 0,
         "Crime_Liquor Possession/Sale": 0,
         "Crime_Mal. Dest. Property": 0,
         "Crime_Missing Person": 0,
         "Crime_Noise Complaint": 0,
         "Crime_OUI": 0,
         "Crime_Peeping & Spying": 0,
         "Crime_Phone Calls": 0,
         "Crime_Prostitution": 0,
         "Crime_Rec. Stol. Property": 0,
         "Crime_Sex Offender Violation": 0,
         "Crime_Shoplifting": 0,
         "Crime_Simple Assault": 0,
         "Crime_Stalking": 0,
         "Crime_Street Robbery": 0,
         "Crime_Suspicious Package": 0,
         "Crime_Taxi Violation": 0,
         "Crime_Threats": 0,
         "Crime_Trespassing": 0,
         "Crime_Violation of H.O.": 0,
         "Crime_Violation of R.O.": 0,
         "Crime_Warrant Arrest": 0,
         "Crime_Weapon Violations": 0,
         "Neighborhood_Agassiz": 0,
         "Neighborhood_Area 4": 0,
         "Neighborhood_Cambridgeport": 0,
         "Neighborhood_East Cambridge": 1,
         "Neighborhood_Highlands": 0,
         "Neighborhood_Inman/Harrington": 0,
         "Neighborhood_MIT": 0,
         "Neighborhood_Mid-Cambridge": 0,
         "Neighborhood_North Cambridge": 0,
         "Neighborhood_Peabody": 0,
         "Neighborhood_Riverside": 0,
         "Neighborhood_Strawberry Hill": 0,
         "Neighborhood_West Cambridge": 0,
         "Reporting Area": 108,
         "_deepnote_index_column": 50714
        }
       ]
      },
      "text/html": [
       "<div>\n",
       "<style scoped>\n",
       "    .dataframe tbody tr th:only-of-type {\n",
       "        vertical-align: middle;\n",
       "    }\n",
       "\n",
       "    .dataframe tbody tr th {\n",
       "        vertical-align: top;\n",
       "    }\n",
       "\n",
       "    .dataframe thead th {\n",
       "        text-align: right;\n",
       "    }\n",
       "</style>\n",
       "<table border=\"1\" class=\"dataframe\">\n",
       "  <thead>\n",
       "    <tr style=\"text-align: right;\">\n",
       "      <th></th>\n",
       "      <th>Reporting Area</th>\n",
       "      <th>Crime_Accident</th>\n",
       "      <th>Crime_Admin Error</th>\n",
       "      <th>Crime_Aggravated Assault</th>\n",
       "      <th>Crime_Annoying &amp; Accosting</th>\n",
       "      <th>Crime_Arson</th>\n",
       "      <th>Crime_Auto Theft</th>\n",
       "      <th>Crime_Commercial Break</th>\n",
       "      <th>Crime_Commercial Robbery</th>\n",
       "      <th>Crime_Counterfeiting</th>\n",
       "      <th>...</th>\n",
       "      <th>Neighborhood_East Cambridge</th>\n",
       "      <th>Neighborhood_Highlands</th>\n",
       "      <th>Neighborhood_Inman/Harrington</th>\n",
       "      <th>Neighborhood_MIT</th>\n",
       "      <th>Neighborhood_Mid-Cambridge</th>\n",
       "      <th>Neighborhood_North Cambridge</th>\n",
       "      <th>Neighborhood_Peabody</th>\n",
       "      <th>Neighborhood_Riverside</th>\n",
       "      <th>Neighborhood_Strawberry Hill</th>\n",
       "      <th>Neighborhood_West Cambridge</th>\n",
       "    </tr>\n",
       "  </thead>\n",
       "  <tbody>\n",
       "    <tr>\n",
       "      <th>26127</th>\n",
       "      <td>305.0</td>\n",
       "      <td>0</td>\n",
       "      <td>0</td>\n",
       "      <td>0</td>\n",
       "      <td>0</td>\n",
       "      <td>0</td>\n",
       "      <td>0</td>\n",
       "      <td>0</td>\n",
       "      <td>0</td>\n",
       "      <td>0</td>\n",
       "      <td>...</td>\n",
       "      <td>0</td>\n",
       "      <td>0</td>\n",
       "      <td>1</td>\n",
       "      <td>0</td>\n",
       "      <td>0</td>\n",
       "      <td>0</td>\n",
       "      <td>0</td>\n",
       "      <td>0</td>\n",
       "      <td>0</td>\n",
       "      <td>0</td>\n",
       "    </tr>\n",
       "    <tr>\n",
       "      <th>512</th>\n",
       "      <td>605.0</td>\n",
       "      <td>0</td>\n",
       "      <td>0</td>\n",
       "      <td>0</td>\n",
       "      <td>0</td>\n",
       "      <td>0</td>\n",
       "      <td>0</td>\n",
       "      <td>0</td>\n",
       "      <td>0</td>\n",
       "      <td>0</td>\n",
       "      <td>...</td>\n",
       "      <td>0</td>\n",
       "      <td>0</td>\n",
       "      <td>0</td>\n",
       "      <td>0</td>\n",
       "      <td>1</td>\n",
       "      <td>0</td>\n",
       "      <td>0</td>\n",
       "      <td>0</td>\n",
       "      <td>0</td>\n",
       "      <td>0</td>\n",
       "    </tr>\n",
       "    <tr>\n",
       "      <th>36938</th>\n",
       "      <td>302.0</td>\n",
       "      <td>0</td>\n",
       "      <td>0</td>\n",
       "      <td>0</td>\n",
       "      <td>0</td>\n",
       "      <td>0</td>\n",
       "      <td>0</td>\n",
       "      <td>0</td>\n",
       "      <td>0</td>\n",
       "      <td>0</td>\n",
       "      <td>...</td>\n",
       "      <td>0</td>\n",
       "      <td>0</td>\n",
       "      <td>1</td>\n",
       "      <td>0</td>\n",
       "      <td>0</td>\n",
       "      <td>0</td>\n",
       "      <td>0</td>\n",
       "      <td>0</td>\n",
       "      <td>0</td>\n",
       "      <td>0</td>\n",
       "    </tr>\n",
       "    <tr>\n",
       "      <th>11236</th>\n",
       "      <td>107.0</td>\n",
       "      <td>0</td>\n",
       "      <td>0</td>\n",
       "      <td>0</td>\n",
       "      <td>0</td>\n",
       "      <td>0</td>\n",
       "      <td>0</td>\n",
       "      <td>0</td>\n",
       "      <td>0</td>\n",
       "      <td>0</td>\n",
       "      <td>...</td>\n",
       "      <td>1</td>\n",
       "      <td>0</td>\n",
       "      <td>0</td>\n",
       "      <td>0</td>\n",
       "      <td>0</td>\n",
       "      <td>0</td>\n",
       "      <td>0</td>\n",
       "      <td>0</td>\n",
       "      <td>0</td>\n",
       "      <td>0</td>\n",
       "    </tr>\n",
       "    <tr>\n",
       "      <th>16540</th>\n",
       "      <td>504.0</td>\n",
       "      <td>0</td>\n",
       "      <td>0</td>\n",
       "      <td>0</td>\n",
       "      <td>0</td>\n",
       "      <td>0</td>\n",
       "      <td>0</td>\n",
       "      <td>0</td>\n",
       "      <td>0</td>\n",
       "      <td>0</td>\n",
       "      <td>...</td>\n",
       "      <td>0</td>\n",
       "      <td>0</td>\n",
       "      <td>0</td>\n",
       "      <td>0</td>\n",
       "      <td>0</td>\n",
       "      <td>0</td>\n",
       "      <td>0</td>\n",
       "      <td>0</td>\n",
       "      <td>0</td>\n",
       "      <td>0</td>\n",
       "    </tr>\n",
       "    <tr>\n",
       "      <th>...</th>\n",
       "      <td>...</td>\n",
       "      <td>...</td>\n",
       "      <td>...</td>\n",
       "      <td>...</td>\n",
       "      <td>...</td>\n",
       "      <td>...</td>\n",
       "      <td>...</td>\n",
       "      <td>...</td>\n",
       "      <td>...</td>\n",
       "      <td>...</td>\n",
       "      <td>...</td>\n",
       "      <td>...</td>\n",
       "      <td>...</td>\n",
       "      <td>...</td>\n",
       "      <td>...</td>\n",
       "      <td>...</td>\n",
       "      <td>...</td>\n",
       "      <td>...</td>\n",
       "      <td>...</td>\n",
       "      <td>...</td>\n",
       "      <td>...</td>\n",
       "    </tr>\n",
       "    <tr>\n",
       "      <th>2363</th>\n",
       "      <td>202.0</td>\n",
       "      <td>0</td>\n",
       "      <td>0</td>\n",
       "      <td>0</td>\n",
       "      <td>0</td>\n",
       "      <td>0</td>\n",
       "      <td>0</td>\n",
       "      <td>0</td>\n",
       "      <td>0</td>\n",
       "      <td>0</td>\n",
       "      <td>...</td>\n",
       "      <td>0</td>\n",
       "      <td>0</td>\n",
       "      <td>0</td>\n",
       "      <td>1</td>\n",
       "      <td>0</td>\n",
       "      <td>0</td>\n",
       "      <td>0</td>\n",
       "      <td>0</td>\n",
       "      <td>0</td>\n",
       "      <td>0</td>\n",
       "    </tr>\n",
       "    <tr>\n",
       "      <th>1313</th>\n",
       "      <td>603.0</td>\n",
       "      <td>0</td>\n",
       "      <td>0</td>\n",
       "      <td>0</td>\n",
       "      <td>0</td>\n",
       "      <td>0</td>\n",
       "      <td>0</td>\n",
       "      <td>0</td>\n",
       "      <td>0</td>\n",
       "      <td>0</td>\n",
       "      <td>...</td>\n",
       "      <td>0</td>\n",
       "      <td>0</td>\n",
       "      <td>0</td>\n",
       "      <td>0</td>\n",
       "      <td>1</td>\n",
       "      <td>0</td>\n",
       "      <td>0</td>\n",
       "      <td>0</td>\n",
       "      <td>0</td>\n",
       "      <td>0</td>\n",
       "    </tr>\n",
       "    <tr>\n",
       "      <th>22224</th>\n",
       "      <td>804.0</td>\n",
       "      <td>0</td>\n",
       "      <td>0</td>\n",
       "      <td>0</td>\n",
       "      <td>0</td>\n",
       "      <td>0</td>\n",
       "      <td>0</td>\n",
       "      <td>0</td>\n",
       "      <td>0</td>\n",
       "      <td>0</td>\n",
       "      <td>...</td>\n",
       "      <td>0</td>\n",
       "      <td>0</td>\n",
       "      <td>0</td>\n",
       "      <td>0</td>\n",
       "      <td>0</td>\n",
       "      <td>0</td>\n",
       "      <td>0</td>\n",
       "      <td>0</td>\n",
       "      <td>0</td>\n",
       "      <td>0</td>\n",
       "    </tr>\n",
       "    <tr>\n",
       "      <th>13209</th>\n",
       "      <td>708.0</td>\n",
       "      <td>0</td>\n",
       "      <td>0</td>\n",
       "      <td>0</td>\n",
       "      <td>0</td>\n",
       "      <td>0</td>\n",
       "      <td>0</td>\n",
       "      <td>0</td>\n",
       "      <td>0</td>\n",
       "      <td>0</td>\n",
       "      <td>...</td>\n",
       "      <td>0</td>\n",
       "      <td>0</td>\n",
       "      <td>0</td>\n",
       "      <td>0</td>\n",
       "      <td>0</td>\n",
       "      <td>0</td>\n",
       "      <td>0</td>\n",
       "      <td>1</td>\n",
       "      <td>0</td>\n",
       "      <td>0</td>\n",
       "    </tr>\n",
       "    <tr>\n",
       "      <th>11532</th>\n",
       "      <td>102.0</td>\n",
       "      <td>0</td>\n",
       "      <td>0</td>\n",
       "      <td>0</td>\n",
       "      <td>0</td>\n",
       "      <td>0</td>\n",
       "      <td>0</td>\n",
       "      <td>0</td>\n",
       "      <td>0</td>\n",
       "      <td>0</td>\n",
       "      <td>...</td>\n",
       "      <td>1</td>\n",
       "      <td>0</td>\n",
       "      <td>0</td>\n",
       "      <td>0</td>\n",
       "      <td>0</td>\n",
       "      <td>0</td>\n",
       "      <td>0</td>\n",
       "      <td>0</td>\n",
       "      <td>0</td>\n",
       "      <td>0</td>\n",
       "    </tr>\n",
       "  </tbody>\n",
       "</table>\n",
       "<p>5000 rows × 67 columns</p>\n",
       "</div>"
      ],
      "text/plain": [
       "       Reporting Area  Crime_Accident  Crime_Admin Error  \\\n",
       "26127           305.0               0                  0   \n",
       "512             605.0               0                  0   \n",
       "36938           302.0               0                  0   \n",
       "11236           107.0               0                  0   \n",
       "16540           504.0               0                  0   \n",
       "...               ...             ...                ...   \n",
       "2363            202.0               0                  0   \n",
       "1313            603.0               0                  0   \n",
       "22224           804.0               0                  0   \n",
       "13209           708.0               0                  0   \n",
       "11532           102.0               0                  0   \n",
       "\n",
       "       Crime_Aggravated Assault  Crime_Annoying & Accosting  Crime_Arson  \\\n",
       "26127                         0                           0            0   \n",
       "512                           0                           0            0   \n",
       "36938                         0                           0            0   \n",
       "11236                         0                           0            0   \n",
       "16540                         0                           0            0   \n",
       "...                         ...                         ...          ...   \n",
       "2363                          0                           0            0   \n",
       "1313                          0                           0            0   \n",
       "22224                         0                           0            0   \n",
       "13209                         0                           0            0   \n",
       "11532                         0                           0            0   \n",
       "\n",
       "       Crime_Auto Theft  Crime_Commercial Break  Crime_Commercial Robbery  \\\n",
       "26127                 0                       0                         0   \n",
       "512                   0                       0                         0   \n",
       "36938                 0                       0                         0   \n",
       "11236                 0                       0                         0   \n",
       "16540                 0                       0                         0   \n",
       "...                 ...                     ...                       ...   \n",
       "2363                  0                       0                         0   \n",
       "1313                  0                       0                         0   \n",
       "22224                 0                       0                         0   \n",
       "13209                 0                       0                         0   \n",
       "11532                 0                       0                         0   \n",
       "\n",
       "       Crime_Counterfeiting  ...  Neighborhood_East Cambridge  \\\n",
       "26127                     0  ...                            0   \n",
       "512                       0  ...                            0   \n",
       "36938                     0  ...                            0   \n",
       "11236                     0  ...                            1   \n",
       "16540                     0  ...                            0   \n",
       "...                     ...  ...                          ...   \n",
       "2363                      0  ...                            0   \n",
       "1313                      0  ...                            0   \n",
       "22224                     0  ...                            0   \n",
       "13209                     0  ...                            0   \n",
       "11532                     0  ...                            1   \n",
       "\n",
       "       Neighborhood_Highlands  Neighborhood_Inman/Harrington  \\\n",
       "26127                       0                              1   \n",
       "512                         0                              0   \n",
       "36938                       0                              1   \n",
       "11236                       0                              0   \n",
       "16540                       0                              0   \n",
       "...                       ...                            ...   \n",
       "2363                        0                              0   \n",
       "1313                        0                              0   \n",
       "22224                       0                              0   \n",
       "13209                       0                              0   \n",
       "11532                       0                              0   \n",
       "\n",
       "       Neighborhood_MIT  Neighborhood_Mid-Cambridge  \\\n",
       "26127                 0                           0   \n",
       "512                   0                           1   \n",
       "36938                 0                           0   \n",
       "11236                 0                           0   \n",
       "16540                 0                           0   \n",
       "...                 ...                         ...   \n",
       "2363                  1                           0   \n",
       "1313                  0                           1   \n",
       "22224                 0                           0   \n",
       "13209                 0                           0   \n",
       "11532                 0                           0   \n",
       "\n",
       "       Neighborhood_North Cambridge  Neighborhood_Peabody  \\\n",
       "26127                             0                     0   \n",
       "512                               0                     0   \n",
       "36938                             0                     0   \n",
       "11236                             0                     0   \n",
       "16540                             0                     0   \n",
       "...                             ...                   ...   \n",
       "2363                              0                     0   \n",
       "1313                              0                     0   \n",
       "22224                             0                     0   \n",
       "13209                             0                     0   \n",
       "11532                             0                     0   \n",
       "\n",
       "       Neighborhood_Riverside  Neighborhood_Strawberry Hill  \\\n",
       "26127                       0                             0   \n",
       "512                         0                             0   \n",
       "36938                       0                             0   \n",
       "11236                       0                             0   \n",
       "16540                       0                             0   \n",
       "...                       ...                           ...   \n",
       "2363                        0                             0   \n",
       "1313                        0                             0   \n",
       "22224                       0                             0   \n",
       "13209                       1                             0   \n",
       "11532                       0                             0   \n",
       "\n",
       "       Neighborhood_West Cambridge  \n",
       "26127                            0  \n",
       "512                              0  \n",
       "36938                            0  \n",
       "11236                            0  \n",
       "16540                            0  \n",
       "...                            ...  \n",
       "2363                             0  \n",
       "1313                             0  \n",
       "22224                            0  \n",
       "13209                            0  \n",
       "11532                            0  \n",
       "\n",
       "[5000 rows x 67 columns]"
      ]
     },
     "execution_count": 40,
     "metadata": {},
     "output_type": "execute_result"
    }
   ],
   "source": [
    "# Tomar una muestra aleatoria de 5000 registros\n",
    "X = df.sample(n=5000, random_state=69)\n",
    "X.head()\n",
    "\n",
    "# Convertir variables categóricas a dummies\n",
    "X2 = pd.get_dummies(X, columns = ['Crime', 'Neighborhood'])\n",
    "X2"
   ]
  },
  {
   "cell_type": "markdown",
   "metadata": {
    "cell_id": "1aa9d44f5a8b4576a676e40596576ace",
    "deepnote_cell_type": "markdown"
   },
   "source": [
    "Ahora, utilizamos Análisis de Componentes Principales (PCA) para reducir el conjunto de datos a uno de dimensión 2."
   ]
  },
  {
   "cell_type": "code",
   "execution_count": 41,
   "metadata": {
    "cell_id": "76119dec68d44f7aa00aacde8d4f171d",
    "deepnote_cell_type": "code",
    "deepnote_to_be_reexecuted": false,
    "execution_millis": 1063,
    "execution_start": 1685409084358,
    "source_hash": "b8a7dc9e"
   },
   "outputs": [],
   "source": [
    "# Crear una instancia de PCA con 2 componentes\n",
    "pca = PCA(n_components=2)\n",
    "\n",
    "X_train_pca = pca.fit_transform(X2)\n",
    "\n",
    "# Obtener las coordenadas de los dos componentes principales\n",
    "train_pc1_coords = X_train_pca[:, 0]\n",
    "train_pc2_coords = X_train_pca[:, 1]\n",
    "\n",
    "# Centrar y escalar los datos después de la reducción de dimensión\n",
    "pca_train_scaled = preprocessing.scale(np.column_stack((train_pc1_coords, train_pc2_coords)))\n",
    "XPCA = np.column_stack([train_pc1_coords, train_pc2_coords])"
   ]
  },
  {
   "cell_type": "markdown",
   "metadata": {
    "cell_id": "020d41a506b34eb5a131af2abd96532d",
    "deepnote_cell_type": "markdown"
   },
   "source": [
    "Luego hacemos un plot del conjunto de datos 2-dimensional."
   ]
  },
  {
   "cell_type": "code",
   "execution_count": 42,
   "metadata": {
    "cell_id": "1ba4df9ca7174a65b463441ea258f53e",
    "deepnote_cell_type": "code",
    "deepnote_to_be_reexecuted": false,
    "execution_millis": 27,
    "execution_start": 1685409086811,
    "source_hash": "123cc306"
   },
   "outputs": [
    {
     "data": {
      "text/plain": [
       "<matplotlib.collections.PathCollection at 0x7f9310eeb760>"
      ]
     },
     "execution_count": 42,
     "metadata": {},
     "output_type": "execute_result"
    },
    {
     "data": {
      "image/png": "[encoded data removed]",
      "text/plain": [
       "<Figure size 640x480 with 1 Axes>"
      ]
     },
     "metadata": {
      "image/png": {
       "height": 413,
       "width": 559
      }
     },
     "output_type": "display_data"
    }
   ],
   "source": [
    "plt.scatter(XPCA[:,0], XPCA[:,1], s = 0.8)"
   ]
  },
  {
   "cell_type": "markdown",
   "metadata": {
    "cell_id": "ff6ea21391c94cecba3ed5bc68858d02",
    "deepnote_cell_type": "markdown"
   },
   "source": [
    "Podemos observar 13 grupos de datos.\n",
    "\n",
    "Realizamos una función que nos permita hacer una visualización, en la que se distingan colores para los diferentes clusters establecidos por el algoritmo.\n",
    "\n",
    "--------"
   ]
  },
  {
   "cell_type": "code",
   "execution_count": 43,
   "metadata": {
    "cell_id": "9e1b5d804c484acd8918efe561501fc8",
    "deepnote_cell_type": "code",
    "deepnote_to_be_reexecuted": false,
    "execution_millis": 3,
    "execution_start": 1685409089567,
    "source_hash": "218fd2ea"
   },
   "outputs": [],
   "source": [
    "import matplotlib.pyplot as plt\n",
    "\n",
    "def scatter_plot(x, y, labels):\n",
    "    \"\"\"\n",
    "    Create a scatter plot of points in two dimensions and color them according to a vector of numeric labels.\n",
    "\n",
    "    Arguments:\n",
    "    - x: List of x coordinates of the points.\n",
    "    - y: List of y coordinates of the points.\n",
    "    - labels: List of numeric labels for each point.\n",
    "    \"\"\"\n",
    "    # Create the scatter plot with the \"inferno\" colormap\n",
    "    plt.scatter(x, y, c=labels, cmap='inferno', s=8)\n",
    "\n",
    "    # Add a colorbar to display the color mapping\n",
    "    plt.colorbar()\n",
    "\n",
    "    # Show the plot\n",
    "    plt.show()\n"
   ]
  },
  {
   "cell_type": "markdown",
   "metadata": {
    "cell_id": "e5829e2ff95f407cbd6c590940e0c271",
    "deepnote_cell_type": "markdown"
   },
   "source": [
    "Implementamos el método DBSCAN de SKLearn.    \n",
    "\n",
    "-------"
   ]
  },
  {
   "cell_type": "code",
   "execution_count": 44,
   "metadata": {
    "cell_id": "ef6d74981b8e4172944c6df1973860c8",
    "deepnote_cell_type": "code",
    "deepnote_to_be_reexecuted": false,
    "execution_millis": 1018,
    "execution_start": 1685409091606,
    "source_hash": "824ccaf5"
   },
   "outputs": [
    {
     "name": "stdout",
     "output_type": "stream",
     "text": [
      "Número de etiquetas encontradas con DBSCAN [ 0  1  2  3  4  5  6  7  8  9 10 11 12],        \n",
      " es decir 13 clusters.\n"
     ]
    },
    {
     "data": {
      "image/png": "[encoded data removed]",
      "text/plain": [
       "<Figure size 640x480 with 2 Axes>"
      ]
     },
     "metadata": {
      "image/png": {
       "height": 418,
       "width": 530
      }
     },
     "output_type": "display_data"
    }
   ],
   "source": [
    "clustering = DBSCAN(eps=2, min_samples=5).fit(XPCA)\n",
    "labelsDB = clustering.labels_\n",
    "\n",
    "print(f\"Número de etiquetas encontradas con DBSCAN {np.unique(labelsDB)},\\\n",
    "        \\n es decir {len(np.unique(labelsDB))} clusters.\")\n",
    "        \n",
    "scatter_plot(XPCA[:,0], XPCA[:,1], labelsDB)"
   ]
  },
  {
   "cell_type": "markdown",
   "metadata": {
    "cell_id": "714330592865406db5d3dd5783d94951",
    "deepnote_cell_type": "markdown"
   },
   "source": [
    "_¿Qué ocurre si damos a épsilon un valor menor que 1? ¿Por qué? ¿Qué parámetros logran una buena agrupación de los datos?_\n",
    "\n",
    "Si le damos un valor a épsilon menor que 1 no agrupa bien los datos. \n",
    "\n",
    "Para que ocurra una buena agrupación, necesitamos poner de parámetros `eps` $\\geq$ 2. Esto podría explicarse así:\n",
    "\n",
    "Cuando se establece `eps` con un valor pequeño, se restringe el tamaño del vecindario, lo que dificulta que los puntos se conecten y formen regiones densas. Como resultado, muchos puntos pueden ser etiquetados como ruido o valores atípicos en lugar de asignarse a clusters.\n",
    "\n",
    "En DBSCAN, el valor apropiado de `eps` depende de la densidad y distribución de los puntos de datos. Si `eps` es demasiado pequeño, es posible que los clusters no sean capaces de capturar la estructura subyacente de los datos. Por otro lado, si `eps` es demasiado grande, puede llevar a la fusión de clusters distintos o a la formación de un único cluster grande.\n",
    "\n",
    "Con esto podemos explicar por qué no se logra identificar correctamente el grupo con un `eps`< 2, básicamente por que el parametro es tan pequeño que permite que se creen clusters dentro del cluster que buscamos identificar. \n",
    "\n",
    "-------\n",
    "-------"
   ]
  },
  {
   "cell_type": "markdown",
   "metadata": {
    "cell_id": "dfd2ba1128974bb4bb0fa768addc7893",
    "deepnote_cell_type": "markdown"
   },
   "source": [
    "Ahora, implementamos el algoritmo de K-means de SKLearn. Vamos aumentando progresivamente el numero de clusters y computando la distorsión y el puntaje de silhouette:"
   ]
  },
  {
   "cell_type": "code",
   "execution_count": 8,
   "metadata": {
    "cell_id": "7d803e062c394758b0c8d9e22ba3c29e",
    "deepnote_cell_type": "code",
    "deepnote_to_be_reexecuted": false,
    "execution_millis": 16803,
    "execution_start": 1685407524501,
    "source_hash": "adcf649d"
   },
   "outputs": [
    {
     "data": {
      "image/png": "[encoded data removed]",
      "text/plain": [
       "<Figure size 1000x400 with 2 Axes>"
      ]
     },
     "metadata": {
      "image/png": {
       "height": 390,
       "width": 990
      }
     },
     "output_type": "display_data"
    }
   ],
   "source": [
    "def elbow_plot(data, max_clusters):\n",
    "    \"\"\"\n",
    "    Build an elbow plot to determine the optimal number of clusters using the k-means algorithm.\n",
    "\n",
    "    Arguments:\n",
    "    - data: Input data array of shape (n_samples, n_features).\n",
    "    - max_clusters: Maximum number of clusters to consider.\n",
    "\n",
    "    Returns:\n",
    "    - None (displays the elbow plot).\n",
    "    \"\"\"\n",
    "    distortions = []\n",
    "    silhouette = []\n",
    "    \n",
    "    for n_clusters in range(2, max_clusters+1):\n",
    "        kmeans = KMeans(n_clusters=n_clusters)\n",
    "        kmeans.fit(data)\n",
    "\n",
    "        labels = kmeans.labels_\n",
    "        silhouette_avg = silhouette_score(data, labels)\n",
    "\n",
    "        silhouette.append(silhouette_avg)\n",
    "        distortions.append(kmeans.inertia_)\n",
    "    \n",
    "    # Create subplots\n",
    "    fig, (ax1, ax2) = plt.subplots(1, 2, figsize=(10, 4))\n",
    "    \n",
    "    # Plotting the elbow curve\n",
    "    ax1.plot(range(2, max_clusters+1), distortions, marker='o')\n",
    "    ax1.set_xlabel('Number of clusters')\n",
    "    ax1.set_ylabel('Distortion')\n",
    "    ax1.set_title('Elbow Plot')\n",
    "    \n",
    "    # Plotting the silhouette curve\n",
    "    ax2.plot(range(2, max_clusters+1), silhouette, marker='x')\n",
    "    ax2.set_xlabel('Number of clusters')\n",
    "    ax2.set_ylabel('Silhouette Score')\n",
    "    ax2.set_title('Silhouette Plot')\n",
    "    \n",
    "    # Adjust spacing between subplots\n",
    "    plt.tight_layout()\n",
    "    \n",
    "    # Display the plot\n",
    "    plt.show()\n",
    "\n",
    "# Example usage\n",
    "elbow_plot(XPCA, max_clusters=15)\n"
   ]
  },
  {
   "cell_type": "markdown",
   "metadata": {
    "cell_id": "27c5ff0b11a245ee9e4e70f7c0b8a176",
    "deepnote_cell_type": "markdown"
   },
   "source": [
    "La mejor dist está entre 3 y 4 clusters *(según la distorsión y el método del codo)* pero note que esto no contrasta con lo que sabemos *(son 13 grupos)*, sin embargo cuando nos guiamos por la métrica de la silueta vemos que la mejor elección es 13 clusters."
   ]
  },
  {
   "cell_type": "code",
   "execution_count": 9,
   "metadata": {
    "cell_id": "a5647c730d8844e8b13431fea5dc86e4",
    "deepnote_cell_type": "code",
    "deepnote_to_be_reexecuted": false,
    "execution_millis": 1020,
    "execution_start": 1685407541309,
    "source_hash": "5d66177d"
   },
   "outputs": [
    {
     "data": {
      "image/png": "[encoded data removed]",
      "text/plain": [
       "<Figure size 640x480 with 2 Axes>"
      ]
     },
     "metadata": {
      "image/png": {
       "height": 435,
       "width": 543
      }
     },
     "output_type": "display_data"
    }
   ],
   "source": [
    "kmeans = KMeans(n_clusters=3)\n",
    "kmeans.fit(XPCA)\n",
    "\n",
    "plt.title(\"3 Clusters\")\n",
    "scatter_plot(XPCA[:,0], XPCA[:,1], kmeans.labels_)"
   ]
  },
  {
   "cell_type": "markdown",
   "metadata": {
    "cell_id": "1d1b90711e634e44a326f6122f09d6ad",
    "deepnote_cell_type": "markdown"
   },
   "source": [
    "Con 4 Clusters vemos que el plot no es mucho mejor realmente, el algoritmo sigue haciendo un mal trabajo en encontrar el patrón de estos datos."
   ]
  },
  {
   "cell_type": "code",
   "execution_count": 10,
   "metadata": {
    "cell_id": "5325efc33d9e4339b9d69febed955d77",
    "deepnote_cell_type": "code",
    "deepnote_to_be_reexecuted": false,
    "execution_millis": 926,
    "execution_start": 1685407542374,
    "source_hash": "161f709"
   },
   "outputs": [
    {
     "data": {
      "image/png": "[encoded data removed]",
      "text/plain": [
       "<Figure size 640x480 with 2 Axes>"
      ]
     },
     "metadata": {
      "image/png": {
       "height": 435,
       "width": 535
      }
     },
     "output_type": "display_data"
    }
   ],
   "source": [
    "kmeans = KMeans(n_clusters=4)\n",
    "kmeans.fit(XPCA)\n",
    "\n",
    "plt.title(\"4 Clusters\")\n",
    "scatter_plot(XPCA[:,0], XPCA[:,1], kmeans.labels_)"
   ]
  },
  {
   "cell_type": "markdown",
   "metadata": {
    "cell_id": "11815abe2296460ab7c7345a9663c6f1",
    "deepnote_cell_type": "markdown"
   },
   "source": [
    "Si usamos lo que sabemos desde antes y nos confirma el método de la silueta, es decir que hay 13 categorías, podemos ver que el algoritmo lo hace adecuadamente:"
   ]
  },
  {
   "cell_type": "code",
   "execution_count": 11,
   "metadata": {
    "cell_id": "7bd549b09a5e43e0a2436d2c731a545f",
    "deepnote_cell_type": "code",
    "deepnote_to_be_reexecuted": false,
    "execution_millis": 1101,
    "execution_start": 1685407543302,
    "source_hash": "48d9548d"
   },
   "outputs": [
    {
     "data": {
      "image/png": "[encoded data removed]",
      "text/plain": [
       "<Figure size 640x480 with 2 Axes>"
      ]
     },
     "metadata": {
      "image/png": {
       "height": 435,
       "width": 530
      }
     },
     "output_type": "display_data"
    }
   ],
   "source": [
    "kmeans = KMeans(n_clusters=13)\n",
    "kmeans.fit(XPCA)\n",
    "\n",
    "plt.title(\"13 Clusters\")\n",
    "scatter_plot(XPCA[:,0], XPCA[:,1], kmeans.labels_)"
   ]
  },
  {
   "cell_type": "markdown",
   "metadata": {
    "cell_id": "9d092c0fa46c445bbacbd55b26cb7c04",
    "deepnote_cell_type": "markdown"
   },
   "source": [
    "Ahora, implementamos el Algoritmo de agrupamiento de Jerarquía Aglomerativa que proporciona SKlearn, y hacemos una visualización de como progresa el puntaje de silueta conforme el número de nodos varía:"
   ]
  },
  {
   "cell_type": "code",
   "execution_count": 12,
   "metadata": {
    "cell_id": "cd04e210058f43688d3e00686171afb9",
    "deepnote_cell_type": "code",
    "deepnote_to_be_reexecuted": false,
    "execution_millis": 28696,
    "execution_start": 1685407544411,
    "source_hash": "950be95"
   },
   "outputs": [
    {
     "data": {
      "image/png": "[encoded data removed]",
      "text/plain": [
       "<Figure size 640x480 with 1 Axes>"
      ]
     },
     "metadata": {
      "image/png": {
       "height": 455,
       "width": 576
      }
     },
     "output_type": "display_data"
    }
   ],
   "source": [
    "def silhouette_plot_agglomerative(data, max_clusters):\n",
    "    \"\"\"\n",
    "    Build an silhouette plot to determine the optimal number of clusters\n",
    "    using the AgglomerativeClustering algorithm.\n",
    "\n",
    "    Arguments:\n",
    "    - data: Input data array of shape (n_samples, n_features).\n",
    "    - max_clusters: Maximum number of clusters to consider.\n",
    "\n",
    "    Returns:\n",
    "    - None (displays the silhouette plot).\n",
    "    \"\"\"\n",
    "    silhouette_scores = []\n",
    "\n",
    "    for n_clusters in range(2, max_clusters + 1):\n",
    "        clustering = AgglomerativeClustering(n_clusters=n_clusters)\n",
    "        labels = clustering.fit_predict(data)\n",
    "\n",
    "        silhouette_avg = silhouette_score(data, labels)\n",
    "        silhouette_scores.append(silhouette_avg)\n",
    "\n",
    "    # Plotting the elbow curve\n",
    "    plt.plot(range(2, max_clusters + 1), silhouette_scores, marker='o')\n",
    "    plt.xlabel('Number of clusters')\n",
    "    plt.ylabel('Silhouette Score')\n",
    "    plt.title('Silhouette Plot - Agglomerative Clustering')\n",
    "    plt.show()\n",
    "\n",
    "# Example usage\n",
    "silhouette_plot_agglomerative(XPCA, max_clusters=15)\n"
   ]
  },
  {
   "cell_type": "markdown",
   "metadata": {
    "cell_id": "4fda439f5255403aa163482a639f8d03",
    "deepnote_cell_type": "markdown"
   },
   "source": [
    "Para determinar el número óptimo de clusters utilizando AgglomerativeClustering, vamos a utilizar el método de la \"silueta\" (silhouette). La cúal es una medida de cuán bien cada muestra se ajusta a su propio cluster en comparación con otros clusters. Un valor alto de silueta indica una buena separación de los clusters.\n",
    "\n",
    "Podemos observar en la gráfica que en este caso el número óptimo de cluster a utilizar es de 13."
   ]
  },
  {
   "cell_type": "code",
   "execution_count": 13,
   "metadata": {
    "cell_id": "07702cdbfb524bed912b4e57dc4a620c",
    "deepnote_cell_type": "code",
    "deepnote_to_be_reexecuted": false,
    "execution_millis": 2032,
    "execution_start": 1685407573108,
    "source_hash": "7868a221"
   },
   "outputs": [
    {
     "data": {
      "image/png": "[encoded data removed]",
      "text/plain": [
       "<Figure size 640x480 with 2 Axes>"
      ]
     },
     "metadata": {
      "image/png": {
       "height": 435,
       "width": 530
      }
     },
     "output_type": "display_data"
    }
   ],
   "source": [
    "agglomerative = AgglomerativeClustering(n_clusters = 13).fit(XPCA)\n",
    "agglomerative_labels = agglomerative.labels_\n",
    "\n",
    "\n",
    "plt.title(\"Agglomerative Clustering with 13 Clusters\")\n",
    "scatter_plot(train_pc1_coords, train_pc2_coords, agglomerative_labels)"
   ]
  },
  {
   "cell_type": "markdown",
   "metadata": {
    "cell_id": "6b9ad774b65943348db212e9a8f0c4bc",
    "deepnote_cell_type": "markdown"
   },
   "source": [
    "Y podemos observar que el algoritmo lo hizo bien.\n",
    "\n",
    "-------\n",
    "-------"
   ]
  },
  {
   "cell_type": "markdown",
   "metadata": {
    "cell_id": "3dc192dfebd842ff9fd7a73e0d7b5e88",
    "deepnote_cell_type": "markdown"
   },
   "source": [
    "Finalmente, extraemos los índices de los registros contenidos de alguno de los clusters. Y vamos a ver si estos corresponden con los mismos índices en el dataset al que se le aplicó PCA. _¿Qué tienen en común los datos de dicho cluster?_"
   ]
  },
  {
   "cell_type": "code",
   "execution_count": 45,
   "metadata": {
    "cell_id": "74e7860b2e4c4f5bbd08693c3599e187",
    "deepnote_cell_type": "code",
    "deepnote_to_be_reexecuted": false,
    "execution_millis": 131,
    "execution_start": 1685409095216,
    "source_hash": "a52f7163"
   },
   "outputs": [
    {
     "data": {
      "application/vnd.deepnote.dataframe.v3+json": {
       "column_count": 4,
       "columns": [
        {
         "dtype": "category",
         "name": "Crime",
         "stats": {
          "categories": [
           {
            "count": 441,
            "name": "Hit and Run"
           },
           {
            "count": 423,
            "name": "Larceny from MV"
           },
           {
            "count": 4136,
            "name": "51 others"
           }
          ],
          "nan_count": 0,
          "unique_count": 53
         }
        },
        {
         "dtype": "category",
         "name": "Reporting Area",
         "stats": {
          "categories": [
           {
            "count": 226,
            "name": "102.0"
           },
           {
            "count": 213,
            "name": "1002.0"
           },
           {
            "count": 4561,
            "name": "112 others"
           }
          ],
          "nan_count": 0,
          "unique_count": 114
         }
        },
        {
         "dtype": "category",
         "name": "Neighborhood",
         "stats": {
          "categories": [
           {
            "count": 702,
            "name": "East Cambridge"
           },
           {
            "count": 683,
            "name": "Cambridgeport"
           },
           {
            "count": 3615,
            "name": "11 others"
           }
          ],
          "nan_count": 0,
          "unique_count": 13
         }
        },
        {
         "dtype": "int64",
         "name": "labels",
         "stats": {
          "histogram": [
           {
            "bin_end": 1.2,
            "bin_start": 0,
            "count": 1143
           },
           {
            "bin_end": 2.4,
            "bin_start": 1.2,
            "count": 702
           },
           {
            "bin_end": 3.5999999999999996,
            "bin_start": 2.4,
            "count": 513
           },
           {
            "bin_end": 4.8,
            "bin_start": 3.5999999999999996,
            "count": 316
           },
           {
            "bin_end": 6,
            "bin_start": 4.8,
            "count": 129
           },
           {
            "bin_end": 7.199999999999999,
            "bin_start": 6,
            "count": 927
           },
           {
            "bin_end": 8.4,
            "bin_start": 7.199999999999999,
            "count": 468
           },
           {
            "bin_end": 9.6,
            "bin_start": 8.4,
            "count": 470
           },
           {
            "bin_end": 10.799999999999999,
            "bin_start": 9.6,
            "count": 127
           },
           {
            "bin_end": 12,
            "bin_start": 10.799999999999999,
            "count": 205
           }
          ],
          "max": "12",
          "min": "0",
          "nan_count": 0,
          "unique_count": 13
         }
        },
        {
         "dtype": "int64",
         "name": "_deepnote_index_column"
        }
       ],
       "row_count": 5000,
       "rows": [
        {
         "Crime": "Threats",
         "Neighborhood": "Inman/Harrington",
         "Reporting Area": "305.0",
         "_deepnote_index_column": 26127,
         "labels": 6
        },
        {
         "Crime": "Larceny from MV",
         "Neighborhood": "Mid-Cambridge",
         "Reporting Area": "605.0",
         "_deepnote_index_column": 512,
         "labels": 8
        },
        {
         "Crime": "Flim Flam",
         "Neighborhood": "Inman/Harrington",
         "Reporting Area": "302.0",
         "_deepnote_index_column": 36938,
         "labels": 6
        },
        {
         "Crime": "Mal. Dest. Property",
         "Neighborhood": "East Cambridge",
         "Reporting Area": "107.0",
         "_deepnote_index_column": 11236,
         "labels": 2
        },
        {
         "Crime": "OUI",
         "Neighborhood": "Cambridgeport",
         "Reporting Area": "504.0",
         "_deepnote_index_column": 16540,
         "labels": 1
        },
        {
         "Crime": "Housebreak",
         "Neighborhood": "Cambridgeport",
         "Reporting Area": "506.0",
         "_deepnote_index_column": 36883,
         "labels": 1
        },
        {
         "Crime": "Missing Person",
         "Neighborhood": "Area 4",
         "Reporting Area": "409.0",
         "_deepnote_index_column": 40580,
         "labels": 7
        },
        {
         "Crime": "Domestic Dispute",
         "Neighborhood": "Riverside",
         "Reporting Area": "703.0",
         "_deepnote_index_column": 30723,
         "labels": 9
        },
        {
         "Crime": "Indecent Exposure",
         "Neighborhood": "Inman/Harrington",
         "Reporting Area": "305.0",
         "_deepnote_index_column": 47861,
         "labels": 6
        },
        {
         "Crime": "Admin Error",
         "Neighborhood": "East Cambridge",
         "Reporting Area": "108.0",
         "_deepnote_index_column": 50714,
         "labels": 2
        }
       ]
      },
      "text/html": [
       "<div>\n",
       "<style scoped>\n",
       "    .dataframe tbody tr th:only-of-type {\n",
       "        vertical-align: middle;\n",
       "    }\n",
       "\n",
       "    .dataframe tbody tr th {\n",
       "        vertical-align: top;\n",
       "    }\n",
       "\n",
       "    .dataframe thead th {\n",
       "        text-align: right;\n",
       "    }\n",
       "</style>\n",
       "<table border=\"1\" class=\"dataframe\">\n",
       "  <thead>\n",
       "    <tr style=\"text-align: right;\">\n",
       "      <th></th>\n",
       "      <th>Crime</th>\n",
       "      <th>Reporting Area</th>\n",
       "      <th>Neighborhood</th>\n",
       "      <th>labels</th>\n",
       "    </tr>\n",
       "  </thead>\n",
       "  <tbody>\n",
       "    <tr>\n",
       "      <th>26127</th>\n",
       "      <td>Threats</td>\n",
       "      <td>305.0</td>\n",
       "      <td>Inman/Harrington</td>\n",
       "      <td>6</td>\n",
       "    </tr>\n",
       "    <tr>\n",
       "      <th>512</th>\n",
       "      <td>Larceny from MV</td>\n",
       "      <td>605.0</td>\n",
       "      <td>Mid-Cambridge</td>\n",
       "      <td>8</td>\n",
       "    </tr>\n",
       "    <tr>\n",
       "      <th>36938</th>\n",
       "      <td>Flim Flam</td>\n",
       "      <td>302.0</td>\n",
       "      <td>Inman/Harrington</td>\n",
       "      <td>6</td>\n",
       "    </tr>\n",
       "    <tr>\n",
       "      <th>11236</th>\n",
       "      <td>Mal. Dest. Property</td>\n",
       "      <td>107.0</td>\n",
       "      <td>East Cambridge</td>\n",
       "      <td>2</td>\n",
       "    </tr>\n",
       "    <tr>\n",
       "      <th>16540</th>\n",
       "      <td>OUI</td>\n",
       "      <td>504.0</td>\n",
       "      <td>Cambridgeport</td>\n",
       "      <td>1</td>\n",
       "    </tr>\n",
       "    <tr>\n",
       "      <th>...</th>\n",
       "      <td>...</td>\n",
       "      <td>...</td>\n",
       "      <td>...</td>\n",
       "      <td>...</td>\n",
       "    </tr>\n",
       "    <tr>\n",
       "      <th>2363</th>\n",
       "      <td>Larceny from MV</td>\n",
       "      <td>202.0</td>\n",
       "      <td>MIT</td>\n",
       "      <td>11</td>\n",
       "    </tr>\n",
       "    <tr>\n",
       "      <th>1313</th>\n",
       "      <td>Hit and Run</td>\n",
       "      <td>603.0</td>\n",
       "      <td>Mid-Cambridge</td>\n",
       "      <td>8</td>\n",
       "    </tr>\n",
       "    <tr>\n",
       "      <th>22224</th>\n",
       "      <td>Housebreak</td>\n",
       "      <td>804.0</td>\n",
       "      <td>Agassiz</td>\n",
       "      <td>10</td>\n",
       "    </tr>\n",
       "    <tr>\n",
       "      <th>13209</th>\n",
       "      <td>Larceny of Services</td>\n",
       "      <td>708.0</td>\n",
       "      <td>Riverside</td>\n",
       "      <td>9</td>\n",
       "    </tr>\n",
       "    <tr>\n",
       "      <th>11532</th>\n",
       "      <td>Shoplifting</td>\n",
       "      <td>102.0</td>\n",
       "      <td>East Cambridge</td>\n",
       "      <td>2</td>\n",
       "    </tr>\n",
       "  </tbody>\n",
       "</table>\n",
       "<p>5000 rows × 4 columns</p>\n",
       "</div>"
      ],
      "text/plain": [
       "                     Crime Reporting Area      Neighborhood  labels\n",
       "26127              Threats          305.0  Inman/Harrington       6\n",
       "512        Larceny from MV          605.0     Mid-Cambridge       8\n",
       "36938            Flim Flam          302.0  Inman/Harrington       6\n",
       "11236  Mal. Dest. Property          107.0    East Cambridge       2\n",
       "16540                  OUI          504.0     Cambridgeport       1\n",
       "...                    ...            ...               ...     ...\n",
       "2363       Larceny from MV          202.0               MIT      11\n",
       "1313           Hit and Run          603.0     Mid-Cambridge       8\n",
       "22224           Housebreak          804.0           Agassiz      10\n",
       "13209  Larceny of Services          708.0         Riverside       9\n",
       "11532          Shoplifting          102.0    East Cambridge       2\n",
       "\n",
       "[5000 rows x 4 columns]"
      ]
     },
     "execution_count": 45,
     "metadata": {},
     "output_type": "execute_result"
    }
   ],
   "source": [
    "X['labels'] = agglomerative_labels\n",
    "X['Crime']  = X['Crime'].astype('category')\n",
    "X['Neighborhood'] = X['Neighborhood'].astype('category')\n",
    "X['Reporting Area']  = X['Reporting Area'].astype('category')\n",
    "X"
   ]
  },
  {
   "cell_type": "code",
   "execution_count": 46,
   "metadata": {
    "cell_id": "1b6a8ceeb76649fcaf1dbe79436e34b1",
    "deepnote_cell_type": "code",
    "deepnote_table_loading": false,
    "deepnote_table_state": {
     "filters": [],
     "pageIndex": 0,
     "pageSize": 10,
     "sortBy": []
    },
    "deepnote_to_be_reexecuted": false,
    "execution_millis": 340,
    "execution_start": 1685409111878,
    "source_hash": "aa8c2aa5"
   },
   "outputs": [
    {
     "data": {
      "application/vnd.deepnote.dataframe.v3+json": {
       "column_count": 8,
       "columns": [
        {
         "dtype": "object",
         "name": "Crime count",
         "stats": {
          "categories": [
           {
            "count": 1,
            "name": "127"
           },
           {
            "count": 1,
            "name": "554"
           },
           {
            "count": 11,
            "name": "11 others"
           }
          ],
          "nan_count": 0,
          "unique_count": 13
         }
        },
        {
         "dtype": "object",
         "name": "Crime unique",
         "stats": {
          "categories": [
           {
            "count": 3,
            "name": "41"
           },
           {
            "count": 1,
            "name": "29"
           },
           {
            "count": 9,
            "name": "9 others"
           }
          ],
          "nan_count": 0,
          "unique_count": 11
         }
        },
        {
         "dtype": "object",
         "name": "Crime top",
         "stats": {
          "categories": [
           {
            "count": 5,
            "name": "Hit and Run"
           },
           {
            "count": 4,
            "name": "Larceny from MV"
           },
           {
            "count": 4,
            "name": "2 others"
           }
          ],
          "nan_count": 0,
          "unique_count": 4
         }
        },
        {
         "dtype": "object",
         "name": "Crime freq",
         "stats": {
          "categories": [
           {
            "count": 2,
            "name": "18"
           },
           {
            "count": 1,
            "name": "52"
           },
           {
            "count": 10,
            "name": "10 others"
           }
          ],
          "nan_count": 0,
          "unique_count": 12
         }
        },
        {
         "dtype": "float64",
         "name": "Reporting Area count",
         "stats": {
          "histogram": [
           {
            "bin_end": 160.2,
            "bin_start": 100,
            "count": 4
           },
           {
            "bin_end": 220.4,
            "bin_start": 160.2,
            "count": 0
           },
           {
            "bin_end": 280.6,
            "bin_start": 220.4,
            "count": 0
           },
           {
            "bin_end": 340.8,
            "bin_start": 280.6,
            "count": 1
           },
           {
            "bin_end": 401,
            "bin_start": 340.8,
            "count": 1
           },
           {
            "bin_end": 461.20000000000005,
            "bin_start": 401,
            "count": 1
           },
           {
            "bin_end": 521.4000000000001,
            "bin_start": 461.20000000000005,
            "count": 3
           },
           {
            "bin_end": 581.6,
            "bin_start": 521.4000000000001,
            "count": 1
           },
           {
            "bin_end": 641.8000000000001,
            "bin_start": 581.6,
            "count": 0
           },
           {
            "bin_end": 702,
            "bin_start": 641.8000000000001,
            "count": 2
           }
          ],
          "max": "702.0",
          "min": "100.0",
          "nan_count": 0,
          "unique_count": 13
         }
        },
        {
         "dtype": "float64",
         "name": "Reporting Area unique",
         "stats": {
          "histogram": [
           {
            "bin_end": 5.2,
            "bin_start": 4,
            "count": 5
           },
           {
            "bin_end": 6.4,
            "bin_start": 5.2,
            "count": 0
           },
           {
            "bin_end": 7.6,
            "bin_start": 6.4,
            "count": 0
           },
           {
            "bin_end": 8.8,
            "bin_start": 7.6,
            "count": 2
           },
           {
            "bin_end": 10,
            "bin_start": 8.8,
            "count": 0
           },
           {
            "bin_end": 11.2,
            "bin_start": 10,
            "count": 2
           },
           {
            "bin_end": 12.4,
            "bin_start": 11.2,
            "count": 0
           },
           {
            "bin_end": 13.6,
            "bin_start": 12.4,
            "count": 3
           },
           {
            "bin_end": 14.799999999999999,
            "bin_start": 13.6,
            "count": 0
           },
           {
            "bin_end": 16,
            "bin_start": 14.799999999999999,
            "count": 1
           }
          ],
          "max": "16.0",
          "min": "4.0",
          "nan_count": 0,
          "unique_count": 6
         }
        },
        {
         "dtype": "float64",
         "name": "Reporting Area top",
         "stats": {
          "histogram": [
           {
            "bin_end": 222.1,
            "bin_start": 102,
            "count": 2
           },
           {
            "bin_end": 342.2,
            "bin_start": 222.1,
            "count": 1
           },
           {
            "bin_end": 462.29999999999995,
            "bin_start": 342.2,
            "count": 1
           },
           {
            "bin_end": 582.4,
            "bin_start": 462.29999999999995,
            "count": 1
           },
           {
            "bin_end": 702.5,
            "bin_start": 582.4,
            "count": 1
           },
           {
            "bin_end": 822.5999999999999,
            "bin_start": 702.5,
            "count": 2
           },
           {
            "bin_end": 942.6999999999999,
            "bin_start": 822.5999999999999,
            "count": 1
           },
           {
            "bin_end": 1062.8,
            "bin_start": 942.6999999999999,
            "count": 1
           },
           {
            "bin_end": 1182.8999999999999,
            "bin_start": 1062.8,
            "count": 1
           },
           {
            "bin_end": 1303,
            "bin_start": 1182.8999999999999,
            "count": 2
           }
          ],
          "max": "1303.0",
          "min": "102.0",
          "nan_count": 0,
          "unique_count": 13
         }
        },
        {
         "dtype": "float64",
         "name": "Reporting Area freq",
         "stats": {
          "histogram": [
           {
            "bin_end": 56.8,
            "bin_start": 38,
            "count": 2
           },
           {
            "bin_end": 75.6,
            "bin_start": 56.8,
            "count": 4
           },
           {
            "bin_end": 94.4,
            "bin_start": 75.6,
            "count": 0
           },
           {
            "bin_end": 113.2,
            "bin_start": 94.4,
            "count": 1
           },
           {
            "bin_end": 132,
            "bin_start": 113.2,
            "count": 1
           },
           {
            "bin_end": 150.8,
            "bin_start": 132,
            "count": 2
           },
           {
            "bin_end": 169.6,
            "bin_start": 150.8,
            "count": 0
           },
           {
            "bin_end": 188.4,
            "bin_start": 169.6,
            "count": 0
           },
           {
            "bin_end": 207.20000000000002,
            "bin_start": 188.4,
            "count": 1
           },
           {
            "bin_end": 226,
            "bin_start": 207.20000000000002,
            "count": 2
           }
          ],
          "max": "226.0",
          "min": "38.0",
          "nan_count": 0,
          "unique_count": 13
         }
        },
        {
         "dtype": "object",
         "name": "_deepnote_index_column"
        }
       ],
       "row_count": 13,
       "rows": [
        {
         "Crime count": "127",
         "Crime freq": "18",
         "Crime top": "Hit and Run",
         "Crime unique": "29",
         "Reporting Area count": 127,
         "Reporting Area freq": 59,
         "Reporting Area top": 804,
         "Reporting Area unique": 5,
         "_deepnote_index_column": "('Agassiz', 10)"
        },
        {
         "Crime count": "554",
         "Crime freq": "52",
         "Crime top": "Domestic Dispute",
         "Crime unique": "41",
         "Reporting Area count": 554,
         "Reporting Area freq": 133,
         "Reporting Area top": 411,
         "Reporting Area unique": 10,
         "_deepnote_index_column": "('Area 4', 7)"
        },
        {
         "Crime count": "683",
         "Crime freq": "66",
         "Crime top": "Larceny from MV",
         "Crime unique": "47",
         "Reporting Area count": 683,
         "Reporting Area freq": 193,
         "Reporting Area top": 501,
         "Reporting Area unique": 10,
         "_deepnote_index_column": "('Cambridgeport', 1)"
        },
        {
         "Crime count": "702",
         "Crime freq": "110",
         "Crime top": "Shoplifting",
         "Crime unique": "44",
         "Reporting Area count": 702,
         "Reporting Area freq": 226,
         "Reporting Area top": 102,
         "Reporting Area unique": 8,
         "_deepnote_index_column": "('East Cambridge', 2)"
        },
        {
         "Crime count": "129",
         "Crime freq": "26",
         "Crime top": "Hit and Run",
         "Crime unique": "28",
         "Reporting Area count": 129,
         "Reporting Area freq": 53,
         "Reporting Area top": 1204,
         "Reporting Area unique": 4,
         "_deepnote_index_column": "('Highlands', 5)"
        },
        {
         "Crime count": "373",
         "Crime freq": "40",
         "Crime top": "Domestic Dispute",
         "Crime unique": "41",
         "Reporting Area count": 373,
         "Reporting Area freq": 138,
         "Reporting Area top": 305,
         "Reporting Area unique": 5,
         "_deepnote_index_column": "('Inman/Harrington', 6)"
        },
        {
         "Crime count": "100",
         "Crime freq": "18",
         "Crime top": "Hit and Run",
         "Crime unique": "24",
         "Reporting Area count": 100,
         "Reporting Area freq": 38,
         "Reporting Area top": 201,
         "Reporting Area unique": 5,
         "_deepnote_index_column": "('MIT', 11)"
        },
        {
         "Crime count": "468",
         "Crime freq": "47",
         "Crime top": "Hit and Run",
         "Crime unique": "37",
         "Reporting Area count": 468,
         "Reporting Area freq": 73,
         "Reporting Area top": 602,
         "Reporting Area unique": 13,
         "_deepnote_index_column": "('Mid-Cambridge', 8)"
        },
        {
         "Crime count": "513",
         "Crime freq": "69",
         "Crime top": "Hit and Run",
         "Crime unique": "42",
         "Reporting Area count": 513,
         "Reporting Area freq": 106,
         "Reporting Area top": 1101,
         "Reporting Area unique": 13,
         "_deepnote_index_column": "('North Cambridge', 3)"
        },
        {
         "Crime count": "316",
         "Crime freq": "43",
         "Crime top": "Larceny from MV",
         "Crime unique": "34",
         "Reporting Area count": 316,
         "Reporting Area freq": 72,
         "Reporting Area top": 910,
         "Reporting Area unique": 13,
         "_deepnote_index_column": "('Peabody', 4)"
        }
       ]
      },
      "text/html": [
       "<div>\n",
       "<style scoped>\n",
       "    .dataframe tbody tr th:only-of-type {\n",
       "        vertical-align: middle;\n",
       "    }\n",
       "\n",
       "    .dataframe tbody tr th {\n",
       "        vertical-align: top;\n",
       "    }\n",
       "\n",
       "    .dataframe thead tr th {\n",
       "        text-align: left;\n",
       "    }\n",
       "\n",
       "    .dataframe thead tr:last-of-type th {\n",
       "        text-align: right;\n",
       "    }\n",
       "</style>\n",
       "<table border=\"1\" class=\"dataframe\">\n",
       "  <thead>\n",
       "    <tr>\n",
       "      <th></th>\n",
       "      <th></th>\n",
       "      <th colspan=\"4\" halign=\"left\">Crime</th>\n",
       "      <th colspan=\"4\" halign=\"left\">Reporting Area</th>\n",
       "    </tr>\n",
       "    <tr>\n",
       "      <th></th>\n",
       "      <th></th>\n",
       "      <th>count</th>\n",
       "      <th>unique</th>\n",
       "      <th>top</th>\n",
       "      <th>freq</th>\n",
       "      <th>count</th>\n",
       "      <th>unique</th>\n",
       "      <th>top</th>\n",
       "      <th>freq</th>\n",
       "    </tr>\n",
       "    <tr>\n",
       "      <th>Neighborhood</th>\n",
       "      <th>labels</th>\n",
       "      <th></th>\n",
       "      <th></th>\n",
       "      <th></th>\n",
       "      <th></th>\n",
       "      <th></th>\n",
       "      <th></th>\n",
       "      <th></th>\n",
       "      <th></th>\n",
       "    </tr>\n",
       "  </thead>\n",
       "  <tbody>\n",
       "    <tr>\n",
       "      <th>Agassiz</th>\n",
       "      <th>10</th>\n",
       "      <td>127</td>\n",
       "      <td>29</td>\n",
       "      <td>Hit and Run</td>\n",
       "      <td>18</td>\n",
       "      <td>127.0</td>\n",
       "      <td>5.0</td>\n",
       "      <td>804.0</td>\n",
       "      <td>59.0</td>\n",
       "    </tr>\n",
       "    <tr>\n",
       "      <th>Area 4</th>\n",
       "      <th>7</th>\n",
       "      <td>554</td>\n",
       "      <td>41</td>\n",
       "      <td>Domestic Dispute</td>\n",
       "      <td>52</td>\n",
       "      <td>554.0</td>\n",
       "      <td>10.0</td>\n",
       "      <td>411.0</td>\n",
       "      <td>133.0</td>\n",
       "    </tr>\n",
       "    <tr>\n",
       "      <th>Cambridgeport</th>\n",
       "      <th>1</th>\n",
       "      <td>683</td>\n",
       "      <td>47</td>\n",
       "      <td>Larceny from MV</td>\n",
       "      <td>66</td>\n",
       "      <td>683.0</td>\n",
       "      <td>10.0</td>\n",
       "      <td>501.0</td>\n",
       "      <td>193.0</td>\n",
       "    </tr>\n",
       "    <tr>\n",
       "      <th>East Cambridge</th>\n",
       "      <th>2</th>\n",
       "      <td>702</td>\n",
       "      <td>44</td>\n",
       "      <td>Shoplifting</td>\n",
       "      <td>110</td>\n",
       "      <td>702.0</td>\n",
       "      <td>8.0</td>\n",
       "      <td>102.0</td>\n",
       "      <td>226.0</td>\n",
       "    </tr>\n",
       "    <tr>\n",
       "      <th>Highlands</th>\n",
       "      <th>5</th>\n",
       "      <td>129</td>\n",
       "      <td>28</td>\n",
       "      <td>Hit and Run</td>\n",
       "      <td>26</td>\n",
       "      <td>129.0</td>\n",
       "      <td>4.0</td>\n",
       "      <td>1204.0</td>\n",
       "      <td>53.0</td>\n",
       "    </tr>\n",
       "    <tr>\n",
       "      <th>Inman/Harrington</th>\n",
       "      <th>6</th>\n",
       "      <td>373</td>\n",
       "      <td>41</td>\n",
       "      <td>Domestic Dispute</td>\n",
       "      <td>40</td>\n",
       "      <td>373.0</td>\n",
       "      <td>5.0</td>\n",
       "      <td>305.0</td>\n",
       "      <td>138.0</td>\n",
       "    </tr>\n",
       "    <tr>\n",
       "      <th>MIT</th>\n",
       "      <th>11</th>\n",
       "      <td>100</td>\n",
       "      <td>24</td>\n",
       "      <td>Hit and Run</td>\n",
       "      <td>18</td>\n",
       "      <td>100.0</td>\n",
       "      <td>5.0</td>\n",
       "      <td>201.0</td>\n",
       "      <td>38.0</td>\n",
       "    </tr>\n",
       "    <tr>\n",
       "      <th>Mid-Cambridge</th>\n",
       "      <th>8</th>\n",
       "      <td>468</td>\n",
       "      <td>37</td>\n",
       "      <td>Hit and Run</td>\n",
       "      <td>47</td>\n",
       "      <td>468.0</td>\n",
       "      <td>13.0</td>\n",
       "      <td>602.0</td>\n",
       "      <td>73.0</td>\n",
       "    </tr>\n",
       "    <tr>\n",
       "      <th>North Cambridge</th>\n",
       "      <th>3</th>\n",
       "      <td>513</td>\n",
       "      <td>42</td>\n",
       "      <td>Hit and Run</td>\n",
       "      <td>69</td>\n",
       "      <td>513.0</td>\n",
       "      <td>13.0</td>\n",
       "      <td>1101.0</td>\n",
       "      <td>106.0</td>\n",
       "    </tr>\n",
       "    <tr>\n",
       "      <th>Peabody</th>\n",
       "      <th>4</th>\n",
       "      <td>316</td>\n",
       "      <td>34</td>\n",
       "      <td>Larceny from MV</td>\n",
       "      <td>43</td>\n",
       "      <td>316.0</td>\n",
       "      <td>13.0</td>\n",
       "      <td>910.0</td>\n",
       "      <td>72.0</td>\n",
       "    </tr>\n",
       "    <tr>\n",
       "      <th>Riverside</th>\n",
       "      <th>9</th>\n",
       "      <td>470</td>\n",
       "      <td>43</td>\n",
       "      <td>Larceny from MV</td>\n",
       "      <td>37</td>\n",
       "      <td>470.0</td>\n",
       "      <td>8.0</td>\n",
       "      <td>708.0</td>\n",
       "      <td>119.0</td>\n",
       "    </tr>\n",
       "    <tr>\n",
       "      <th>Strawberry Hill</th>\n",
       "      <th>12</th>\n",
       "      <td>105</td>\n",
       "      <td>26</td>\n",
       "      <td>Domestic Dispute</td>\n",
       "      <td>21</td>\n",
       "      <td>105.0</td>\n",
       "      <td>4.0</td>\n",
       "      <td>1303.0</td>\n",
       "      <td>68.0</td>\n",
       "    </tr>\n",
       "    <tr>\n",
       "      <th>West Cambridge</th>\n",
       "      <th>0</th>\n",
       "      <td>460</td>\n",
       "      <td>41</td>\n",
       "      <td>Larceny from MV</td>\n",
       "      <td>49</td>\n",
       "      <td>460.0</td>\n",
       "      <td>16.0</td>\n",
       "      <td>1002.0</td>\n",
       "      <td>213.0</td>\n",
       "    </tr>\n",
       "  </tbody>\n",
       "</table>\n",
       "</div>"
      ],
      "text/plain": [
       "                        Crime                               Reporting Area  \\\n",
       "                        count unique               top freq          count   \n",
       "Neighborhood     labels                                                      \n",
       "Agassiz          10       127     29       Hit and Run   18          127.0   \n",
       "Area 4           7        554     41  Domestic Dispute   52          554.0   \n",
       "Cambridgeport    1        683     47   Larceny from MV   66          683.0   \n",
       "East Cambridge   2        702     44       Shoplifting  110          702.0   \n",
       "Highlands        5        129     28       Hit and Run   26          129.0   \n",
       "Inman/Harrington 6        373     41  Domestic Dispute   40          373.0   \n",
       "MIT              11       100     24       Hit and Run   18          100.0   \n",
       "Mid-Cambridge    8        468     37       Hit and Run   47          468.0   \n",
       "North Cambridge  3        513     42       Hit and Run   69          513.0   \n",
       "Peabody          4        316     34   Larceny from MV   43          316.0   \n",
       "Riverside        9        470     43   Larceny from MV   37          470.0   \n",
       "Strawberry Hill  12       105     26  Domestic Dispute   21          105.0   \n",
       "West Cambridge   0        460     41   Larceny from MV   49          460.0   \n",
       "\n",
       "                                               \n",
       "                        unique     top   freq  \n",
       "Neighborhood     labels                        \n",
       "Agassiz          10        5.0   804.0   59.0  \n",
       "Area 4           7        10.0   411.0  133.0  \n",
       "Cambridgeport    1        10.0   501.0  193.0  \n",
       "East Cambridge   2         8.0   102.0  226.0  \n",
       "Highlands        5         4.0  1204.0   53.0  \n",
       "Inman/Harrington 6         5.0   305.0  138.0  \n",
       "MIT              11        5.0   201.0   38.0  \n",
       "Mid-Cambridge    8        13.0   602.0   73.0  \n",
       "North Cambridge  3        13.0  1101.0  106.0  \n",
       "Peabody          4        13.0   910.0   72.0  \n",
       "Riverside        9         8.0   708.0  119.0  \n",
       "Strawberry Hill  12        4.0  1303.0   68.0  \n",
       "West Cambridge   0        16.0  1002.0  213.0  "
      ]
     },
     "execution_count": 47,
     "metadata": {},
     "output_type": "execute_result"
    }
   ],
   "source": [
    "X.groupby(['Neighborhood', 'labels']).describe()"
   ]
  },
  {
   "cell_type": "markdown",
   "metadata": {
    "cell_id": "7245f4074bd94582b2b91a01c71cf663",
    "deepnote_cell_type": "markdown"
   },
   "source": [
    "Podemos ver que cada cluster es un barrio, y que todos estos cluster tienen un comportamiento bien diferenciados algunos con una alta variedad de crímenes y tasa de criminalidad alta (en comparación con las demás, en otros casos con una tasa de criminalidad baja). Los crímenes más frecuentes entre todos los barrios son 'Hit and run' junto con 'Domestic dispute' y 'Larceny from MV'."
   ]
  },
  {
   "cell_type": "markdown",
   "metadata": {
    "created_in_deepnote_cell": true,
    "deepnote_cell_type": "markdown"
   },
   "source": [
    "<a style='text-decoration:none;line-height:16px;display:flex;color:#5B5B62;padding:10px;justify-content:end;' href='https://deepnote.com?utm_source=created-in-deepnote-cell&projectId=5d338314-37da-4a6e-92e9-b11372bba21a' target=\"_blank\">\n",
    "<img alt='Created in deepnote.com' style='display:inline;max-height:16px;margin:0px;margin-right:7.5px;' src='data:image/svg+xml;base64,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' > </img>\n",
    "Created in <span style='font-weight:600;margin-left:4px;'>Deepnote</span></a>"
   ]
  }
 ],
 "metadata": {
  "deepnote": {},
  "deepnote_execution_queue": [],
  "deepnote_notebook_id": "4d20c65b9c20426496feb55c0daf8161",
  "deepnote_persisted_session": {
   "createdAt": "2023-05-28T01:02:21.026Z"
  },
  "kernelspec": {
   "display_name": "Python 3 (ipykernel)",
   "language": "python",
   "name": "python3"
  },
  "language_info": {
   "codemirror_mode": {
    "name": "ipython",
    "version": 3
   },
   "file_extension": ".py",
   "mimetype": "text/x-python",
   "name": "python",
   "nbconvert_exporter": "python",
   "pygments_lexer": "ipython3",
   "version": "3.9.7"
  }
 },
 "nbformat": 4,
 "nbformat_minor": 1
}
