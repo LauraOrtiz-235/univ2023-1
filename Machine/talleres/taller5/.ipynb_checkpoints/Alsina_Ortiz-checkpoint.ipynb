{
 "cells": [
  {
   "cell_type": "markdown",
   "metadata": {
    "cell_id": "122e0dc3393e4805a024c652de39ea35",
    "deepnote_cell_type": "markdown",
    "id": "MtJzIS1HeOsb"
   },
   "source": [
    "## Red neuronal para predicción de alquiler de bicicletas\n",
    "\n",
    "Construiremos una red neuronal, esta vez para un problema de regresión: predicción de la cantidad de bicicletas alquiladas, según el conjunto de datos *bikeshare_hour*, el cuál se proveerá. Adicionalmente, en esta ocasión encontraremos el mejor modelo usando un conjunto de validación.\n",
    "\n",
    "Cargar en formato .ipynb o .html en aulas a más tardar el día lunes 17 de marzo."
   ]
  },
  {
   "cell_type": "code",
   "execution_count": 53,
   "metadata": {
    "cell_id": "58f1871281b54dd6bb54b2fe761f9ffb",
    "deepnote_cell_type": "code",
    "deepnote_to_be_reexecuted": false,
    "execution_millis": 1,
    "execution_start": 1679609595504,
    "id": "kyuH3kGIVku9",
    "source_hash": "361ced78"
   },
   "outputs": [],
   "source": [
    "import numpy as np\n",
    "import pandas as pd\n",
    "import matplotlib.pyplot as plt\n",
    "\n",
    "from sklearn.model_selection import train_test_split\n",
    "\n",
    "import torch\n",
    "import torch.nn as nn\n",
    "import torch.nn.functional as F\n",
    "import torch.utils.data \n",
    "from torch.utils.data import DataLoader\n",
    "from torch.utils.data import TensorDataset"
   ]
  },
  {
   "cell_type": "markdown",
   "metadata": {
    "cell_id": "174b444d40f84d9183486581089ee3fd",
    "deepnote_cell_type": "markdown",
    "id": "EdmFWlr2eN2E"
   },
   "source": [
    "### Cargar y preparar los datos\n",
    "\n",
    "Un paso muy importante en redes neuronales es preparar correctamente los datos. Variables con diferentes escalas le dificulta a la red aprender eficientemente los pesos correctos. \n"
   ]
  },
  {
   "cell_type": "code",
   "execution_count": 2,
   "metadata": {
    "cell_id": "d9d8e014783a4547a66341531d00bf40",
    "deepnote_cell_type": "code",
    "deepnote_to_be_reexecuted": false,
    "execution_millis": 174,
    "execution_start": 1679608593003,
    "id": "KooB2GeojdYl",
    "source_hash": "417d10bd"
   },
   "outputs": [
    {
     "data": {
      "application/vnd.deepnote.dataframe.v3+json": {
       "column_count": 17,
       "columns": [
        {
         "dtype": "int64",
         "name": "instant",
         "stats": {
          "histogram": [
           {
            "bin_end": 1.4,
            "bin_start": 1,
            "count": 1
           },
           {
            "bin_end": 1.8,
            "bin_start": 1.4,
            "count": 0
           },
           {
            "bin_end": 2.2,
            "bin_start": 1.8,
            "count": 1
           },
           {
            "bin_end": 2.6,
            "bin_start": 2.2,
            "count": 0
           },
           {
            "bin_end": 3,
            "bin_start": 2.6,
            "count": 0
           },
           {
            "bin_end": 3.4000000000000004,
            "bin_start": 3,
            "count": 1
           },
           {
            "bin_end": 3.8000000000000003,
            "bin_start": 3.4000000000000004,
            "count": 0
           },
           {
            "bin_end": 4.2,
            "bin_start": 3.8000000000000003,
            "count": 1
           },
           {
            "bin_end": 4.6,
            "bin_start": 4.2,
            "count": 0
           },
           {
            "bin_end": 5,
            "bin_start": 4.6,
            "count": 1
           }
          ],
          "max": "5",
          "min": "1",
          "nan_count": 0,
          "unique_count": 5
         }
        },
        {
         "dtype": "object",
         "name": "dteday",
         "stats": {
          "categories": [
           {
            "count": 5,
            "name": "2011-01-01"
           }
          ],
          "nan_count": 0,
          "unique_count": 1
         }
        },
        {
         "dtype": "int64",
         "name": "season",
         "stats": {
          "histogram": [
           {
            "bin_end": 0.6,
            "bin_start": 0.5,
            "count": 0
           },
           {
            "bin_end": 0.7,
            "bin_start": 0.6,
            "count": 0
           },
           {
            "bin_end": 0.8,
            "bin_start": 0.7,
            "count": 0
           },
           {
            "bin_end": 0.9,
            "bin_start": 0.8,
            "count": 0
           },
           {
            "bin_end": 1,
            "bin_start": 0.9,
            "count": 0
           },
           {
            "bin_end": 1.1,
            "bin_start": 1,
            "count": 5
           },
           {
            "bin_end": 1.2000000000000002,
            "bin_start": 1.1,
            "count": 0
           },
           {
            "bin_end": 1.3,
            "bin_start": 1.2000000000000002,
            "count": 0
           },
           {
            "bin_end": 1.4,
            "bin_start": 1.3,
            "count": 0
           },
           {
            "bin_end": 1.5,
            "bin_start": 1.4,
            "count": 0
           }
          ],
          "max": "1",
          "min": "1",
          "nan_count": 0,
          "unique_count": 1
         }
        },
        {
         "dtype": "int64",
         "name": "yr",
         "stats": {
          "histogram": [
           {
            "bin_end": -0.4,
            "bin_start": -0.5,
            "count": 0
           },
           {
            "bin_end": -0.3,
            "bin_start": -0.4,
            "count": 0
           },
           {
            "bin_end": -0.19999999999999996,
            "bin_start": -0.3,
            "count": 0
           },
           {
            "bin_end": -0.09999999999999998,
            "bin_start": -0.19999999999999996,
            "count": 0
           },
           {
            "bin_end": 0,
            "bin_start": -0.09999999999999998,
            "count": 0
           },
           {
            "bin_end": 0.10000000000000009,
            "bin_start": 0,
            "count": 5
           },
           {
            "bin_end": 0.20000000000000007,
            "bin_start": 0.10000000000000009,
            "count": 0
           },
           {
            "bin_end": 0.30000000000000004,
            "bin_start": 0.20000000000000007,
            "count": 0
           },
           {
            "bin_end": 0.4,
            "bin_start": 0.30000000000000004,
            "count": 0
           },
           {
            "bin_end": 0.5,
            "bin_start": 0.4,
            "count": 0
           }
          ],
          "max": "0",
          "min": "0",
          "nan_count": 0,
          "unique_count": 1
         }
        },
        {
         "dtype": "int64",
         "name": "mnth",
         "stats": {
          "histogram": [
           {
            "bin_end": 0.6,
            "bin_start": 0.5,
            "count": 0
           },
           {
            "bin_end": 0.7,
            "bin_start": 0.6,
            "count": 0
           },
           {
            "bin_end": 0.8,
            "bin_start": 0.7,
            "count": 0
           },
           {
            "bin_end": 0.9,
            "bin_start": 0.8,
            "count": 0
           },
           {
            "bin_end": 1,
            "bin_start": 0.9,
            "count": 0
           },
           {
            "bin_end": 1.1,
            "bin_start": 1,
            "count": 5
           },
           {
            "bin_end": 1.2000000000000002,
            "bin_start": 1.1,
            "count": 0
           },
           {
            "bin_end": 1.3,
            "bin_start": 1.2000000000000002,
            "count": 0
           },
           {
            "bin_end": 1.4,
            "bin_start": 1.3,
            "count": 0
           },
           {
            "bin_end": 1.5,
            "bin_start": 1.4,
            "count": 0
           }
          ],
          "max": "1",
          "min": "1",
          "nan_count": 0,
          "unique_count": 1
         }
        },
        {
         "dtype": "int64",
         "name": "hr",
         "stats": {
          "histogram": [
           {
            "bin_end": 0.4,
            "bin_start": 0,
            "count": 1
           },
           {
            "bin_end": 0.8,
            "bin_start": 0.4,
            "count": 0
           },
           {
            "bin_end": 1.2000000000000002,
            "bin_start": 0.8,
            "count": 1
           },
           {
            "bin_end": 1.6,
            "bin_start": 1.2000000000000002,
            "count": 0
           },
           {
            "bin_end": 2,
            "bin_start": 1.6,
            "count": 0
           },
           {
            "bin_end": 2.4000000000000004,
            "bin_start": 2,
            "count": 1
           },
           {
            "bin_end": 2.8000000000000003,
            "bin_start": 2.4000000000000004,
            "count": 0
           },
           {
            "bin_end": 3.2,
            "bin_start": 2.8000000000000003,
            "count": 1
           },
           {
            "bin_end": 3.6,
            "bin_start": 3.2,
            "count": 0
           },
           {
            "bin_end": 4,
            "bin_start": 3.6,
            "count": 1
           }
          ],
          "max": "4",
          "min": "0",
          "nan_count": 0,
          "unique_count": 5
         }
        },
        {
         "dtype": "int64",
         "name": "holiday",
         "stats": {
          "histogram": [
           {
            "bin_end": -0.4,
            "bin_start": -0.5,
            "count": 0
           },
           {
            "bin_end": -0.3,
            "bin_start": -0.4,
            "count": 0
           },
           {
            "bin_end": -0.19999999999999996,
            "bin_start": -0.3,
            "count": 0
           },
           {
            "bin_end": -0.09999999999999998,
            "bin_start": -0.19999999999999996,
            "count": 0
           },
           {
            "bin_end": 0,
            "bin_start": -0.09999999999999998,
            "count": 0
           },
           {
            "bin_end": 0.10000000000000009,
            "bin_start": 0,
            "count": 5
           },
           {
            "bin_end": 0.20000000000000007,
            "bin_start": 0.10000000000000009,
            "count": 0
           },
           {
            "bin_end": 0.30000000000000004,
            "bin_start": 0.20000000000000007,
            "count": 0
           },
           {
            "bin_end": 0.4,
            "bin_start": 0.30000000000000004,
            "count": 0
           },
           {
            "bin_end": 0.5,
            "bin_start": 0.4,
            "count": 0
           }
          ],
          "max": "0",
          "min": "0",
          "nan_count": 0,
          "unique_count": 1
         }
        },
        {
         "dtype": "int64",
         "name": "weekday",
         "stats": {
          "histogram": [
           {
            "bin_end": 5.6,
            "bin_start": 5.5,
            "count": 0
           },
           {
            "bin_end": 5.7,
            "bin_start": 5.6,
            "count": 0
           },
           {
            "bin_end": 5.8,
            "bin_start": 5.7,
            "count": 0
           },
           {
            "bin_end": 5.9,
            "bin_start": 5.8,
            "count": 0
           },
           {
            "bin_end": 6,
            "bin_start": 5.9,
            "count": 0
           },
           {
            "bin_end": 6.1,
            "bin_start": 6,
            "count": 5
           },
           {
            "bin_end": 6.2,
            "bin_start": 6.1,
            "count": 0
           },
           {
            "bin_end": 6.3,
            "bin_start": 6.2,
            "count": 0
           },
           {
            "bin_end": 6.4,
            "bin_start": 6.3,
            "count": 0
           },
           {
            "bin_end": 6.5,
            "bin_start": 6.4,
            "count": 0
           }
          ],
          "max": "6",
          "min": "6",
          "nan_count": 0,
          "unique_count": 1
         }
        },
        {
         "dtype": "int64",
         "name": "workingday",
         "stats": {
          "histogram": [
           {
            "bin_end": -0.4,
            "bin_start": -0.5,
            "count": 0
           },
           {
            "bin_end": -0.3,
            "bin_start": -0.4,
            "count": 0
           },
           {
            "bin_end": -0.19999999999999996,
            "bin_start": -0.3,
            "count": 0
           },
           {
            "bin_end": -0.09999999999999998,
            "bin_start": -0.19999999999999996,
            "count": 0
           },
           {
            "bin_end": 0,
            "bin_start": -0.09999999999999998,
            "count": 0
           },
           {
            "bin_end": 0.10000000000000009,
            "bin_start": 0,
            "count": 5
           },
           {
            "bin_end": 0.20000000000000007,
            "bin_start": 0.10000000000000009,
            "count": 0
           },
           {
            "bin_end": 0.30000000000000004,
            "bin_start": 0.20000000000000007,
            "count": 0
           },
           {
            "bin_end": 0.4,
            "bin_start": 0.30000000000000004,
            "count": 0
           },
           {
            "bin_end": 0.5,
            "bin_start": 0.4,
            "count": 0
           }
          ],
          "max": "0",
          "min": "0",
          "nan_count": 0,
          "unique_count": 1
         }
        },
        {
         "dtype": "int64",
         "name": "weathersit",
         "stats": {
          "histogram": [
           {
            "bin_end": 0.6,
            "bin_start": 0.5,
            "count": 0
           },
           {
            "bin_end": 0.7,
            "bin_start": 0.6,
            "count": 0
           },
           {
            "bin_end": 0.8,
            "bin_start": 0.7,
            "count": 0
           },
           {
            "bin_end": 0.9,
            "bin_start": 0.8,
            "count": 0
           },
           {
            "bin_end": 1,
            "bin_start": 0.9,
            "count": 0
           },
           {
            "bin_end": 1.1,
            "bin_start": 1,
            "count": 5
           },
           {
            "bin_end": 1.2000000000000002,
            "bin_start": 1.1,
            "count": 0
           },
           {
            "bin_end": 1.3,
            "bin_start": 1.2000000000000002,
            "count": 0
           },
           {
            "bin_end": 1.4,
            "bin_start": 1.3,
            "count": 0
           },
           {
            "bin_end": 1.5,
            "bin_start": 1.4,
            "count": 0
           }
          ],
          "max": "1",
          "min": "1",
          "nan_count": 0,
          "unique_count": 1
         }
        },
        {
         "dtype": "float64",
         "name": "temp",
         "stats": {
          "histogram": [
           {
            "bin_end": 0.222,
            "bin_start": 0.22,
            "count": 2
           },
           {
            "bin_end": 0.224,
            "bin_start": 0.222,
            "count": 0
           },
           {
            "bin_end": 0.226,
            "bin_start": 0.224,
            "count": 0
           },
           {
            "bin_end": 0.228,
            "bin_start": 0.226,
            "count": 0
           },
           {
            "bin_end": 0.22999999999999998,
            "bin_start": 0.228,
            "count": 0
           },
           {
            "bin_end": 0.23199999999999998,
            "bin_start": 0.22999999999999998,
            "count": 0
           },
           {
            "bin_end": 0.23399999999999999,
            "bin_start": 0.23199999999999998,
            "count": 0
           },
           {
            "bin_end": 0.236,
            "bin_start": 0.23399999999999999,
            "count": 0
           },
           {
            "bin_end": 0.238,
            "bin_start": 0.236,
            "count": 0
           },
           {
            "bin_end": 0.24,
            "bin_start": 0.238,
            "count": 3
           }
          ],
          "max": "0.24",
          "min": "0.22",
          "nan_count": 0,
          "unique_count": 2
         }
        },
        {
         "dtype": "float64",
         "name": "atemp",
         "stats": {
          "histogram": [
           {
            "bin_end": 0.27422,
            "bin_start": 0.2727,
            "count": 2
           },
           {
            "bin_end": 0.27574,
            "bin_start": 0.27422,
            "count": 0
           },
           {
            "bin_end": 0.27726,
            "bin_start": 0.27574,
            "count": 0
           },
           {
            "bin_end": 0.27878,
            "bin_start": 0.27726,
            "count": 0
           },
           {
            "bin_end": 0.2803,
            "bin_start": 0.27878,
            "count": 0
           },
           {
            "bin_end": 0.28182,
            "bin_start": 0.2803,
            "count": 0
           },
           {
            "bin_end": 0.28334,
            "bin_start": 0.28182,
            "count": 0
           },
           {
            "bin_end": 0.28486,
            "bin_start": 0.28334,
            "count": 0
           },
           {
            "bin_end": 0.28637999999999997,
            "bin_start": 0.28486,
            "count": 0
           },
           {
            "bin_end": 0.2879,
            "bin_start": 0.28637999999999997,
            "count": 3
           }
          ],
          "max": "0.2879",
          "min": "0.2727",
          "nan_count": 0,
          "unique_count": 2
         }
        },
        {
         "dtype": "float64",
         "name": "hum",
         "stats": {
          "histogram": [
           {
            "bin_end": 0.756,
            "bin_start": 0.75,
            "count": 2
           },
           {
            "bin_end": 0.762,
            "bin_start": 0.756,
            "count": 0
           },
           {
            "bin_end": 0.768,
            "bin_start": 0.762,
            "count": 0
           },
           {
            "bin_end": 0.774,
            "bin_start": 0.768,
            "count": 0
           },
           {
            "bin_end": 0.78,
            "bin_start": 0.774,
            "count": 0
           },
           {
            "bin_end": 0.786,
            "bin_start": 0.78,
            "count": 0
           },
           {
            "bin_end": 0.792,
            "bin_start": 0.786,
            "count": 0
           },
           {
            "bin_end": 0.798,
            "bin_start": 0.792,
            "count": 0
           },
           {
            "bin_end": 0.804,
            "bin_start": 0.798,
            "count": 2
           },
           {
            "bin_end": 0.81,
            "bin_start": 0.804,
            "count": 1
           }
          ],
          "max": "0.81",
          "min": "0.75",
          "nan_count": 0,
          "unique_count": 3
         }
        },
        {
         "dtype": "float64",
         "name": "windspeed",
         "stats": {
          "histogram": [
           {
            "bin_end": -0.4,
            "bin_start": -0.5,
            "count": 0
           },
           {
            "bin_end": -0.3,
            "bin_start": -0.4,
            "count": 0
           },
           {
            "bin_end": -0.19999999999999996,
            "bin_start": -0.3,
            "count": 0
           },
           {
            "bin_end": -0.09999999999999998,
            "bin_start": -0.19999999999999996,
            "count": 0
           },
           {
            "bin_end": 0,
            "bin_start": -0.09999999999999998,
            "count": 0
           },
           {
            "bin_end": 0.10000000000000009,
            "bin_start": 0,
            "count": 5
           },
           {
            "bin_end": 0.20000000000000007,
            "bin_start": 0.10000000000000009,
            "count": 0
           },
           {
            "bin_end": 0.30000000000000004,
            "bin_start": 0.20000000000000007,
            "count": 0
           },
           {
            "bin_end": 0.4,
            "bin_start": 0.30000000000000004,
            "count": 0
           },
           {
            "bin_end": 0.5,
            "bin_start": 0.4,
            "count": 0
           }
          ],
          "max": "0.0",
          "min": "0.0",
          "nan_count": 0,
          "unique_count": 1
         }
        },
        {
         "dtype": "int64",
         "name": "casual",
         "stats": {
          "histogram": [
           {
            "bin_end": 0.8,
            "bin_start": 0,
            "count": 1
           },
           {
            "bin_end": 1.6,
            "bin_start": 0.8,
            "count": 0
           },
           {
            "bin_end": 2.4000000000000004,
            "bin_start": 1.6,
            "count": 0
           },
           {
            "bin_end": 3.2,
            "bin_start": 2.4000000000000004,
            "count": 2
           },
           {
            "bin_end": 4,
            "bin_start": 3.2,
            "count": 0
           },
           {
            "bin_end": 4.800000000000001,
            "bin_start": 4,
            "count": 0
           },
           {
            "bin_end": 5.6000000000000005,
            "bin_start": 4.800000000000001,
            "count": 1
           },
           {
            "bin_end": 6.4,
            "bin_start": 5.6000000000000005,
            "count": 0
           },
           {
            "bin_end": 7.2,
            "bin_start": 6.4,
            "count": 0
           },
           {
            "bin_end": 8,
            "bin_start": 7.2,
            "count": 1
           }
          ],
          "max": "8",
          "min": "0",
          "nan_count": 0,
          "unique_count": 4
         }
        },
        {
         "dtype": "int64",
         "name": "registered",
         "stats": {
          "histogram": [
           {
            "bin_end": 4.1,
            "bin_start": 1,
            "count": 1
           },
           {
            "bin_end": 7.2,
            "bin_start": 4.1,
            "count": 0
           },
           {
            "bin_end": 10.3,
            "bin_start": 7.2,
            "count": 1
           },
           {
            "bin_end": 13.4,
            "bin_start": 10.3,
            "count": 1
           },
           {
            "bin_end": 16.5,
            "bin_start": 13.4,
            "count": 0
           },
           {
            "bin_end": 19.6,
            "bin_start": 16.5,
            "count": 0
           },
           {
            "bin_end": 22.7,
            "bin_start": 19.6,
            "count": 0
           },
           {
            "bin_end": 25.8,
            "bin_start": 22.7,
            "count": 0
           },
           {
            "bin_end": 28.900000000000002,
            "bin_start": 25.8,
            "count": 1
           },
           {
            "bin_end": 32,
            "bin_start": 28.900000000000002,
            "count": 1
           }
          ],
          "max": "32",
          "min": "1",
          "nan_count": 0,
          "unique_count": 5
         }
        },
        {
         "dtype": "int64",
         "name": "cnt",
         "stats": {
          "histogram": [
           {
            "bin_end": 4.9,
            "bin_start": 1,
            "count": 1
           },
           {
            "bin_end": 8.8,
            "bin_start": 4.9,
            "count": 0
           },
           {
            "bin_end": 12.7,
            "bin_start": 8.8,
            "count": 0
           },
           {
            "bin_end": 16.6,
            "bin_start": 12.7,
            "count": 2
           },
           {
            "bin_end": 20.5,
            "bin_start": 16.6,
            "count": 0
           },
           {
            "bin_end": 24.4,
            "bin_start": 20.5,
            "count": 0
           },
           {
            "bin_end": 28.3,
            "bin_start": 24.4,
            "count": 0
           },
           {
            "bin_end": 32.2,
            "bin_start": 28.3,
            "count": 1
           },
           {
            "bin_end": 36.1,
            "bin_start": 32.2,
            "count": 0
           },
           {
            "bin_end": 40,
            "bin_start": 36.1,
            "count": 1
           }
          ],
          "max": "40",
          "min": "1",
          "nan_count": 0,
          "unique_count": 5
         }
        },
        {
         "dtype": "int64",
         "name": "_deepnote_index_column"
        }
       ],
       "row_count": 5,
       "rows": [
        {
         "_deepnote_index_column": "0",
         "atemp": "0.2879",
         "casual": "3",
         "cnt": "16",
         "dteday": "2011-01-01",
         "holiday": "0",
         "hr": "0",
         "hum": "0.81",
         "instant": "1",
         "mnth": "1",
         "registered": "13",
         "season": "1",
         "temp": "0.24",
         "weathersit": "1",
         "weekday": "6",
         "windspeed": "0.0",
         "workingday": "0",
         "yr": "0"
        },
        {
         "_deepnote_index_column": "1",
         "atemp": "0.2727",
         "casual": "8",
         "cnt": "40",
         "dteday": "2011-01-01",
         "holiday": "0",
         "hr": "1",
         "hum": "0.8",
         "instant": "2",
         "mnth": "1",
         "registered": "32",
         "season": "1",
         "temp": "0.22",
         "weathersit": "1",
         "weekday": "6",
         "windspeed": "0.0",
         "workingday": "0",
         "yr": "0"
        },
        {
         "_deepnote_index_column": "2",
         "atemp": "0.2727",
         "casual": "5",
         "cnt": "32",
         "dteday": "2011-01-01",
         "holiday": "0",
         "hr": "2",
         "hum": "0.8",
         "instant": "3",
         "mnth": "1",
         "registered": "27",
         "season": "1",
         "temp": "0.22",
         "weathersit": "1",
         "weekday": "6",
         "windspeed": "0.0",
         "workingday": "0",
         "yr": "0"
        },
        {
         "_deepnote_index_column": "3",
         "atemp": "0.2879",
         "casual": "3",
         "cnt": "13",
         "dteday": "2011-01-01",
         "holiday": "0",
         "hr": "3",
         "hum": "0.75",
         "instant": "4",
         "mnth": "1",
         "registered": "10",
         "season": "1",
         "temp": "0.24",
         "weathersit": "1",
         "weekday": "6",
         "windspeed": "0.0",
         "workingday": "0",
         "yr": "0"
        },
        {
         "_deepnote_index_column": "4",
         "atemp": "0.2879",
         "casual": "0",
         "cnt": "1",
         "dteday": "2011-01-01",
         "holiday": "0",
         "hr": "4",
         "hum": "0.75",
         "instant": "5",
         "mnth": "1",
         "registered": "1",
         "season": "1",
         "temp": "0.24",
         "weathersit": "1",
         "weekday": "6",
         "windspeed": "0.0",
         "workingday": "0",
         "yr": "0"
        }
       ]
      },
      "text/html": [
       "<div>\n",
       "<style scoped>\n",
       "    .dataframe tbody tr th:only-of-type {\n",
       "        vertical-align: middle;\n",
       "    }\n",
       "\n",
       "    .dataframe tbody tr th {\n",
       "        vertical-align: top;\n",
       "    }\n",
       "\n",
       "    .dataframe thead th {\n",
       "        text-align: right;\n",
       "    }\n",
       "</style>\n",
       "<table border=\"1\" class=\"dataframe\">\n",
       "  <thead>\n",
       "    <tr style=\"text-align: right;\">\n",
       "      <th></th>\n",
       "      <th>instant</th>\n",
       "      <th>dteday</th>\n",
       "      <th>season</th>\n",
       "      <th>yr</th>\n",
       "      <th>mnth</th>\n",
       "      <th>hr</th>\n",
       "      <th>holiday</th>\n",
       "      <th>weekday</th>\n",
       "      <th>workingday</th>\n",
       "      <th>weathersit</th>\n",
       "      <th>temp</th>\n",
       "      <th>atemp</th>\n",
       "      <th>hum</th>\n",
       "      <th>windspeed</th>\n",
       "      <th>casual</th>\n",
       "      <th>registered</th>\n",
       "      <th>cnt</th>\n",
       "    </tr>\n",
       "  </thead>\n",
       "  <tbody>\n",
       "    <tr>\n",
       "      <th>0</th>\n",
       "      <td>1</td>\n",
       "      <td>2011-01-01</td>\n",
       "      <td>1</td>\n",
       "      <td>0</td>\n",
       "      <td>1</td>\n",
       "      <td>0</td>\n",
       "      <td>0</td>\n",
       "      <td>6</td>\n",
       "      <td>0</td>\n",
       "      <td>1</td>\n",
       "      <td>0.24</td>\n",
       "      <td>0.2879</td>\n",
       "      <td>0.81</td>\n",
       "      <td>0.0</td>\n",
       "      <td>3</td>\n",
       "      <td>13</td>\n",
       "      <td>16</td>\n",
       "    </tr>\n",
       "    <tr>\n",
       "      <th>1</th>\n",
       "      <td>2</td>\n",
       "      <td>2011-01-01</td>\n",
       "      <td>1</td>\n",
       "      <td>0</td>\n",
       "      <td>1</td>\n",
       "      <td>1</td>\n",
       "      <td>0</td>\n",
       "      <td>6</td>\n",
       "      <td>0</td>\n",
       "      <td>1</td>\n",
       "      <td>0.22</td>\n",
       "      <td>0.2727</td>\n",
       "      <td>0.80</td>\n",
       "      <td>0.0</td>\n",
       "      <td>8</td>\n",
       "      <td>32</td>\n",
       "      <td>40</td>\n",
       "    </tr>\n",
       "    <tr>\n",
       "      <th>2</th>\n",
       "      <td>3</td>\n",
       "      <td>2011-01-01</td>\n",
       "      <td>1</td>\n",
       "      <td>0</td>\n",
       "      <td>1</td>\n",
       "      <td>2</td>\n",
       "      <td>0</td>\n",
       "      <td>6</td>\n",
       "      <td>0</td>\n",
       "      <td>1</td>\n",
       "      <td>0.22</td>\n",
       "      <td>0.2727</td>\n",
       "      <td>0.80</td>\n",
       "      <td>0.0</td>\n",
       "      <td>5</td>\n",
       "      <td>27</td>\n",
       "      <td>32</td>\n",
       "    </tr>\n",
       "    <tr>\n",
       "      <th>3</th>\n",
       "      <td>4</td>\n",
       "      <td>2011-01-01</td>\n",
       "      <td>1</td>\n",
       "      <td>0</td>\n",
       "      <td>1</td>\n",
       "      <td>3</td>\n",
       "      <td>0</td>\n",
       "      <td>6</td>\n",
       "      <td>0</td>\n",
       "      <td>1</td>\n",
       "      <td>0.24</td>\n",
       "      <td>0.2879</td>\n",
       "      <td>0.75</td>\n",
       "      <td>0.0</td>\n",
       "      <td>3</td>\n",
       "      <td>10</td>\n",
       "      <td>13</td>\n",
       "    </tr>\n",
       "    <tr>\n",
       "      <th>4</th>\n",
       "      <td>5</td>\n",
       "      <td>2011-01-01</td>\n",
       "      <td>1</td>\n",
       "      <td>0</td>\n",
       "      <td>1</td>\n",
       "      <td>4</td>\n",
       "      <td>0</td>\n",
       "      <td>6</td>\n",
       "      <td>0</td>\n",
       "      <td>1</td>\n",
       "      <td>0.24</td>\n",
       "      <td>0.2879</td>\n",
       "      <td>0.75</td>\n",
       "      <td>0.0</td>\n",
       "      <td>0</td>\n",
       "      <td>1</td>\n",
       "      <td>1</td>\n",
       "    </tr>\n",
       "  </tbody>\n",
       "</table>\n",
       "</div>"
      ],
      "text/plain": [
       "   instant      dteday  season  yr  mnth  hr  holiday  weekday  workingday  \\\n",
       "0        1  2011-01-01       1   0     1   0        0        6           0   \n",
       "1        2  2011-01-01       1   0     1   1        0        6           0   \n",
       "2        3  2011-01-01       1   0     1   2        0        6           0   \n",
       "3        4  2011-01-01       1   0     1   3        0        6           0   \n",
       "4        5  2011-01-01       1   0     1   4        0        6           0   \n",
       "\n",
       "   weathersit  temp   atemp   hum  windspeed  casual  registered  cnt  \n",
       "0           1  0.24  0.2879  0.81        0.0       3          13   16  \n",
       "1           1  0.22  0.2727  0.80        0.0       8          32   40  \n",
       "2           1  0.22  0.2727  0.80        0.0       5          27   32  \n",
       "3           1  0.24  0.2879  0.75        0.0       3          10   13  \n",
       "4           1  0.24  0.2879  0.75        0.0       0           1    1  "
      ]
     },
     "execution_count": 2,
     "metadata": {},
     "output_type": "execute_result"
    }
   ],
   "source": [
    "df=pd.read_csv('bikeshare_hour.csv')\n",
    "df.head()"
   ]
  },
  {
   "cell_type": "markdown",
   "metadata": {
    "cell_id": "e8473a8558e74e5880a98f99981ad007",
    "deepnote_cell_type": "markdown",
    "id": "nJbJ0xUkj0Oq"
   },
   "source": [
    "Este dataset contiene el número de alquileres para cada hora de cada día desde Enero 1 de 2011 hasta Diciembre 31 de 2012. El número de usuarios que alquilaron se divide en regitrados *(registered)* y casuales *(casual)*, los cuales se suman en la columna *cnt*, la cuál será nuestra variable objetivo.\n",
    "\n",
    "\n",
    "Los fines de semana tienen un número más bajo de alquileres y hay picos cuando las personas se dirigen desde y hacia el trabajo durante la semana También tenemos información acerca de la temperatura, humedad, velocidad del viento, todas estas afectando el npumero de alquileres. Trataremos de capturar esta información con nuestro modelo.\n",
    "\n"
   ]
  },
  {
   "cell_type": "code",
   "execution_count": 3,
   "metadata": {
    "cell_id": "8cbe6e9ce3c54fb18c8e20584cc345f2",
    "deepnote_cell_type": "code",
    "deepnote_to_be_reexecuted": false,
    "execution_millis": 176,
    "execution_start": 1679608593182,
    "id": "hKOhx_hRmUek",
    "source_hash": "8ecfd675"
   },
   "outputs": [
    {
     "data": {
      "text/plain": [
       "<AxesSubplot: xlabel='dteday'>"
      ]
     },
     "execution_count": 3,
     "metadata": {},
     "output_type": "execute_result"
    },
    {
     "data": {
      "image/png": "[encoded data removed]",
      "text/plain": [
       "<Figure size 640x480 with 1 Axes>"
      ]
     },
     "metadata": {
      "image/png": {
       "height": 432,
       "width": 552
      }
     },
     "output_type": "display_data"
    }
   ],
   "source": [
    "df[:24*10].plot(x='dteday', y='cnt')"
   ]
  },
  {
   "cell_type": "markdown",
   "metadata": {
    "cell_id": "b81df15bbd2349788ec888c2939f0f57",
    "deepnote_cell_type": "markdown",
    "id": "9FPYGLaqmVdj"
   },
   "source": [
    "Hay algunas variables categóricas: **season**, **weathersit**, **mnth**, **hr**, **weekday**. Necesitamos crear variables dummy para éstas. \n",
    "\n",
    "Así mismo, eliminaremos algunas variables que redundan o no aportan para el modelamiento el modelamiento: **instant**, **dteday**, **atemp**, **workingday**,**registered**, **casual** así como las **columnas originales de las variables que convertimos en dummies** si es necesario."
   ]
  },
  {
   "cell_type": "code",
   "execution_count": 4,
   "metadata": {
    "cell_id": "9bde03e16fdf48cd908057182b74c030",
    "deepnote_cell_type": "code",
    "deepnote_to_be_reexecuted": false,
    "execution_millis": 4,
    "execution_start": 1679608593736,
    "id": "nNl0uDVTmsqr",
    "source_hash": "1611aeef"
   },
   "outputs": [],
   "source": [
    "# TO_DO1 Crear las variables dummies indicadas, y eliminar los atributos indicados\n",
    "df = pd.get_dummies(df, \n",
    "                    columns = ['season', 'weathersit', 'mnth', 'hr', 'weekday'])"
   ]
  },
  {
   "cell_type": "code",
   "execution_count": 5,
   "metadata": {
    "cell_id": "5d96bd776a444421b0bea1bc2f9c9cc0",
    "deepnote_cell_type": "code",
    "deepnote_to_be_reexecuted": false,
    "execution_millis": 2,
    "execution_start": 1679608593780,
    "source_hash": "8f809ef5",
    "tags": []
   },
   "outputs": [
    {
     "name": "stdout",
     "output_type": "stream",
     "text": [
      "<class 'pandas.core.frame.DataFrame'>\n",
      "RangeIndex: 17379 entries, 0 to 17378\n",
      "Data columns (total 58 columns):\n",
      " #   Column        Non-Null Count  Dtype  \n",
      "---  ------        --------------  -----  \n",
      " 0   dteday        17379 non-null  object \n",
      " 1   yr            17379 non-null  int64  \n",
      " 2   holiday       17379 non-null  int64  \n",
      " 3   temp          17379 non-null  float64\n",
      " 4   hum           17379 non-null  float64\n",
      " 5   windspeed     17379 non-null  float64\n",
      " 6   cnt           17379 non-null  int64  \n",
      " 7   season_1      17379 non-null  uint8  \n",
      " 8   season_2      17379 non-null  uint8  \n",
      " 9   season_3      17379 non-null  uint8  \n",
      " 10  season_4      17379 non-null  uint8  \n",
      " 11  weathersit_1  17379 non-null  uint8  \n",
      " 12  weathersit_2  17379 non-null  uint8  \n",
      " 13  weathersit_3  17379 non-null  uint8  \n",
      " 14  weathersit_4  17379 non-null  uint8  \n",
      " 15  mnth_1        17379 non-null  uint8  \n",
      " 16  mnth_2        17379 non-null  uint8  \n",
      " 17  mnth_3        17379 non-null  uint8  \n",
      " 18  mnth_4        17379 non-null  uint8  \n",
      " 19  mnth_5        17379 non-null  uint8  \n",
      " 20  mnth_6        17379 non-null  uint8  \n",
      " 21  mnth_7        17379 non-null  uint8  \n",
      " 22  mnth_8        17379 non-null  uint8  \n",
      " 23  mnth_9        17379 non-null  uint8  \n",
      " 24  mnth_10       17379 non-null  uint8  \n",
      " 25  mnth_11       17379 non-null  uint8  \n",
      " 26  mnth_12       17379 non-null  uint8  \n",
      " 27  hr_0          17379 non-null  uint8  \n",
      " 28  hr_1          17379 non-null  uint8  \n",
      " 29  hr_2          17379 non-null  uint8  \n",
      " 30  hr_3          17379 non-null  uint8  \n",
      " 31  hr_4          17379 non-null  uint8  \n",
      " 32  hr_5          17379 non-null  uint8  \n",
      " 33  hr_6          17379 non-null  uint8  \n",
      " 34  hr_7          17379 non-null  uint8  \n",
      " 35  hr_8          17379 non-null  uint8  \n",
      " 36  hr_9          17379 non-null  uint8  \n",
      " 37  hr_10         17379 non-null  uint8  \n",
      " 38  hr_11         17379 non-null  uint8  \n",
      " 39  hr_12         17379 non-null  uint8  \n",
      " 40  hr_13         17379 non-null  uint8  \n",
      " 41  hr_14         17379 non-null  uint8  \n",
      " 42  hr_15         17379 non-null  uint8  \n",
      " 43  hr_16         17379 non-null  uint8  \n",
      " 44  hr_17         17379 non-null  uint8  \n",
      " 45  hr_18         17379 non-null  uint8  \n",
      " 46  hr_19         17379 non-null  uint8  \n",
      " 47  hr_20         17379 non-null  uint8  \n",
      " 48  hr_21         17379 non-null  uint8  \n",
      " 49  hr_22         17379 non-null  uint8  \n",
      " 50  hr_23         17379 non-null  uint8  \n",
      " 51  weekday_0     17379 non-null  uint8  \n",
      " 52  weekday_1     17379 non-null  uint8  \n",
      " 53  weekday_2     17379 non-null  uint8  \n",
      " 54  weekday_3     17379 non-null  uint8  \n",
      " 55  weekday_4     17379 non-null  uint8  \n",
      " 56  weekday_5     17379 non-null  uint8  \n",
      " 57  weekday_6     17379 non-null  uint8  \n",
      "dtypes: float64(3), int64(3), object(1), uint8(51)\n",
      "memory usage: 1.8+ MB\n"
     ]
    }
   ],
   "source": [
    "X = df.drop(['instant', 'atemp', 'workingday', 'registered', 'casual'], axis=1)\n",
    "X.info()"
   ]
  },
  {
   "cell_type": "markdown",
   "metadata": {
    "cell_id": "093092dec5e94f8896077b9b5315142d",
    "deepnote_cell_type": "markdown",
    "id": "P9lXcUDhoI4x"
   },
   "source": [
    "#### Cambiar la escala en variables cuantitativas (normalizar).\n",
    "Para que el entrenamiento sea más fácil, estandarizaremos los datos de las variables contínuas, de manera que tengan media 0 y desviación estandar 1. \n",
    "\n",
    "Para esto, en las columnas de variables contínuas usamos la media y desviación estandar de la respectiva columna\n",
    "\n",
    "$$col:=\\frac{col-mean}{standardeviation}$$ "
   ]
  },
  {
   "cell_type": "code",
   "execution_count": 6,
   "metadata": {
    "cell_id": "1c9fd8eff2c84967944e027441c555d5",
    "deepnote_cell_type": "code",
    "deepnote_to_be_reexecuted": false,
    "execution_millis": 3,
    "execution_start": 1679608593783,
    "source_hash": "f16b0eb7",
    "tags": []
   },
   "outputs": [],
   "source": [
    "from sklearn import preprocessing"
   ]
  },
  {
   "cell_type": "code",
   "execution_count": 7,
   "metadata": {
    "cell_id": "c7cae522ab474f948d352bcca666cb0f",
    "deepnote_cell_type": "code",
    "deepnote_to_be_reexecuted": false,
    "execution_millis": 132,
    "execution_start": 1679608593854,
    "id": "-R8AjJzJoBGJ",
    "source_hash": "fb538ea0"
   },
   "outputs": [
    {
     "data": {
      "application/vnd.deepnote.dataframe.v3+json": {
       "column_count": 58,
       "columns": [
        {
         "dtype": "object",
         "name": "dteday",
         "stats": {
          "categories": [
           {
            "count": 24,
            "name": "2011-01-01"
           },
           {
            "count": 24,
            "name": "2011-01-08"
           },
           {
            "count": 17331,
            "name": "729 others"
           }
          ],
          "nan_count": 0,
          "unique_count": 731
         }
        },
        {
         "dtype": "int64",
         "name": "yr",
         "stats": {
          "histogram": [
           {
            "bin_end": 0.1,
            "bin_start": 0,
            "count": 8645
           },
           {
            "bin_end": 0.2,
            "bin_start": 0.1,
            "count": 0
           },
           {
            "bin_end": 0.30000000000000004,
            "bin_start": 0.2,
            "count": 0
           },
           {
            "bin_end": 0.4,
            "bin_start": 0.30000000000000004,
            "count": 0
           },
           {
            "bin_end": 0.5,
            "bin_start": 0.4,
            "count": 0
           },
           {
            "bin_end": 0.6000000000000001,
            "bin_start": 0.5,
            "count": 0
           },
           {
            "bin_end": 0.7000000000000001,
            "bin_start": 0.6000000000000001,
            "count": 0
           },
           {
            "bin_end": 0.8,
            "bin_start": 0.7000000000000001,
            "count": 0
           },
           {
            "bin_end": 0.9,
            "bin_start": 0.8,
            "count": 0
           },
           {
            "bin_end": 1,
            "bin_start": 0.9,
            "count": 8734
           }
          ],
          "max": "1",
          "min": "0",
          "nan_count": 0,
          "unique_count": 2
         }
        },
        {
         "dtype": "int64",
         "name": "holiday",
         "stats": {
          "histogram": [
           {
            "bin_end": 0.1,
            "bin_start": 0,
            "count": 16879
           },
           {
            "bin_end": 0.2,
            "bin_start": 0.1,
            "count": 0
           },
           {
            "bin_end": 0.30000000000000004,
            "bin_start": 0.2,
            "count": 0
           },
           {
            "bin_end": 0.4,
            "bin_start": 0.30000000000000004,
            "count": 0
           },
           {
            "bin_end": 0.5,
            "bin_start": 0.4,
            "count": 0
           },
           {
            "bin_end": 0.6000000000000001,
            "bin_start": 0.5,
            "count": 0
           },
           {
            "bin_end": 0.7000000000000001,
            "bin_start": 0.6000000000000001,
            "count": 0
           },
           {
            "bin_end": 0.8,
            "bin_start": 0.7000000000000001,
            "count": 0
           },
           {
            "bin_end": 0.9,
            "bin_start": 0.8,
            "count": 0
           },
           {
            "bin_end": 1,
            "bin_start": 0.9,
            "count": 500
           }
          ],
          "max": "1",
          "min": "0",
          "nan_count": 0,
          "unique_count": 2
         }
        },
        {
         "dtype": "float64",
         "name": "temp",
         "stats": {
          "histogram": [
           {
            "bin_end": 0.1,
            "bin_start": 0,
            "count": 117
           },
           {
            "bin_end": 0.2,
            "bin_start": 0.1,
            "count": 953
           },
           {
            "bin_end": 0.30000000000000004,
            "bin_start": 0.2,
            "count": 2444
           },
           {
            "bin_end": 0.4,
            "bin_start": 0.30000000000000004,
            "count": 2913
           },
           {
            "bin_end": 0.5,
            "bin_start": 0.4,
            "count": 2433
           },
           {
            "bin_end": 0.6000000000000001,
            "bin_start": 0.5,
            "count": 2684
           },
           {
            "bin_end": 0.7000000000000001,
            "bin_start": 0.6000000000000001,
            "count": 3150
           },
           {
            "bin_end": 0.8,
            "bin_start": 0.7000000000000001,
            "count": 1976
           },
           {
            "bin_end": 0.9,
            "bin_start": 0.8,
            "count": 625
           },
           {
            "bin_end": 1,
            "bin_start": 0.9,
            "count": 84
           }
          ],
          "max": "1.0",
          "min": "0.0",
          "nan_count": 0,
          "unique_count": 50
         }
        },
        {
         "dtype": "float64",
         "name": "hum",
         "stats": {
          "histogram": [
           {
            "bin_end": 0.1,
            "bin_start": 0,
            "count": 23
           },
           {
            "bin_end": 0.2,
            "bin_start": 0.1,
            "count": 55
           },
           {
            "bin_end": 0.30000000000000004,
            "bin_start": 0.2,
            "count": 696
           },
           {
            "bin_end": 0.4,
            "bin_start": 0.30000000000000004,
            "count": 1481
           },
           {
            "bin_end": 0.5,
            "bin_start": 0.4,
            "count": 2641
           },
           {
            "bin_end": 0.6000000000000001,
            "bin_start": 0.5,
            "count": 3084
           },
           {
            "bin_end": 0.7000000000000001,
            "bin_start": 0.6000000000000001,
            "count": 2940
           },
           {
            "bin_end": 0.8,
            "bin_start": 0.7000000000000001,
            "count": 2384
           },
           {
            "bin_end": 0.9,
            "bin_start": 0.8,
            "count": 2900
           },
           {
            "bin_end": 1,
            "bin_start": 0.9,
            "count": 1175
           }
          ],
          "max": "1.0",
          "min": "0.0",
          "nan_count": 0,
          "unique_count": 89
         }
        },
        {
         "dtype": "float64",
         "name": "windspeed"
        },
        {
         "dtype": "float64",
         "name": "cnt"
        },
        {
         "dtype": "uint8",
         "name": "season_1"
        },
        {
         "dtype": "uint8",
         "name": "season_2"
        },
        {
         "dtype": "uint8",
         "name": "season_3"
        },
        {
         "dtype": "uint8",
         "name": "season_4"
        },
        {
         "dtype": "uint8",
         "name": "weathersit_1"
        },
        {
         "dtype": "uint8",
         "name": "weathersit_2"
        },
        {
         "dtype": "uint8",
         "name": "weathersit_3"
        },
        {
         "dtype": "uint8",
         "name": "weathersit_4"
        },
        {
         "dtype": "uint8",
         "name": "mnth_1"
        },
        {
         "dtype": "uint8",
         "name": "mnth_2"
        },
        {
         "dtype": "uint8",
         "name": "mnth_3"
        },
        {
         "dtype": "uint8",
         "name": "mnth_4"
        },
        {
         "dtype": "uint8",
         "name": "mnth_5"
        },
        {
         "dtype": "uint8",
         "name": "mnth_6"
        },
        {
         "dtype": "uint8",
         "name": "mnth_7"
        },
        {
         "dtype": "uint8",
         "name": "mnth_8"
        },
        {
         "dtype": "uint8",
         "name": "mnth_9"
        },
        {
         "dtype": "uint8",
         "name": "mnth_10"
        },
        {
         "dtype": "uint8",
         "name": "mnth_11"
        },
        {
         "dtype": "uint8",
         "name": "mnth_12"
        },
        {
         "dtype": "uint8",
         "name": "hr_0"
        },
        {
         "dtype": "uint8",
         "name": "hr_1"
        },
        {
         "dtype": "uint8",
         "name": "hr_2"
        },
        {
         "dtype": "uint8",
         "name": "hr_3"
        },
        {
         "dtype": "uint8",
         "name": "hr_4"
        },
        {
         "dtype": "uint8",
         "name": "hr_5"
        },
        {
         "dtype": "uint8",
         "name": "hr_6"
        },
        {
         "dtype": "uint8",
         "name": "hr_7"
        },
        {
         "dtype": "uint8",
         "name": "hr_8"
        },
        {
         "dtype": "uint8",
         "name": "hr_9"
        },
        {
         "dtype": "uint8",
         "name": "hr_10"
        },
        {
         "dtype": "uint8",
         "name": "hr_11"
        },
        {
         "dtype": "uint8",
         "name": "hr_12"
        },
        {
         "dtype": "uint8",
         "name": "hr_13"
        },
        {
         "dtype": "uint8",
         "name": "hr_14"
        },
        {
         "dtype": "uint8",
         "name": "hr_15"
        },
        {
         "dtype": "uint8",
         "name": "hr_16"
        },
        {
         "dtype": "uint8",
         "name": "hr_17"
        },
        {
         "dtype": "uint8",
         "name": "hr_18"
        },
        {
         "dtype": "uint8",
         "name": "hr_19"
        },
        {
         "dtype": "uint8",
         "name": "hr_20"
        },
        {
         "dtype": "uint8",
         "name": "hr_21"
        },
        {
         "dtype": "uint8",
         "name": "hr_22"
        },
        {
         "dtype": "uint8",
         "name": "hr_23"
        },
        {
         "dtype": "uint8",
         "name": "weekday_0"
        },
        {
         "dtype": "uint8",
         "name": "weekday_1"
        },
        {
         "dtype": "uint8",
         "name": "weekday_2"
        },
        {
         "dtype": "uint8",
         "name": "weekday_3"
        },
        {
         "dtype": "uint8",
         "name": "weekday_4"
        },
        {
         "dtype": "uint8",
         "name": "weekday_5"
        },
        {
         "dtype": "uint8",
         "name": "weekday_6"
        },
        {
         "dtype": "int64",
         "name": "_deepnote_index_column"
        }
       ],
       "row_count": 17379,
       "rows": [
        {
         "_deepnote_index_column": "0",
         "cnt": "0.015368852459016395",
         "dteday": "2011-01-01",
         "holiday": "0",
         "hr_0": "1",
         "hr_1": "0",
         "hr_10": "0",
         "hr_11": "0",
         "hr_12": "0",
         "hr_13": "0",
         "hr_14": "0",
         "hr_15": "0",
         "hr_16": "0",
         "hr_17": "0",
         "hr_18": "0",
         "hr_19": "0",
         "hr_2": "0",
         "hr_20": "0",
         "hr_21": "0",
         "hr_22": "0",
         "hr_23": "0",
         "hr_3": "0",
         "hr_4": "0",
         "hr_5": "0",
         "hr_6": "0",
         "hr_7": "0",
         "hr_8": "0",
         "hr_9": "0",
         "hum": "0.81",
         "mnth_1": "1",
         "mnth_10": "0",
         "mnth_11": "0",
         "mnth_12": "0",
         "mnth_2": "0",
         "mnth_3": "0",
         "mnth_4": "0",
         "mnth_5": "0",
         "mnth_6": "0",
         "mnth_7": "0",
         "mnth_8": "0",
         "mnth_9": "0",
         "season_1": "1",
         "season_2": "0",
         "season_3": "0",
         "season_4": "0",
         "temp": "0.22448979591836735",
         "weathersit_1": "1",
         "weathersit_2": "0",
         "weathersit_3": "0",
         "weathersit_4": "0",
         "weekday_0": "0",
         "weekday_1": "0",
         "weekday_2": "0",
         "weekday_3": "0",
         "weekday_4": "0",
         "weekday_5": "0",
         "weekday_6": "1",
         "windspeed": "0.0",
         "yr": "0"
        },
        {
         "_deepnote_index_column": "1",
         "cnt": "0.039959016393442626",
         "dteday": "2011-01-01",
         "holiday": "0",
         "hr_0": "0",
         "hr_1": "1",
         "hr_10": "0",
         "hr_11": "0",
         "hr_12": "0",
         "hr_13": "0",
         "hr_14": "0",
         "hr_15": "0",
         "hr_16": "0",
         "hr_17": "0",
         "hr_18": "0",
         "hr_19": "0",
         "hr_2": "0",
         "hr_20": "0",
         "hr_21": "0",
         "hr_22": "0",
         "hr_23": "0",
         "hr_3": "0",
         "hr_4": "0",
         "hr_5": "0",
         "hr_6": "0",
         "hr_7": "0",
         "hr_8": "0",
         "hr_9": "0",
         "hum": "0.8",
         "mnth_1": "1",
         "mnth_10": "0",
         "mnth_11": "0",
         "mnth_12": "0",
         "mnth_2": "0",
         "mnth_3": "0",
         "mnth_4": "0",
         "mnth_5": "0",
         "mnth_6": "0",
         "mnth_7": "0",
         "mnth_8": "0",
         "mnth_9": "0",
         "season_1": "1",
         "season_2": "0",
         "season_3": "0",
         "season_4": "0",
         "temp": "0.20408163265306123",
         "weathersit_1": "1",
         "weathersit_2": "0",
         "weathersit_3": "0",
         "weathersit_4": "0",
         "weekday_0": "0",
         "weekday_1": "0",
         "weekday_2": "0",
         "weekday_3": "0",
         "weekday_4": "0",
         "weekday_5": "0",
         "weekday_6": "1",
         "windspeed": "0.0",
         "yr": "0"
        },
        {
         "_deepnote_index_column": "2",
         "cnt": "0.031762295081967214",
         "dteday": "2011-01-01",
         "holiday": "0",
         "hr_0": "0",
         "hr_1": "0",
         "hr_10": "0",
         "hr_11": "0",
         "hr_12": "0",
         "hr_13": "0",
         "hr_14": "0",
         "hr_15": "0",
         "hr_16": "0",
         "hr_17": "0",
         "hr_18": "0",
         "hr_19": "0",
         "hr_2": "1",
         "hr_20": "0",
         "hr_21": "0",
         "hr_22": "0",
         "hr_23": "0",
         "hr_3": "0",
         "hr_4": "0",
         "hr_5": "0",
         "hr_6": "0",
         "hr_7": "0",
         "hr_8": "0",
         "hr_9": "0",
         "hum": "0.8",
         "mnth_1": "1",
         "mnth_10": "0",
         "mnth_11": "0",
         "mnth_12": "0",
         "mnth_2": "0",
         "mnth_3": "0",
         "mnth_4": "0",
         "mnth_5": "0",
         "mnth_6": "0",
         "mnth_7": "0",
         "mnth_8": "0",
         "mnth_9": "0",
         "season_1": "1",
         "season_2": "0",
         "season_3": "0",
         "season_4": "0",
         "temp": "0.20408163265306123",
         "weathersit_1": "1",
         "weathersit_2": "0",
         "weathersit_3": "0",
         "weathersit_4": "0",
         "weekday_0": "0",
         "weekday_1": "0",
         "weekday_2": "0",
         "weekday_3": "0",
         "weekday_4": "0",
         "weekday_5": "0",
         "weekday_6": "1",
         "windspeed": "0.0",
         "yr": "0"
        },
        {
         "_deepnote_index_column": "3",
         "cnt": "0.012295081967213116",
         "dteday": "2011-01-01",
         "holiday": "0",
         "hr_0": "0",
         "hr_1": "0",
         "hr_10": "0",
         "hr_11": "0",
         "hr_12": "0",
         "hr_13": "0",
         "hr_14": "0",
         "hr_15": "0",
         "hr_16": "0",
         "hr_17": "0",
         "hr_18": "0",
         "hr_19": "0",
         "hr_2": "0",
         "hr_20": "0",
         "hr_21": "0",
         "hr_22": "0",
         "hr_23": "0",
         "hr_3": "1",
         "hr_4": "0",
         "hr_5": "0",
         "hr_6": "0",
         "hr_7": "0",
         "hr_8": "0",
         "hr_9": "0",
         "hum": "0.75",
         "mnth_1": "1",
         "mnth_10": "0",
         "mnth_11": "0",
         "mnth_12": "0",
         "mnth_2": "0",
         "mnth_3": "0",
         "mnth_4": "0",
         "mnth_5": "0",
         "mnth_6": "0",
         "mnth_7": "0",
         "mnth_8": "0",
         "mnth_9": "0",
         "season_1": "1",
         "season_2": "0",
         "season_3": "0",
         "season_4": "0",
         "temp": "0.22448979591836735",
         "weathersit_1": "1",
         "weathersit_2": "0",
         "weathersit_3": "0",
         "weathersit_4": "0",
         "weekday_0": "0",
         "weekday_1": "0",
         "weekday_2": "0",
         "weekday_3": "0",
         "weekday_4": "0",
         "weekday_5": "0",
         "weekday_6": "1",
         "windspeed": "0.0",
         "yr": "0"
        },
        {
         "_deepnote_index_column": "4",
         "cnt": "0.0",
         "dteday": "2011-01-01",
         "holiday": "0",
         "hr_0": "0",
         "hr_1": "0",
         "hr_10": "0",
         "hr_11": "0",
         "hr_12": "0",
         "hr_13": "0",
         "hr_14": "0",
         "hr_15": "0",
         "hr_16": "0",
         "hr_17": "0",
         "hr_18": "0",
         "hr_19": "0",
         "hr_2": "0",
         "hr_20": "0",
         "hr_21": "0",
         "hr_22": "0",
         "hr_23": "0",
         "hr_3": "0",
         "hr_4": "1",
         "hr_5": "0",
         "hr_6": "0",
         "hr_7": "0",
         "hr_8": "0",
         "hr_9": "0",
         "hum": "0.75",
         "mnth_1": "1",
         "mnth_10": "0",
         "mnth_11": "0",
         "mnth_12": "0",
         "mnth_2": "0",
         "mnth_3": "0",
         "mnth_4": "0",
         "mnth_5": "0",
         "mnth_6": "0",
         "mnth_7": "0",
         "mnth_8": "0",
         "mnth_9": "0",
         "season_1": "1",
         "season_2": "0",
         "season_3": "0",
         "season_4": "0",
         "temp": "0.22448979591836735",
         "weathersit_1": "1",
         "weathersit_2": "0",
         "weathersit_3": "0",
         "weathersit_4": "0",
         "weekday_0": "0",
         "weekday_1": "0",
         "weekday_2": "0",
         "weekday_3": "0",
         "weekday_4": "0",
         "weekday_5": "0",
         "weekday_6": "1",
         "windspeed": "0.0",
         "yr": "0"
        },
        {
         "_deepnote_index_column": "5",
         "cnt": "0.0",
         "dteday": "2011-01-01",
         "holiday": "0",
         "hr_0": "0",
         "hr_1": "0",
         "hr_10": "0",
         "hr_11": "0",
         "hr_12": "0",
         "hr_13": "0",
         "hr_14": "0",
         "hr_15": "0",
         "hr_16": "0",
         "hr_17": "0",
         "hr_18": "0",
         "hr_19": "0",
         "hr_2": "0",
         "hr_20": "0",
         "hr_21": "0",
         "hr_22": "0",
         "hr_23": "0",
         "hr_3": "0",
         "hr_4": "0",
         "hr_5": "1",
         "hr_6": "0",
         "hr_7": "0",
         "hr_8": "0",
         "hr_9": "0",
         "hum": "0.75",
         "mnth_1": "1",
         "mnth_10": "0",
         "mnth_11": "0",
         "mnth_12": "0",
         "mnth_2": "0",
         "mnth_3": "0",
         "mnth_4": "0",
         "mnth_5": "0",
         "mnth_6": "0",
         "mnth_7": "0",
         "mnth_8": "0",
         "mnth_9": "0",
         "season_1": "1",
         "season_2": "0",
         "season_3": "0",
         "season_4": "0",
         "temp": "0.22448979591836735",
         "weathersit_1": "0",
         "weathersit_2": "1",
         "weathersit_3": "0",
         "weathersit_4": "0",
         "weekday_0": "0",
         "weekday_1": "0",
         "weekday_2": "0",
         "weekday_3": "0",
         "weekday_4": "0",
         "weekday_5": "0",
         "weekday_6": "1",
         "windspeed": "0.10532502644880687",
         "yr": "0"
        },
        {
         "_deepnote_index_column": "6",
         "cnt": "0.0010245901639344263",
         "dteday": "2011-01-01",
         "holiday": "0",
         "hr_0": "0",
         "hr_1": "0",
         "hr_10": "0",
         "hr_11": "0",
         "hr_12": "0",
         "hr_13": "0",
         "hr_14": "0",
         "hr_15": "0",
         "hr_16": "0",
         "hr_17": "0",
         "hr_18": "0",
         "hr_19": "0",
         "hr_2": "0",
         "hr_20": "0",
         "hr_21": "0",
         "hr_22": "0",
         "hr_23": "0",
         "hr_3": "0",
         "hr_4": "0",
         "hr_5": "0",
         "hr_6": "1",
         "hr_7": "0",
         "hr_8": "0",
         "hr_9": "0",
         "hum": "0.8",
         "mnth_1": "1",
         "mnth_10": "0",
         "mnth_11": "0",
         "mnth_12": "0",
         "mnth_2": "0",
         "mnth_3": "0",
         "mnth_4": "0",
         "mnth_5": "0",
         "mnth_6": "0",
         "mnth_7": "0",
         "mnth_8": "0",
         "mnth_9": "0",
         "season_1": "1",
         "season_2": "0",
         "season_3": "0",
         "season_4": "0",
         "temp": "0.20408163265306123",
         "weathersit_1": "1",
         "weathersit_2": "0",
         "weathersit_3": "0",
         "weathersit_4": "0",
         "weekday_0": "0",
         "weekday_1": "0",
         "weekday_2": "0",
         "weekday_3": "0",
         "weekday_4": "0",
         "weekday_5": "0",
         "weekday_6": "1",
         "windspeed": "0.0",
         "yr": "0"
        },
        {
         "_deepnote_index_column": "7",
         "cnt": "0.002049180327868852",
         "dteday": "2011-01-01",
         "holiday": "0",
         "hr_0": "0",
         "hr_1": "0",
         "hr_10": "0",
         "hr_11": "0",
         "hr_12": "0",
         "hr_13": "0",
         "hr_14": "0",
         "hr_15": "0",
         "hr_16": "0",
         "hr_17": "0",
         "hr_18": "0",
         "hr_19": "0",
         "hr_2": "0",
         "hr_20": "0",
         "hr_21": "0",
         "hr_22": "0",
         "hr_23": "0",
         "hr_3": "0",
         "hr_4": "0",
         "hr_5": "0",
         "hr_6": "0",
         "hr_7": "1",
         "hr_8": "0",
         "hr_9": "0",
         "hum": "0.86",
         "mnth_1": "1",
         "mnth_10": "0",
         "mnth_11": "0",
         "mnth_12": "0",
         "mnth_2": "0",
         "mnth_3": "0",
         "mnth_4": "0",
         "mnth_5": "0",
         "mnth_6": "0",
         "mnth_7": "0",
         "mnth_8": "0",
         "mnth_9": "0",
         "season_1": "1",
         "season_2": "0",
         "season_3": "0",
         "season_4": "0",
         "temp": "0.1836734693877551",
         "weathersit_1": "1",
         "weathersit_2": "0",
         "weathersit_3": "0",
         "weathersit_4": "0",
         "weekday_0": "0",
         "weekday_1": "0",
         "weekday_2": "0",
         "weekday_3": "0",
         "weekday_4": "0",
         "weekday_5": "0",
         "weekday_6": "1",
         "windspeed": "0.0",
         "yr": "0"
        },
        {
         "_deepnote_index_column": "8",
         "cnt": "0.007172131147540984",
         "dteday": "2011-01-01",
         "holiday": "0",
         "hr_0": "0",
         "hr_1": "0",
         "hr_10": "0",
         "hr_11": "0",
         "hr_12": "0",
         "hr_13": "0",
         "hr_14": "0",
         "hr_15": "0",
         "hr_16": "0",
         "hr_17": "0",
         "hr_18": "0",
         "hr_19": "0",
         "hr_2": "0",
         "hr_20": "0",
         "hr_21": "0",
         "hr_22": "0",
         "hr_23": "0",
         "hr_3": "0",
         "hr_4": "0",
         "hr_5": "0",
         "hr_6": "0",
         "hr_7": "0",
         "hr_8": "1",
         "hr_9": "0",
         "hum": "0.75",
         "mnth_1": "1",
         "mnth_10": "0",
         "mnth_11": "0",
         "mnth_12": "0",
         "mnth_2": "0",
         "mnth_3": "0",
         "mnth_4": "0",
         "mnth_5": "0",
         "mnth_6": "0",
         "mnth_7": "0",
         "mnth_8": "0",
         "mnth_9": "0",
         "season_1": "1",
         "season_2": "0",
         "season_3": "0",
         "season_4": "0",
         "temp": "0.22448979591836735",
         "weathersit_1": "1",
         "weathersit_2": "0",
         "weathersit_3": "0",
         "weathersit_4": "0",
         "weekday_0": "0",
         "weekday_1": "0",
         "weekday_2": "0",
         "weekday_3": "0",
         "weekday_4": "0",
         "weekday_5": "0",
         "weekday_6": "1",
         "windspeed": "0.0",
         "yr": "0"
        },
        {
         "_deepnote_index_column": "9",
         "cnt": "0.013319672131147542",
         "dteday": "2011-01-01",
         "holiday": "0",
         "hr_0": "0",
         "hr_1": "0",
         "hr_10": "0",
         "hr_11": "0",
         "hr_12": "0",
         "hr_13": "0",
         "hr_14": "0",
         "hr_15": "0",
         "hr_16": "0",
         "hr_17": "0",
         "hr_18": "0",
         "hr_19": "0",
         "hr_2": "0",
         "hr_20": "0",
         "hr_21": "0",
         "hr_22": "0",
         "hr_23": "0",
         "hr_3": "0",
         "hr_4": "0",
         "hr_5": "0",
         "hr_6": "0",
         "hr_7": "0",
         "hr_8": "0",
         "hr_9": "1",
         "hum": "0.76",
         "mnth_1": "1",
         "mnth_10": "0",
         "mnth_11": "0",
         "mnth_12": "0",
         "mnth_2": "0",
         "mnth_3": "0",
         "mnth_4": "0",
         "mnth_5": "0",
         "mnth_6": "0",
         "mnth_7": "0",
         "mnth_8": "0",
         "mnth_9": "0",
         "season_1": "1",
         "season_2": "0",
         "season_3": "0",
         "season_4": "0",
         "temp": "0.30612244897959184",
         "weathersit_1": "1",
         "weathersit_2": "0",
         "weathersit_3": "0",
         "weathersit_4": "0",
         "weekday_0": "0",
         "weekday_1": "0",
         "weekday_2": "0",
         "weekday_3": "0",
         "weekday_4": "0",
         "weekday_5": "0",
         "weekday_6": "1",
         "windspeed": "0.0",
         "yr": "0"
        }
       ]
      },
      "text/html": [
       "<div>\n",
       "<style scoped>\n",
       "    .dataframe tbody tr th:only-of-type {\n",
       "        vertical-align: middle;\n",
       "    }\n",
       "\n",
       "    .dataframe tbody tr th {\n",
       "        vertical-align: top;\n",
       "    }\n",
       "\n",
       "    .dataframe thead th {\n",
       "        text-align: right;\n",
       "    }\n",
       "</style>\n",
       "<table border=\"1\" class=\"dataframe\">\n",
       "  <thead>\n",
       "    <tr style=\"text-align: right;\">\n",
       "      <th></th>\n",
       "      <th>dteday</th>\n",
       "      <th>yr</th>\n",
       "      <th>holiday</th>\n",
       "      <th>temp</th>\n",
       "      <th>hum</th>\n",
       "      <th>windspeed</th>\n",
       "      <th>cnt</th>\n",
       "      <th>season_1</th>\n",
       "      <th>season_2</th>\n",
       "      <th>season_3</th>\n",
       "      <th>...</th>\n",
       "      <th>hr_21</th>\n",
       "      <th>hr_22</th>\n",
       "      <th>hr_23</th>\n",
       "      <th>weekday_0</th>\n",
       "      <th>weekday_1</th>\n",
       "      <th>weekday_2</th>\n",
       "      <th>weekday_3</th>\n",
       "      <th>weekday_4</th>\n",
       "      <th>weekday_5</th>\n",
       "      <th>weekday_6</th>\n",
       "    </tr>\n",
       "  </thead>\n",
       "  <tbody>\n",
       "    <tr>\n",
       "      <th>0</th>\n",
       "      <td>2011-01-01</td>\n",
       "      <td>0</td>\n",
       "      <td>0</td>\n",
       "      <td>0.224490</td>\n",
       "      <td>0.81</td>\n",
       "      <td>0.000000</td>\n",
       "      <td>0.015369</td>\n",
       "      <td>1</td>\n",
       "      <td>0</td>\n",
       "      <td>0</td>\n",
       "      <td>...</td>\n",
       "      <td>0</td>\n",
       "      <td>0</td>\n",
       "      <td>0</td>\n",
       "      <td>0</td>\n",
       "      <td>0</td>\n",
       "      <td>0</td>\n",
       "      <td>0</td>\n",
       "      <td>0</td>\n",
       "      <td>0</td>\n",
       "      <td>1</td>\n",
       "    </tr>\n",
       "    <tr>\n",
       "      <th>1</th>\n",
       "      <td>2011-01-01</td>\n",
       "      <td>0</td>\n",
       "      <td>0</td>\n",
       "      <td>0.204082</td>\n",
       "      <td>0.80</td>\n",
       "      <td>0.000000</td>\n",
       "      <td>0.039959</td>\n",
       "      <td>1</td>\n",
       "      <td>0</td>\n",
       "      <td>0</td>\n",
       "      <td>...</td>\n",
       "      <td>0</td>\n",
       "      <td>0</td>\n",
       "      <td>0</td>\n",
       "      <td>0</td>\n",
       "      <td>0</td>\n",
       "      <td>0</td>\n",
       "      <td>0</td>\n",
       "      <td>0</td>\n",
       "      <td>0</td>\n",
       "      <td>1</td>\n",
       "    </tr>\n",
       "    <tr>\n",
       "      <th>2</th>\n",
       "      <td>2011-01-01</td>\n",
       "      <td>0</td>\n",
       "      <td>0</td>\n",
       "      <td>0.204082</td>\n",
       "      <td>0.80</td>\n",
       "      <td>0.000000</td>\n",
       "      <td>0.031762</td>\n",
       "      <td>1</td>\n",
       "      <td>0</td>\n",
       "      <td>0</td>\n",
       "      <td>...</td>\n",
       "      <td>0</td>\n",
       "      <td>0</td>\n",
       "      <td>0</td>\n",
       "      <td>0</td>\n",
       "      <td>0</td>\n",
       "      <td>0</td>\n",
       "      <td>0</td>\n",
       "      <td>0</td>\n",
       "      <td>0</td>\n",
       "      <td>1</td>\n",
       "    </tr>\n",
       "    <tr>\n",
       "      <th>3</th>\n",
       "      <td>2011-01-01</td>\n",
       "      <td>0</td>\n",
       "      <td>0</td>\n",
       "      <td>0.224490</td>\n",
       "      <td>0.75</td>\n",
       "      <td>0.000000</td>\n",
       "      <td>0.012295</td>\n",
       "      <td>1</td>\n",
       "      <td>0</td>\n",
       "      <td>0</td>\n",
       "      <td>...</td>\n",
       "      <td>0</td>\n",
       "      <td>0</td>\n",
       "      <td>0</td>\n",
       "      <td>0</td>\n",
       "      <td>0</td>\n",
       "      <td>0</td>\n",
       "      <td>0</td>\n",
       "      <td>0</td>\n",
       "      <td>0</td>\n",
       "      <td>1</td>\n",
       "    </tr>\n",
       "    <tr>\n",
       "      <th>4</th>\n",
       "      <td>2011-01-01</td>\n",
       "      <td>0</td>\n",
       "      <td>0</td>\n",
       "      <td>0.224490</td>\n",
       "      <td>0.75</td>\n",
       "      <td>0.000000</td>\n",
       "      <td>0.000000</td>\n",
       "      <td>1</td>\n",
       "      <td>0</td>\n",
       "      <td>0</td>\n",
       "      <td>...</td>\n",
       "      <td>0</td>\n",
       "      <td>0</td>\n",
       "      <td>0</td>\n",
       "      <td>0</td>\n",
       "      <td>0</td>\n",
       "      <td>0</td>\n",
       "      <td>0</td>\n",
       "      <td>0</td>\n",
       "      <td>0</td>\n",
       "      <td>1</td>\n",
       "    </tr>\n",
       "    <tr>\n",
       "      <th>...</th>\n",
       "      <td>...</td>\n",
       "      <td>...</td>\n",
       "      <td>...</td>\n",
       "      <td>...</td>\n",
       "      <td>...</td>\n",
       "      <td>...</td>\n",
       "      <td>...</td>\n",
       "      <td>...</td>\n",
       "      <td>...</td>\n",
       "      <td>...</td>\n",
       "      <td>...</td>\n",
       "      <td>...</td>\n",
       "      <td>...</td>\n",
       "      <td>...</td>\n",
       "      <td>...</td>\n",
       "      <td>...</td>\n",
       "      <td>...</td>\n",
       "      <td>...</td>\n",
       "      <td>...</td>\n",
       "      <td>...</td>\n",
       "      <td>...</td>\n",
       "    </tr>\n",
       "    <tr>\n",
       "      <th>17374</th>\n",
       "      <td>2012-12-31</td>\n",
       "      <td>1</td>\n",
       "      <td>0</td>\n",
       "      <td>0.244898</td>\n",
       "      <td>0.60</td>\n",
       "      <td>0.193018</td>\n",
       "      <td>0.120902</td>\n",
       "      <td>1</td>\n",
       "      <td>0</td>\n",
       "      <td>0</td>\n",
       "      <td>...</td>\n",
       "      <td>0</td>\n",
       "      <td>0</td>\n",
       "      <td>0</td>\n",
       "      <td>0</td>\n",
       "      <td>1</td>\n",
       "      <td>0</td>\n",
       "      <td>0</td>\n",
       "      <td>0</td>\n",
       "      <td>0</td>\n",
       "      <td>0</td>\n",
       "    </tr>\n",
       "    <tr>\n",
       "      <th>17375</th>\n",
       "      <td>2012-12-31</td>\n",
       "      <td>1</td>\n",
       "      <td>0</td>\n",
       "      <td>0.244898</td>\n",
       "      <td>0.60</td>\n",
       "      <td>0.193018</td>\n",
       "      <td>0.090164</td>\n",
       "      <td>1</td>\n",
       "      <td>0</td>\n",
       "      <td>0</td>\n",
       "      <td>...</td>\n",
       "      <td>0</td>\n",
       "      <td>0</td>\n",
       "      <td>0</td>\n",
       "      <td>0</td>\n",
       "      <td>1</td>\n",
       "      <td>0</td>\n",
       "      <td>0</td>\n",
       "      <td>0</td>\n",
       "      <td>0</td>\n",
       "      <td>0</td>\n",
       "    </tr>\n",
       "    <tr>\n",
       "      <th>17376</th>\n",
       "      <td>2012-12-31</td>\n",
       "      <td>1</td>\n",
       "      <td>0</td>\n",
       "      <td>0.244898</td>\n",
       "      <td>0.60</td>\n",
       "      <td>0.193018</td>\n",
       "      <td>0.091189</td>\n",
       "      <td>1</td>\n",
       "      <td>0</td>\n",
       "      <td>0</td>\n",
       "      <td>...</td>\n",
       "      <td>1</td>\n",
       "      <td>0</td>\n",
       "      <td>0</td>\n",
       "      <td>0</td>\n",
       "      <td>1</td>\n",
       "      <td>0</td>\n",
       "      <td>0</td>\n",
       "      <td>0</td>\n",
       "      <td>0</td>\n",
       "      <td>0</td>\n",
       "    </tr>\n",
       "    <tr>\n",
       "      <th>17377</th>\n",
       "      <td>2012-12-31</td>\n",
       "      <td>1</td>\n",
       "      <td>0</td>\n",
       "      <td>0.244898</td>\n",
       "      <td>0.56</td>\n",
       "      <td>0.157870</td>\n",
       "      <td>0.061475</td>\n",
       "      <td>1</td>\n",
       "      <td>0</td>\n",
       "      <td>0</td>\n",
       "      <td>...</td>\n",
       "      <td>0</td>\n",
       "      <td>1</td>\n",
       "      <td>0</td>\n",
       "      <td>0</td>\n",
       "      <td>1</td>\n",
       "      <td>0</td>\n",
       "      <td>0</td>\n",
       "      <td>0</td>\n",
       "      <td>0</td>\n",
       "      <td>0</td>\n",
       "    </tr>\n",
       "    <tr>\n",
       "      <th>17378</th>\n",
       "      <td>2012-12-31</td>\n",
       "      <td>1</td>\n",
       "      <td>0</td>\n",
       "      <td>0.244898</td>\n",
       "      <td>0.65</td>\n",
       "      <td>0.157870</td>\n",
       "      <td>0.049180</td>\n",
       "      <td>1</td>\n",
       "      <td>0</td>\n",
       "      <td>0</td>\n",
       "      <td>...</td>\n",
       "      <td>0</td>\n",
       "      <td>0</td>\n",
       "      <td>1</td>\n",
       "      <td>0</td>\n",
       "      <td>1</td>\n",
       "      <td>0</td>\n",
       "      <td>0</td>\n",
       "      <td>0</td>\n",
       "      <td>0</td>\n",
       "      <td>0</td>\n",
       "    </tr>\n",
       "  </tbody>\n",
       "</table>\n",
       "<p>17379 rows × 58 columns</p>\n",
       "</div>"
      ],
      "text/plain": [
       "           dteday  yr  holiday      temp   hum  windspeed       cnt  season_1  \\\n",
       "0      2011-01-01   0        0  0.224490  0.81   0.000000  0.015369         1   \n",
       "1      2011-01-01   0        0  0.204082  0.80   0.000000  0.039959         1   \n",
       "2      2011-01-01   0        0  0.204082  0.80   0.000000  0.031762         1   \n",
       "3      2011-01-01   0        0  0.224490  0.75   0.000000  0.012295         1   \n",
       "4      2011-01-01   0        0  0.224490  0.75   0.000000  0.000000         1   \n",
       "...           ...  ..      ...       ...   ...        ...       ...       ...   \n",
       "17374  2012-12-31   1        0  0.244898  0.60   0.193018  0.120902         1   \n",
       "17375  2012-12-31   1        0  0.244898  0.60   0.193018  0.090164         1   \n",
       "17376  2012-12-31   1        0  0.244898  0.60   0.193018  0.091189         1   \n",
       "17377  2012-12-31   1        0  0.244898  0.56   0.157870  0.061475         1   \n",
       "17378  2012-12-31   1        0  0.244898  0.65   0.157870  0.049180         1   \n",
       "\n",
       "       season_2  season_3  ...  hr_21  hr_22  hr_23  weekday_0  weekday_1  \\\n",
       "0             0         0  ...      0      0      0          0          0   \n",
       "1             0         0  ...      0      0      0          0          0   \n",
       "2             0         0  ...      0      0      0          0          0   \n",
       "3             0         0  ...      0      0      0          0          0   \n",
       "4             0         0  ...      0      0      0          0          0   \n",
       "...         ...       ...  ...    ...    ...    ...        ...        ...   \n",
       "17374         0         0  ...      0      0      0          0          1   \n",
       "17375         0         0  ...      0      0      0          0          1   \n",
       "17376         0         0  ...      1      0      0          0          1   \n",
       "17377         0         0  ...      0      1      0          0          1   \n",
       "17378         0         0  ...      0      0      1          0          1   \n",
       "\n",
       "       weekday_2  weekday_3  weekday_4  weekday_5  weekday_6  \n",
       "0              0          0          0          0          1  \n",
       "1              0          0          0          0          1  \n",
       "2              0          0          0          0          1  \n",
       "3              0          0          0          0          1  \n",
       "4              0          0          0          0          1  \n",
       "...          ...        ...        ...        ...        ...  \n",
       "17374          0          0          0          0          0  \n",
       "17375          0          0          0          0          0  \n",
       "17376          0          0          0          0          0  \n",
       "17377          0          0          0          0          0  \n",
       "17378          0          0          0          0          0  \n",
       "\n",
       "[17379 rows x 58 columns]"
      ]
     },
     "execution_count": 7,
     "metadata": {},
     "output_type": "execute_result"
    }
   ],
   "source": [
    "# TO_DO 2 Estandarizar las columnas cuantitativas: cnt, temp, hum, windspeed.\n",
    "scaler1 = preprocessing.MinMaxScaler()\n",
    "scaler2 = preprocessing.MinMaxScaler()\n",
    "\n",
    "\n",
    "scaled1 = scaler1.fit_transform(X[['cnt']])\n",
    "scaled2 = scaler2.fit_transform(X[['temp', 'hum', 'windspeed']])\n",
    "\n",
    "\n",
    "X[['cnt']] = pd.DataFrame(scaled1)\n",
    "X[['temp', 'hum', 'windspeed']] = pd.DataFrame(scaled2)\n",
    "X"
   ]
  },
  {
   "cell_type": "markdown",
   "metadata": {
    "cell_id": "6eaf114f28604799a65a9be44a91f969",
    "deepnote_cell_type": "markdown",
    "id": "_5mCaI9Armma"
   },
   "source": [
    "#### Crear conjuntos de entrenamiento, validación y test\n",
    "\n",
    "En esta ocasión seleccionaremos los conjuntos de entrenamiento, vlaidación y test de forma ordenada. Para el test, seleccionaer los datos de aproximadamente los últimos 21 días. Para el conjunto de validación, tomar los datos de aproximadamente los últimos 60 días de los datos restantes."
   ]
  },
  {
   "cell_type": "code",
   "execution_count": 8,
   "metadata": {
    "cell_id": "518096ace1474bf9b311a3120d6f03b6",
    "deepnote_cell_type": "code",
    "deepnote_to_be_reexecuted": false,
    "execution_millis": 49,
    "execution_start": 1679608594032,
    "id": "UcA98WZnrlGv",
    "source_hash": "1863a7c5"
   },
   "outputs": [],
   "source": [
    "# TO_DO3 Definir los conjuntos de train, test y validation.\n",
    "# Darles los nombres train, val, test.\n",
    "days_and_indexes = X.groupby(by = 'dteday').groups\n",
    "days = list(days_and_indexes.keys())\n",
    "\n",
    "#botamos la columna después de usarla vilmente\n",
    "X = X.drop(['dteday'], axis=1)\n",
    "\n",
    "\n",
    "def days_partition(init, end):\n",
    "\n",
    "    \"\"\"\n",
    "        init: fecha de inicio del día\n",
    "        end: fecha de final del día\n",
    "    \"\"\"\n",
    "\n",
    "    #lista de los indices del dataframe que \n",
    "    #corresponden a las mediciones de los días\n",
    "    all_datapoints = []\n",
    "\n",
    "    #para cada día en los días seleccionados por \n",
    "    #el intervalo init, end\n",
    "    for d in days[init:end]:\n",
    "\n",
    "        #tome los indices de las mediciones asociadas\n",
    "        #a ese día y agregelo a la lista\n",
    "        for d2 in days_and_indexes[d]:\n",
    "            all_datapoints.append(d2)\n",
    "\n",
    "    return X.iloc[all_datapoints]\n",
    "\n",
    "test = days_partition(-21,-1)\n",
    "validation = days_partition(-60,-21)\n",
    "\n",
    "train = days_partition(0, -60)"
   ]
  },
  {
   "cell_type": "code",
   "execution_count": 9,
   "metadata": {
    "cell_id": "d827461d5a4b4f1481d19b5fa0f46f49",
    "deepnote_cell_type": "code",
    "deepnote_to_be_reexecuted": false,
    "execution_millis": 4,
    "execution_start": 1679608594083,
    "source_hash": "9548f12f",
    "tags": []
   },
   "outputs": [
    {
     "name": "stdout",
     "output_type": "stream",
     "text": [
      "test: 478\n",
      "validation: 934\n",
      "train: 15943\n"
     ]
    }
   ],
   "source": [
    "print(f\"test: {len(test)}\")\n",
    "print(f\"validation: {len(validation)}\")\n",
    "print(f\"train: {len(train)}\")"
   ]
  },
  {
   "cell_type": "markdown",
   "metadata": {
    "cell_id": "2a7dd830fa9a4114bc17027d457060a4",
    "deepnote_cell_type": "markdown",
    "id": "oe0XyxIFtS1U"
   },
   "source": [
    "#### Convertir los datos a tensores y prepararlos para alimentar la red\n",
    "A continuación  crearemos una clase (*MyDataset*) que nos prepara los datos para alimentar la red neuronal, convirtiendolos a parejas ordenadas de tensores conteniento los atributos y la variable objetivo. Sus parámetros son: el dataset df y el nombre de la columna objetivo en el dataset.\n"
   ]
  },
  {
   "cell_type": "code",
   "execution_count": 10,
   "metadata": {
    "cell_id": "63f9161d546448c4b0522a6ff774015d",
    "deepnote_cell_type": "code",
    "deepnote_to_be_reexecuted": false,
    "execution_millis": 2,
    "execution_start": 1679608594128,
    "id": "ovRt0NLytnF5",
    "source_hash": "dffffb4f"
   },
   "outputs": [],
   "source": [
    "class MyDataset():\n",
    " \n",
    "  def __init__(self,df,target_column):\n",
    "    #price_df = pd.read_csv(file_name)\n",
    " \n",
    "    # x = price_df.iloc[:,0:8].values\n",
    "    # y = price_df.iloc[:,8].values\n",
    "    # y_train = df_train['activity']\n",
    "    # X_train = \n",
    "\n",
    "    y      = df[target_column].values\n",
    "    X      = df.drop(target_column,axis=1).values\n",
    "    self.X = torch.tensor(X, dtype=torch.float32)\n",
    "    self.y = torch.tensor(y, dtype=torch.float32)\n",
    " \n",
    "  def __len__(self):\n",
    "    return len(self.y)\n",
    "   \n",
    "  def __getitem__(self,idx):\n",
    "    return self.X[idx],self.y[idx]"
   ]
  },
  {
   "cell_type": "markdown",
   "metadata": {
    "cell_id": "8a7a8a40ef8b4ea2bb87fc362b8a0991",
    "deepnote_cell_type": "markdown",
    "id": "CB1Wuh0yuTe_"
   },
   "source": [
    "Ahora usamos los Dataloaders para los conjuntos set, val y test."
   ]
  },
  {
   "cell_type": "code",
   "execution_count": 11,
   "metadata": {
    "cell_id": "2d79c8bfd9694515bc20dec0fd08f58c",
    "deepnote_cell_type": "code",
    "deepnote_to_be_reexecuted": false,
    "execution_millis": 45,
    "execution_start": 1679608594129,
    "id": "QZs4EuDTuVai",
    "source_hash": "8a412f22"
   },
   "outputs": [],
   "source": [
    "# Usar la clase MyDataset para preparar cada conjunto en forma de tensores\n",
    "train_sec=MyDataset(train,'cnt')\n",
    "test_sec=MyDataset(test,'cnt')\n",
    "val_sec=MyDataset(validation,'cnt')"
   ]
  },
  {
   "cell_type": "code",
   "execution_count": 12,
   "metadata": {
    "cell_id": "100bbf3a34b64a2dad3ff07b406d11b1",
    "deepnote_cell_type": "code",
    "deepnote_to_be_reexecuted": false,
    "execution_millis": 2,
    "execution_start": 1679608594173,
    "id": "yJjcOaN7ukXs",
    "source_hash": "72fb5cc4"
   },
   "outputs": [],
   "source": [
    "# Definir los DataLoaders para cargar la información pro lotes\n",
    "train_data=DataLoader(\n",
    "    train_sec,\n",
    "    batch_size=1,\n",
    "    shuffle=False,\n",
    "    #num_workers=0,\n",
    "    #collate_fn=None,\n",
    "    #pin_memory=False,\n",
    " )\n",
    "\n",
    "test_data=DataLoader(\n",
    "    test_sec,\n",
    "    batch_size=3,\n",
    "    shuffle=False,\n",
    "    num_workers=0,\n",
    "    collate_fn=None,\n",
    "    pin_memory=False,\n",
    " )\n",
    "\n",
    "val_data=DataLoader(\n",
    "    val_sec,\n",
    "    batch_size=3,\n",
    "    shuffle=False,\n",
    "    num_workers=0,\n",
    "    collate_fn=None,\n",
    "    pin_memory=False,\n",
    " )"
   ]
  },
  {
   "cell_type": "markdown",
   "metadata": {
    "cell_id": "1e223eae6c544d38aee6e7ecc27b4f7b",
    "deepnote_cell_type": "markdown",
    "id": "OLnxN2WNvPxG"
   },
   "source": [
    "Vamos a imprimir el primer bath del Test Set para visualizar y entender, sus tamaños y cómo el Dataloader ingresan los datos a la red neuronal."
   ]
  },
  {
   "cell_type": "code",
   "execution_count": 13,
   "metadata": {
    "cell_id": "8f57229e7e1140a79a8d5bec835b9271",
    "deepnote_cell_type": "code",
    "deepnote_to_be_reexecuted": false,
    "execution_millis": 10,
    "execution_start": 1679608594177,
    "id": "YN3DMvb9umEU",
    "source_hash": "fee2264"
   },
   "outputs": [
    {
     "name": "stdout",
     "output_type": "stream",
     "text": [
      "torch.Size([3, 56]) torch.Size([3])\n",
      "tensor([[1.0000, 0.0000, 0.4490, 0.7700, 0.5439, 0.0000, 0.0000, 0.0000, 1.0000,\n",
      "         0.0000, 0.0000, 1.0000, 0.0000, 0.0000, 0.0000, 0.0000, 0.0000, 0.0000,\n",
      "         0.0000, 0.0000, 0.0000, 0.0000, 0.0000, 0.0000, 1.0000, 1.0000, 0.0000,\n",
      "         0.0000, 0.0000, 0.0000, 0.0000, 0.0000, 0.0000, 0.0000, 0.0000, 0.0000,\n",
      "         0.0000, 0.0000, 0.0000, 0.0000, 0.0000, 0.0000, 0.0000, 0.0000, 0.0000,\n",
      "         0.0000, 0.0000, 0.0000, 0.0000, 0.0000, 0.0000, 1.0000, 0.0000, 0.0000,\n",
      "         0.0000, 0.0000],\n",
      "        [1.0000, 0.0000, 0.4082, 0.7100, 0.5264, 0.0000, 0.0000, 0.0000, 1.0000,\n",
      "         1.0000, 0.0000, 0.0000, 0.0000, 0.0000, 0.0000, 0.0000, 0.0000, 0.0000,\n",
      "         0.0000, 0.0000, 0.0000, 0.0000, 0.0000, 0.0000, 1.0000, 0.0000, 1.0000,\n",
      "         0.0000, 0.0000, 0.0000, 0.0000, 0.0000, 0.0000, 0.0000, 0.0000, 0.0000,\n",
      "         0.0000, 0.0000, 0.0000, 0.0000, 0.0000, 0.0000, 0.0000, 0.0000, 0.0000,\n",
      "         0.0000, 0.0000, 0.0000, 0.0000, 0.0000, 0.0000, 1.0000, 0.0000, 0.0000,\n",
      "         0.0000, 0.0000],\n",
      "        [1.0000, 0.0000, 0.3878, 0.6600, 0.3860, 0.0000, 0.0000, 0.0000, 1.0000,\n",
      "         0.0000, 1.0000, 0.0000, 0.0000, 0.0000, 0.0000, 0.0000, 0.0000, 0.0000,\n",
      "         0.0000, 0.0000, 0.0000, 0.0000, 0.0000, 0.0000, 1.0000, 0.0000, 0.0000,\n",
      "         1.0000, 0.0000, 0.0000, 0.0000, 0.0000, 0.0000, 0.0000, 0.0000, 0.0000,\n",
      "         0.0000, 0.0000, 0.0000, 0.0000, 0.0000, 0.0000, 0.0000, 0.0000, 0.0000,\n",
      "         0.0000, 0.0000, 0.0000, 0.0000, 0.0000, 0.0000, 1.0000, 0.0000, 0.0000,\n",
      "         0.0000, 0.0000]]) tensor([0.0307, 0.0072, 0.0000])\n"
     ]
    }
   ],
   "source": [
    "for i, (data, labels) in enumerate(test_data):\n",
    "  print(data.shape, labels.shape)\n",
    "  print(data,labels)\n",
    "  break;"
   ]
  },
  {
   "cell_type": "markdown",
   "metadata": {
    "cell_id": "f9b76dd13de549f885261c4721a70002",
    "deepnote_cell_type": "markdown",
    "id": "HbnK1f9asrEb"
   },
   "source": [
    "### Definir la classe Net con la estructura de la red neuronal\n",
    "\n",
    "Basándose en el taller pasado, construya una red neuronal que tenga las siguientes características: \n",
    "- Una sola capa oculta. Usted decida el número de nodos. (Puede hacer entrenamientos pequeños, con una sola epoch por ejemplo, para hacer pruebas y decidir un buen número de nodos. Entre más nodos aprenderá más características de los datos, pero tardará más. Busque un buen equilibrio).\n",
    "- Una función de activación signoide para la capa oculta.\n",
    "\n",
    "\n",
    "\n",
    "\n",
    "\n"
   ]
  },
  {
   "cell_type": "code",
   "execution_count": 14,
   "metadata": {
    "cell_id": "f1c9f08c5409499880344ff9e9beba7a",
    "deepnote_cell_type": "code",
    "deepnote_to_be_reexecuted": false,
    "execution_millis": 3,
    "execution_start": 1679608594189,
    "id": "u3Bru3KesqG_",
    "source_hash": "a4e73316"
   },
   "outputs": [],
   "source": [
    "# TO_DO 4 Escribir el código para la arquitectura de la red neuonal.\n",
    "class NeuralNetwork(nn.Module):\n",
    "    def __init__(self,  nhidden, input_sz=56, output_sz=1):\n",
    "        super().__init__()\n",
    "        self.flatten = nn.Flatten()\n",
    "        self.part1 = nn.Sequential(\n",
    "            nn.Linear(input_sz, nhidden),\n",
    "            nn.ReLU(),\n",
    "            nn.Linear(nhidden, output_sz),)\n",
    "\n",
    "    def forward(self, x):\n",
    "        x = self.flatten(x)\n",
    "        logits = self.part1(x)\n",
    "        return logits\n"
   ]
  },
  {
   "cell_type": "markdown",
   "metadata": {
    "cell_id": "3bf24c4071c24f13b76585fb96dcfcf7",
    "deepnote_cell_type": "markdown",
    "id": "CzbRdjh-4r9I"
   },
   "source": [
    "Revisamos que estemos usando GPU y definimos el dispositivo "
   ]
  },
  {
   "cell_type": "code",
   "execution_count": 15,
   "metadata": {
    "cell_id": "95af7f0ed3204627a3be8664f94a2088",
    "deepnote_cell_type": "code",
    "deepnote_to_be_reexecuted": false,
    "execution_millis": 65,
    "execution_start": 1679608594193,
    "id": "wndN09Ya4qtM",
    "source_hash": "9694620a"
   },
   "outputs": [
    {
     "name": "stdout",
     "output_type": "stream",
     "text": [
      "Is the GPU available? False\n"
     ]
    }
   ],
   "source": [
    "gpu_avail = torch.cuda.is_available()\n",
    "print(f\"Is the GPU available? {gpu_avail}\")"
   ]
  },
  {
   "cell_type": "code",
   "execution_count": 16,
   "metadata": {
    "cell_id": "feba4022346740bf82d0598b2119a693",
    "deepnote_cell_type": "code",
    "deepnote_to_be_reexecuted": false,
    "execution_millis": 3,
    "execution_start": 1679608594279,
    "id": "rtN8nDig4oQX",
    "source_hash": "c1127845"
   },
   "outputs": [
    {
     "name": "stdout",
     "output_type": "stream",
     "text": [
      "Device cpu\n"
     ]
    }
   ],
   "source": [
    "device = torch.device(\"cuda\") if torch.cuda.is_available() else torch.device(\"cpu\")\n",
    "print(\"Device\", device)"
   ]
  },
  {
   "cell_type": "markdown",
   "metadata": {
    "cell_id": "2c1f83ff3629420eaad03f20d364c85d",
    "deepnote_cell_type": "markdown",
    "id": "F5KvbK0L5BLY"
   },
   "source": [
    "Definimos el modelo, el optimizadoy y la función de costo."
   ]
  },
  {
   "cell_type": "code",
   "execution_count": 17,
   "metadata": {
    "cell_id": "d59ee96d24054c54a83a81186509ea14",
    "deepnote_cell_type": "code",
    "deepnote_to_be_reexecuted": false,
    "execution_millis": 2,
    "execution_start": 1679608594280,
    "id": "JUvzZYcs47NS",
    "source_hash": "53bfe54d"
   },
   "outputs": [],
   "source": [
    "model = NeuralNetwork(nhidden = 30)\n",
    "\n",
    "#TO_DO 5 Definir el optimizador Stochastic gradient descent y la función\n",
    "# MeanSquareError. Usar Learnig rate de 0.1\n",
    "optimizer = torch.optim.SGD(model.parameters(), lr=0.1)\n",
    "optimizer.zero_grad()\n",
    "\n",
    "#criterion = nn.CrossEntropyLoss()\n",
    "criterion = nn.MSELoss()"
   ]
  },
  {
   "cell_type": "markdown",
   "metadata": {
    "cell_id": "8261355f8aa74fc8bb9fac59be674693",
    "deepnote_cell_type": "markdown",
    "id": "s68IiHxyADx-"
   },
   "source": [
    "### Entrenando la red y guardando el mejor modelo\n",
    "\n",
    "A continuación definimos la función de entrenamiento."
   ]
  },
  {
   "cell_type": "code",
   "execution_count": 18,
   "metadata": {
    "cell_id": "ea9ac7a1810e4cf8b2c1eba710f7bcd0",
    "deepnote_cell_type": "code",
    "deepnote_to_be_reexecuted": false,
    "execution_millis": 3,
    "execution_start": 1679608594281,
    "id": "Y_Z3BWIs6DXv",
    "source_hash": "7c20504d"
   },
   "outputs": [],
   "source": [
    "#pasamos el modelo al dispositivo GPU\n",
    "model.to(device)\n",
    "def train_model(model,\n",
    "                optimizer,\n",
    "                loss_module,\n",
    "                train_loader,\n",
    "                valid_loader, \n",
    "                num_epochs):\n",
    "  \n",
    "  #Vamos a encontrar el menor valor de error de validación.\n",
    "  #Por eso la inicializmaos como 'infinito'\n",
    "  valid_loss_min =np.inf  \n",
    "  \n",
    "  for i in range(num_epochs):\n",
    "      \n",
    "    #ponemos el modelo en modo entrenamiento.\n",
    "    #Es importante en otras arquitecturas como redes convolucionales.\n",
    "    model.train()  \n",
    "    train_loss = 0.0\n",
    "    v_loss = 0.0\n",
    "\n",
    "    # TODO 6 Completar el código a continuación\n",
    "    for data, target in train_loader:\n",
    "        # mover los tensores de atributos y etiquetas al dispositivo GPU\n",
    "        inputs, labels = data.to(device), target.to(device)\n",
    "        \n",
    "        # Reiniciar los gradientes\n",
    "        optimizer.zero_grad()\n",
    "\n",
    "        # forward pass: calcular la salida para los datos de entrada..\n",
    "        outputs = model(inputs)\n",
    "\n",
    "        # calculate the batch loss\n",
    "        loss = loss_module(outputs, labels)\n",
    "\n",
    "        # backpropagation: cálculo de gradientes\n",
    "        loss.backward()\n",
    "\n",
    "        # actualizar los parámetros\n",
    "        optimizer.step()\n",
    "\n",
    "\n",
    "        # actualizar la cuenta de costos a lo largo de los lotes\n",
    "        train_loss += loss.item()*data.size(0)\n",
    "    # for data,labels in testloader:\n",
    "\n",
    "    train_loss = train_loss/len(train_loader.dataset) \n",
    "\n",
    "    model.eval() #Ponemos el modelo en modo evaluación.\n",
    "\n",
    "    #for param in model.parameters():\n",
    "    #  print(param.data)\n",
    "    # vamos a evaluar el modelo entrenado, calculando predicciones con el conjunto de validación\n",
    "    for data,target in valid_loader:\n",
    "      data=data.to(device)\n",
    "      target=target.to(device)\n",
    "      output=model(data)\n",
    "      valid_loss= loss_module(output, target)\n",
    "      valid_loss += loss.item()*data.size(0)\n",
    "    valid_loss = valid_loss/len(valid_loader.dataset)\n",
    "    \n",
    "    #imprimir estadísticas de entrenamiento y validación\n",
    "    print('Epoch: {} \\tTraining Loss: {:.6f} \\tValidation Loss: {:.6f}'.format(\n",
    "        i, train_loss, valid_loss))\n",
    "    \n",
    "\n",
    "    #Guardamos el modelo con el menor error de validación.\n",
    "    if valid_loss <= valid_loss_min:\n",
    "        print('Validation loss decreased ({:.6f} --> {:.6f}).  Saving model ...'.format(\n",
    "        valid_loss_min,\n",
    "        valid_loss))\n",
    "        torch.save(model.state_dict(), 'model_bikeshare.pt')\n",
    "        valid_loss_min = valid_loss\n",
    "\n",
    "    return valid_loss, train_loss\n"
   ]
  },
  {
   "cell_type": "markdown",
   "metadata": {
    "cell_id": "8721c3bb25e746f181e5764c34a4ce3b",
    "deepnote_cell_type": "markdown",
    "id": "nXpGJHcO8y4_"
   },
   "source": [
    "Ahora entrene el modelo. Intente primero con una sola epoch para verificar que el codigo esté correcto. Luego de eso prube con más epochs. Con un buen rato de tiempo disponible podría intentar 100, 500, las que más quiera intentar de acuerdo a como vea su desempeño."
   ]
  },
  {
   "cell_type": "code",
   "execution_count": 19,
   "metadata": {
    "cell_id": "0c6057c8ec8241cc86885776e622b29d",
    "deepnote_cell_type": "code",
    "deepnote_to_be_reexecuted": false,
    "execution_millis": 92583,
    "execution_start": 1679608594286,
    "source_hash": "e877212b"
   },
   "outputs": [
    {
     "name": "stderr",
     "output_type": "stream",
     "text": [
      "/shared-libs/python3.9/py/lib/python3.9/site-packages/torch/nn/modules/loss.py:530: UserWarning: Using a target size (torch.Size([1])) that is different to the input size (torch.Size([1, 1])). This will likely lead to incorrect results due to broadcasting. Please ensure they have the same size.\n",
      "  return F.mse_loss(input, target, reduction=self.reduction)\n",
      "/shared-libs/python3.9/py/lib/python3.9/site-packages/torch/nn/modules/loss.py:530: UserWarning: Using a target size (torch.Size([3])) that is different to the input size (torch.Size([3, 1])). This will likely lead to incorrect results due to broadcasting. Please ensure they have the same size.\n",
      "  return F.mse_loss(input, target, reduction=self.reduction)\n",
      "Epoch: 0 \tTraining Loss: 0.246484 \tValidation Loss: 0.000198\n",
      "Validation loss decreased (inf --> 0.000198).  Saving model ...\n",
      "Epoch: 0 \tTraining Loss: 0.073216 \tValidation Loss: 0.000012\n",
      "Validation loss decreased (inf --> 0.000012).  Saving model ...\n",
      "Epoch: 0 \tTraining Loss: 0.059217 \tValidation Loss: 0.000014\n",
      "Validation loss decreased (inf --> 0.000014).  Saving model ...\n",
      "Epoch: 0 \tTraining Loss: 0.133617 \tValidation Loss: 0.000117\n",
      "Validation loss decreased (inf --> 0.000117).  Saving model ...\n",
      "Epoch: 0 \tTraining Loss: 0.054357 \tValidation Loss: 0.000002\n",
      "Validation loss decreased (inf --> 0.000002).  Saving model ...\n",
      "Epoch: 0 \tTraining Loss: 0.105193 \tValidation Loss: 0.000056\n",
      "Validation loss decreased (inf --> 0.000056).  Saving model ...\n",
      "Epoch: 0 \tTraining Loss: 0.131037 \tValidation Loss: 0.000087\n",
      "Validation loss decreased (inf --> 0.000087).  Saving model ...\n",
      "Epoch: 0 \tTraining Loss: 0.072002 \tValidation Loss: 0.000014\n",
      "Validation loss decreased (inf --> 0.000014).  Saving model ...\n",
      "Epoch: 0 \tTraining Loss: 0.054109 \tValidation Loss: 0.000004\n",
      "Validation loss decreased (inf --> 0.000004).  Saving model ...\n",
      "best performance got with n 50 and validation loss 2.4075820874713827e-06\n"
     ]
    }
   ],
   "source": [
    "valid_loss_min =np.inf  \n",
    "best = 0\n",
    "\n",
    "for size in range(10, 100, 10):\n",
    "    model = NeuralNetwork(nhidden = size)\n",
    "    optimizer.zero_grad()\n",
    "\n",
    "    valid_loss, train_loss = train_model(model,\n",
    "                                         optimizer,\n",
    "                                         criterion,\n",
    "                                         train_data,\n",
    "                                         val_data, 4)  \n",
    "\n",
    "    if valid_loss < valid_loss_min:\n",
    "        valid_loss_min = valid_loss\n",
    "        best = size\n",
    "\n",
    "print(f\"best performance got with n {best} and validation loss {valid_loss_min}\")\n",
    "    \n"
   ]
  },
  {
   "cell_type": "code",
   "execution_count": 20,
   "metadata": {
    "cell_id": "8fb2c431d34545e08e118d32e266c3f7",
    "deepnote_cell_type": "code",
    "deepnote_to_be_reexecuted": false,
    "execution_millis": 10398,
    "execution_start": 1679608686875,
    "id": "nG7EhC099Rsr",
    "source_hash": "795f6350"
   },
   "outputs": [
    {
     "name": "stdout",
     "output_type": "stream",
     "text": [
      "Epoch: 0 \tTraining Loss: 0.045861 \tValidation Loss: 0.000001\n",
      "Validation loss decreased (inf --> 0.000001).  Saving model ...\n"
     ]
    },
    {
     "data": {
      "text/plain": [
       "(tensor(1.2266e-06, grad_fn=<DivBackward0>), 0.04586071455627264)"
      ]
     },
     "execution_count": 20,
     "metadata": {},
     "output_type": "execute_result"
    }
   ],
   "source": [
    "#completar\n",
    "model = NeuralNetwork(nhidden = 60)\n",
    "optimizer.zero_grad()\n",
    "\n",
    "train_model(model, optimizer, criterion, train_data, val_data, 10)  "
   ]
  },
  {
   "cell_type": "markdown",
   "metadata": {
    "cell_id": "f5d6999b218c4966af63903f142b637b",
    "deepnote_cell_type": "markdown",
    "id": "cZeVo9TJ9dTk"
   },
   "source": [
    "Cargamos el mejor modelo obtenido del entrenamiento. \n",
    "*Observación:* En el entrenamiento se guarda un modelo en un archivo .pt usted puede descargar el archivo y guardarlo localmente. De esta forma, si quiere usar el modelo nuevamente sin volver a realizar entrenamiento, sólo carguelo como se indica en la siguiente celda."
   ]
  },
  {
   "cell_type": "code",
   "execution_count": 21,
   "metadata": {
    "cell_id": "92ea4e6906af4a288bcc3b0534ffed91",
    "deepnote_cell_type": "code",
    "deepnote_to_be_reexecuted": false,
    "execution_millis": 5,
    "execution_start": 1679608697278,
    "id": "V35GtM169Wdd",
    "source_hash": "f6ac661f"
   },
   "outputs": [
    {
     "data": {
      "text/plain": [
       "<All keys matched successfully>"
      ]
     },
     "execution_count": 21,
     "metadata": {},
     "output_type": "execute_result"
    }
   ],
   "source": [
    "model.load_state_dict(torch.load('model_bikeshare.pt'))"
   ]
  },
  {
   "cell_type": "markdown",
   "metadata": {
    "cell_id": "3b1216517cb249d294f956b31177e008",
    "deepnote_cell_type": "markdown",
    "id": "6yNPImH-9l3k"
   },
   "source": [
    "Visualizamos los parámetros del modelo obtenido anteriormente"
   ]
  },
  {
   "cell_type": "code",
   "execution_count": 22,
   "metadata": {
    "cell_id": "5aa2cbf9e6ee48fabb86801a39937088",
    "deepnote_cell_type": "code",
    "deepnote_to_be_reexecuted": false,
    "execution_millis": 5,
    "execution_start": 1679608697290,
    "id": "G5f-4tqI9ldc",
    "source_hash": "78a6ca98"
   },
   "outputs": [
    {
     "name": "stdout",
     "output_type": "stream",
     "text": [
      "part1.0.weight tensor([[ 0.0239,  0.1320,  0.0354,  ..., -0.0760, -0.0436,  0.0580],\n",
      "        [-0.0604, -0.0331, -0.0978,  ..., -0.0681,  0.0608, -0.1308],\n",
      "        [ 0.1318,  0.1091,  0.0506,  ..., -0.0777, -0.1093,  0.0590],\n",
      "        ...,\n",
      "        [ 0.1142, -0.0919, -0.0561,  ...,  0.1207,  0.0390,  0.0034],\n",
      "        [-0.0384,  0.0179, -0.0944,  ..., -0.1180, -0.0705,  0.0389],\n",
      "        [ 0.0197, -0.1018,  0.0621,  ...,  0.0694,  0.0101, -0.0302]])\n",
      "part1.0.bias tensor([-0.0068,  0.0131,  0.0012, -0.0224,  0.1103, -0.1274, -0.0566, -0.0051,\n",
      "        -0.0162, -0.1243,  0.1261,  0.1329,  0.0786, -0.0695, -0.0263, -0.0352,\n",
      "         0.0280, -0.0238, -0.0292,  0.1225, -0.0877,  0.0766,  0.1226,  0.0572,\n",
      "        -0.0265,  0.0494,  0.0067,  0.0385,  0.0272, -0.0075, -0.0209,  0.0700,\n",
      "         0.0600, -0.1072, -0.0245, -0.1250, -0.0120,  0.0794,  0.0721, -0.0080,\n",
      "        -0.0059,  0.0875, -0.0679,  0.0738, -0.1260,  0.0599,  0.0144, -0.1286,\n",
      "        -0.0016,  0.0046,  0.0733, -0.0742,  0.1167,  0.0804, -0.0066,  0.0030,\n",
      "         0.0011,  0.0053, -0.0896, -0.0920])\n",
      "part1.2.weight tensor([[-0.0544,  0.0261, -0.0846,  0.0519, -0.0438,  0.1100,  0.0898, -0.0109,\n",
      "         -0.0768,  0.0217,  0.1217, -0.0412, -0.0986, -0.1171,  0.0868, -0.0324,\n",
      "          0.0100, -0.0681,  0.0004,  0.0161,  0.0586, -0.0834, -0.0573,  0.1027,\n",
      "          0.0618,  0.0691, -0.0453,  0.0285, -0.0621,  0.0165,  0.0260,  0.1126,\n",
      "          0.0247, -0.0699, -0.0366, -0.0354, -0.0685,  0.0193, -0.0306,  0.0478,\n",
      "         -0.0712, -0.0499,  0.1233, -0.0681,  0.0546,  0.0773, -0.0618, -0.1012,\n",
      "         -0.0822,  0.1088,  0.1033,  0.0714, -0.0263,  0.0628,  0.0146, -0.0030,\n",
      "         -0.0119,  0.0256, -0.0386,  0.1261]])\n",
      "part1.2.bias tensor([0.1232])\n"
     ]
    }
   ],
   "source": [
    "for name, param in model.named_parameters():\n",
    "    if param.requires_grad:\n",
    "        print (name, param.data)"
   ]
  },
  {
   "cell_type": "markdown",
   "metadata": {
    "cell_id": "96336117a56f46389e60b235a402899f",
    "deepnote_cell_type": "markdown",
    "id": "j4QIP9as9u7u"
   },
   "source": [
    "### Evaluación del modelo\n",
    "Ahora la prueba final con el test set. "
   ]
  },
  {
   "cell_type": "code",
   "execution_count": 23,
   "metadata": {
    "cell_id": "16ce64cd852042b5a6575671e29dcc21",
    "deepnote_cell_type": "code",
    "deepnote_to_be_reexecuted": false,
    "execution_millis": 33,
    "execution_start": 1679608697353,
    "id": "kdELpZLp9uHp",
    "source_hash": "f7bdf2ab"
   },
   "outputs": [
    {
     "name": "stdout",
     "output_type": "stream",
     "text": [
      "Test Loss: 0.026610\n",
      "\n"
     ]
    }
   ],
   "source": [
    "test_loss = 0.0\n",
    "criterion = nn.MSELoss()\n",
    "\n",
    "for data, target in test_data:\n",
    "  data   = data.to(device)\n",
    "  target = target.to(device)\n",
    "  output = model(data)\n",
    "  loss   = criterion(output,target)\n",
    "  test_loss += loss.item()*data.size(0)\n",
    "\n",
    "test_loss = test_loss/len(test_data.dataset)\n",
    "print('Test Loss: {:.6f}\\n'.format(test_loss))\n"
   ]
  },
  {
   "cell_type": "markdown",
   "metadata": {
    "cell_id": "33bfbfc7c974423089ba97742b1588b9",
    "deepnote_cell_type": "markdown",
    "id": "7fppYxUZAWq_"
   },
   "source": [
    "### Usando el modelo en contexto"
   ]
  },
  {
   "cell_type": "markdown",
   "metadata": {
    "cell_id": "722dcb6ad76e4cdc9524b3ecbbee2757",
    "deepnote_cell_type": "markdown",
    "id": "zmSC3s4J96RC"
   },
   "source": [
    "TO_DO 7: Finalmente, utilice el modelo encontrado para predecir el número de bicicletas rentadas en tres momentos (fecha, hora y demás atributos) diferentes que usted elija (pueden ser tomados del test set o con unos atributos nuevos que usted elija). \n",
    "Comente por favor lo siguiente: \n",
    "- Escribr si son atributos que usted seleccionó del dataset o unos nuevos ***Si son los mismos atributos***.\n",
    "- Describa cómo obtuvo el valor de la predicción y qué valor dió (tenga en cuenta que la salida está normalizada, pero queremos la cantidad de bicicletas) ***Primero obtuvimos el siguiente batch y lo metimos al modelo para predecir adecuadamente la salida, dado que las entradas estaban escaladas con el MinMaxScaler, lo utilizamos con su inversa para calcular la correspondiente cantidad de bicis.***\n",
    "- Si son atributos seleccionados del test set, compare su resultado con la etiqueta original. ¿Qué tal se desempeñó en esos tres casos? "
   ]
  },
  {
   "cell_type": "code",
   "execution_count": 46,
   "metadata": {
    "cell_id": "7aa4a2d689924e55967f1457373ef257",
    "deepnote_cell_type": "code",
    "deepnote_to_be_reexecuted": false,
    "execution_millis": 5,
    "execution_start": 1679609399128,
    "id": "vYyGLkXw944m",
    "source_hash": "2413ec63"
   },
   "outputs": [
    {
     "data": {
      "text/plain": [
       "tensor([[0.1298],\n",
       "        [0.1400],\n",
       "        [0.1025]], grad_fn=<AddmmBackward0>)"
      ]
     },
     "execution_count": 46,
     "metadata": {},
     "output_type": "execute_result"
    }
   ],
   "source": [
    "data, target = next(iter(test_data))\n",
    "inputs, labels = data.to(device), target.to(device)\n",
    "\n",
    "# forward pass: calcular la salida para los datos de entrada..\n",
    "outputs = model(inputs)\n",
    "outputs"
   ]
  },
  {
   "cell_type": "code",
   "execution_count": 47,
   "metadata": {
    "cell_id": "23ac9d4025084135b37362e3b616ba94",
    "deepnote_cell_type": "code",
    "deepnote_to_be_reexecuted": false,
    "execution_millis": 3,
    "execution_start": 1679609403296,
    "source_hash": "aa8cb514"
   },
   "outputs": [
    {
     "name": "stdout",
     "output_type": "stream",
     "text": [
      "Cantidad de bicis que se prestan originalmente: \n"
     ]
    },
    {
     "data": {
      "text/plain": [
       "array([[31.0000006 ],\n",
       "       [ 7.99999984],\n",
       "       [ 1.        ]])"
      ]
     },
     "execution_count": 47,
     "metadata": {},
     "output_type": "execute_result"
    }
   ],
   "source": [
    "print(\"Cantidad de bicis que se prestan originalmente: \")\n",
    "orig = scaler1.inverse_transform(labels.reshape(-1, 1))\n",
    "orig"
   ]
  },
  {
   "cell_type": "code",
   "execution_count": 48,
   "metadata": {
    "cell_id": "3c0d9b6aa31b4590856ea58efbe3a74b",
    "deepnote_cell_type": "code",
    "deepnote_to_be_reexecuted": false,
    "execution_millis": 4,
    "execution_start": 1679609406476,
    "source_hash": "5e875b01"
   },
   "outputs": [
    {
     "name": "stdout",
     "output_type": "stream",
     "text": [
      "Cantidad de bicis que se prestan según la predicción del modelo: \n"
     ]
    },
    {
     "data": {
      "text/plain": [
       "array([[127.695114],\n",
       "       [137.59758 ],\n",
       "       [100.99408 ]], dtype=float32)"
      ]
     },
     "execution_count": 48,
     "metadata": {},
     "output_type": "execute_result"
    }
   ],
   "source": [
    "print(\"Cantidad de bicis que se prestan según la predicción del modelo: \")\n",
    "pred = scaler1.inverse_transform(outputs.detach().numpy())\n",
    "pred"
   ]
  },
  {
   "cell_type": "markdown",
   "metadata": {
    "cell_id": "946fb3a1028f43d5b5066d08ec60ba30",
    "deepnote_cell_type": "markdown"
   },
   "source": [
    "Como vemos lo hace terrible..."
   ]
  },
  {
   "cell_type": "code",
   "execution_count": 52,
   "metadata": {
    "cell_id": "ef206a17c0074a28ac148dc6efbe3688",
    "deepnote_cell_type": "code",
    "deepnote_to_be_reexecuted": false,
    "execution_millis": 3,
    "execution_start": 1679609513354,
    "source_hash": "b5cde041"
   },
   "outputs": [
    {
     "data": {
      "text/plain": [
       "12048.09790280868"
      ]
     },
     "execution_count": 52,
     "metadata": {},
     "output_type": "execute_result"
    }
   ],
   "source": [
    "from sklearn.metrics import mean_squared_error as msejiji\n",
    "\n",
    "msejiji(orig, pred)"
   ]
  },
  {
   "cell_type": "markdown",
   "metadata": {
    "cell_id": "b6a4a0c188434864952ba264a53d11c4",
    "deepnote_cell_type": "markdown"
   },
   "source": [
    "Ahora vamos a verlo para todo el dataset, spoiler, no es que le vaya mejor que antes ..."
   ]
  },
  {
   "cell_type": "code",
   "execution_count": 70,
   "metadata": {
    "cell_id": "5c05001865e94999b48a300d5cce4bef",
    "deepnote_cell_type": "code",
    "deepnote_to_be_reexecuted": false,
    "execution_millis": 1,
    "execution_start": 1679609932460,
    "source_hash": "e1b06386"
   },
   "outputs": [
    {
     "data": {
      "text/plain": [
       "24937.38670627432"
      ]
     },
     "execution_count": 70,
     "metadata": {},
     "output_type": "execute_result"
    }
   ],
   "source": [
    "preds = model(test_data.batch_sampler.sampler.data_source.X)\n",
    "preds = scaler1.inverse_transform(preds.detach().numpy())\n",
    "\n",
    "origs = test_data.batch_sampler.sampler.data_source.y\n",
    "origs = scaler1.inverse_transform(origs.reshape(-1,1))\n",
    "\n",
    "msejiji(origs, preds)"
   ]
  },
  {
   "cell_type": "markdown",
   "metadata": {
    "created_in_deepnote_cell": true,
    "deepnote_cell_type": "markdown"
   },
   "source": [
    "<a style='text-decoration:none;line-height:16px;display:flex;color:#5B5B62;padding:10px;justify-content:end;' href='https://deepnote.com?utm_source=created-in-deepnote-cell&projectId=6bfcf351-25b4-498b-af75-310729c1a691' target=\"_blank\">\n",
    "<img alt='Created in deepnote.com' style='display:inline;max-height:16px;margin:0px;margin-right:7.5px;' src='data:image/svg+xml;base64,PD94bWwgdmVyc2lvbj0iMS4wIiBlbmNvZGluZz0iVVRGLTgiPz4KPHN2ZyB3aWR0aD0iODBweCIgaGVpZ2h0PSI4MHB4IiB2aWV3Qm94PSIwIDAgODAgODAiIHZlcnNpb249IjEuMSIgeG1sbnM9Imh0dHA6Ly93d3cudzMub3JnLzIwMDAvc3ZnIiB4bWxuczp4bGluaz0iaHR0cDovL3d3dy53My5vcmcvMTk5OS94bGluayI+CiAgICA8IS0tIEdlbmVyYXRvcjogU2tldGNoIDU0LjEgKDc2NDkwKSAtIGh0dHBzOi8vc2tldGNoYXBwLmNvbSAtLT4KICAgIDx0aXRsZT5Hcm91cCAzPC90aXRsZT4KICAgIDxkZXNjPkNyZWF0ZWQgd2l0aCBTa2V0Y2guPC9kZXNjPgogICAgPGcgaWQ9IkxhbmRpbmciIHN0cm9rZT0ibm9uZSIgc3Ryb2tlLXdpZHRoPSIxIiBmaWxsPSJub25lIiBmaWxsLXJ1bGU9ImV2ZW5vZGQiPgogICAgICAgIDxnIGlkPSJBcnRib2FyZCIgdHJhbnNmb3JtPSJ0cmFuc2xhdGUoLTEyMzUuMDAwMDAwLCAtNzkuMDAwMDAwKSI+CiAgICAgICAgICAgIDxnIGlkPSJHcm91cC0zIiB0cmFuc2Zvcm09InRyYW5zbGF0ZSgxMjM1LjAwMDAwMCwgNzkuMDAwMDAwKSI+CiAgICAgICAgICAgICAgICA8cG9seWdvbiBpZD0iUGF0aC0yMCIgZmlsbD0iIzAyNjVCNCIgcG9pbnRzPSIyLjM3NjIzNzYyIDgwIDM4LjA0NzY2NjcgODAgNTcuODIxNzgyMiA3My44MDU3NTkyIDU3LjgyMTc4MjIgMzIuNzU5MjczOSAzOS4xNDAyMjc4IDMxLjY4MzE2ODMiPjwvcG9seWdvbj4KICAgICAgICAgICAgICAgIDxwYXRoIGQ9Ik0zNS4wMDc3MTgsODAgQzQyLjkwNjIwMDcsNzYuNDU0OTM1OCA0Ny41NjQ5MTY3LDcxLjU0MjI2NzEgNDguOTgzODY2LDY1LjI2MTk5MzkgQzUxLjExMjI4OTksNTUuODQxNTg0MiA0MS42NzcxNzk1LDQ5LjIxMjIyODQgMjUuNjIzOTg0Niw0OS4yMTIyMjg0IEMyNS40ODQ5Mjg5LDQ5LjEyNjg0NDggMjkuODI2MTI5Niw0My4yODM4MjQ4IDM4LjY0NzU4NjksMzEuNjgzMTY4MyBMNzIuODcxMjg3MSwzMi41NTQ0MjUgTDY1LjI4MDk3Myw2Ny42NzYzNDIxIEw1MS4xMTIyODk5LDc3LjM3NjE0NCBMMzUuMDA3NzE4LDgwIFoiIGlkPSJQYXRoLTIyIiBmaWxsPSIjMDAyODY4Ij48L3BhdGg+CiAgICAgICAgICAgICAgICA8cGF0aCBkPSJNMCwzNy43MzA0NDA1IEwyNy4xMTQ1MzcsMC4yNTcxMTE0MzYgQzYyLjM3MTUxMjMsLTEuOTkwNzE3MDEgODAsMTAuNTAwMzkyNyA4MCwzNy43MzA0NDA1IEM4MCw2NC45NjA0ODgyIDY0Ljc3NjUwMzgsNzkuMDUwMzQxNCAzNC4zMjk1MTEzLDgwIEM0Ny4wNTUzNDg5LDc3LjU2NzA4MDggNTMuNDE4MjY3Nyw3MC4zMTM2MTAzIDUzLjQxODI2NzcsNTguMjM5NTg4NSBDNTMuNDE4MjY3Nyw0MC4xMjg1NTU3IDM2LjMwMzk1NDQsMzcuNzMwNDQwNSAyNS4yMjc0MTcsMzcuNzMwNDQwNSBDMTcuODQzMDU4NiwzNy43MzA0NDA1IDkuNDMzOTE5NjYsMzcuNzMwNDQwNSAwLDM3LjczMDQ0MDUgWiIgaWQ9IlBhdGgtMTkiIGZpbGw9IiMzNzkzRUYiPjwvcGF0aD4KICAgICAgICAgICAgPC9nPgogICAgICAgIDwvZz4KICAgIDwvZz4KPC9zdmc+' > </img>\n",
    "Created in <span style='font-weight:600;margin-left:4px;'>Deepnote</span></a>"
   ]
  }
 ],
 "metadata": {
  "colab": {
   "provenance": []
  },
  "deepnote": {},
  "deepnote_execution_queue": [],
  "deepnote_notebook_id": "b5316713a65749c58779508e9fab72c2",
  "deepnote_persisted_session": {
   "createdAt": "2023-03-21T22:30:18.243Z"
  },
  "kernelspec": {
   "display_name": "Python 3 (ipykernel)",
   "language": "python",
   "name": "python3"
  },
  "language_info": {
   "codemirror_mode": {
    "name": "ipython",
    "version": 3
   },
   "file_extension": ".py",
   "mimetype": "text/x-python",
   "name": "python",
   "nbconvert_exporter": "python",
   "pygments_lexer": "ipython3",
   "version": "3.9.7"
  }
 },
 "nbformat": 4,
 "nbformat_minor": 1
}
