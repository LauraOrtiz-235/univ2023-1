{
 "cells": [
  {
   "cell_type": "markdown",
   "metadata": {
    "cell_id": "a30014921a8843d4866e243097537a1d",
    "deepnote_cell_type": "markdown",
    "id": "JY8MSq-XHiPU"
   },
   "source": [
    "Usaremos máquinas de soporte vectorial para determinar si un paciente tiene o no enfermedad en el corazón. Utilizaremos los datos en [heart disease](https://archive.ics.uci.edu/ml/datasets/Heart+Disease) que se encuentran en el [UCI Machine Learning Repository](https://archive.ics.uci.edu/ml/index.php).\n",
    "\n",
    "Entregar en formato .ipynb o .html en la plataforma\n",
    " a más tardar el día miércoles 26 de abril."
   ]
  },
  {
   "cell_type": "code",
   "execution_count": 1,
   "metadata": {
    "cell_id": "01486af01ac64e7398b01ed06935a0f2",
    "deepnote_cell_type": "code",
    "deepnote_to_be_reexecuted": false,
    "execution_millis": 1896,
    "execution_start": 1682561874720,
    "id": "wRZyD6uTGGyb",
    "source_hash": "c74a9dfb"
   },
   "outputs": [],
   "source": [
    "import sklearn\n",
    "import pandas            as pd \n",
    "import numpy             as np \n",
    "import matplotlib.pyplot as plt \n",
    "import matplotlib.colors as colors\n",
    "\n",
    "from sklearn.preprocessing   import StandardScaler\n",
    "from sklearn                 import preprocessing, svm\n",
    "from sklearn.svm             import SVC\n",
    "from sklearn.model_selection import train_test_split \n",
    "from sklearn.model_selection import GridSearchCV \n",
    "from sklearn.metrics         import confusion_matrix\n",
    "from sklearn.metrics         import plot_confusion_matrix\n",
    "from sklearn.decomposition   import PCA "
   ]
  },
  {
   "cell_type": "code",
   "execution_count": 2,
   "metadata": {
    "cell_id": "f9906476ac0b495d8cab6c670f173d59",
    "deepnote_cell_type": "code",
    "deepnote_to_be_reexecuted": false,
    "execution_millis": 1,
    "execution_start": 1682561876661,
    "id": "ZL7icU2CLDZ-",
    "source_hash": "82e1e137"
   },
   "outputs": [],
   "source": [
    "df = pd.read_csv('HeartDisease.csv')\n",
    "df = df.drop(columns = ['Unnamed: 0'])"
   ]
  },
  {
   "cell_type": "code",
   "execution_count": 3,
   "metadata": {
    "cell_id": "61a09cb464b34a7ca81ee916dd5ba3ab",
    "deepnote_cell_type": "code",
    "deepnote_to_be_reexecuted": false,
    "execution_millis": 3,
    "execution_start": 1682561876661,
    "id": "d27BN0RLLUP2",
    "source_hash": "316ad455"
   },
   "outputs": [
    {
     "name": "stdout",
     "output_type": "stream",
     "text": [
      "<class 'pandas.core.frame.DataFrame'>\n",
      "RangeIndex: 303 entries, 0 to 302\n",
      "Data columns (total 14 columns):\n",
      " #   Column   Non-Null Count  Dtype  \n",
      "---  ------   --------------  -----  \n",
      " 0   age      303 non-null    float64\n",
      " 1   sex      303 non-null    float64\n",
      " 2   cp       303 non-null    float64\n",
      " 3   restbp   303 non-null    float64\n",
      " 4   chol     303 non-null    float64\n",
      " 5   fbs      303 non-null    float64\n",
      " 6   restecg  303 non-null    float64\n",
      " 7   thalach  303 non-null    float64\n",
      " 8   exang    303 non-null    float64\n",
      " 9   oldpeak  303 non-null    float64\n",
      " 10  slope    303 non-null    float64\n",
      " 11  ca       303 non-null    object \n",
      " 12  thal     303 non-null    object \n",
      " 13  hd       303 non-null    int64  \n",
      "dtypes: float64(11), int64(1), object(2)\n",
      "memory usage: 33.3+ KB\n"
     ]
    }
   ],
   "source": [
    "df.head()\n",
    "df.info()"
   ]
  },
  {
   "cell_type": "markdown",
   "metadata": {
    "cell_id": "2ef69e4bad6c463fa74e12048ef19fa0",
    "deepnote_cell_type": "markdown",
    "id": "o7LeysfpIqtb"
   },
   "source": [
    "A continuación un resumen de los atributos de este conjunto de datos:"
   ]
  },
  {
   "cell_type": "markdown",
   "metadata": {
    "cell_id": "e8627b29e20243a3bcf15645b00ef06a",
    "deepnote_cell_type": "markdown",
    "id": "l__YW_45Ivlt"
   },
   "source": [
    "- **age**,\n",
    "- **sex**,\n",
    "- **cp**, chest pain\n",
    "- **restbp**, resting blood pressure (in mm Hg)\n",
    "- **chol**, serum cholesterol in mg/dl\n",
    "- **fbs**, fasting blood sugar\n",
    "- **restecg**, resting electrocardiographic results\n",
    "- **thalach**,  maximum heart rate achieved\n",
    "- **exang**, exercise induced angina\n",
    "- **oldpeak**, ST depression induced by exercise relative to rest\n",
    "- **slope**, the slope of the peak exercise ST segment.\n",
    "- **ca**, number of major vessels (0-3) colored by fluoroscopy\n",
    "- **thal**, this is short of thalium heart scan.\n",
    "- **hd**, diagnosis of heart disease, the predicted attribute"
   ]
  },
  {
   "cell_type": "markdown",
   "metadata": {
    "cell_id": "c44e1333f0ef49158be33678e7961b31",
    "deepnote_cell_type": "markdown",
    "id": "whNd6409IC02"
   },
   "source": [
    "Dado que las máquinas de soporte vectorial no aceptan valores faltantes, debemos asegurarnos de que no los haya. En este caso, el porcentaje de datos faltantes consiste en aquellos que tienen una interrogación \"?\" en las columnas 'ca' y 'thal'."
   ]
  },
  {
   "cell_type": "code",
   "execution_count": 4,
   "metadata": {
    "cell_id": "ddc632447b0c4a30837325f2c43482ee",
    "deepnote_cell_type": "code",
    "deepnote_to_be_reexecuted": false,
    "execution_millis": 5,
    "execution_start": 1682561876664,
    "id": "JusSV_zfOVAb",
    "source_hash": "b55126b5"
   },
   "outputs": [],
   "source": [
    "df = df.loc[(df['ca'] != '?') & (df['thal'] != '?')]"
   ]
  },
  {
   "cell_type": "code",
   "execution_count": 5,
   "metadata": {
    "cell_id": "4ec5668275d54a72987152549e3ad45a",
    "colab": {
     "base_uri": "https://localhost:8080/",
     "height": 424
    },
    "deepnote_cell_type": "code",
    "deepnote_to_be_reexecuted": false,
    "execution_millis": 55,
    "execution_start": 1682561876711,
    "id": "6vuscO2-PfnD",
    "outputId": "d080a816-f05e-4c4d-a060-f7b142b43d09",
    "source_hash": "f804c160"
   },
   "outputs": [
    {
     "data": {
      "application/vnd.deepnote.dataframe.v3+json": {
       "column_count": 14,
       "columns": [
        {
         "dtype": "float64",
         "name": "age",
         "stats": {
          "histogram": [
           {
            "bin_end": 33.8,
            "bin_start": 29,
            "count": 1
           },
           {
            "bin_end": 38.6,
            "bin_start": 33.8,
            "count": 9
           },
           {
            "bin_end": 43.4,
            "bin_start": 38.6,
            "count": 32
           },
           {
            "bin_end": 48.2,
            "bin_start": 43.4,
            "count": 38
           },
           {
            "bin_end": 53,
            "bin_start": 48.2,
            "count": 35
           },
           {
            "bin_end": 57.8,
            "bin_start": 53,
            "count": 59
           },
           {
            "bin_end": 62.6,
            "bin_start": 57.8,
            "count": 63
           },
           {
            "bin_end": 67.4,
            "bin_start": 62.6,
            "count": 43
           },
           {
            "bin_end": 72.19999999999999,
            "bin_start": 67.4,
            "count": 14
           },
           {
            "bin_end": 77,
            "bin_start": 72.19999999999999,
            "count": 3
           }
          ],
          "max": "77.0",
          "min": "29.0",
          "nan_count": 0,
          "unique_count": 41
         }
        },
        {
         "dtype": "float64",
         "name": "sex",
         "stats": {
          "histogram": [
           {
            "bin_end": 0.1,
            "bin_start": 0,
            "count": 96
           },
           {
            "bin_end": 0.2,
            "bin_start": 0.1,
            "count": 0
           },
           {
            "bin_end": 0.30000000000000004,
            "bin_start": 0.2,
            "count": 0
           },
           {
            "bin_end": 0.4,
            "bin_start": 0.30000000000000004,
            "count": 0
           },
           {
            "bin_end": 0.5,
            "bin_start": 0.4,
            "count": 0
           },
           {
            "bin_end": 0.6000000000000001,
            "bin_start": 0.5,
            "count": 0
           },
           {
            "bin_end": 0.7000000000000001,
            "bin_start": 0.6000000000000001,
            "count": 0
           },
           {
            "bin_end": 0.8,
            "bin_start": 0.7000000000000001,
            "count": 0
           },
           {
            "bin_end": 0.9,
            "bin_start": 0.8,
            "count": 0
           },
           {
            "bin_end": 1,
            "bin_start": 0.9,
            "count": 201
           }
          ],
          "max": "1.0",
          "min": "0.0",
          "nan_count": 0,
          "unique_count": 2
         }
        },
        {
         "dtype": "float64",
         "name": "cp",
         "stats": {
          "histogram": [
           {
            "bin_end": 1.3,
            "bin_start": 1,
            "count": 23
           },
           {
            "bin_end": 1.6,
            "bin_start": 1.3,
            "count": 0
           },
           {
            "bin_end": 1.9,
            "bin_start": 1.6,
            "count": 0
           },
           {
            "bin_end": 2.2,
            "bin_start": 1.9,
            "count": 49
           },
           {
            "bin_end": 2.5,
            "bin_start": 2.2,
            "count": 0
           },
           {
            "bin_end": 2.8,
            "bin_start": 2.5,
            "count": 0
           },
           {
            "bin_end": 3.1,
            "bin_start": 2.8,
            "count": 83
           },
           {
            "bin_end": 3.4,
            "bin_start": 3.1,
            "count": 0
           },
           {
            "bin_end": 3.6999999999999997,
            "bin_start": 3.4,
            "count": 0
           },
           {
            "bin_end": 4,
            "bin_start": 3.6999999999999997,
            "count": 142
           }
          ],
          "max": "4.0",
          "min": "1.0",
          "nan_count": 0,
          "unique_count": 4
         }
        },
        {
         "dtype": "float64",
         "name": "restbp",
         "stats": {
          "histogram": [
           {
            "bin_end": 104.6,
            "bin_start": 94,
            "count": 10
           },
           {
            "bin_end": 115.2,
            "bin_start": 104.6,
            "count": 42
           },
           {
            "bin_end": 125.8,
            "bin_start": 115.2,
            "count": 66
           },
           {
            "bin_end": 136.4,
            "bin_start": 125.8,
            "count": 71
           },
           {
            "bin_end": 147,
            "bin_start": 136.4,
            "count": 54
           },
           {
            "bin_end": 157.6,
            "bin_start": 147,
            "count": 27
           },
           {
            "bin_end": 168.2,
            "bin_start": 157.6,
            "count": 14
           },
           {
            "bin_end": 178.8,
            "bin_start": 168.2,
            "count": 8
           },
           {
            "bin_end": 189.39999999999998,
            "bin_start": 178.8,
            "count": 3
           },
           {
            "bin_end": 200,
            "bin_start": 189.39999999999998,
            "count": 2
           }
          ],
          "max": "200.0",
          "min": "94.0",
          "nan_count": 0,
          "unique_count": 50
         }
        },
        {
         "dtype": "float64",
         "name": "chol",
         "stats": {
          "histogram": [
           {
            "bin_end": 169.8,
            "bin_start": 126,
            "count": 12
           },
           {
            "bin_end": 213.6,
            "bin_start": 169.8,
            "count": 70
           },
           {
            "bin_end": 257.4,
            "bin_start": 213.6,
            "count": 102
           },
           {
            "bin_end": 301.2,
            "bin_start": 257.4,
            "count": 69
           },
           {
            "bin_end": 345,
            "bin_start": 301.2,
            "count": 36
           },
           {
            "bin_end": 388.79999999999995,
            "bin_start": 345,
            "count": 3
           },
           {
            "bin_end": 432.59999999999997,
            "bin_start": 388.79999999999995,
            "count": 4
           },
           {
            "bin_end": 476.4,
            "bin_start": 432.59999999999997,
            "count": 0
           },
           {
            "bin_end": 520.2,
            "bin_start": 476.4,
            "count": 0
           },
           {
            "bin_end": 564,
            "bin_start": 520.2,
            "count": 1
           }
          ],
          "max": "564.0",
          "min": "126.0",
          "nan_count": 0,
          "unique_count": 152
         }
        },
        {
         "dtype": "float64",
         "name": "fbs",
         "stats": {
          "histogram": [
           {
            "bin_end": 0.1,
            "bin_start": 0,
            "count": 254
           },
           {
            "bin_end": 0.2,
            "bin_start": 0.1,
            "count": 0
           },
           {
            "bin_end": 0.30000000000000004,
            "bin_start": 0.2,
            "count": 0
           },
           {
            "bin_end": 0.4,
            "bin_start": 0.30000000000000004,
            "count": 0
           },
           {
            "bin_end": 0.5,
            "bin_start": 0.4,
            "count": 0
           },
           {
            "bin_end": 0.6000000000000001,
            "bin_start": 0.5,
            "count": 0
           },
           {
            "bin_end": 0.7000000000000001,
            "bin_start": 0.6000000000000001,
            "count": 0
           },
           {
            "bin_end": 0.8,
            "bin_start": 0.7000000000000001,
            "count": 0
           },
           {
            "bin_end": 0.9,
            "bin_start": 0.8,
            "count": 0
           },
           {
            "bin_end": 1,
            "bin_start": 0.9,
            "count": 43
           }
          ],
          "max": "1.0",
          "min": "0.0",
          "nan_count": 0,
          "unique_count": 2
         }
        },
        {
         "dtype": "float64",
         "name": "restecg",
         "stats": {
          "histogram": [
           {
            "bin_end": 0.2,
            "bin_start": 0,
            "count": 147
           },
           {
            "bin_end": 0.4,
            "bin_start": 0.2,
            "count": 0
           },
           {
            "bin_end": 0.6000000000000001,
            "bin_start": 0.4,
            "count": 0
           },
           {
            "bin_end": 0.8,
            "bin_start": 0.6000000000000001,
            "count": 0
           },
           {
            "bin_end": 1,
            "bin_start": 0.8,
            "count": 0
           },
           {
            "bin_end": 1.2000000000000002,
            "bin_start": 1,
            "count": 4
           },
           {
            "bin_end": 1.4000000000000001,
            "bin_start": 1.2000000000000002,
            "count": 0
           },
           {
            "bin_end": 1.6,
            "bin_start": 1.4000000000000001,
            "count": 0
           },
           {
            "bin_end": 1.8,
            "bin_start": 1.6,
            "count": 0
           },
           {
            "bin_end": 2,
            "bin_start": 1.8,
            "count": 146
           }
          ],
          "max": "2.0",
          "min": "0.0",
          "nan_count": 0,
          "unique_count": 3
         }
        },
        {
         "dtype": "float64",
         "name": "thalach",
         "stats": {
          "histogram": [
           {
            "bin_end": 84.1,
            "bin_start": 71,
            "count": 1
           },
           {
            "bin_end": 97.2,
            "bin_start": 84.1,
            "count": 6
           },
           {
            "bin_end": 110.3,
            "bin_start": 97.2,
            "count": 11
           },
           {
            "bin_end": 123.4,
            "bin_start": 110.3,
            "count": 25
           },
           {
            "bin_end": 136.5,
            "bin_start": 123.4,
            "count": 35
           },
           {
            "bin_end": 149.6,
            "bin_start": 136.5,
            "count": 51
           },
           {
            "bin_end": 162.7,
            "bin_start": 149.6,
            "count": 77
           },
           {
            "bin_end": 175.8,
            "bin_start": 162.7,
            "count": 60
           },
           {
            "bin_end": 188.89999999999998,
            "bin_start": 175.8,
            "count": 26
           },
           {
            "bin_end": 202,
            "bin_start": 188.89999999999998,
            "count": 5
           }
          ],
          "max": "202.0",
          "min": "71.0",
          "nan_count": 0,
          "unique_count": 91
         }
        },
        {
         "dtype": "float64",
         "name": "exang",
         "stats": {
          "histogram": [
           {
            "bin_end": 0.1,
            "bin_start": 0,
            "count": 200
           },
           {
            "bin_end": 0.2,
            "bin_start": 0.1,
            "count": 0
           },
           {
            "bin_end": 0.30000000000000004,
            "bin_start": 0.2,
            "count": 0
           },
           {
            "bin_end": 0.4,
            "bin_start": 0.30000000000000004,
            "count": 0
           },
           {
            "bin_end": 0.5,
            "bin_start": 0.4,
            "count": 0
           },
           {
            "bin_end": 0.6000000000000001,
            "bin_start": 0.5,
            "count": 0
           },
           {
            "bin_end": 0.7000000000000001,
            "bin_start": 0.6000000000000001,
            "count": 0
           },
           {
            "bin_end": 0.8,
            "bin_start": 0.7000000000000001,
            "count": 0
           },
           {
            "bin_end": 0.9,
            "bin_start": 0.8,
            "count": 0
           },
           {
            "bin_end": 1,
            "bin_start": 0.9,
            "count": 97
           }
          ],
          "max": "1.0",
          "min": "0.0",
          "nan_count": 0,
          "unique_count": 2
         }
        },
        {
         "dtype": "float64",
         "name": "oldpeak",
         "stats": {
          "histogram": [
           {
            "bin_end": 0.62,
            "bin_start": 0,
            "count": 144
           },
           {
            "bin_end": 1.24,
            "bin_start": 0.62,
            "count": 49
           },
           {
            "bin_end": 1.8599999999999999,
            "bin_start": 1.24,
            "count": 40
           },
           {
            "bin_end": 2.48,
            "bin_start": 1.8599999999999999,
            "count": 24
           },
           {
            "bin_end": 3.1,
            "bin_start": 2.48,
            "count": 20
           },
           {
            "bin_end": 3.7199999999999998,
            "bin_start": 3.1,
            "count": 11
           },
           {
            "bin_end": 4.34,
            "bin_start": 3.7199999999999998,
            "count": 6
           },
           {
            "bin_end": 4.96,
            "bin_start": 4.34,
            "count": 1
           },
           {
            "bin_end": 5.58,
            "bin_start": 4.96,
            "count": 0
           },
           {
            "bin_end": 6.2,
            "bin_start": 5.58,
            "count": 2
           }
          ],
          "max": "6.2",
          "min": "0.0",
          "nan_count": 0,
          "unique_count": 40
         }
        },
        {
         "dtype": "float64",
         "name": "slope",
         "stats": {
          "histogram": [
           {
            "bin_end": 1.2,
            "bin_start": 1,
            "count": 139
           },
           {
            "bin_end": 1.4,
            "bin_start": 1.2,
            "count": 0
           },
           {
            "bin_end": 1.6,
            "bin_start": 1.4,
            "count": 0
           },
           {
            "bin_end": 1.8,
            "bin_start": 1.6,
            "count": 0
           },
           {
            "bin_end": 2,
            "bin_start": 1.8,
            "count": 0
           },
           {
            "bin_end": 2.2,
            "bin_start": 2,
            "count": 137
           },
           {
            "bin_end": 2.4000000000000004,
            "bin_start": 2.2,
            "count": 0
           },
           {
            "bin_end": 2.6,
            "bin_start": 2.4000000000000004,
            "count": 0
           },
           {
            "bin_end": 2.8,
            "bin_start": 2.6,
            "count": 0
           },
           {
            "bin_end": 3,
            "bin_start": 2.8,
            "count": 21
           }
          ],
          "max": "3.0",
          "min": "1.0",
          "nan_count": 0,
          "unique_count": 3
         }
        },
        {
         "dtype": "object",
         "name": "ca",
         "stats": {
          "categories": [
           {
            "count": 174,
            "name": "0.0"
           },
           {
            "count": 65,
            "name": "1.0"
           },
           {
            "count": 58,
            "name": "2 others"
           }
          ],
          "nan_count": 0,
          "unique_count": 4
         }
        },
        {
         "dtype": "object",
         "name": "thal",
         "stats": {
          "categories": [
           {
            "count": 164,
            "name": "3.0"
           },
           {
            "count": 115,
            "name": "7.0"
           },
           {
            "count": 18,
            "name": "6.0"
           }
          ],
          "nan_count": 0,
          "unique_count": 3
         }
        },
        {
         "dtype": "int64",
         "name": "hd",
         "stats": {
          "histogram": [
           {
            "bin_end": 0.4,
            "bin_start": 0,
            "count": 160
           },
           {
            "bin_end": 0.8,
            "bin_start": 0.4,
            "count": 0
           },
           {
            "bin_end": 1.2000000000000002,
            "bin_start": 0.8,
            "count": 54
           },
           {
            "bin_end": 1.6,
            "bin_start": 1.2000000000000002,
            "count": 0
           },
           {
            "bin_end": 2,
            "bin_start": 1.6,
            "count": 0
           },
           {
            "bin_end": 2.4000000000000004,
            "bin_start": 2,
            "count": 35
           },
           {
            "bin_end": 2.8000000000000003,
            "bin_start": 2.4000000000000004,
            "count": 0
           },
           {
            "bin_end": 3.2,
            "bin_start": 2.8000000000000003,
            "count": 35
           },
           {
            "bin_end": 3.6,
            "bin_start": 3.2,
            "count": 0
           },
           {
            "bin_end": 4,
            "bin_start": 3.6,
            "count": 13
           }
          ],
          "max": "4",
          "min": "0",
          "nan_count": 0,
          "unique_count": 5
         }
        },
        {
         "dtype": "int64",
         "name": "_deepnote_index_column"
        }
       ],
       "row_count": 297,
       "rows": [
        {
         "_deepnote_index_column": "0",
         "age": "63.0",
         "ca": "0.0",
         "chol": "233.0",
         "cp": "1.0",
         "exang": "0.0",
         "fbs": "1.0",
         "hd": "0",
         "oldpeak": "2.3",
         "restbp": "145.0",
         "restecg": "2.0",
         "sex": "1.0",
         "slope": "3.0",
         "thal": "6.0",
         "thalach": "150.0"
        },
        {
         "_deepnote_index_column": "1",
         "age": "67.0",
         "ca": "3.0",
         "chol": "286.0",
         "cp": "4.0",
         "exang": "1.0",
         "fbs": "0.0",
         "hd": "2",
         "oldpeak": "1.5",
         "restbp": "160.0",
         "restecg": "2.0",
         "sex": "1.0",
         "slope": "2.0",
         "thal": "3.0",
         "thalach": "108.0"
        },
        {
         "_deepnote_index_column": "2",
         "age": "67.0",
         "ca": "2.0",
         "chol": "229.0",
         "cp": "4.0",
         "exang": "1.0",
         "fbs": "0.0",
         "hd": "1",
         "oldpeak": "2.6",
         "restbp": "120.0",
         "restecg": "2.0",
         "sex": "1.0",
         "slope": "2.0",
         "thal": "7.0",
         "thalach": "129.0"
        },
        {
         "_deepnote_index_column": "3",
         "age": "37.0",
         "ca": "0.0",
         "chol": "250.0",
         "cp": "3.0",
         "exang": "0.0",
         "fbs": "0.0",
         "hd": "0",
         "oldpeak": "3.5",
         "restbp": "130.0",
         "restecg": "0.0",
         "sex": "1.0",
         "slope": "3.0",
         "thal": "3.0",
         "thalach": "187.0"
        },
        {
         "_deepnote_index_column": "4",
         "age": "41.0",
         "ca": "0.0",
         "chol": "204.0",
         "cp": "2.0",
         "exang": "0.0",
         "fbs": "0.0",
         "hd": "0",
         "oldpeak": "1.4",
         "restbp": "130.0",
         "restecg": "2.0",
         "sex": "0.0",
         "slope": "1.0",
         "thal": "3.0",
         "thalach": "172.0"
        },
        {
         "_deepnote_index_column": "5",
         "age": "56.0",
         "ca": "0.0",
         "chol": "236.0",
         "cp": "2.0",
         "exang": "0.0",
         "fbs": "0.0",
         "hd": "0",
         "oldpeak": "0.8",
         "restbp": "120.0",
         "restecg": "0.0",
         "sex": "1.0",
         "slope": "1.0",
         "thal": "3.0",
         "thalach": "178.0"
        },
        {
         "_deepnote_index_column": "6",
         "age": "62.0",
         "ca": "2.0",
         "chol": "268.0",
         "cp": "4.0",
         "exang": "0.0",
         "fbs": "0.0",
         "hd": "3",
         "oldpeak": "3.6",
         "restbp": "140.0",
         "restecg": "2.0",
         "sex": "0.0",
         "slope": "3.0",
         "thal": "3.0",
         "thalach": "160.0"
        },
        {
         "_deepnote_index_column": "7",
         "age": "57.0",
         "ca": "0.0",
         "chol": "354.0",
         "cp": "4.0",
         "exang": "1.0",
         "fbs": "0.0",
         "hd": "0",
         "oldpeak": "0.6",
         "restbp": "120.0",
         "restecg": "0.0",
         "sex": "0.0",
         "slope": "1.0",
         "thal": "3.0",
         "thalach": "163.0"
        },
        {
         "_deepnote_index_column": "8",
         "age": "63.0",
         "ca": "1.0",
         "chol": "254.0",
         "cp": "4.0",
         "exang": "0.0",
         "fbs": "0.0",
         "hd": "2",
         "oldpeak": "1.4",
         "restbp": "130.0",
         "restecg": "2.0",
         "sex": "1.0",
         "slope": "2.0",
         "thal": "7.0",
         "thalach": "147.0"
        },
        {
         "_deepnote_index_column": "9",
         "age": "53.0",
         "ca": "0.0",
         "chol": "203.0",
         "cp": "4.0",
         "exang": "1.0",
         "fbs": "1.0",
         "hd": "1",
         "oldpeak": "3.1",
         "restbp": "140.0",
         "restecg": "2.0",
         "sex": "1.0",
         "slope": "3.0",
         "thal": "7.0",
         "thalach": "155.0"
        }
       ]
      },
      "text/html": [
       "<div>\n",
       "<style scoped>\n",
       "    .dataframe tbody tr th:only-of-type {\n",
       "        vertical-align: middle;\n",
       "    }\n",
       "\n",
       "    .dataframe tbody tr th {\n",
       "        vertical-align: top;\n",
       "    }\n",
       "\n",
       "    .dataframe thead th {\n",
       "        text-align: right;\n",
       "    }\n",
       "</style>\n",
       "<table border=\"1\" class=\"dataframe\">\n",
       "  <thead>\n",
       "    <tr style=\"text-align: right;\">\n",
       "      <th></th>\n",
       "      <th>age</th>\n",
       "      <th>sex</th>\n",
       "      <th>cp</th>\n",
       "      <th>restbp</th>\n",
       "      <th>chol</th>\n",
       "      <th>fbs</th>\n",
       "      <th>restecg</th>\n",
       "      <th>thalach</th>\n",
       "      <th>exang</th>\n",
       "      <th>oldpeak</th>\n",
       "      <th>slope</th>\n",
       "      <th>ca</th>\n",
       "      <th>thal</th>\n",
       "      <th>hd</th>\n",
       "    </tr>\n",
       "  </thead>\n",
       "  <tbody>\n",
       "    <tr>\n",
       "      <th>0</th>\n",
       "      <td>63.0</td>\n",
       "      <td>1.0</td>\n",
       "      <td>1.0</td>\n",
       "      <td>145.0</td>\n",
       "      <td>233.0</td>\n",
       "      <td>1.0</td>\n",
       "      <td>2.0</td>\n",
       "      <td>150.0</td>\n",
       "      <td>0.0</td>\n",
       "      <td>2.3</td>\n",
       "      <td>3.0</td>\n",
       "      <td>0.0</td>\n",
       "      <td>6.0</td>\n",
       "      <td>0</td>\n",
       "    </tr>\n",
       "    <tr>\n",
       "      <th>1</th>\n",
       "      <td>67.0</td>\n",
       "      <td>1.0</td>\n",
       "      <td>4.0</td>\n",
       "      <td>160.0</td>\n",
       "      <td>286.0</td>\n",
       "      <td>0.0</td>\n",
       "      <td>2.0</td>\n",
       "      <td>108.0</td>\n",
       "      <td>1.0</td>\n",
       "      <td>1.5</td>\n",
       "      <td>2.0</td>\n",
       "      <td>3.0</td>\n",
       "      <td>3.0</td>\n",
       "      <td>2</td>\n",
       "    </tr>\n",
       "    <tr>\n",
       "      <th>2</th>\n",
       "      <td>67.0</td>\n",
       "      <td>1.0</td>\n",
       "      <td>4.0</td>\n",
       "      <td>120.0</td>\n",
       "      <td>229.0</td>\n",
       "      <td>0.0</td>\n",
       "      <td>2.0</td>\n",
       "      <td>129.0</td>\n",
       "      <td>1.0</td>\n",
       "      <td>2.6</td>\n",
       "      <td>2.0</td>\n",
       "      <td>2.0</td>\n",
       "      <td>7.0</td>\n",
       "      <td>1</td>\n",
       "    </tr>\n",
       "    <tr>\n",
       "      <th>3</th>\n",
       "      <td>37.0</td>\n",
       "      <td>1.0</td>\n",
       "      <td>3.0</td>\n",
       "      <td>130.0</td>\n",
       "      <td>250.0</td>\n",
       "      <td>0.0</td>\n",
       "      <td>0.0</td>\n",
       "      <td>187.0</td>\n",
       "      <td>0.0</td>\n",
       "      <td>3.5</td>\n",
       "      <td>3.0</td>\n",
       "      <td>0.0</td>\n",
       "      <td>3.0</td>\n",
       "      <td>0</td>\n",
       "    </tr>\n",
       "    <tr>\n",
       "      <th>4</th>\n",
       "      <td>41.0</td>\n",
       "      <td>0.0</td>\n",
       "      <td>2.0</td>\n",
       "      <td>130.0</td>\n",
       "      <td>204.0</td>\n",
       "      <td>0.0</td>\n",
       "      <td>2.0</td>\n",
       "      <td>172.0</td>\n",
       "      <td>0.0</td>\n",
       "      <td>1.4</td>\n",
       "      <td>1.0</td>\n",
       "      <td>0.0</td>\n",
       "      <td>3.0</td>\n",
       "      <td>0</td>\n",
       "    </tr>\n",
       "    <tr>\n",
       "      <th>...</th>\n",
       "      <td>...</td>\n",
       "      <td>...</td>\n",
       "      <td>...</td>\n",
       "      <td>...</td>\n",
       "      <td>...</td>\n",
       "      <td>...</td>\n",
       "      <td>...</td>\n",
       "      <td>...</td>\n",
       "      <td>...</td>\n",
       "      <td>...</td>\n",
       "      <td>...</td>\n",
       "      <td>...</td>\n",
       "      <td>...</td>\n",
       "      <td>...</td>\n",
       "    </tr>\n",
       "    <tr>\n",
       "      <th>297</th>\n",
       "      <td>57.0</td>\n",
       "      <td>0.0</td>\n",
       "      <td>4.0</td>\n",
       "      <td>140.0</td>\n",
       "      <td>241.0</td>\n",
       "      <td>0.0</td>\n",
       "      <td>0.0</td>\n",
       "      <td>123.0</td>\n",
       "      <td>1.0</td>\n",
       "      <td>0.2</td>\n",
       "      <td>2.0</td>\n",
       "      <td>0.0</td>\n",
       "      <td>7.0</td>\n",
       "      <td>1</td>\n",
       "    </tr>\n",
       "    <tr>\n",
       "      <th>298</th>\n",
       "      <td>45.0</td>\n",
       "      <td>1.0</td>\n",
       "      <td>1.0</td>\n",
       "      <td>110.0</td>\n",
       "      <td>264.0</td>\n",
       "      <td>0.0</td>\n",
       "      <td>0.0</td>\n",
       "      <td>132.0</td>\n",
       "      <td>0.0</td>\n",
       "      <td>1.2</td>\n",
       "      <td>2.0</td>\n",
       "      <td>0.0</td>\n",
       "      <td>7.0</td>\n",
       "      <td>1</td>\n",
       "    </tr>\n",
       "    <tr>\n",
       "      <th>299</th>\n",
       "      <td>68.0</td>\n",
       "      <td>1.0</td>\n",
       "      <td>4.0</td>\n",
       "      <td>144.0</td>\n",
       "      <td>193.0</td>\n",
       "      <td>1.0</td>\n",
       "      <td>0.0</td>\n",
       "      <td>141.0</td>\n",
       "      <td>0.0</td>\n",
       "      <td>3.4</td>\n",
       "      <td>2.0</td>\n",
       "      <td>2.0</td>\n",
       "      <td>7.0</td>\n",
       "      <td>2</td>\n",
       "    </tr>\n",
       "    <tr>\n",
       "      <th>300</th>\n",
       "      <td>57.0</td>\n",
       "      <td>1.0</td>\n",
       "      <td>4.0</td>\n",
       "      <td>130.0</td>\n",
       "      <td>131.0</td>\n",
       "      <td>0.0</td>\n",
       "      <td>0.0</td>\n",
       "      <td>115.0</td>\n",
       "      <td>1.0</td>\n",
       "      <td>1.2</td>\n",
       "      <td>2.0</td>\n",
       "      <td>1.0</td>\n",
       "      <td>7.0</td>\n",
       "      <td>3</td>\n",
       "    </tr>\n",
       "    <tr>\n",
       "      <th>301</th>\n",
       "      <td>57.0</td>\n",
       "      <td>0.0</td>\n",
       "      <td>2.0</td>\n",
       "      <td>130.0</td>\n",
       "      <td>236.0</td>\n",
       "      <td>0.0</td>\n",
       "      <td>2.0</td>\n",
       "      <td>174.0</td>\n",
       "      <td>0.0</td>\n",
       "      <td>0.0</td>\n",
       "      <td>2.0</td>\n",
       "      <td>1.0</td>\n",
       "      <td>3.0</td>\n",
       "      <td>1</td>\n",
       "    </tr>\n",
       "  </tbody>\n",
       "</table>\n",
       "<p>297 rows × 14 columns</p>\n",
       "</div>"
      ],
      "text/plain": [
       "      age  sex   cp  restbp   chol  fbs  restecg  thalach  exang  oldpeak  \\\n",
       "0    63.0  1.0  1.0   145.0  233.0  1.0      2.0    150.0    0.0      2.3   \n",
       "1    67.0  1.0  4.0   160.0  286.0  0.0      2.0    108.0    1.0      1.5   \n",
       "2    67.0  1.0  4.0   120.0  229.0  0.0      2.0    129.0    1.0      2.6   \n",
       "3    37.0  1.0  3.0   130.0  250.0  0.0      0.0    187.0    0.0      3.5   \n",
       "4    41.0  0.0  2.0   130.0  204.0  0.0      2.0    172.0    0.0      1.4   \n",
       "..    ...  ...  ...     ...    ...  ...      ...      ...    ...      ...   \n",
       "297  57.0  0.0  4.0   140.0  241.0  0.0      0.0    123.0    1.0      0.2   \n",
       "298  45.0  1.0  1.0   110.0  264.0  0.0      0.0    132.0    0.0      1.2   \n",
       "299  68.0  1.0  4.0   144.0  193.0  1.0      0.0    141.0    0.0      3.4   \n",
       "300  57.0  1.0  4.0   130.0  131.0  0.0      0.0    115.0    1.0      1.2   \n",
       "301  57.0  0.0  2.0   130.0  236.0  0.0      2.0    174.0    0.0      0.0   \n",
       "\n",
       "     slope   ca thal  hd  \n",
       "0      3.0  0.0  6.0   0  \n",
       "1      2.0  3.0  3.0   2  \n",
       "2      2.0  2.0  7.0   1  \n",
       "3      3.0  0.0  3.0   0  \n",
       "4      1.0  0.0  3.0   0  \n",
       "..     ...  ...  ...  ..  \n",
       "297    2.0  0.0  7.0   1  \n",
       "298    2.0  0.0  7.0   1  \n",
       "299    2.0  2.0  7.0   2  \n",
       "300    2.0  1.0  7.0   3  \n",
       "301    2.0  1.0  3.0   1  \n",
       "\n",
       "[297 rows x 14 columns]"
      ]
     },
     "execution_count": 5,
     "metadata": {},
     "output_type": "execute_result"
    }
   ],
   "source": [
    "df"
   ]
  },
  {
   "cell_type": "markdown",
   "metadata": {
    "cell_id": "374d76833bcf43c3bcab608a9e49f763",
    "deepnote_cell_type": "markdown",
    "id": "q7GJUPVABCiP"
   },
   "source": [
    "Realizar One hot enconding para las columnas 'cp', 'restecg', 'slope' y 'thal'."
   ]
  },
  {
   "cell_type": "code",
   "execution_count": 6,
   "metadata": {
    "cell_id": "8ed548b084164ae29b0d01642668c2a9",
    "deepnote_cell_type": "code",
    "deepnote_table_loading": false,
    "deepnote_table_state": {
     "filters": [],
     "pageIndex": 0,
     "pageSize": 10,
     "sortBy": []
    },
    "deepnote_to_be_reexecuted": false,
    "execution_millis": 8,
    "execution_start": 1682561876772,
    "id": "jLTM3-pXBPxy",
    "source_hash": "3a78c527"
   },
   "outputs": [],
   "source": [
    "#TODO One-Hot encoding\n",
    "X = pd.get_dummies(df, columns = ['cp', 'restecg', 'slope', 'thal'])"
   ]
  },
  {
   "cell_type": "code",
   "execution_count": 7,
   "metadata": {
    "cell_id": "48ba409884e34ce19746dbbc6112dd30",
    "deepnote_cell_type": "code",
    "deepnote_table_loading": false,
    "deepnote_table_state": {
     "filters": [],
     "pageIndex": 0,
     "pageSize": 100,
     "sortBy": []
    },
    "deepnote_to_be_reexecuted": false,
    "execution_millis": 61,
    "execution_start": 1682561876794,
    "source_hash": "91c01c58"
   },
   "outputs": [
    {
     "data": {
      "application/vnd.deepnote.dataframe.v3+json": {
       "column_count": 23,
       "columns": [
        {
         "dtype": "float64",
         "name": "age",
         "stats": {
          "histogram": [
           {
            "bin_end": 40,
            "bin_start": 37,
            "count": 1
           },
           {
            "bin_end": 43,
            "bin_start": 40,
            "count": 1
           },
           {
            "bin_end": 46,
            "bin_start": 43,
            "count": 0
           },
           {
            "bin_end": 49,
            "bin_start": 46,
            "count": 0
           },
           {
            "bin_end": 52,
            "bin_start": 49,
            "count": 0
           },
           {
            "bin_end": 55,
            "bin_start": 52,
            "count": 0
           },
           {
            "bin_end": 58,
            "bin_start": 55,
            "count": 0
           },
           {
            "bin_end": 61,
            "bin_start": 58,
            "count": 0
           },
           {
            "bin_end": 64,
            "bin_start": 61,
            "count": 1
           },
           {
            "bin_end": 67,
            "bin_start": 64,
            "count": 2
           }
          ],
          "max": "67.0",
          "min": "37.0",
          "nan_count": 0,
          "unique_count": 4
         }
        },
        {
         "dtype": "float64",
         "name": "sex",
         "stats": {
          "histogram": [
           {
            "bin_end": 0.1,
            "bin_start": 0,
            "count": 1
           },
           {
            "bin_end": 0.2,
            "bin_start": 0.1,
            "count": 0
           },
           {
            "bin_end": 0.30000000000000004,
            "bin_start": 0.2,
            "count": 0
           },
           {
            "bin_end": 0.4,
            "bin_start": 0.30000000000000004,
            "count": 0
           },
           {
            "bin_end": 0.5,
            "bin_start": 0.4,
            "count": 0
           },
           {
            "bin_end": 0.6000000000000001,
            "bin_start": 0.5,
            "count": 0
           },
           {
            "bin_end": 0.7000000000000001,
            "bin_start": 0.6000000000000001,
            "count": 0
           },
           {
            "bin_end": 0.8,
            "bin_start": 0.7000000000000001,
            "count": 0
           },
           {
            "bin_end": 0.9,
            "bin_start": 0.8,
            "count": 0
           },
           {
            "bin_end": 1,
            "bin_start": 0.9,
            "count": 4
           }
          ],
          "max": "1.0",
          "min": "0.0",
          "nan_count": 0,
          "unique_count": 2
         }
        },
        {
         "dtype": "float64",
         "name": "restbp",
         "stats": {
          "histogram": [
           {
            "bin_end": 124,
            "bin_start": 120,
            "count": 1
           },
           {
            "bin_end": 128,
            "bin_start": 124,
            "count": 0
           },
           {
            "bin_end": 132,
            "bin_start": 128,
            "count": 2
           },
           {
            "bin_end": 136,
            "bin_start": 132,
            "count": 0
           },
           {
            "bin_end": 140,
            "bin_start": 136,
            "count": 0
           },
           {
            "bin_end": 144,
            "bin_start": 140,
            "count": 0
           },
           {
            "bin_end": 148,
            "bin_start": 144,
            "count": 1
           },
           {
            "bin_end": 152,
            "bin_start": 148,
            "count": 0
           },
           {
            "bin_end": 156,
            "bin_start": 152,
            "count": 0
           },
           {
            "bin_end": 160,
            "bin_start": 156,
            "count": 1
           }
          ],
          "max": "160.0",
          "min": "120.0",
          "nan_count": 0,
          "unique_count": 4
         }
        },
        {
         "dtype": "float64",
         "name": "chol",
         "stats": {
          "histogram": [
           {
            "bin_end": 212.2,
            "bin_start": 204,
            "count": 1
           },
           {
            "bin_end": 220.4,
            "bin_start": 212.2,
            "count": 0
           },
           {
            "bin_end": 228.6,
            "bin_start": 220.4,
            "count": 0
           },
           {
            "bin_end": 236.8,
            "bin_start": 228.6,
            "count": 2
           },
           {
            "bin_end": 245,
            "bin_start": 236.8,
            "count": 0
           },
           {
            "bin_end": 253.2,
            "bin_start": 245,
            "count": 1
           },
           {
            "bin_end": 261.4,
            "bin_start": 253.2,
            "count": 0
           },
           {
            "bin_end": 269.6,
            "bin_start": 261.4,
            "count": 0
           },
           {
            "bin_end": 277.8,
            "bin_start": 269.6,
            "count": 0
           },
           {
            "bin_end": 286,
            "bin_start": 277.8,
            "count": 1
           }
          ],
          "max": "286.0",
          "min": "204.0",
          "nan_count": 0,
          "unique_count": 5
         }
        },
        {
         "dtype": "float64",
         "name": "fbs",
         "stats": {
          "histogram": [
           {
            "bin_end": 0.1,
            "bin_start": 0,
            "count": 4
           },
           {
            "bin_end": 0.2,
            "bin_start": 0.1,
            "count": 0
           },
           {
            "bin_end": 0.30000000000000004,
            "bin_start": 0.2,
            "count": 0
           },
           {
            "bin_end": 0.4,
            "bin_start": 0.30000000000000004,
            "count": 0
           },
           {
            "bin_end": 0.5,
            "bin_start": 0.4,
            "count": 0
           },
           {
            "bin_end": 0.6000000000000001,
            "bin_start": 0.5,
            "count": 0
           },
           {
            "bin_end": 0.7000000000000001,
            "bin_start": 0.6000000000000001,
            "count": 0
           },
           {
            "bin_end": 0.8,
            "bin_start": 0.7000000000000001,
            "count": 0
           },
           {
            "bin_end": 0.9,
            "bin_start": 0.8,
            "count": 0
           },
           {
            "bin_end": 1,
            "bin_start": 0.9,
            "count": 1
           }
          ],
          "max": "1.0",
          "min": "0.0",
          "nan_count": 0,
          "unique_count": 2
         }
        },
        {
         "dtype": "float64",
         "name": "thalach",
         "stats": {
          "histogram": [
           {
            "bin_end": 115.9,
            "bin_start": 108,
            "count": 1
           },
           {
            "bin_end": 123.8,
            "bin_start": 115.9,
            "count": 0
           },
           {
            "bin_end": 131.7,
            "bin_start": 123.8,
            "count": 1
           },
           {
            "bin_end": 139.6,
            "bin_start": 131.7,
            "count": 0
           },
           {
            "bin_end": 147.5,
            "bin_start": 139.6,
            "count": 0
           },
           {
            "bin_end": 155.4,
            "bin_start": 147.5,
            "count": 1
           },
           {
            "bin_end": 163.3,
            "bin_start": 155.4,
            "count": 0
           },
           {
            "bin_end": 171.2,
            "bin_start": 163.3,
            "count": 0
           },
           {
            "bin_end": 179.10000000000002,
            "bin_start": 171.2,
            "count": 1
           },
           {
            "bin_end": 187,
            "bin_start": 179.10000000000002,
            "count": 1
           }
          ],
          "max": "187.0",
          "min": "108.0",
          "nan_count": 0,
          "unique_count": 5
         }
        },
        {
         "dtype": "float64",
         "name": "exang",
         "stats": {
          "histogram": [
           {
            "bin_end": 0.1,
            "bin_start": 0,
            "count": 3
           },
           {
            "bin_end": 0.2,
            "bin_start": 0.1,
            "count": 0
           },
           {
            "bin_end": 0.30000000000000004,
            "bin_start": 0.2,
            "count": 0
           },
           {
            "bin_end": 0.4,
            "bin_start": 0.30000000000000004,
            "count": 0
           },
           {
            "bin_end": 0.5,
            "bin_start": 0.4,
            "count": 0
           },
           {
            "bin_end": 0.6000000000000001,
            "bin_start": 0.5,
            "count": 0
           },
           {
            "bin_end": 0.7000000000000001,
            "bin_start": 0.6000000000000001,
            "count": 0
           },
           {
            "bin_end": 0.8,
            "bin_start": 0.7000000000000001,
            "count": 0
           },
           {
            "bin_end": 0.9,
            "bin_start": 0.8,
            "count": 0
           },
           {
            "bin_end": 1,
            "bin_start": 0.9,
            "count": 2
           }
          ],
          "max": "1.0",
          "min": "0.0",
          "nan_count": 0,
          "unique_count": 2
         }
        },
        {
         "dtype": "float64",
         "name": "oldpeak",
         "stats": {
          "histogram": [
           {
            "bin_end": 1.6099999999999999,
            "bin_start": 1.4,
            "count": 2
           },
           {
            "bin_end": 1.8199999999999998,
            "bin_start": 1.6099999999999999,
            "count": 0
           },
           {
            "bin_end": 2.0300000000000002,
            "bin_start": 1.8199999999999998,
            "count": 0
           },
           {
            "bin_end": 2.24,
            "bin_start": 2.0300000000000002,
            "count": 0
           },
           {
            "bin_end": 2.45,
            "bin_start": 2.24,
            "count": 1
           },
           {
            "bin_end": 2.66,
            "bin_start": 2.45,
            "count": 1
           },
           {
            "bin_end": 2.87,
            "bin_start": 2.66,
            "count": 0
           },
           {
            "bin_end": 3.08,
            "bin_start": 2.87,
            "count": 0
           },
           {
            "bin_end": 3.29,
            "bin_start": 3.08,
            "count": 0
           },
           {
            "bin_end": 3.5,
            "bin_start": 3.29,
            "count": 1
           }
          ],
          "max": "3.5",
          "min": "1.4",
          "nan_count": 0,
          "unique_count": 5
         }
        },
        {
         "dtype": "object",
         "name": "ca",
         "stats": {
          "categories": [
           {
            "count": 3,
            "name": "0.0"
           },
           {
            "count": 1,
            "name": "3.0"
           },
           {
            "count": 1,
            "name": "2.0"
           }
          ],
          "nan_count": 0,
          "unique_count": 3
         }
        },
        {
         "dtype": "int64",
         "name": "hd",
         "stats": {
          "histogram": [
           {
            "bin_end": 0.2,
            "bin_start": 0,
            "count": 3
           },
           {
            "bin_end": 0.4,
            "bin_start": 0.2,
            "count": 0
           },
           {
            "bin_end": 0.6000000000000001,
            "bin_start": 0.4,
            "count": 0
           },
           {
            "bin_end": 0.8,
            "bin_start": 0.6000000000000001,
            "count": 0
           },
           {
            "bin_end": 1,
            "bin_start": 0.8,
            "count": 0
           },
           {
            "bin_end": 1.2000000000000002,
            "bin_start": 1,
            "count": 1
           },
           {
            "bin_end": 1.4000000000000001,
            "bin_start": 1.2000000000000002,
            "count": 0
           },
           {
            "bin_end": 1.6,
            "bin_start": 1.4000000000000001,
            "count": 0
           },
           {
            "bin_end": 1.8,
            "bin_start": 1.6,
            "count": 0
           },
           {
            "bin_end": 2,
            "bin_start": 1.8,
            "count": 1
           }
          ],
          "max": "2",
          "min": "0",
          "nan_count": 0,
          "unique_count": 3
         }
        },
        {
         "dtype": "uint8",
         "name": "cp_1.0",
         "stats": {
          "histogram": [
           {
            "bin_end": 0.1,
            "bin_start": 0,
            "count": 4
           },
           {
            "bin_end": 0.2,
            "bin_start": 0.1,
            "count": 0
           },
           {
            "bin_end": 0.30000000000000004,
            "bin_start": 0.2,
            "count": 0
           },
           {
            "bin_end": 0.4,
            "bin_start": 0.30000000000000004,
            "count": 0
           },
           {
            "bin_end": 0.5,
            "bin_start": 0.4,
            "count": 0
           },
           {
            "bin_end": 0.6000000000000001,
            "bin_start": 0.5,
            "count": 0
           },
           {
            "bin_end": 0.7000000000000001,
            "bin_start": 0.6000000000000001,
            "count": 0
           },
           {
            "bin_end": 0.8,
            "bin_start": 0.7000000000000001,
            "count": 0
           },
           {
            "bin_end": 0.9,
            "bin_start": 0.8,
            "count": 0
           },
           {
            "bin_end": 1,
            "bin_start": 0.9,
            "count": 1
           }
          ],
          "max": "1",
          "min": "0",
          "nan_count": 0,
          "unique_count": 2
         }
        },
        {
         "dtype": "uint8",
         "name": "cp_2.0",
         "stats": {
          "histogram": [
           {
            "bin_end": 0.1,
            "bin_start": 0,
            "count": 4
           },
           {
            "bin_end": 0.2,
            "bin_start": 0.1,
            "count": 0
           },
           {
            "bin_end": 0.30000000000000004,
            "bin_start": 0.2,
            "count": 0
           },
           {
            "bin_end": 0.4,
            "bin_start": 0.30000000000000004,
            "count": 0
           },
           {
            "bin_end": 0.5,
            "bin_start": 0.4,
            "count": 0
           },
           {
            "bin_end": 0.6000000000000001,
            "bin_start": 0.5,
            "count": 0
           },
           {
            "bin_end": 0.7000000000000001,
            "bin_start": 0.6000000000000001,
            "count": 0
           },
           {
            "bin_end": 0.8,
            "bin_start": 0.7000000000000001,
            "count": 0
           },
           {
            "bin_end": 0.9,
            "bin_start": 0.8,
            "count": 0
           },
           {
            "bin_end": 1,
            "bin_start": 0.9,
            "count": 1
           }
          ],
          "max": "1",
          "min": "0",
          "nan_count": 0,
          "unique_count": 2
         }
        },
        {
         "dtype": "uint8",
         "name": "cp_3.0",
         "stats": {
          "histogram": [
           {
            "bin_end": 0.1,
            "bin_start": 0,
            "count": 4
           },
           {
            "bin_end": 0.2,
            "bin_start": 0.1,
            "count": 0
           },
           {
            "bin_end": 0.30000000000000004,
            "bin_start": 0.2,
            "count": 0
           },
           {
            "bin_end": 0.4,
            "bin_start": 0.30000000000000004,
            "count": 0
           },
           {
            "bin_end": 0.5,
            "bin_start": 0.4,
            "count": 0
           },
           {
            "bin_end": 0.6000000000000001,
            "bin_start": 0.5,
            "count": 0
           },
           {
            "bin_end": 0.7000000000000001,
            "bin_start": 0.6000000000000001,
            "count": 0
           },
           {
            "bin_end": 0.8,
            "bin_start": 0.7000000000000001,
            "count": 0
           },
           {
            "bin_end": 0.9,
            "bin_start": 0.8,
            "count": 0
           },
           {
            "bin_end": 1,
            "bin_start": 0.9,
            "count": 1
           }
          ],
          "max": "1",
          "min": "0",
          "nan_count": 0,
          "unique_count": 2
         }
        },
        {
         "dtype": "uint8",
         "name": "cp_4.0",
         "stats": {
          "histogram": [
           {
            "bin_end": 0.1,
            "bin_start": 0,
            "count": 3
           },
           {
            "bin_end": 0.2,
            "bin_start": 0.1,
            "count": 0
           },
           {
            "bin_end": 0.30000000000000004,
            "bin_start": 0.2,
            "count": 0
           },
           {
            "bin_end": 0.4,
            "bin_start": 0.30000000000000004,
            "count": 0
           },
           {
            "bin_end": 0.5,
            "bin_start": 0.4,
            "count": 0
           },
           {
            "bin_end": 0.6000000000000001,
            "bin_start": 0.5,
            "count": 0
           },
           {
            "bin_end": 0.7000000000000001,
            "bin_start": 0.6000000000000001,
            "count": 0
           },
           {
            "bin_end": 0.8,
            "bin_start": 0.7000000000000001,
            "count": 0
           },
           {
            "bin_end": 0.9,
            "bin_start": 0.8,
            "count": 0
           },
           {
            "bin_end": 1,
            "bin_start": 0.9,
            "count": 2
           }
          ],
          "max": "1",
          "min": "0",
          "nan_count": 0,
          "unique_count": 2
         }
        },
        {
         "dtype": "uint8",
         "name": "restecg_0.0",
         "stats": {
          "histogram": [
           {
            "bin_end": 0.1,
            "bin_start": 0,
            "count": 4
           },
           {
            "bin_end": 0.2,
            "bin_start": 0.1,
            "count": 0
           },
           {
            "bin_end": 0.30000000000000004,
            "bin_start": 0.2,
            "count": 0
           },
           {
            "bin_end": 0.4,
            "bin_start": 0.30000000000000004,
            "count": 0
           },
           {
            "bin_end": 0.5,
            "bin_start": 0.4,
            "count": 0
           },
           {
            "bin_end": 0.6000000000000001,
            "bin_start": 0.5,
            "count": 0
           },
           {
            "bin_end": 0.7000000000000001,
            "bin_start": 0.6000000000000001,
            "count": 0
           },
           {
            "bin_end": 0.8,
            "bin_start": 0.7000000000000001,
            "count": 0
           },
           {
            "bin_end": 0.9,
            "bin_start": 0.8,
            "count": 0
           },
           {
            "bin_end": 1,
            "bin_start": 0.9,
            "count": 1
           }
          ],
          "max": "1",
          "min": "0",
          "nan_count": 0,
          "unique_count": 2
         }
        },
        {
         "dtype": "uint8",
         "name": "restecg_1.0",
         "stats": {
          "histogram": [
           {
            "bin_end": -0.4,
            "bin_start": -0.5,
            "count": 0
           },
           {
            "bin_end": -0.3,
            "bin_start": -0.4,
            "count": 0
           },
           {
            "bin_end": -0.19999999999999996,
            "bin_start": -0.3,
            "count": 0
           },
           {
            "bin_end": -0.09999999999999998,
            "bin_start": -0.19999999999999996,
            "count": 0
           },
           {
            "bin_end": 0,
            "bin_start": -0.09999999999999998,
            "count": 0
           },
           {
            "bin_end": 0.10000000000000009,
            "bin_start": 0,
            "count": 5
           },
           {
            "bin_end": 0.20000000000000007,
            "bin_start": 0.10000000000000009,
            "count": 0
           },
           {
            "bin_end": 0.30000000000000004,
            "bin_start": 0.20000000000000007,
            "count": 0
           },
           {
            "bin_end": 0.4,
            "bin_start": 0.30000000000000004,
            "count": 0
           },
           {
            "bin_end": 0.5,
            "bin_start": 0.4,
            "count": 0
           }
          ],
          "max": "0",
          "min": "0",
          "nan_count": 0,
          "unique_count": 1
         }
        },
        {
         "dtype": "uint8",
         "name": "restecg_2.0",
         "stats": {
          "histogram": [
           {
            "bin_end": 0.1,
            "bin_start": 0,
            "count": 1
           },
           {
            "bin_end": 0.2,
            "bin_start": 0.1,
            "count": 0
           },
           {
            "bin_end": 0.30000000000000004,
            "bin_start": 0.2,
            "count": 0
           },
           {
            "bin_end": 0.4,
            "bin_start": 0.30000000000000004,
            "count": 0
           },
           {
            "bin_end": 0.5,
            "bin_start": 0.4,
            "count": 0
           },
           {
            "bin_end": 0.6000000000000001,
            "bin_start": 0.5,
            "count": 0
           },
           {
            "bin_end": 0.7000000000000001,
            "bin_start": 0.6000000000000001,
            "count": 0
           },
           {
            "bin_end": 0.8,
            "bin_start": 0.7000000000000001,
            "count": 0
           },
           {
            "bin_end": 0.9,
            "bin_start": 0.8,
            "count": 0
           },
           {
            "bin_end": 1,
            "bin_start": 0.9,
            "count": 4
           }
          ],
          "max": "1",
          "min": "0",
          "nan_count": 0,
          "unique_count": 2
         }
        },
        {
         "dtype": "uint8",
         "name": "slope_1.0",
         "stats": {
          "histogram": [
           {
            "bin_end": 0.1,
            "bin_start": 0,
            "count": 4
           },
           {
            "bin_end": 0.2,
            "bin_start": 0.1,
            "count": 0
           },
           {
            "bin_end": 0.30000000000000004,
            "bin_start": 0.2,
            "count": 0
           },
           {
            "bin_end": 0.4,
            "bin_start": 0.30000000000000004,
            "count": 0
           },
           {
            "bin_end": 0.5,
            "bin_start": 0.4,
            "count": 0
           },
           {
            "bin_end": 0.6000000000000001,
            "bin_start": 0.5,
            "count": 0
           },
           {
            "bin_end": 0.7000000000000001,
            "bin_start": 0.6000000000000001,
            "count": 0
           },
           {
            "bin_end": 0.8,
            "bin_start": 0.7000000000000001,
            "count": 0
           },
           {
            "bin_end": 0.9,
            "bin_start": 0.8,
            "count": 0
           },
           {
            "bin_end": 1,
            "bin_start": 0.9,
            "count": 1
           }
          ],
          "max": "1",
          "min": "0",
          "nan_count": 0,
          "unique_count": 2
         }
        },
        {
         "dtype": "uint8",
         "name": "slope_2.0",
         "stats": {
          "histogram": [
           {
            "bin_end": 0.1,
            "bin_start": 0,
            "count": 3
           },
           {
            "bin_end": 0.2,
            "bin_start": 0.1,
            "count": 0
           },
           {
            "bin_end": 0.30000000000000004,
            "bin_start": 0.2,
            "count": 0
           },
           {
            "bin_end": 0.4,
            "bin_start": 0.30000000000000004,
            "count": 0
           },
           {
            "bin_end": 0.5,
            "bin_start": 0.4,
            "count": 0
           },
           {
            "bin_end": 0.6000000000000001,
            "bin_start": 0.5,
            "count": 0
           },
           {
            "bin_end": 0.7000000000000001,
            "bin_start": 0.6000000000000001,
            "count": 0
           },
           {
            "bin_end": 0.8,
            "bin_start": 0.7000000000000001,
            "count": 0
           },
           {
            "bin_end": 0.9,
            "bin_start": 0.8,
            "count": 0
           },
           {
            "bin_end": 1,
            "bin_start": 0.9,
            "count": 2
           }
          ],
          "max": "1",
          "min": "0",
          "nan_count": 0,
          "unique_count": 2
         }
        },
        {
         "dtype": "uint8",
         "name": "slope_3.0",
         "stats": {
          "histogram": [
           {
            "bin_end": 0.1,
            "bin_start": 0,
            "count": 3
           },
           {
            "bin_end": 0.2,
            "bin_start": 0.1,
            "count": 0
           },
           {
            "bin_end": 0.30000000000000004,
            "bin_start": 0.2,
            "count": 0
           },
           {
            "bin_end": 0.4,
            "bin_start": 0.30000000000000004,
            "count": 0
           },
           {
            "bin_end": 0.5,
            "bin_start": 0.4,
            "count": 0
           },
           {
            "bin_end": 0.6000000000000001,
            "bin_start": 0.5,
            "count": 0
           },
           {
            "bin_end": 0.7000000000000001,
            "bin_start": 0.6000000000000001,
            "count": 0
           },
           {
            "bin_end": 0.8,
            "bin_start": 0.7000000000000001,
            "count": 0
           },
           {
            "bin_end": 0.9,
            "bin_start": 0.8,
            "count": 0
           },
           {
            "bin_end": 1,
            "bin_start": 0.9,
            "count": 2
           }
          ],
          "max": "1",
          "min": "0",
          "nan_count": 0,
          "unique_count": 2
         }
        },
        {
         "dtype": "uint8",
         "name": "thal_3.0",
         "stats": {
          "histogram": [
           {
            "bin_end": 0.1,
            "bin_start": 0,
            "count": 2
           },
           {
            "bin_end": 0.2,
            "bin_start": 0.1,
            "count": 0
           },
           {
            "bin_end": 0.30000000000000004,
            "bin_start": 0.2,
            "count": 0
           },
           {
            "bin_end": 0.4,
            "bin_start": 0.30000000000000004,
            "count": 0
           },
           {
            "bin_end": 0.5,
            "bin_start": 0.4,
            "count": 0
           },
           {
            "bin_end": 0.6000000000000001,
            "bin_start": 0.5,
            "count": 0
           },
           {
            "bin_end": 0.7000000000000001,
            "bin_start": 0.6000000000000001,
            "count": 0
           },
           {
            "bin_end": 0.8,
            "bin_start": 0.7000000000000001,
            "count": 0
           },
           {
            "bin_end": 0.9,
            "bin_start": 0.8,
            "count": 0
           },
           {
            "bin_end": 1,
            "bin_start": 0.9,
            "count": 3
           }
          ],
          "max": "1",
          "min": "0",
          "nan_count": 0,
          "unique_count": 2
         }
        },
        {
         "dtype": "uint8",
         "name": "thal_6.0",
         "stats": {
          "histogram": [
           {
            "bin_end": 0.1,
            "bin_start": 0,
            "count": 4
           },
           {
            "bin_end": 0.2,
            "bin_start": 0.1,
            "count": 0
           },
           {
            "bin_end": 0.30000000000000004,
            "bin_start": 0.2,
            "count": 0
           },
           {
            "bin_end": 0.4,
            "bin_start": 0.30000000000000004,
            "count": 0
           },
           {
            "bin_end": 0.5,
            "bin_start": 0.4,
            "count": 0
           },
           {
            "bin_end": 0.6000000000000001,
            "bin_start": 0.5,
            "count": 0
           },
           {
            "bin_end": 0.7000000000000001,
            "bin_start": 0.6000000000000001,
            "count": 0
           },
           {
            "bin_end": 0.8,
            "bin_start": 0.7000000000000001,
            "count": 0
           },
           {
            "bin_end": 0.9,
            "bin_start": 0.8,
            "count": 0
           },
           {
            "bin_end": 1,
            "bin_start": 0.9,
            "count": 1
           }
          ],
          "max": "1",
          "min": "0",
          "nan_count": 0,
          "unique_count": 2
         }
        },
        {
         "dtype": "uint8",
         "name": "thal_7.0",
         "stats": {
          "histogram": [
           {
            "bin_end": 0.1,
            "bin_start": 0,
            "count": 4
           },
           {
            "bin_end": 0.2,
            "bin_start": 0.1,
            "count": 0
           },
           {
            "bin_end": 0.30000000000000004,
            "bin_start": 0.2,
            "count": 0
           },
           {
            "bin_end": 0.4,
            "bin_start": 0.30000000000000004,
            "count": 0
           },
           {
            "bin_end": 0.5,
            "bin_start": 0.4,
            "count": 0
           },
           {
            "bin_end": 0.6000000000000001,
            "bin_start": 0.5,
            "count": 0
           },
           {
            "bin_end": 0.7000000000000001,
            "bin_start": 0.6000000000000001,
            "count": 0
           },
           {
            "bin_end": 0.8,
            "bin_start": 0.7000000000000001,
            "count": 0
           },
           {
            "bin_end": 0.9,
            "bin_start": 0.8,
            "count": 0
           },
           {
            "bin_end": 1,
            "bin_start": 0.9,
            "count": 1
           }
          ],
          "max": "1",
          "min": "0",
          "nan_count": 0,
          "unique_count": 2
         }
        },
        {
         "dtype": "int64",
         "name": "_deepnote_index_column"
        }
       ],
       "row_count": 5,
       "rows": [
        {
         "_deepnote_index_column": "0",
         "age": "63.0",
         "ca": "0.0",
         "chol": "233.0",
         "cp_1.0": "1",
         "cp_2.0": "0",
         "cp_3.0": "0",
         "cp_4.0": "0",
         "exang": "0.0",
         "fbs": "1.0",
         "hd": "0",
         "oldpeak": "2.3",
         "restbp": "145.0",
         "restecg_0.0": "0",
         "restecg_1.0": "0",
         "restecg_2.0": "1",
         "sex": "1.0",
         "slope_1.0": "0",
         "slope_2.0": "0",
         "slope_3.0": "1",
         "thal_3.0": "0",
         "thal_6.0": "1",
         "thal_7.0": "0",
         "thalach": "150.0"
        },
        {
         "_deepnote_index_column": "1",
         "age": "67.0",
         "ca": "3.0",
         "chol": "286.0",
         "cp_1.0": "0",
         "cp_2.0": "0",
         "cp_3.0": "0",
         "cp_4.0": "1",
         "exang": "1.0",
         "fbs": "0.0",
         "hd": "2",
         "oldpeak": "1.5",
         "restbp": "160.0",
         "restecg_0.0": "0",
         "restecg_1.0": "0",
         "restecg_2.0": "1",
         "sex": "1.0",
         "slope_1.0": "0",
         "slope_2.0": "1",
         "slope_3.0": "0",
         "thal_3.0": "1",
         "thal_6.0": "0",
         "thal_7.0": "0",
         "thalach": "108.0"
        },
        {
         "_deepnote_index_column": "2",
         "age": "67.0",
         "ca": "2.0",
         "chol": "229.0",
         "cp_1.0": "0",
         "cp_2.0": "0",
         "cp_3.0": "0",
         "cp_4.0": "1",
         "exang": "1.0",
         "fbs": "0.0",
         "hd": "1",
         "oldpeak": "2.6",
         "restbp": "120.0",
         "restecg_0.0": "0",
         "restecg_1.0": "0",
         "restecg_2.0": "1",
         "sex": "1.0",
         "slope_1.0": "0",
         "slope_2.0": "1",
         "slope_3.0": "0",
         "thal_3.0": "0",
         "thal_6.0": "0",
         "thal_7.0": "1",
         "thalach": "129.0"
        },
        {
         "_deepnote_index_column": "3",
         "age": "37.0",
         "ca": "0.0",
         "chol": "250.0",
         "cp_1.0": "0",
         "cp_2.0": "0",
         "cp_3.0": "1",
         "cp_4.0": "0",
         "exang": "0.0",
         "fbs": "0.0",
         "hd": "0",
         "oldpeak": "3.5",
         "restbp": "130.0",
         "restecg_0.0": "1",
         "restecg_1.0": "0",
         "restecg_2.0": "0",
         "sex": "1.0",
         "slope_1.0": "0",
         "slope_2.0": "0",
         "slope_3.0": "1",
         "thal_3.0": "1",
         "thal_6.0": "0",
         "thal_7.0": "0",
         "thalach": "187.0"
        },
        {
         "_deepnote_index_column": "4",
         "age": "41.0",
         "ca": "0.0",
         "chol": "204.0",
         "cp_1.0": "0",
         "cp_2.0": "1",
         "cp_3.0": "0",
         "cp_4.0": "0",
         "exang": "0.0",
         "fbs": "0.0",
         "hd": "0",
         "oldpeak": "1.4",
         "restbp": "130.0",
         "restecg_0.0": "0",
         "restecg_1.0": "0",
         "restecg_2.0": "1",
         "sex": "0.0",
         "slope_1.0": "1",
         "slope_2.0": "0",
         "slope_3.0": "0",
         "thal_3.0": "1",
         "thal_6.0": "0",
         "thal_7.0": "0",
         "thalach": "172.0"
        }
       ]
      },
      "text/html": [
       "<div>\n",
       "<style scoped>\n",
       "    .dataframe tbody tr th:only-of-type {\n",
       "        vertical-align: middle;\n",
       "    }\n",
       "\n",
       "    .dataframe tbody tr th {\n",
       "        vertical-align: top;\n",
       "    }\n",
       "\n",
       "    .dataframe thead th {\n",
       "        text-align: right;\n",
       "    }\n",
       "</style>\n",
       "<table border=\"1\" class=\"dataframe\">\n",
       "  <thead>\n",
       "    <tr style=\"text-align: right;\">\n",
       "      <th></th>\n",
       "      <th>age</th>\n",
       "      <th>sex</th>\n",
       "      <th>restbp</th>\n",
       "      <th>chol</th>\n",
       "      <th>fbs</th>\n",
       "      <th>thalach</th>\n",
       "      <th>exang</th>\n",
       "      <th>oldpeak</th>\n",
       "      <th>ca</th>\n",
       "      <th>hd</th>\n",
       "      <th>...</th>\n",
       "      <th>cp_4.0</th>\n",
       "      <th>restecg_0.0</th>\n",
       "      <th>restecg_1.0</th>\n",
       "      <th>restecg_2.0</th>\n",
       "      <th>slope_1.0</th>\n",
       "      <th>slope_2.0</th>\n",
       "      <th>slope_3.0</th>\n",
       "      <th>thal_3.0</th>\n",
       "      <th>thal_6.0</th>\n",
       "      <th>thal_7.0</th>\n",
       "    </tr>\n",
       "  </thead>\n",
       "  <tbody>\n",
       "    <tr>\n",
       "      <th>0</th>\n",
       "      <td>63.0</td>\n",
       "      <td>1.0</td>\n",
       "      <td>145.0</td>\n",
       "      <td>233.0</td>\n",
       "      <td>1.0</td>\n",
       "      <td>150.0</td>\n",
       "      <td>0.0</td>\n",
       "      <td>2.3</td>\n",
       "      <td>0.0</td>\n",
       "      <td>0</td>\n",
       "      <td>...</td>\n",
       "      <td>0</td>\n",
       "      <td>0</td>\n",
       "      <td>0</td>\n",
       "      <td>1</td>\n",
       "      <td>0</td>\n",
       "      <td>0</td>\n",
       "      <td>1</td>\n",
       "      <td>0</td>\n",
       "      <td>1</td>\n",
       "      <td>0</td>\n",
       "    </tr>\n",
       "    <tr>\n",
       "      <th>1</th>\n",
       "      <td>67.0</td>\n",
       "      <td>1.0</td>\n",
       "      <td>160.0</td>\n",
       "      <td>286.0</td>\n",
       "      <td>0.0</td>\n",
       "      <td>108.0</td>\n",
       "      <td>1.0</td>\n",
       "      <td>1.5</td>\n",
       "      <td>3.0</td>\n",
       "      <td>2</td>\n",
       "      <td>...</td>\n",
       "      <td>1</td>\n",
       "      <td>0</td>\n",
       "      <td>0</td>\n",
       "      <td>1</td>\n",
       "      <td>0</td>\n",
       "      <td>1</td>\n",
       "      <td>0</td>\n",
       "      <td>1</td>\n",
       "      <td>0</td>\n",
       "      <td>0</td>\n",
       "    </tr>\n",
       "    <tr>\n",
       "      <th>2</th>\n",
       "      <td>67.0</td>\n",
       "      <td>1.0</td>\n",
       "      <td>120.0</td>\n",
       "      <td>229.0</td>\n",
       "      <td>0.0</td>\n",
       "      <td>129.0</td>\n",
       "      <td>1.0</td>\n",
       "      <td>2.6</td>\n",
       "      <td>2.0</td>\n",
       "      <td>1</td>\n",
       "      <td>...</td>\n",
       "      <td>1</td>\n",
       "      <td>0</td>\n",
       "      <td>0</td>\n",
       "      <td>1</td>\n",
       "      <td>0</td>\n",
       "      <td>1</td>\n",
       "      <td>0</td>\n",
       "      <td>0</td>\n",
       "      <td>0</td>\n",
       "      <td>1</td>\n",
       "    </tr>\n",
       "    <tr>\n",
       "      <th>3</th>\n",
       "      <td>37.0</td>\n",
       "      <td>1.0</td>\n",
       "      <td>130.0</td>\n",
       "      <td>250.0</td>\n",
       "      <td>0.0</td>\n",
       "      <td>187.0</td>\n",
       "      <td>0.0</td>\n",
       "      <td>3.5</td>\n",
       "      <td>0.0</td>\n",
       "      <td>0</td>\n",
       "      <td>...</td>\n",
       "      <td>0</td>\n",
       "      <td>1</td>\n",
       "      <td>0</td>\n",
       "      <td>0</td>\n",
       "      <td>0</td>\n",
       "      <td>0</td>\n",
       "      <td>1</td>\n",
       "      <td>1</td>\n",
       "      <td>0</td>\n",
       "      <td>0</td>\n",
       "    </tr>\n",
       "    <tr>\n",
       "      <th>4</th>\n",
       "      <td>41.0</td>\n",
       "      <td>0.0</td>\n",
       "      <td>130.0</td>\n",
       "      <td>204.0</td>\n",
       "      <td>0.0</td>\n",
       "      <td>172.0</td>\n",
       "      <td>0.0</td>\n",
       "      <td>1.4</td>\n",
       "      <td>0.0</td>\n",
       "      <td>0</td>\n",
       "      <td>...</td>\n",
       "      <td>0</td>\n",
       "      <td>0</td>\n",
       "      <td>0</td>\n",
       "      <td>1</td>\n",
       "      <td>1</td>\n",
       "      <td>0</td>\n",
       "      <td>0</td>\n",
       "      <td>1</td>\n",
       "      <td>0</td>\n",
       "      <td>0</td>\n",
       "    </tr>\n",
       "  </tbody>\n",
       "</table>\n",
       "<p>5 rows × 23 columns</p>\n",
       "</div>"
      ],
      "text/plain": [
       "    age  sex  restbp   chol  fbs  thalach  exang  oldpeak   ca  hd  ...  \\\n",
       "0  63.0  1.0   145.0  233.0  1.0    150.0    0.0      2.3  0.0   0  ...   \n",
       "1  67.0  1.0   160.0  286.0  0.0    108.0    1.0      1.5  3.0   2  ...   \n",
       "2  67.0  1.0   120.0  229.0  0.0    129.0    1.0      2.6  2.0   1  ...   \n",
       "3  37.0  1.0   130.0  250.0  0.0    187.0    0.0      3.5  0.0   0  ...   \n",
       "4  41.0  0.0   130.0  204.0  0.0    172.0    0.0      1.4  0.0   0  ...   \n",
       "\n",
       "   cp_4.0  restecg_0.0  restecg_1.0  restecg_2.0  slope_1.0  slope_2.0  \\\n",
       "0       0            0            0            1          0          0   \n",
       "1       1            0            0            1          0          1   \n",
       "2       1            0            0            1          0          1   \n",
       "3       0            1            0            0          0          0   \n",
       "4       0            0            0            1          1          0   \n",
       "\n",
       "   slope_3.0  thal_3.0  thal_6.0  thal_7.0  \n",
       "0          1         0         1         0  \n",
       "1          0         1         0         0  \n",
       "2          0         0         0         1  \n",
       "3          1         1         0         0  \n",
       "4          0         1         0         0  \n",
       "\n",
       "[5 rows x 23 columns]"
      ]
     },
     "execution_count": 7,
     "metadata": {},
     "output_type": "execute_result"
    }
   ],
   "source": [
    "X.head()"
   ]
  },
  {
   "cell_type": "markdown",
   "metadata": {
    "cell_id": "e7d79daf553e444fb978de73346b6882",
    "deepnote_cell_type": "markdown",
    "id": "wm2F3_OgBRXH"
   },
   "source": [
    "Dado que la columna objetivo tiene más de dos categorías y vamos a realizar clasificación binaria, la convertiremos en una variable con dos clases: aquellos con valores mayores que cero los clasificaremos como 1, y los que tengan valor cero los dejamos como están.\n"
   ]
  },
  {
   "cell_type": "code",
   "execution_count": 8,
   "metadata": {
    "cell_id": "089d87a3bfdc4be7827833ba15ad2856",
    "deepnote_cell_type": "code",
    "deepnote_table_loading": false,
    "deepnote_table_state": {
     "filters": [],
     "pageIndex": 29,
     "pageSize": 10,
     "sortBy": []
    },
    "deepnote_to_be_reexecuted": false,
    "execution_millis": 135,
    "execution_start": 1682561876859,
    "id": "I5s7LUIFPh0j",
    "source_hash": "fefbd3a9"
   },
   "outputs": [
    {
     "data": {
      "application/vnd.deepnote.dataframe.v3+json": {
       "column_count": 23,
       "columns": [
        {
         "dtype": "float64",
         "name": "age",
         "stats": {
          "histogram": [
           {
            "bin_end": 8.5,
            "bin_start": 1,
            "count": 137
           },
           {
            "bin_end": 16,
            "bin_start": 8.5,
            "count": 0
           },
           {
            "bin_end": 23.5,
            "bin_start": 16,
            "count": 0
           },
           {
            "bin_end": 31,
            "bin_start": 23.5,
            "count": 1
           },
           {
            "bin_end": 38.5,
            "bin_start": 31,
            "count": 6
           },
           {
            "bin_end": 46,
            "bin_start": 38.5,
            "count": 39
           },
           {
            "bin_end": 53.5,
            "bin_start": 46,
            "count": 40
           },
           {
            "bin_end": 61,
            "bin_start": 53.5,
            "count": 39
           },
           {
            "bin_end": 68.5,
            "bin_start": 61,
            "count": 27
           },
           {
            "bin_end": 76,
            "bin_start": 68.5,
            "count": 8
           }
          ],
          "max": "76.0",
          "min": "1.0",
          "nan_count": 0,
          "unique_count": 40
         }
        },
        {
         "dtype": "float64",
         "name": "sex",
         "stats": {
          "histogram": [
           {
            "bin_end": 0.1,
            "bin_start": 0,
            "count": 71
           },
           {
            "bin_end": 0.2,
            "bin_start": 0.1,
            "count": 0
           },
           {
            "bin_end": 0.30000000000000004,
            "bin_start": 0.2,
            "count": 0
           },
           {
            "bin_end": 0.4,
            "bin_start": 0.30000000000000004,
            "count": 0
           },
           {
            "bin_end": 0.5,
            "bin_start": 0.4,
            "count": 0
           },
           {
            "bin_end": 0.6000000000000001,
            "bin_start": 0.5,
            "count": 0
           },
           {
            "bin_end": 0.7000000000000001,
            "bin_start": 0.6000000000000001,
            "count": 0
           },
           {
            "bin_end": 0.8,
            "bin_start": 0.7000000000000001,
            "count": 0
           },
           {
            "bin_end": 0.9,
            "bin_start": 0.8,
            "count": 0
           },
           {
            "bin_end": 1,
            "bin_start": 0.9,
            "count": 226
           }
          ],
          "max": "1.0",
          "min": "0.0",
          "nan_count": 0,
          "unique_count": 2
         }
        },
        {
         "dtype": "float64",
         "name": "restbp",
         "stats": {
          "histogram": [
           {
            "bin_end": 18.9,
            "bin_start": 1,
            "count": 137
           },
           {
            "bin_end": 36.8,
            "bin_start": 18.9,
            "count": 0
           },
           {
            "bin_end": 54.699999999999996,
            "bin_start": 36.8,
            "count": 0
           },
           {
            "bin_end": 72.6,
            "bin_start": 54.699999999999996,
            "count": 0
           },
           {
            "bin_end": 90.5,
            "bin_start": 72.6,
            "count": 0
           },
           {
            "bin_end": 108.39999999999999,
            "bin_start": 90.5,
            "count": 16
           },
           {
            "bin_end": 126.29999999999998,
            "bin_start": 108.39999999999999,
            "count": 53
           },
           {
            "bin_end": 144.2,
            "bin_start": 126.29999999999998,
            "count": 66
           },
           {
            "bin_end": 162.1,
            "bin_start": 144.2,
            "count": 21
           },
           {
            "bin_end": 180,
            "bin_start": 162.1,
            "count": 4
           }
          ],
          "max": "180.0",
          "min": "1.0",
          "nan_count": 0,
          "unique_count": 40
         }
        },
        {
         "dtype": "float64",
         "name": "chol",
         "stats": {
          "histogram": [
           {
            "bin_end": 57.3,
            "bin_start": 1,
            "count": 137
           },
           {
            "bin_end": 113.6,
            "bin_start": 57.3,
            "count": 0
           },
           {
            "bin_end": 169.89999999999998,
            "bin_start": 113.6,
            "count": 6
           },
           {
            "bin_end": 226.2,
            "bin_start": 169.89999999999998,
            "count": 60
           },
           {
            "bin_end": 282.5,
            "bin_start": 226.2,
            "count": 65
           },
           {
            "bin_end": 338.79999999999995,
            "bin_start": 282.5,
            "count": 22
           },
           {
            "bin_end": 395.09999999999997,
            "bin_start": 338.79999999999995,
            "count": 5
           },
           {
            "bin_end": 451.4,
            "bin_start": 395.09999999999997,
            "count": 1
           },
           {
            "bin_end": 507.7,
            "bin_start": 451.4,
            "count": 0
           },
           {
            "bin_end": 564,
            "bin_start": 507.7,
            "count": 1
           }
          ],
          "max": "564.0",
          "min": "1.0",
          "nan_count": 0,
          "unique_count": 104
         }
        },
        {
         "dtype": "float64",
         "name": "fbs",
         "stats": {
          "histogram": [
           {
            "bin_end": 0.1,
            "bin_start": 0,
            "count": 137
           },
           {
            "bin_end": 0.2,
            "bin_start": 0.1,
            "count": 0
           },
           {
            "bin_end": 0.30000000000000004,
            "bin_start": 0.2,
            "count": 0
           },
           {
            "bin_end": 0.4,
            "bin_start": 0.30000000000000004,
            "count": 0
           },
           {
            "bin_end": 0.5,
            "bin_start": 0.4,
            "count": 0
           },
           {
            "bin_end": 0.6000000000000001,
            "bin_start": 0.5,
            "count": 0
           },
           {
            "bin_end": 0.7000000000000001,
            "bin_start": 0.6000000000000001,
            "count": 0
           },
           {
            "bin_end": 0.8,
            "bin_start": 0.7000000000000001,
            "count": 0
           },
           {
            "bin_end": 0.9,
            "bin_start": 0.8,
            "count": 0
           },
           {
            "bin_end": 1,
            "bin_start": 0.9,
            "count": 160
           }
          ],
          "max": "1.0",
          "min": "0.0",
          "nan_count": 0,
          "unique_count": 2
         }
        },
        {
         "dtype": "float64",
         "name": "thalach",
         "stats": {
          "histogram": [
           {
            "bin_end": 21.1,
            "bin_start": 1,
            "count": 137
           },
           {
            "bin_end": 41.2,
            "bin_start": 21.1,
            "count": 0
           },
           {
            "bin_end": 61.300000000000004,
            "bin_start": 41.2,
            "count": 0
           },
           {
            "bin_end": 81.4,
            "bin_start": 61.300000000000004,
            "count": 0
           },
           {
            "bin_end": 101.5,
            "bin_start": 81.4,
            "count": 1
           },
           {
            "bin_end": 121.60000000000001,
            "bin_start": 101.5,
            "count": 6
           },
           {
            "bin_end": 141.70000000000002,
            "bin_start": 121.60000000000001,
            "count": 18
           },
           {
            "bin_end": 161.8,
            "bin_start": 141.70000000000002,
            "count": 56
           },
           {
            "bin_end": 181.9,
            "bin_start": 161.8,
            "count": 65
           },
           {
            "bin_end": 202,
            "bin_start": 181.9,
            "count": 14
           }
          ],
          "max": "202.0",
          "min": "1.0",
          "nan_count": 0,
          "unique_count": 68
         }
        },
        {
         "dtype": "float64",
         "name": "exang",
         "stats": {
          "histogram": [
           {
            "bin_end": 0.1,
            "bin_start": 0,
            "count": 137
           },
           {
            "bin_end": 0.2,
            "bin_start": 0.1,
            "count": 0
           },
           {
            "bin_end": 0.30000000000000004,
            "bin_start": 0.2,
            "count": 0
           },
           {
            "bin_end": 0.4,
            "bin_start": 0.30000000000000004,
            "count": 0
           },
           {
            "bin_end": 0.5,
            "bin_start": 0.4,
            "count": 0
           },
           {
            "bin_end": 0.6000000000000001,
            "bin_start": 0.5,
            "count": 0
           },
           {
            "bin_end": 0.7000000000000001,
            "bin_start": 0.6000000000000001,
            "count": 0
           },
           {
            "bin_end": 0.8,
            "bin_start": 0.7000000000000001,
            "count": 0
           },
           {
            "bin_end": 0.9,
            "bin_start": 0.8,
            "count": 0
           },
           {
            "bin_end": 1,
            "bin_start": 0.9,
            "count": 160
           }
          ],
          "max": "1.0",
          "min": "0.0",
          "nan_count": 0,
          "unique_count": 2
         }
        },
        {
         "dtype": "float64",
         "name": "oldpeak",
         "stats": {
          "histogram": [
           {
            "bin_end": 0.42000000000000004,
            "bin_start": 0,
            "count": 92
           },
           {
            "bin_end": 0.8400000000000001,
            "bin_start": 0.42000000000000004,
            "count": 22
           },
           {
            "bin_end": 1.2600000000000002,
            "bin_start": 0.8400000000000001,
            "count": 151
           },
           {
            "bin_end": 1.6800000000000002,
            "bin_start": 1.2600000000000002,
            "count": 18
           },
           {
            "bin_end": 2.1,
            "bin_start": 1.6800000000000002,
            "count": 7
           },
           {
            "bin_end": 2.5200000000000005,
            "bin_start": 2.1,
            "count": 3
           },
           {
            "bin_end": 2.9400000000000004,
            "bin_start": 2.5200000000000005,
            "count": 1
           },
           {
            "bin_end": 3.3600000000000003,
            "bin_start": 2.9400000000000004,
            "count": 1
           },
           {
            "bin_end": 3.7800000000000002,
            "bin_start": 3.3600000000000003,
            "count": 1
           },
           {
            "bin_end": 4.2,
            "bin_start": 3.7800000000000002,
            "count": 1
           }
          ],
          "max": "4.2",
          "min": "0.0",
          "nan_count": 0,
          "unique_count": 26
         }
        },
        {
         "dtype": "object",
         "name": "ca",
         "stats": {
          "categories": [
           {
            "count": 137,
            "name": "1"
           },
           {
            "count": 129,
            "name": "0.0"
           },
           {
            "count": 31,
            "name": "3 others"
           }
          ],
          "nan_count": 0,
          "unique_count": 5
         }
        },
        {
         "dtype": "int64",
         "name": "hd",
         "stats": {
          "histogram": [
           {
            "bin_end": 0.1,
            "bin_start": 0,
            "count": 160
           },
           {
            "bin_end": 0.2,
            "bin_start": 0.1,
            "count": 0
           },
           {
            "bin_end": 0.30000000000000004,
            "bin_start": 0.2,
            "count": 0
           },
           {
            "bin_end": 0.4,
            "bin_start": 0.30000000000000004,
            "count": 0
           },
           {
            "bin_end": 0.5,
            "bin_start": 0.4,
            "count": 0
           },
           {
            "bin_end": 0.6000000000000001,
            "bin_start": 0.5,
            "count": 0
           },
           {
            "bin_end": 0.7000000000000001,
            "bin_start": 0.6000000000000001,
            "count": 0
           },
           {
            "bin_end": 0.8,
            "bin_start": 0.7000000000000001,
            "count": 0
           },
           {
            "bin_end": 0.9,
            "bin_start": 0.8,
            "count": 0
           },
           {
            "bin_end": 1,
            "bin_start": 0.9,
            "count": 137
           }
          ],
          "max": "1",
          "min": "0",
          "nan_count": 0,
          "unique_count": 2
         }
        },
        {
         "dtype": "uint8",
         "name": "cp_1.0",
         "stats": {
          "histogram": [
           {
            "bin_end": 0.1,
            "bin_start": 0,
            "count": 144
           },
           {
            "bin_end": 0.2,
            "bin_start": 0.1,
            "count": 0
           },
           {
            "bin_end": 0.30000000000000004,
            "bin_start": 0.2,
            "count": 0
           },
           {
            "bin_end": 0.4,
            "bin_start": 0.30000000000000004,
            "count": 0
           },
           {
            "bin_end": 0.5,
            "bin_start": 0.4,
            "count": 0
           },
           {
            "bin_end": 0.6000000000000001,
            "bin_start": 0.5,
            "count": 0
           },
           {
            "bin_end": 0.7000000000000001,
            "bin_start": 0.6000000000000001,
            "count": 0
           },
           {
            "bin_end": 0.8,
            "bin_start": 0.7000000000000001,
            "count": 0
           },
           {
            "bin_end": 0.9,
            "bin_start": 0.8,
            "count": 0
           },
           {
            "bin_end": 1,
            "bin_start": 0.9,
            "count": 153
           }
          ],
          "max": "1",
          "min": "0",
          "nan_count": 0,
          "unique_count": 2
         }
        },
        {
         "dtype": "uint8",
         "name": "cp_2.0",
         "stats": {
          "histogram": [
           {
            "bin_end": 0.1,
            "bin_start": 0,
            "count": 120
           },
           {
            "bin_end": 0.2,
            "bin_start": 0.1,
            "count": 0
           },
           {
            "bin_end": 0.30000000000000004,
            "bin_start": 0.2,
            "count": 0
           },
           {
            "bin_end": 0.4,
            "bin_start": 0.30000000000000004,
            "count": 0
           },
           {
            "bin_end": 0.5,
            "bin_start": 0.4,
            "count": 0
           },
           {
            "bin_end": 0.6000000000000001,
            "bin_start": 0.5,
            "count": 0
           },
           {
            "bin_end": 0.7000000000000001,
            "bin_start": 0.6000000000000001,
            "count": 0
           },
           {
            "bin_end": 0.8,
            "bin_start": 0.7000000000000001,
            "count": 0
           },
           {
            "bin_end": 0.9,
            "bin_start": 0.8,
            "count": 0
           },
           {
            "bin_end": 1,
            "bin_start": 0.9,
            "count": 177
           }
          ],
          "max": "1",
          "min": "0",
          "nan_count": 0,
          "unique_count": 2
         }
        },
        {
         "dtype": "uint8",
         "name": "cp_3.0",
         "stats": {
          "histogram": [
           {
            "bin_end": 0.1,
            "bin_start": 0,
            "count": 95
           },
           {
            "bin_end": 0.2,
            "bin_start": 0.1,
            "count": 0
           },
           {
            "bin_end": 0.30000000000000004,
            "bin_start": 0.2,
            "count": 0
           },
           {
            "bin_end": 0.4,
            "bin_start": 0.30000000000000004,
            "count": 0
           },
           {
            "bin_end": 0.5,
            "bin_start": 0.4,
            "count": 0
           },
           {
            "bin_end": 0.6000000000000001,
            "bin_start": 0.5,
            "count": 0
           },
           {
            "bin_end": 0.7000000000000001,
            "bin_start": 0.6000000000000001,
            "count": 0
           },
           {
            "bin_end": 0.8,
            "bin_start": 0.7000000000000001,
            "count": 0
           },
           {
            "bin_end": 0.9,
            "bin_start": 0.8,
            "count": 0
           },
           {
            "bin_end": 1,
            "bin_start": 0.9,
            "count": 202
           }
          ],
          "max": "1",
          "min": "0",
          "nan_count": 0,
          "unique_count": 2
         }
        },
        {
         "dtype": "uint8",
         "name": "cp_4.0",
         "stats": {
          "histogram": [
           {
            "bin_end": 0.1,
            "bin_start": 0,
            "count": 121
           },
           {
            "bin_end": 0.2,
            "bin_start": 0.1,
            "count": 0
           },
           {
            "bin_end": 0.30000000000000004,
            "bin_start": 0.2,
            "count": 0
           },
           {
            "bin_end": 0.4,
            "bin_start": 0.30000000000000004,
            "count": 0
           },
           {
            "bin_end": 0.5,
            "bin_start": 0.4,
            "count": 0
           },
           {
            "bin_end": 0.6000000000000001,
            "bin_start": 0.5,
            "count": 0
           },
           {
            "bin_end": 0.7000000000000001,
            "bin_start": 0.6000000000000001,
            "count": 0
           },
           {
            "bin_end": 0.8,
            "bin_start": 0.7000000000000001,
            "count": 0
           },
           {
            "bin_end": 0.9,
            "bin_start": 0.8,
            "count": 0
           },
           {
            "bin_end": 1,
            "bin_start": 0.9,
            "count": 176
           }
          ],
          "max": "1",
          "min": "0",
          "nan_count": 0,
          "unique_count": 2
         }
        },
        {
         "dtype": "uint8",
         "name": "restecg_0.0",
         "stats": {
          "histogram": [
           {
            "bin_end": 0.1,
            "bin_start": 0,
            "count": 68
           },
           {
            "bin_end": 0.2,
            "bin_start": 0.1,
            "count": 0
           },
           {
            "bin_end": 0.30000000000000004,
            "bin_start": 0.2,
            "count": 0
           },
           {
            "bin_end": 0.4,
            "bin_start": 0.30000000000000004,
            "count": 0
           },
           {
            "bin_end": 0.5,
            "bin_start": 0.4,
            "count": 0
           },
           {
            "bin_end": 0.6000000000000001,
            "bin_start": 0.5,
            "count": 0
           },
           {
            "bin_end": 0.7000000000000001,
            "bin_start": 0.6000000000000001,
            "count": 0
           },
           {
            "bin_end": 0.8,
            "bin_start": 0.7000000000000001,
            "count": 0
           },
           {
            "bin_end": 0.9,
            "bin_start": 0.8,
            "count": 0
           },
           {
            "bin_end": 1,
            "bin_start": 0.9,
            "count": 229
           }
          ],
          "max": "1",
          "min": "0",
          "nan_count": 0,
          "unique_count": 2
         }
        },
        {
         "dtype": "uint8",
         "name": "restecg_1.0",
         "stats": {
          "histogram": [
           {
            "bin_end": 0.1,
            "bin_start": 0,
            "count": 159
           },
           {
            "bin_end": 0.2,
            "bin_start": 0.1,
            "count": 0
           },
           {
            "bin_end": 0.30000000000000004,
            "bin_start": 0.2,
            "count": 0
           },
           {
            "bin_end": 0.4,
            "bin_start": 0.30000000000000004,
            "count": 0
           },
           {
            "bin_end": 0.5,
            "bin_start": 0.4,
            "count": 0
           },
           {
            "bin_end": 0.6000000000000001,
            "bin_start": 0.5,
            "count": 0
           },
           {
            "bin_end": 0.7000000000000001,
            "bin_start": 0.6000000000000001,
            "count": 0
           },
           {
            "bin_end": 0.8,
            "bin_start": 0.7000000000000001,
            "count": 0
           },
           {
            "bin_end": 0.9,
            "bin_start": 0.8,
            "count": 0
           },
           {
            "bin_end": 1,
            "bin_start": 0.9,
            "count": 138
           }
          ],
          "max": "1",
          "min": "0",
          "nan_count": 0,
          "unique_count": 2
         }
        },
        {
         "dtype": "uint8",
         "name": "restecg_2.0",
         "stats": {
          "histogram": [
           {
            "bin_end": 0.1,
            "bin_start": 0,
            "count": 93
           },
           {
            "bin_end": 0.2,
            "bin_start": 0.1,
            "count": 0
           },
           {
            "bin_end": 0.30000000000000004,
            "bin_start": 0.2,
            "count": 0
           },
           {
            "bin_end": 0.4,
            "bin_start": 0.30000000000000004,
            "count": 0
           },
           {
            "bin_end": 0.5,
            "bin_start": 0.4,
            "count": 0
           },
           {
            "bin_end": 0.6000000000000001,
            "bin_start": 0.5,
            "count": 0
           },
           {
            "bin_end": 0.7000000000000001,
            "bin_start": 0.6000000000000001,
            "count": 0
           },
           {
            "bin_end": 0.8,
            "bin_start": 0.7000000000000001,
            "count": 0
           },
           {
            "bin_end": 0.9,
            "bin_start": 0.8,
            "count": 0
           },
           {
            "bin_end": 1,
            "bin_start": 0.9,
            "count": 204
           }
          ],
          "max": "1",
          "min": "0",
          "nan_count": 0,
          "unique_count": 2
         }
        },
        {
         "dtype": "uint8",
         "name": "slope_1.0",
         "stats": {
          "histogram": [
           {
            "bin_end": 0.1,
            "bin_start": 0,
            "count": 57
           },
           {
            "bin_end": 0.2,
            "bin_start": 0.1,
            "count": 0
           },
           {
            "bin_end": 0.30000000000000004,
            "bin_start": 0.2,
            "count": 0
           },
           {
            "bin_end": 0.4,
            "bin_start": 0.30000000000000004,
            "count": 0
           },
           {
            "bin_end": 0.5,
            "bin_start": 0.4,
            "count": 0
           },
           {
            "bin_end": 0.6000000000000001,
            "bin_start": 0.5,
            "count": 0
           },
           {
            "bin_end": 0.7000000000000001,
            "bin_start": 0.6000000000000001,
            "count": 0
           },
           {
            "bin_end": 0.8,
            "bin_start": 0.7000000000000001,
            "count": 0
           },
           {
            "bin_end": 0.9,
            "bin_start": 0.8,
            "count": 0
           },
           {
            "bin_end": 1,
            "bin_start": 0.9,
            "count": 240
           }
          ],
          "max": "1",
          "min": "0",
          "nan_count": 0,
          "unique_count": 2
         }
        },
        {
         "dtype": "uint8",
         "name": "slope_2.0",
         "stats": {
          "histogram": [
           {
            "bin_end": 0.1,
            "bin_start": 0,
            "count": 112
           },
           {
            "bin_end": 0.2,
            "bin_start": 0.1,
            "count": 0
           },
           {
            "bin_end": 0.30000000000000004,
            "bin_start": 0.2,
            "count": 0
           },
           {
            "bin_end": 0.4,
            "bin_start": 0.30000000000000004,
            "count": 0
           },
           {
            "bin_end": 0.5,
            "bin_start": 0.4,
            "count": 0
           },
           {
            "bin_end": 0.6000000000000001,
            "bin_start": 0.5,
            "count": 0
           },
           {
            "bin_end": 0.7000000000000001,
            "bin_start": 0.6000000000000001,
            "count": 0
           },
           {
            "bin_end": 0.8,
            "bin_start": 0.7000000000000001,
            "count": 0
           },
           {
            "bin_end": 0.9,
            "bin_start": 0.8,
            "count": 0
           },
           {
            "bin_end": 1,
            "bin_start": 0.9,
            "count": 185
           }
          ],
          "max": "1",
          "min": "0",
          "nan_count": 0,
          "unique_count": 2
         }
        },
        {
         "dtype": "uint8",
         "name": "slope_3.0",
         "stats": {
          "histogram": [
           {
            "bin_end": 0.1,
            "bin_start": 0,
            "count": 151
           },
           {
            "bin_end": 0.2,
            "bin_start": 0.1,
            "count": 0
           },
           {
            "bin_end": 0.30000000000000004,
            "bin_start": 0.2,
            "count": 0
           },
           {
            "bin_end": 0.4,
            "bin_start": 0.30000000000000004,
            "count": 0
           },
           {
            "bin_end": 0.5,
            "bin_start": 0.4,
            "count": 0
           },
           {
            "bin_end": 0.6000000000000001,
            "bin_start": 0.5,
            "count": 0
           },
           {
            "bin_end": 0.7000000000000001,
            "bin_start": 0.6000000000000001,
            "count": 0
           },
           {
            "bin_end": 0.8,
            "bin_start": 0.7000000000000001,
            "count": 0
           },
           {
            "bin_end": 0.9,
            "bin_start": 0.8,
            "count": 0
           },
           {
            "bin_end": 1,
            "bin_start": 0.9,
            "count": 146
           }
          ],
          "max": "1",
          "min": "0",
          "nan_count": 0,
          "unique_count": 2
         }
        },
        {
         "dtype": "uint8",
         "name": "thal_3.0",
         "stats": {
          "histogram": [
           {
            "bin_end": 0.1,
            "bin_start": 0,
            "count": 33
           },
           {
            "bin_end": 0.2,
            "bin_start": 0.1,
            "count": 0
           },
           {
            "bin_end": 0.30000000000000004,
            "bin_start": 0.2,
            "count": 0
           },
           {
            "bin_end": 0.4,
            "bin_start": 0.30000000000000004,
            "count": 0
           },
           {
            "bin_end": 0.5,
            "bin_start": 0.4,
            "count": 0
           },
           {
            "bin_end": 0.6000000000000001,
            "bin_start": 0.5,
            "count": 0
           },
           {
            "bin_end": 0.7000000000000001,
            "bin_start": 0.6000000000000001,
            "count": 0
           },
           {
            "bin_end": 0.8,
            "bin_start": 0.7000000000000001,
            "count": 0
           },
           {
            "bin_end": 0.9,
            "bin_start": 0.8,
            "count": 0
           },
           {
            "bin_end": 1,
            "bin_start": 0.9,
            "count": 264
           }
          ],
          "max": "1",
          "min": "0",
          "nan_count": 0,
          "unique_count": 2
         }
        },
        {
         "dtype": "uint8",
         "name": "thal_6.0",
         "stats": {
          "histogram": [
           {
            "bin_end": 0.1,
            "bin_start": 0,
            "count": 154
           },
           {
            "bin_end": 0.2,
            "bin_start": 0.1,
            "count": 0
           },
           {
            "bin_end": 0.30000000000000004,
            "bin_start": 0.2,
            "count": 0
           },
           {
            "bin_end": 0.4,
            "bin_start": 0.30000000000000004,
            "count": 0
           },
           {
            "bin_end": 0.5,
            "bin_start": 0.4,
            "count": 0
           },
           {
            "bin_end": 0.6000000000000001,
            "bin_start": 0.5,
            "count": 0
           },
           {
            "bin_end": 0.7000000000000001,
            "bin_start": 0.6000000000000001,
            "count": 0
           },
           {
            "bin_end": 0.8,
            "bin_start": 0.7000000000000001,
            "count": 0
           },
           {
            "bin_end": 0.9,
            "bin_start": 0.8,
            "count": 0
           },
           {
            "bin_end": 1,
            "bin_start": 0.9,
            "count": 143
           }
          ],
          "max": "1",
          "min": "0",
          "nan_count": 0,
          "unique_count": 2
         }
        },
        {
         "dtype": "uint8",
         "name": "thal_7.0",
         "stats": {
          "histogram": [
           {
            "bin_end": 0.1,
            "bin_start": 0,
            "count": 133
           },
           {
            "bin_end": 0.2,
            "bin_start": 0.1,
            "count": 0
           },
           {
            "bin_end": 0.30000000000000004,
            "bin_start": 0.2,
            "count": 0
           },
           {
            "bin_end": 0.4,
            "bin_start": 0.30000000000000004,
            "count": 0
           },
           {
            "bin_end": 0.5,
            "bin_start": 0.4,
            "count": 0
           },
           {
            "bin_end": 0.6000000000000001,
            "bin_start": 0.5,
            "count": 0
           },
           {
            "bin_end": 0.7000000000000001,
            "bin_start": 0.6000000000000001,
            "count": 0
           },
           {
            "bin_end": 0.8,
            "bin_start": 0.7000000000000001,
            "count": 0
           },
           {
            "bin_end": 0.9,
            "bin_start": 0.8,
            "count": 0
           },
           {
            "bin_end": 1,
            "bin_start": 0.9,
            "count": 164
           }
          ],
          "max": "1",
          "min": "0",
          "nan_count": 0,
          "unique_count": 2
         }
        },
        {
         "dtype": "int64",
         "name": "_deepnote_index_column"
        }
       ],
       "row_count": 297,
       "rows": [
        {
         "_deepnote_index_column": "295",
         "age": "41.0",
         "ca": "0.0",
         "chol": "157.0",
         "cp_1.0": "0",
         "cp_2.0": "1",
         "cp_3.0": "0",
         "cp_4.0": "0",
         "exang": "0.0",
         "fbs": "0.0",
         "hd": "0",
         "oldpeak": "0.0",
         "restbp": "120.0",
         "restecg_0.0": "1",
         "restecg_1.0": "0",
         "restecg_2.0": "0",
         "sex": "1.0",
         "slope_1.0": "1",
         "slope_2.0": "0",
         "slope_3.0": "0",
         "thal_3.0": "1",
         "thal_6.0": "0",
         "thal_7.0": "0",
         "thalach": "182.0"
        },
        {
         "_deepnote_index_column": "296",
         "age": "1.0",
         "ca": "1",
         "chol": "1.0",
         "cp_1.0": "1",
         "cp_2.0": "1",
         "cp_3.0": "1",
         "cp_4.0": "1",
         "exang": "1.0",
         "fbs": "1.0",
         "hd": "1",
         "oldpeak": "1.0",
         "restbp": "1.0",
         "restecg_0.0": "1",
         "restecg_1.0": "1",
         "restecg_2.0": "1",
         "sex": "1.0",
         "slope_1.0": "1",
         "slope_2.0": "1",
         "slope_3.0": "1",
         "thal_3.0": "1",
         "thal_6.0": "1",
         "thal_7.0": "1",
         "thalach": "1.0"
        },
        {
         "_deepnote_index_column": "297",
         "age": "1.0",
         "ca": "1",
         "chol": "1.0",
         "cp_1.0": "1",
         "cp_2.0": "1",
         "cp_3.0": "1",
         "cp_4.0": "1",
         "exang": "1.0",
         "fbs": "1.0",
         "hd": "1",
         "oldpeak": "1.0",
         "restbp": "1.0",
         "restecg_0.0": "1",
         "restecg_1.0": "1",
         "restecg_2.0": "1",
         "sex": "1.0",
         "slope_1.0": "1",
         "slope_2.0": "1",
         "slope_3.0": "1",
         "thal_3.0": "1",
         "thal_6.0": "1",
         "thal_7.0": "1",
         "thalach": "1.0"
        },
        {
         "_deepnote_index_column": "298",
         "age": "1.0",
         "ca": "1",
         "chol": "1.0",
         "cp_1.0": "1",
         "cp_2.0": "1",
         "cp_3.0": "1",
         "cp_4.0": "1",
         "exang": "1.0",
         "fbs": "1.0",
         "hd": "1",
         "oldpeak": "1.0",
         "restbp": "1.0",
         "restecg_0.0": "1",
         "restecg_1.0": "1",
         "restecg_2.0": "1",
         "sex": "1.0",
         "slope_1.0": "1",
         "slope_2.0": "1",
         "slope_3.0": "1",
         "thal_3.0": "1",
         "thal_6.0": "1",
         "thal_7.0": "1",
         "thalach": "1.0"
        },
        {
         "_deepnote_index_column": "299",
         "age": "1.0",
         "ca": "1",
         "chol": "1.0",
         "cp_1.0": "1",
         "cp_2.0": "1",
         "cp_3.0": "1",
         "cp_4.0": "1",
         "exang": "1.0",
         "fbs": "1.0",
         "hd": "1",
         "oldpeak": "1.0",
         "restbp": "1.0",
         "restecg_0.0": "1",
         "restecg_1.0": "1",
         "restecg_2.0": "1",
         "sex": "1.0",
         "slope_1.0": "1",
         "slope_2.0": "1",
         "slope_3.0": "1",
         "thal_3.0": "1",
         "thal_6.0": "1",
         "thal_7.0": "1",
         "thalach": "1.0"
        },
        {
         "_deepnote_index_column": "300",
         "age": "1.0",
         "ca": "1",
         "chol": "1.0",
         "cp_1.0": "1",
         "cp_2.0": "1",
         "cp_3.0": "1",
         "cp_4.0": "1",
         "exang": "1.0",
         "fbs": "1.0",
         "hd": "1",
         "oldpeak": "1.0",
         "restbp": "1.0",
         "restecg_0.0": "1",
         "restecg_1.0": "1",
         "restecg_2.0": "1",
         "sex": "1.0",
         "slope_1.0": "1",
         "slope_2.0": "1",
         "slope_3.0": "1",
         "thal_3.0": "1",
         "thal_6.0": "1",
         "thal_7.0": "1",
         "thalach": "1.0"
        },
        {
         "_deepnote_index_column": "301",
         "age": "1.0",
         "ca": "1",
         "chol": "1.0",
         "cp_1.0": "1",
         "cp_2.0": "1",
         "cp_3.0": "1",
         "cp_4.0": "1",
         "exang": "1.0",
         "fbs": "1.0",
         "hd": "1",
         "oldpeak": "1.0",
         "restbp": "1.0",
         "restecg_0.0": "1",
         "restecg_1.0": "1",
         "restecg_2.0": "1",
         "sex": "1.0",
         "slope_1.0": "1",
         "slope_2.0": "1",
         "slope_3.0": "1",
         "thal_3.0": "1",
         "thal_6.0": "1",
         "thal_7.0": "1",
         "thalach": "1.0"
        }
       ]
      },
      "text/html": [
       "<div>\n",
       "<style scoped>\n",
       "    .dataframe tbody tr th:only-of-type {\n",
       "        vertical-align: middle;\n",
       "    }\n",
       "\n",
       "    .dataframe tbody tr th {\n",
       "        vertical-align: top;\n",
       "    }\n",
       "\n",
       "    .dataframe thead th {\n",
       "        text-align: right;\n",
       "    }\n",
       "</style>\n",
       "<table border=\"1\" class=\"dataframe\">\n",
       "  <thead>\n",
       "    <tr style=\"text-align: right;\">\n",
       "      <th></th>\n",
       "      <th>age</th>\n",
       "      <th>sex</th>\n",
       "      <th>restbp</th>\n",
       "      <th>chol</th>\n",
       "      <th>fbs</th>\n",
       "      <th>thalach</th>\n",
       "      <th>exang</th>\n",
       "      <th>oldpeak</th>\n",
       "      <th>ca</th>\n",
       "      <th>hd</th>\n",
       "      <th>...</th>\n",
       "      <th>cp_4.0</th>\n",
       "      <th>restecg_0.0</th>\n",
       "      <th>restecg_1.0</th>\n",
       "      <th>restecg_2.0</th>\n",
       "      <th>slope_1.0</th>\n",
       "      <th>slope_2.0</th>\n",
       "      <th>slope_3.0</th>\n",
       "      <th>thal_3.0</th>\n",
       "      <th>thal_6.0</th>\n",
       "      <th>thal_7.0</th>\n",
       "    </tr>\n",
       "  </thead>\n",
       "  <tbody>\n",
       "    <tr>\n",
       "      <th>0</th>\n",
       "      <td>63.0</td>\n",
       "      <td>1.0</td>\n",
       "      <td>145.0</td>\n",
       "      <td>233.0</td>\n",
       "      <td>1.0</td>\n",
       "      <td>150.0</td>\n",
       "      <td>0.0</td>\n",
       "      <td>2.3</td>\n",
       "      <td>0.0</td>\n",
       "      <td>0</td>\n",
       "      <td>...</td>\n",
       "      <td>0</td>\n",
       "      <td>0</td>\n",
       "      <td>0</td>\n",
       "      <td>1</td>\n",
       "      <td>0</td>\n",
       "      <td>0</td>\n",
       "      <td>1</td>\n",
       "      <td>0</td>\n",
       "      <td>1</td>\n",
       "      <td>0</td>\n",
       "    </tr>\n",
       "    <tr>\n",
       "      <th>1</th>\n",
       "      <td>1.0</td>\n",
       "      <td>1.0</td>\n",
       "      <td>1.0</td>\n",
       "      <td>1.0</td>\n",
       "      <td>1.0</td>\n",
       "      <td>1.0</td>\n",
       "      <td>1.0</td>\n",
       "      <td>1.0</td>\n",
       "      <td>1</td>\n",
       "      <td>1</td>\n",
       "      <td>...</td>\n",
       "      <td>1</td>\n",
       "      <td>1</td>\n",
       "      <td>1</td>\n",
       "      <td>1</td>\n",
       "      <td>1</td>\n",
       "      <td>1</td>\n",
       "      <td>1</td>\n",
       "      <td>1</td>\n",
       "      <td>1</td>\n",
       "      <td>1</td>\n",
       "    </tr>\n",
       "    <tr>\n",
       "      <th>2</th>\n",
       "      <td>1.0</td>\n",
       "      <td>1.0</td>\n",
       "      <td>1.0</td>\n",
       "      <td>1.0</td>\n",
       "      <td>1.0</td>\n",
       "      <td>1.0</td>\n",
       "      <td>1.0</td>\n",
       "      <td>1.0</td>\n",
       "      <td>1</td>\n",
       "      <td>1</td>\n",
       "      <td>...</td>\n",
       "      <td>1</td>\n",
       "      <td>1</td>\n",
       "      <td>1</td>\n",
       "      <td>1</td>\n",
       "      <td>1</td>\n",
       "      <td>1</td>\n",
       "      <td>1</td>\n",
       "      <td>1</td>\n",
       "      <td>1</td>\n",
       "      <td>1</td>\n",
       "    </tr>\n",
       "    <tr>\n",
       "      <th>3</th>\n",
       "      <td>37.0</td>\n",
       "      <td>1.0</td>\n",
       "      <td>130.0</td>\n",
       "      <td>250.0</td>\n",
       "      <td>0.0</td>\n",
       "      <td>187.0</td>\n",
       "      <td>0.0</td>\n",
       "      <td>3.5</td>\n",
       "      <td>0.0</td>\n",
       "      <td>0</td>\n",
       "      <td>...</td>\n",
       "      <td>0</td>\n",
       "      <td>1</td>\n",
       "      <td>0</td>\n",
       "      <td>0</td>\n",
       "      <td>0</td>\n",
       "      <td>0</td>\n",
       "      <td>1</td>\n",
       "      <td>1</td>\n",
       "      <td>0</td>\n",
       "      <td>0</td>\n",
       "    </tr>\n",
       "    <tr>\n",
       "      <th>4</th>\n",
       "      <td>41.0</td>\n",
       "      <td>0.0</td>\n",
       "      <td>130.0</td>\n",
       "      <td>204.0</td>\n",
       "      <td>0.0</td>\n",
       "      <td>172.0</td>\n",
       "      <td>0.0</td>\n",
       "      <td>1.4</td>\n",
       "      <td>0.0</td>\n",
       "      <td>0</td>\n",
       "      <td>...</td>\n",
       "      <td>0</td>\n",
       "      <td>0</td>\n",
       "      <td>0</td>\n",
       "      <td>1</td>\n",
       "      <td>1</td>\n",
       "      <td>0</td>\n",
       "      <td>0</td>\n",
       "      <td>1</td>\n",
       "      <td>0</td>\n",
       "      <td>0</td>\n",
       "    </tr>\n",
       "    <tr>\n",
       "      <th>...</th>\n",
       "      <td>...</td>\n",
       "      <td>...</td>\n",
       "      <td>...</td>\n",
       "      <td>...</td>\n",
       "      <td>...</td>\n",
       "      <td>...</td>\n",
       "      <td>...</td>\n",
       "      <td>...</td>\n",
       "      <td>...</td>\n",
       "      <td>...</td>\n",
       "      <td>...</td>\n",
       "      <td>...</td>\n",
       "      <td>...</td>\n",
       "      <td>...</td>\n",
       "      <td>...</td>\n",
       "      <td>...</td>\n",
       "      <td>...</td>\n",
       "      <td>...</td>\n",
       "      <td>...</td>\n",
       "      <td>...</td>\n",
       "      <td>...</td>\n",
       "    </tr>\n",
       "    <tr>\n",
       "      <th>297</th>\n",
       "      <td>1.0</td>\n",
       "      <td>1.0</td>\n",
       "      <td>1.0</td>\n",
       "      <td>1.0</td>\n",
       "      <td>1.0</td>\n",
       "      <td>1.0</td>\n",
       "      <td>1.0</td>\n",
       "      <td>1.0</td>\n",
       "      <td>1</td>\n",
       "      <td>1</td>\n",
       "      <td>...</td>\n",
       "      <td>1</td>\n",
       "      <td>1</td>\n",
       "      <td>1</td>\n",
       "      <td>1</td>\n",
       "      <td>1</td>\n",
       "      <td>1</td>\n",
       "      <td>1</td>\n",
       "      <td>1</td>\n",
       "      <td>1</td>\n",
       "      <td>1</td>\n",
       "    </tr>\n",
       "    <tr>\n",
       "      <th>298</th>\n",
       "      <td>1.0</td>\n",
       "      <td>1.0</td>\n",
       "      <td>1.0</td>\n",
       "      <td>1.0</td>\n",
       "      <td>1.0</td>\n",
       "      <td>1.0</td>\n",
       "      <td>1.0</td>\n",
       "      <td>1.0</td>\n",
       "      <td>1</td>\n",
       "      <td>1</td>\n",
       "      <td>...</td>\n",
       "      <td>1</td>\n",
       "      <td>1</td>\n",
       "      <td>1</td>\n",
       "      <td>1</td>\n",
       "      <td>1</td>\n",
       "      <td>1</td>\n",
       "      <td>1</td>\n",
       "      <td>1</td>\n",
       "      <td>1</td>\n",
       "      <td>1</td>\n",
       "    </tr>\n",
       "    <tr>\n",
       "      <th>299</th>\n",
       "      <td>1.0</td>\n",
       "      <td>1.0</td>\n",
       "      <td>1.0</td>\n",
       "      <td>1.0</td>\n",
       "      <td>1.0</td>\n",
       "      <td>1.0</td>\n",
       "      <td>1.0</td>\n",
       "      <td>1.0</td>\n",
       "      <td>1</td>\n",
       "      <td>1</td>\n",
       "      <td>...</td>\n",
       "      <td>1</td>\n",
       "      <td>1</td>\n",
       "      <td>1</td>\n",
       "      <td>1</td>\n",
       "      <td>1</td>\n",
       "      <td>1</td>\n",
       "      <td>1</td>\n",
       "      <td>1</td>\n",
       "      <td>1</td>\n",
       "      <td>1</td>\n",
       "    </tr>\n",
       "    <tr>\n",
       "      <th>300</th>\n",
       "      <td>1.0</td>\n",
       "      <td>1.0</td>\n",
       "      <td>1.0</td>\n",
       "      <td>1.0</td>\n",
       "      <td>1.0</td>\n",
       "      <td>1.0</td>\n",
       "      <td>1.0</td>\n",
       "      <td>1.0</td>\n",
       "      <td>1</td>\n",
       "      <td>1</td>\n",
       "      <td>...</td>\n",
       "      <td>1</td>\n",
       "      <td>1</td>\n",
       "      <td>1</td>\n",
       "      <td>1</td>\n",
       "      <td>1</td>\n",
       "      <td>1</td>\n",
       "      <td>1</td>\n",
       "      <td>1</td>\n",
       "      <td>1</td>\n",
       "      <td>1</td>\n",
       "    </tr>\n",
       "    <tr>\n",
       "      <th>301</th>\n",
       "      <td>1.0</td>\n",
       "      <td>1.0</td>\n",
       "      <td>1.0</td>\n",
       "      <td>1.0</td>\n",
       "      <td>1.0</td>\n",
       "      <td>1.0</td>\n",
       "      <td>1.0</td>\n",
       "      <td>1.0</td>\n",
       "      <td>1</td>\n",
       "      <td>1</td>\n",
       "      <td>...</td>\n",
       "      <td>1</td>\n",
       "      <td>1</td>\n",
       "      <td>1</td>\n",
       "      <td>1</td>\n",
       "      <td>1</td>\n",
       "      <td>1</td>\n",
       "      <td>1</td>\n",
       "      <td>1</td>\n",
       "      <td>1</td>\n",
       "      <td>1</td>\n",
       "    </tr>\n",
       "  </tbody>\n",
       "</table>\n",
       "<p>297 rows × 23 columns</p>\n",
       "</div>"
      ],
      "text/plain": [
       "      age  sex  restbp   chol  fbs  thalach  exang  oldpeak   ca  hd  ...  \\\n",
       "0    63.0  1.0   145.0  233.0  1.0    150.0    0.0      2.3  0.0   0  ...   \n",
       "1     1.0  1.0     1.0    1.0  1.0      1.0    1.0      1.0    1   1  ...   \n",
       "2     1.0  1.0     1.0    1.0  1.0      1.0    1.0      1.0    1   1  ...   \n",
       "3    37.0  1.0   130.0  250.0  0.0    187.0    0.0      3.5  0.0   0  ...   \n",
       "4    41.0  0.0   130.0  204.0  0.0    172.0    0.0      1.4  0.0   0  ...   \n",
       "..    ...  ...     ...    ...  ...      ...    ...      ...  ...  ..  ...   \n",
       "297   1.0  1.0     1.0    1.0  1.0      1.0    1.0      1.0    1   1  ...   \n",
       "298   1.0  1.0     1.0    1.0  1.0      1.0    1.0      1.0    1   1  ...   \n",
       "299   1.0  1.0     1.0    1.0  1.0      1.0    1.0      1.0    1   1  ...   \n",
       "300   1.0  1.0     1.0    1.0  1.0      1.0    1.0      1.0    1   1  ...   \n",
       "301   1.0  1.0     1.0    1.0  1.0      1.0    1.0      1.0    1   1  ...   \n",
       "\n",
       "     cp_4.0  restecg_0.0  restecg_1.0  restecg_2.0  slope_1.0  slope_2.0  \\\n",
       "0         0            0            0            1          0          0   \n",
       "1         1            1            1            1          1          1   \n",
       "2         1            1            1            1          1          1   \n",
       "3         0            1            0            0          0          0   \n",
       "4         0            0            0            1          1          0   \n",
       "..      ...          ...          ...          ...        ...        ...   \n",
       "297       1            1            1            1          1          1   \n",
       "298       1            1            1            1          1          1   \n",
       "299       1            1            1            1          1          1   \n",
       "300       1            1            1            1          1          1   \n",
       "301       1            1            1            1          1          1   \n",
       "\n",
       "     slope_3.0  thal_3.0  thal_6.0  thal_7.0  \n",
       "0            1         0         1         0  \n",
       "1            1         1         1         1  \n",
       "2            1         1         1         1  \n",
       "3            1         1         0         0  \n",
       "4            0         1         0         0  \n",
       "..         ...       ...       ...       ...  \n",
       "297          1         1         1         1  \n",
       "298          1         1         1         1  \n",
       "299          1         1         1         1  \n",
       "300          1         1         1         1  \n",
       "301          1         1         1         1  \n",
       "\n",
       "[297 rows x 23 columns]"
      ]
     },
     "execution_count": 8,
     "metadata": {},
     "output_type": "execute_result"
    }
   ],
   "source": [
    "#TODO Modificar la columna objetivo para que tenga dos clases\n",
    "X[X[\"hd\"] > 0] = 1\n",
    "X "
   ]
  },
  {
   "cell_type": "markdown",
   "metadata": {
    "cell_id": "a09923b9286d47a9ae5b8538a9c1a1f5",
    "deepnote_cell_type": "markdown",
    "id": "JQYrOl9MB_jC"
   },
   "source": [
    "Para el algoritmo de Máquina de Soporte Vectorial es conveniente que los datos estén estandarizados. Puede hacer uso de StandardScaler de SKlearn.\n",
    "\n",
    "**Ojo:** En esta ocasión realizaremos estandarizaciones independientes para X_train y X_test, debido a que el conjunto de conviene que el conjunto de testeo no contenga ningún tipo de información sobre el train set."
   ]
  },
  {
   "cell_type": "code",
   "execution_count": 9,
   "metadata": {
    "cell_id": "531d1bffac7a4a04929c73865db189de",
    "deepnote_cell_type": "code",
    "deepnote_to_be_reexecuted": false,
    "execution_millis": 41,
    "execution_start": 1682561876955,
    "source_hash": "ba9c7de8"
   },
   "outputs": [],
   "source": [
    "#TODO Estandarizar de manera independiente el conjunto X_train\n",
    "# y el conjunto X_test\n",
    "\n",
    "def data_scaling(data: pd.DataFrame,\n",
    "                 scaler: sklearn.preprocessing._data,\n",
    "                 scaling_columns     = [], \n",
    "                 not_scaling_columns = []):\n",
    "    \n",
    "    \"\"\"\n",
    "    Scales the specified columns in the input DataFrame using the given scaler object.\n",
    "    \n",
    "    INPUT:\n",
    "        - data:                Pandas DataFrame to be scaled\n",
    "        - scaler:              Scaler object from sklearn.preprocessing\n",
    "        - scaling_columns:     List of column names to scale\n",
    "        - not_scaling_columns: List of column names to not scale\n",
    "        \n",
    "    OUTPUT: \n",
    "        - pd.DataFrame:        A scaled copy of the input data with the specified columns scaled\n",
    "    \"\"\"\n",
    "\n",
    "    # if the user provided all the columns he wishes to scale \n",
    "    if scaling_columns:\n",
    "        \n",
    "        data[scaling_columns] = scaler.fit_transform(data[scaling_columns].to_numpy())\n",
    "\n",
    "    # if user provided only the columns he doesn't want to scale\n",
    "    elif not_scaling_columns:\n",
    "        \n",
    "        used_cols = data.columns.difference(not_scaling_columns)\n",
    "        data.loc[:, used_cols] = scaler.fit_transform(data.loc[:, used_cols].to_numpy())\n",
    "\n",
    "    else:\n",
    "        data.iloc[:] = scaler.fit_transform(data.iloc[:].to_numpy())\n",
    "\n",
    "\n",
    "    return data"
   ]
  },
  {
   "cell_type": "code",
   "execution_count": 10,
   "metadata": {
    "cell_id": "db87656416c3434b9449dde89947e764",
    "deepnote_cell_type": "code",
    "deepnote_to_be_reexecuted": false,
    "execution_millis": 1,
    "execution_start": 1682561877005,
    "source_hash": "dde78e38"
   },
   "outputs": [],
   "source": [
    "y = X[\"hd\"]\n",
    "X2 = X.drop(\"hd\",axis=1)\n",
    "\n",
    "X_train, X_test, y_train, y_test = train_test_split(X2, y, test_size = 0.2, random_state = 0)"
   ]
  },
  {
   "cell_type": "code",
   "execution_count": 11,
   "metadata": {
    "cell_id": "2239fcdb6e5242bfb90893205f69703c",
    "deepnote_cell_type": "code",
    "deepnote_to_be_reexecuted": false,
    "execution_millis": 18,
    "execution_start": 1682561877005,
    "source_hash": "7840e8e1"
   },
   "outputs": [],
   "source": [
    "X_train_scaled = data_scaling(data   = X_train,\n",
    "                              scaler = StandardScaler(), \n",
    "                              scaling_columns = ['age', 'restbp', 'chol', 'fbs', 'thalach', 'exang', 'oldpeak'])\n",
    "\n",
    "X_test_scaled = data_scaling(data   = X_test,\n",
    "                             scaler = StandardScaler(), \n",
    "                             scaling_columns = ['age', 'restbp', 'chol', 'fbs', 'thalach', 'exang', 'oldpeak'])"
   ]
  },
  {
   "cell_type": "markdown",
   "metadata": {
    "cell_id": "e604d867c2dc48f9aa8fedf6cf1b87b7",
    "deepnote_cell_type": "markdown",
    "id": "eGNEbnFeCEM8"
   },
   "source": [
    "Entrenar un clasificador de Máquina de Soporte Vectorial de SKLearn. Ver [documentación](https://scikit-learn.org/stable/modules/svm.html) de ser necesario."
   ]
  },
  {
   "cell_type": "code",
   "execution_count": 12,
   "metadata": {
    "cell_id": "e0b557b8ad094a93a85005b310513208",
    "deepnote_cell_type": "code",
    "deepnote_to_be_reexecuted": false,
    "execution_millis": 2,
    "execution_start": 1682561877023,
    "id": "Lc4h9ZfACDDy",
    "source_hash": "bd9edf91"
   },
   "outputs": [
    {
     "data": {
      "text/html": [
       "<style>#sk-container-id-1 {color: black;background-color: white;}#sk-container-id-1 pre{padding: 0;}#sk-container-id-1 div.sk-toggleable {background-color: white;}#sk-container-id-1 label.sk-toggleable__label {cursor: pointer;display: block;width: 100%;margin-bottom: 0;padding: 0.3em;box-sizing: border-box;text-align: center;}#sk-container-id-1 label.sk-toggleable__label-arrow:before {content: \"▸\";float: left;margin-right: 0.25em;color: #696969;}#sk-container-id-1 label.sk-toggleable__label-arrow:hover:before {color: black;}#sk-container-id-1 div.sk-estimator:hover label.sk-toggleable__label-arrow:before {color: black;}#sk-container-id-1 div.sk-toggleable__content {max-height: 0;max-width: 0;overflow: hidden;text-align: left;background-color: #f0f8ff;}#sk-container-id-1 div.sk-toggleable__content pre {margin: 0.2em;color: black;border-radius: 0.25em;background-color: #f0f8ff;}#sk-container-id-1 input.sk-toggleable__control:checked~div.sk-toggleable__content {max-height: 200px;max-width: 100%;overflow: auto;}#sk-container-id-1 input.sk-toggleable__control:checked~label.sk-toggleable__label-arrow:before {content: \"▾\";}#sk-container-id-1 div.sk-estimator input.sk-toggleable__control:checked~label.sk-toggleable__label {background-color: #d4ebff;}#sk-container-id-1 div.sk-label input.sk-toggleable__control:checked~label.sk-toggleable__label {background-color: #d4ebff;}#sk-container-id-1 input.sk-hidden--visually {border: 0;clip: rect(1px 1px 1px 1px);clip: rect(1px, 1px, 1px, 1px);height: 1px;margin: -1px;overflow: hidden;padding: 0;position: absolute;width: 1px;}#sk-container-id-1 div.sk-estimator {font-family: monospace;background-color: #f0f8ff;border: 1px dotted black;border-radius: 0.25em;box-sizing: border-box;margin-bottom: 0.5em;}#sk-container-id-1 div.sk-estimator:hover {background-color: #d4ebff;}#sk-container-id-1 div.sk-parallel-item::after {content: \"\";width: 100%;border-bottom: 1px solid gray;flex-grow: 1;}#sk-container-id-1 div.sk-label:hover label.sk-toggleable__label {background-color: #d4ebff;}#sk-container-id-1 div.sk-serial::before {content: \"\";position: absolute;border-left: 1px solid gray;box-sizing: border-box;top: 0;bottom: 0;left: 50%;z-index: 0;}#sk-container-id-1 div.sk-serial {display: flex;flex-direction: column;align-items: center;background-color: white;padding-right: 0.2em;padding-left: 0.2em;position: relative;}#sk-container-id-1 div.sk-item {position: relative;z-index: 1;}#sk-container-id-1 div.sk-parallel {display: flex;align-items: stretch;justify-content: center;background-color: white;position: relative;}#sk-container-id-1 div.sk-item::before, #sk-container-id-1 div.sk-parallel-item::before {content: \"\";position: absolute;border-left: 1px solid gray;box-sizing: border-box;top: 0;bottom: 0;left: 50%;z-index: -1;}#sk-container-id-1 div.sk-parallel-item {display: flex;flex-direction: column;z-index: 1;position: relative;background-color: white;}#sk-container-id-1 div.sk-parallel-item:first-child::after {align-self: flex-end;width: 50%;}#sk-container-id-1 div.sk-parallel-item:last-child::after {align-self: flex-start;width: 50%;}#sk-container-id-1 div.sk-parallel-item:only-child::after {width: 0;}#sk-container-id-1 div.sk-dashed-wrapped {border: 1px dashed gray;margin: 0 0.4em 0.5em 0.4em;box-sizing: border-box;padding-bottom: 0.4em;background-color: white;}#sk-container-id-1 div.sk-label label {font-family: monospace;font-weight: bold;display: inline-block;line-height: 1.2em;}#sk-container-id-1 div.sk-label-container {text-align: center;}#sk-container-id-1 div.sk-container {/* jupyter's `normalize.less` sets `[hidden] { display: none; }` but bootstrap.min.css set `[hidden] { display: none !important; }` so we also need the `!important` here to be able to override the default hidden behavior on the sphinx rendered scikit-learn.org. See: https://github.com/scikit-learn/scikit-learn/issues/21755 */display: inline-block !important;position: relative;}#sk-container-id-1 div.sk-text-repr-fallback {display: none;}</style><div id=\"sk-container-id-1\" class=\"sk-top-container\"><div class=\"sk-text-repr-fallback\"><pre>SVC()</pre><b>In a Jupyter environment, please rerun this cell to show the HTML representation or trust the notebook. <br />On GitHub, the HTML representation is unable to render, please try loading this page with nbviewer.org.</b></div><div class=\"sk-container\" hidden><div class=\"sk-item\"><div class=\"sk-estimator sk-toggleable\"><input class=\"sk-toggleable__control sk-hidden--visually\" id=\"sk-estimator-id-1\" type=\"checkbox\" checked><label for=\"sk-estimator-id-1\" class=\"sk-toggleable__label sk-toggleable__label-arrow\">SVC</label><div class=\"sk-toggleable__content\"><pre>SVC()</pre></div></div></div></div></div>"
      ],
      "text/plain": [
       "SVC()"
      ]
     },
     "execution_count": 12,
     "metadata": {},
     "output_type": "execute_result"
    }
   ],
   "source": [
    "#TODO Entrenar SVM con nuestro conjunto de entrenamiento.\n",
    "clf_svm = svm.SVC()\n",
    "clf_svm.fit(X_train_scaled, y_train)"
   ]
  },
  {
   "cell_type": "markdown",
   "metadata": {
    "cell_id": "cc456144c8e84f0f829b31a7e1018f7a",
    "deepnote_cell_type": "markdown",
    "id": "R60HWrTsCaYY"
   },
   "source": [
    "La **matriz de confusión** es una pequeña matriz que nos indica la cantidad de datos bien clasificados en cada una de las categorías. Observar el gráfico que se porduce a continuación. La matriz en este caso contrasta, por ejemplo, la cantidad **predichas** por el modelo como pacientes con o sin enfermedad con las cantidades de pacientes **etiquetados** realmente con o sin enfermedad del corazón. (Más adelante discuturemos más sobre la matriz de confusión y otras métricas)."
   ]
  },
  {
   "cell_type": "code",
   "execution_count": 13,
   "metadata": {
    "cell_id": "481238c42f444e848380b92c5459dc08",
    "deepnote_cell_type": "code",
    "deepnote_to_be_reexecuted": false,
    "execution_millis": 161,
    "execution_start": 1682561877024,
    "id": "U0SNBZgpCcgJ",
    "source_hash": "72497017"
   },
   "outputs": [
    {
     "name": "stderr",
     "output_type": "stream",
     "text": [
      "/shared-libs/python3.9/py/lib/python3.9/site-packages/sklearn/utils/deprecation.py:87: FutureWarning: Function plot_confusion_matrix is deprecated; Function `plot_confusion_matrix` is deprecated in 1.0 and will be removed in 1.2. Use one of the class methods: ConfusionMatrixDisplay.from_predictions or ConfusionMatrixDisplay.from_estimator.\n",
      "  warnings.warn(msg, category=FutureWarning)\n"
     ]
    },
    {
     "data": {
      "text/plain": [
       "<sklearn.metrics._plot.confusion_matrix.ConfusionMatrixDisplay at 0x7fabb0e9fdc0>"
      ]
     },
     "execution_count": 13,
     "metadata": {},
     "output_type": "execute_result"
    },
    {
     "data": {
      "image/png": "[encoded data removed]",
      "text/plain": [
       "<Figure size 640x480 with 2 Axes>"
      ]
     },
     "metadata": {
      "image/png": {
       "height": 438,
       "width": 615
      }
     },
     "output_type": "display_data"
    }
   ],
   "source": [
    "plot_confusion_matrix(clf_svm, \n",
    "                      X_test_scaled, \n",
    "                      y_test, \n",
    "                      display_labels=[\"Does not have HD\", \"Has HD\"])"
   ]
  },
  {
   "cell_type": "markdown",
   "metadata": {
    "cell_id": "115d9401670348c7a65b77c902723d77",
    "deepnote_cell_type": "markdown",
    "id": "wk9lGfURLyk9"
   },
   "source": [
    "TO DO: De acuerdo a la matriz anterior, cuál fue el accuracy de éste modelo? ¿Qué porcentaje de pacientes **sin** enfermedad de corazón quedaron bién clasificados? ¿Qué porcentaje de pacientes **con** enfermedad del corazón quedaron bién clasificados? "
   ]
  },
  {
   "cell_type": "markdown",
   "metadata": {
    "cell_id": "2af1fc259bdf4bf39879b73a8455f182",
    "deepnote_cell_type": "markdown"
   },
   "source": [
    "Nuestro modelo dice con perfeccion quienes están enfermos y quienes no lo están, mostrando que todo quedo bien clasificado. \n",
    "\n",
    "La verdad lo anterior nos parece un poco curioso pues no esperabamos este resultado, igual luego de revisar varias veces el código no vemos que está mal."
   ]
  },
  {
   "cell_type": "markdown",
   "metadata": {
    "cell_id": "6c16a181f00e4e98b9e1f2de990d037a",
    "deepnote_cell_type": "markdown",
    "id": "NrWEzIacCr1D"
   },
   "source": [
    "Veamos si podemos mejorar estas métricas cambiando los hiperparámetros del modelo. Para esto utilizaremos GridSearch, para encontrar la mejor combinación de hiperparámetros 'C' y 'gamma'. Usaremos Kernel radial (RBF)."
   ]
  },
  {
   "cell_type": "code",
   "execution_count": 14,
   "metadata": {
    "cell_id": "7d5c1595ac734603afcfe69803ac8d25",
    "deepnote_cell_type": "code",
    "deepnote_to_be_reexecuted": false,
    "execution_millis": 742,
    "execution_start": 1682561877543,
    "id": "6o86FR0PCq8m",
    "source_hash": "93c93a75"
   },
   "outputs": [
    {
     "name": "stdout",
     "output_type": "stream",
     "text": [
      "{'C': 1, 'gamma': 0.045454545454545456, 'kernel': 'rbf'}\n"
     ]
    }
   ],
   "source": [
    "num_features = np.size(X_train_scaled, axis=1)\n",
    "param_grid = [\n",
    "  {'C': [1, 10, 100, 1000], \n",
    "   'gamma': [1/num_features, 1, 0.1, 0.01, 0.001, 0.0001], \n",
    "   'kernel': ['rbf']},\n",
    "]\n",
    "\n",
    "\n",
    "optimal_params = GridSearchCV(\n",
    "        SVC(), \n",
    "        param_grid,\n",
    "        cv=5,\n",
    "        scoring='roc_auc',\n",
    "        verbose=0 \n",
    "    )\n",
    "\n",
    "optimal_params.fit(X_train_scaled, y_train)\n",
    "print(optimal_params.best_params_)"
   ]
  },
  {
   "cell_type": "markdown",
   "metadata": {
    "cell_id": "db2a5bdb11b944eaa893724e536f7ddb",
    "deepnote_cell_type": "markdown",
    "id": "juLnm4GfN4aW"
   },
   "source": [
    "Observe qué parametros se obtunvieron como óptimos entre los rangos seleccionados. A continuación utilicemos dichos parámetros para ver si mejoran los porcentajes."
   ]
  },
  {
   "cell_type": "code",
   "execution_count": 15,
   "metadata": {
    "cell_id": "b8dcc9665e974252ab26dcd61b5e533c",
    "deepnote_cell_type": "code",
    "deepnote_to_be_reexecuted": false,
    "execution_millis": 39,
    "execution_start": 1682561878295,
    "id": "gRkC4PFYGRHi",
    "source_hash": "a405141b"
   },
   "outputs": [
    {
     "name": "stderr",
     "output_type": "stream",
     "text": [
      "/shared-libs/python3.9/py/lib/python3.9/site-packages/sklearn/utils/deprecation.py:87: FutureWarning: Function plot_confusion_matrix is deprecated; Function `plot_confusion_matrix` is deprecated in 1.0 and will be removed in 1.2. Use one of the class methods: ConfusionMatrixDisplay.from_predictions or ConfusionMatrixDisplay.from_estimator.\n",
      "  warnings.warn(msg, category=FutureWarning)\n"
     ]
    },
    {
     "data": {
      "text/plain": [
       "<sklearn.metrics._plot.confusion_matrix.ConfusionMatrixDisplay at 0x7fabaec141c0>"
      ]
     },
     "execution_count": 15,
     "metadata": {},
     "output_type": "execute_result"
    },
    {
     "data": {
      "image/png": "[encoded data removed]",
      "text/plain": [
       "<Figure size 640x480 with 2 Axes>"
      ]
     },
     "metadata": {
      "image/png": {
       "height": 438,
       "width": 615
      }
     },
     "output_type": "display_data"
    }
   ],
   "source": [
    "#TODO Entrenar un SVM con los parámetros óptimos. GRaficar la matriz de confusión y comparar\n",
    "clf_optimo = svm.SVC(C = 1, gamma = 0.045454545454545456, kernel='rbf')\n",
    "clf_optimo.fit(X_train_scaled, y_train)\n",
    "\n",
    "plot_confusion_matrix(clf_optimo, \n",
    "                      X_test_scaled, \n",
    "                      y_test, \n",
    "                      display_labels=[\"Does not have HD\", \"Has HD\"])"
   ]
  },
  {
   "cell_type": "markdown",
   "metadata": {
    "cell_id": "4c48d04d85354c6b983f0157251c5c95",
    "deepnote_cell_type": "markdown",
    "id": "pRw9qMYgHK2C"
   },
   "source": [
    "Queremos visualizar el resultado de entrenad un clasificador de Máquina de soporte vectorial. Sin embargo nuestros datos están en una dimensión que no podemos visualizar. Es por eso que haremos una reducción de la dimensionalidad de nuestros datos mediante un método llamado Principal Component Analysis (en el cual ahondaremos más adelante)."
   ]
  },
  {
   "cell_type": "code",
   "execution_count": 16,
   "metadata": {
    "cell_id": "63a2eb53faf34570b14309ca12d11814",
    "deepnote_cell_type": "code",
    "deepnote_to_be_reexecuted": false,
    "execution_millis": 5,
    "execution_start": 1682561878605,
    "id": "J5c74VraHJYT",
    "source_hash": "ed3d55ab"
   },
   "outputs": [],
   "source": [
    "pca = PCA() \n",
    "X_train_pca = pca.fit_transform(X_train_scaled)"
   ]
  },
  {
   "cell_type": "markdown",
   "metadata": {
    "cell_id": "af9cfbbfcc6844a4a87ed6e34fd24e98",
    "deepnote_cell_type": "markdown",
    "id": "WP2mzngzHMmq"
   },
   "source": [
    "A continuación entrenaremos nuevamente un clasificador de SVM para nuestros datos con dimensión reducida, demanera que podamos visualizar la clasificación. Primero encontramos los parámetros óptimos"
   ]
  },
  {
   "cell_type": "code",
   "execution_count": 17,
   "metadata": {
    "cell_id": "4de6a675ab014dd28241c75da180a4c2",
    "deepnote_cell_type": "code",
    "deepnote_to_be_reexecuted": false,
    "execution_millis": 320,
    "execution_start": 1682561878613,
    "id": "hY2wu5MIHRsc",
    "source_hash": "716c3949"
   },
   "outputs": [
    {
     "name": "stdout",
     "output_type": "stream",
     "text": [
      "{'C': 1, 'gamma': 0.5, 'kernel': 'rbf'}\n"
     ]
    }
   ],
   "source": [
    "train_pc1_coords = X_train_pca[:, 0] \n",
    "train_pc2_coords = X_train_pca[:, 1]\n",
    "\n",
    "\n",
    "## pc1 contiene las coordenadas del eje x, después de aplicar PCA.\n",
    "## pc2 contiene las coordenadas del eje y, después de aplicar PCA.\n",
    "\n",
    "## Ahora centramos y escalamos los datos.\n",
    "pca_train_scaled = preprocessing.scale(np.column_stack((train_pc1_coords, train_pc2_coords)))\n",
    "\n",
    "## Optimizamos los hiperparámetros con los datos luego de la reducción de dimensión\n",
    "\n",
    "num_features = np.size(pca_train_scaled, axis=1)\n",
    "param_grid = [\n",
    "  {'C': [1, 10, 100, 1000], \n",
    "   'gamma': [1/num_features, 1, 0.1, 0.01, 0.001, 0.0001], \n",
    "   'kernel': ['rbf']},\n",
    "]\n",
    "\n",
    "optimal_params = GridSearchCV(\n",
    "        SVC(), \n",
    "        param_grid,\n",
    "        cv=5,\n",
    "        scoring='roc_auc', \n",
    "        verbose=0 \n",
    "    )\n",
    "\n",
    "optimal_params.fit(pca_train_scaled, y_train)\n",
    "print(optimal_params.best_params_)"
   ]
  },
  {
   "cell_type": "markdown",
   "metadata": {
    "cell_id": "5b66f02cd2984fd08eab873e32074db1",
    "deepnote_cell_type": "markdown",
    "id": "43AbKz7sPi77"
   },
   "source": [
    "Finalmente entrenamos nuestro clasificador con los parámetros óptimos y visualizamos su trabajo."
   ]
  },
  {
   "cell_type": "code",
   "execution_count": 18,
   "metadata": {
    "cell_id": "d84c15370133443294d700950b51d99c",
    "deepnote_cell_type": "code",
    "deepnote_to_be_reexecuted": false,
    "execution_millis": 477,
    "execution_start": 1682561878939,
    "id": "_0fy4MPFHWgq",
    "source_hash": "63b28315"
   },
   "outputs": [
    {
     "data": {
      "image/png": "[encoded data removed]",
      "text/plain": [
       "<Figure size 1000x1000 with 1 Axes>"
      ]
     },
     "metadata": {
      "image/png": {
       "height": 855,
       "width": 844
      }
     },
     "output_type": "display_data"
    }
   ],
   "source": [
    "clf_svm = SVC(random_state=42, C=1, gamma=0.5) #Completar\n",
    "clf_svm.fit(pca_train_scaled, y_train)\n",
    "\n",
    "X_test_pca = pca.transform(X_test_scaled)\n",
    "test_pc1_coords = X_test_pca[:, 0] \n",
    "test_pc2_coords = X_test_pca[:, 1]\n",
    "\n",
    "x_min = test_pc1_coords.min() - 1\n",
    "x_max = test_pc1_coords.max() + 1\n",
    "\n",
    "y_min = test_pc2_coords.min() - 1\n",
    "y_max = test_pc2_coords.max() + 1\n",
    "\n",
    "xx, yy = np.meshgrid(np.arange(start=x_min, stop=x_max, step=0.1),\n",
    "                     np.arange(start=y_min, stop=y_max, step=0.1))\n",
    "\n",
    "\n",
    "Z = clf_svm.predict(np.column_stack((xx.ravel(), yy.ravel())))\n",
    "\n",
    "Z = Z.reshape(xx.shape)\n",
    "\n",
    "fig, ax = plt.subplots(figsize=(10,10))\n",
    "\n",
    "ax.contourf(xx, yy, Z, alpha=0.1)\n",
    "\n",
    "\n",
    "cmap = colors.ListedColormap(['#e41a1c', '#4daf4a'])\n",
    "\n",
    "\n",
    "scatter = ax.scatter(test_pc1_coords,\n",
    "                     test_pc2_coords,\n",
    "                     c=y_test, \n",
    "                     cmap=cmap, \n",
    "                     s=100, \n",
    "                     edgecolors='k',\n",
    "                     alpha=0.7)\n",
    "\n",
    "legend = ax.legend(scatter.legend_elements()[0], \n",
    "                   scatter.legend_elements()[1],\n",
    "                    loc=\"upper right\")\n",
    "legend.get_texts()[0].set_text(\"No HD\")\n",
    "legend.get_texts()[1].set_text(\"Yes HD\")\n",
    "\n",
    "\n",
    "ax.set_ylabel('PC2')\n",
    "ax.set_xlabel('PC1')\n",
    "ax.set_title('Decison surface using the PCA transformed/projected features')\n",
    "\n",
    "plt.show()"
   ]
  },
  {
   "cell_type": "code",
   "execution_count": 19,
   "metadata": {
    "cell_id": "60bb4c1cdd0f4db9a1d5056ee4e7bcb0",
    "deepnote_cell_type": "code",
    "deepnote_to_be_reexecuted": false,
    "execution_millis": 464,
    "execution_start": 1682561879315,
    "id": "OcGaDCJqMTbZ",
    "source_hash": "c6835c8b"
   },
   "outputs": [
    {
     "data": {
      "image/png": "[encoded data removed]",
      "text/plain": [
       "<Figure size 640x480 with 2 Axes>"
      ]
     },
     "metadata": {
      "image/png": {
       "height": 438,
       "width": 521
      }
     },
     "output_type": "display_data"
    }
   ],
   "source": [
    "#prueba confusion matrix\n",
    "import matplotlib.pyplot as plt\n",
    "from sklearn.datasets import make_classification\n",
    "from sklearn.metrics import confusion_matrix, ConfusionMatrixDisplay\n",
    "from sklearn.model_selection import train_test_split\n",
    "from sklearn.svm import SVC\n",
    "\n",
    "y_true = [\"cat\", \"ant\", \"cat\", \"cat\", \"ant\", \"bird\"]\n",
    "y_pred = [\"cat\", \"bird\", \"cat\", \"cat\", \"ant\", \"cat\"]\n",
    "#cm=confusion_matrix(y_true, y_pred)\n",
    "cm=confusion_matrix(y_true, y_pred,labels=[\"bird\", \"ant\", \"cat\"])\n",
    "\n",
    "disp = ConfusionMatrixDisplay(confusion_matrix=cm,display_labels=[\"bird\", \"ant\", \"cat\"])\n",
    "disp.plot()\n",
    "\n",
    "plt.show()"
   ]
  },
  {
   "cell_type": "markdown",
   "metadata": {
    "created_in_deepnote_cell": true,
    "deepnote_cell_type": "markdown"
   },
   "source": [
    "<a style='text-decoration:none;line-height:16px;display:flex;color:#5B5B62;padding:10px;justify-content:end;' href='https://deepnote.com?utm_source=created-in-deepnote-cell&projectId=3f0dc08e-eec5-4335-9aaa-8ebc144bb6c5' target=\"_blank\">\n",
    "<img alt='Created in deepnote.com' style='display:inline;max-height:16px;margin:0px;margin-right:7.5px;' src='data:image/svg+xml;base64,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' > </img>\n",
    "Created in <span style='font-weight:600;margin-left:4px;'>Deepnote</span></a>"
   ]
  }
 ],
 "metadata": {
  "colab": {
   "provenance": []
  },
  "deepnote": {},
  "deepnote_execution_queue": [],
  "deepnote_notebook_id": "64809a36c5c34439a7bcfd13cd9492ad",
  "deepnote_persisted_session": {
   "createdAt": "2023-04-27T02:45:15.759Z"
  },
  "kernelspec": {
   "display_name": "Python 3 (ipykernel)",
   "language": "python",
   "name": "python3"
  },
  "language_info": {
   "codemirror_mode": {
    "name": "ipython",
    "version": 3
   },
   "file_extension": ".py",
   "mimetype": "text/x-python",
   "name": "python",
   "nbconvert_exporter": "python",
   "pygments_lexer": "ipython3",
   "version": "3.9.7"
  }
 },
 "nbformat": 4,
 "nbformat_minor": 1
}
