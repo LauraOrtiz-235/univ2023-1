{
  "nbformat": 4,
  "nbformat_minor": 0,
  "metadata": {
    "colab": {
      "provenance": []
    },
    "kernelspec": {
      "name": "python3",
      "display_name": "Python 3"
    },
    "language_info": {
      "name": "python"
    }
  },
  "cells": [
    {
      "cell_type": "markdown",
      "source": [
        "# Ejercicio de introducción a Pytorch\n",
        "Haremos un recorrido por los aspectos fundamentales de pytroch desde el manejo de tensores hasta el entrenamiento y evaluación de una red neuronal. \n",
        "Para completarlo podemos consultar\n",
        " [ESTE](https://colab.research.google.com/github/phlippe/uvadlc_notebooks/blob/master/docs/tutorial_notebooks/tutorial2/Introduction_to_PyTorch.ipynb#scrollTo=u-L7YQmcHvX8) cuaderno.y otros recursos dados a lo largo del cuaderno.\n"
      ],
      "metadata": {
        "id": "vNsa-hmja1h-"
      }
    },
    {
      "cell_type": "markdown",
      "source": [
        "Primero importamos algunas librerías básicas"
      ],
      "metadata": {
        "id": "POmirEwBbj1P"
      }
    },
    {
      "cell_type": "code",
      "execution_count": null,
      "metadata": {
        "id": "YlhqXdgsF7fC"
      },
      "outputs": [],
      "source": [
        "## Standard libraries\n",
        "import os\n",
        "import math\n",
        "import numpy as np \n",
        "import time\n",
        "\n",
        "## Imports for plotting\n",
        "import matplotlib.pyplot as plt\n",
        "%matplotlib inline \n",
        "from IPython.display import set_matplotlib_formats\n",
        "set_matplotlib_formats('svg', 'pdf') # For export\n",
        "from matplotlib.colors import to_rgba\n",
        "import seaborn as sns\n",
        "sns.set()\n",
        "\n",
        "## Progress bar\n",
        "from tqdm.notebook import tqdm\n"
      ]
    },
    {
      "cell_type": "code",
      "source": [
        "#Pytorch libraries\n",
        "import torch\n",
        "import torch.nn as nn\n",
        "import torch.nn.functional as F\n",
        "\n",
        "import torchvision\n",
        "import torch.utils.data\n",
        "import torchvision.transforms as transform"
      ],
      "metadata": {
        "id": "UtUr7QYZHon3"
      },
      "execution_count": null,
      "outputs": []
    },
    {
      "cell_type": "markdown",
      "source": [
        "Primero recordemos algunas funconalidades de los tensores."
      ],
      "metadata": {
        "id": "IdbqZ1kazh4b"
      }
    },
    {
      "cell_type": "code",
      "source": [
        "t = torch.rand(100,110, 3)\n",
        "t"
      ],
      "metadata": {
        "colab": {
          "base_uri": "https://localhost:8080/"
        },
        "id": "g9W98Co-sapv",
        "outputId": "e2198074-36fb-4645-90d8-becfb1b89f8c"
      },
      "execution_count": null,
      "outputs": [
        {
          "output_type": "execute_result",
          "data": {
            "text/plain": [
              "tensor([[[0.7754, 0.4108, 0.2801],\n",
              "         [0.6638, 0.7650, 0.1626],\n",
              "         [0.8205, 0.5782, 0.2796],\n",
              "         ...,\n",
              "         [0.3817, 0.9250, 0.4702],\n",
              "         [0.9685, 0.6813, 0.3265],\n",
              "         [0.9791, 0.0249, 0.8259]],\n",
              "\n",
              "        [[0.0441, 0.8067, 0.9758],\n",
              "         [0.7250, 0.5733, 0.2441],\n",
              "         [0.0899, 0.9234, 0.8030],\n",
              "         ...,\n",
              "         [0.7261, 0.2068, 0.9898],\n",
              "         [0.6721, 0.9241, 0.7888],\n",
              "         [0.2681, 0.6118, 0.6390]],\n",
              "\n",
              "        [[0.0231, 0.9740, 0.6599],\n",
              "         [0.4534, 0.2646, 0.8659],\n",
              "         [0.7886, 0.6700, 0.4394],\n",
              "         ...,\n",
              "         [0.2131, 0.3804, 0.5029],\n",
              "         [0.1915, 0.0651, 0.5762],\n",
              "         [0.3850, 0.9171, 0.5077]],\n",
              "\n",
              "        ...,\n",
              "\n",
              "        [[0.2380, 0.8011, 0.8730],\n",
              "         [0.1506, 0.9590, 0.3390],\n",
              "         [0.8569, 0.6297, 0.3851],\n",
              "         ...,\n",
              "         [0.4366, 0.9744, 0.9372],\n",
              "         [0.5358, 0.6469, 0.2084],\n",
              "         [0.2901, 0.0440, 0.3513]],\n",
              "\n",
              "        [[0.3574, 0.1125, 0.6978],\n",
              "         [0.8938, 0.3168, 0.4762],\n",
              "         [0.8152, 0.4293, 0.3763],\n",
              "         ...,\n",
              "         [0.0695, 0.2746, 0.5299],\n",
              "         [0.6090, 0.5017, 0.5428],\n",
              "         [0.9404, 0.0025, 0.1889]],\n",
              "\n",
              "        [[0.9040, 0.3227, 0.0203],\n",
              "         [0.1177, 0.3183, 0.0056],\n",
              "         [0.5989, 0.9375, 0.9150],\n",
              "         ...,\n",
              "         [0.7651, 0.9916, 0.5002],\n",
              "         [0.2760, 0.7512, 0.0692],\n",
              "         [0.1255, 0.4130, 0.0322]]])"
            ]
          },
          "metadata": {},
          "execution_count": 4
        }
      ]
    },
    {
      "cell_type": "code",
      "source": [
        "torch.permute(t, (0,3,2,1))"
      ],
      "metadata": {
        "colab": {
          "base_uri": "https://localhost:8080/"
        },
        "id": "8LGQ0J7fsh0G",
        "outputId": "8d68890e-5140-4349-ee86-21373bd7fdae"
      },
      "execution_count": null,
      "outputs": [
        {
          "output_type": "execute_result",
          "data": {
            "text/plain": [
              "torch.Size([1, 3, 110, 100])"
            ]
          },
          "metadata": {},
          "execution_count": 7
        }
      ]
    },
    {
      "cell_type": "code",
      "source": [
        "# Crear un tensor aleatorio con entradas entre 0 y 1, de tamaño 3x3\n",
        "primer_tensor = torch.rand(3, 3)\n",
        "\n",
        "# Crear un tensor de tamaño 3x3 con valores en una distribución normal estandar\n",
        "segundo_tensor = _______\n",
        "# Calcular el tamaño de los tensores\n",
        "tensor_size = primer_tensor.___\n",
        "\n",
        "# Imprimir los valores de los vectores y su tamaño\n"
      ],
      "metadata": {
        "colab": {
          "base_uri": "https://localhost:8080/"
        },
        "id": "RYtN-PDlzhSP",
        "outputId": "6eb305f4-876e-42ba-a931-e37570846b7a"
      },
      "execution_count": null,
      "outputs": [
        {
          "output_type": "stream",
          "name": "stdout",
          "text": [
            "tensor([[0.5945, 0.7875, 0.4388],\n",
            "        [0.7779, 0.3967, 0.8033],\n",
            "        [0.2927, 0.1533, 0.8901]])\n",
            "torch.Size([3, 3])\n"
          ]
        }
      ]
    },
    {
      "cell_type": "code",
      "source": [
        "# Crear una matriz de unos de tamaño 3 by 3\n",
        "tensor_of_ones = torch.____(3, 3)\n",
        "\n",
        "# Crear una matrix identidad de tamaño 3 by 3\n",
        "identity_tensor = torch.____(3)\n",
        "\n",
        "# Multiplicar las dos matrices anteriores\n",
        "matrices_multiplied = torch.____\n",
        "print(matrices_multiplied)\n",
        "\n",
        "# ¿Qué ocurre si las multiplica usando * ?"
      ],
      "metadata": {
        "id": "-FGFp5HhNhkY"
      },
      "execution_count": null,
      "outputs": []
    },
    {
      "cell_type": "markdown",
      "source": [
        "### Cálculo de gradientes\n",
        "Calculemos un gradiente utilizando Pytorch. La función está en la gráfica Graph0.\n",
        "\n",
        "Para esto, puede ir a la sección Dynamic Computation Graph and Backpropagation, del cuaderno inicial."
      ],
      "metadata": {
        "id": "RNwlCf3PTdFX"
      }
    },
    {
      "cell_type": "code",
      "source": [
        "# Initialize x, y and z to values 4, -3 and 5\n",
        "x = torch.tensor(4., ____)\n",
        "y = torch.tensor(____., ____)\n",
        "z = ____\n",
        "\n",
        "# Set q to sum of x and y, set f to product of q with z\n",
        "q = ____\n",
        "f = ____\n",
        "\n",
        "# Compute the derivatives\n",
        "f.____\n",
        "\n",
        "# Print the gradients\n",
        "print(\"Gradient of x is: \" + str(____))\n",
        "print(\"Gradient of y is: \" + str(____))\n",
        "print(\"Gradient of z is: \" + str(____))"
      ],
      "metadata": {
        "colab": {
          "base_uri": "https://localhost:8080/"
        },
        "id": "exfqwUo0Oyb-",
        "outputId": "63d2103c-ac97-4f33-b2df-17e26ce4eef7"
      },
      "execution_count": null,
      "outputs": [
        {
          "output_type": "stream",
          "name": "stdout",
          "text": [
            "Gradient of x is: tensor(5.)\n",
            "Gradient of y is: tensor(5.)\n",
            "Gradient of z is: tensor(1.)\n"
          ]
        }
      ]
    },
    {
      "cell_type": "markdown",
      "source": [
        "Ahora calculemos los gradientes para la función descrita en la imagen Graph1"
      ],
      "metadata": {
        "id": "-ssM9jMBbS1c"
      }
    },
    {
      "cell_type": "code",
      "source": [
        "# Initializar x,y,z como tensores aleatorios de tamaño (1000,100)\n",
        "# Multiplicar los tensores x con y\n",
        "q = ____\n",
        "\n",
        "# Multiplicar componente a componente los tensores z con q\n",
        "f = ____\n",
        "\n",
        "mean_f = torch.mean(f)\n",
        "\n",
        "# Calcular los gradientes\n",
        "____"
      ],
      "metadata": {
        "id": "xuyomr_DZsOK"
      },
      "execution_count": null,
      "outputs": []
    },
    {
      "cell_type": "markdown",
      "source": [
        "### Construcción de redes neuronales con Pytorch"
      ],
      "metadata": {
        "id": "8h8oiEp3eWTU"
      }
    },
    {
      "cell_type": "markdown",
      "source": [
        "Construimos una red neuronal en Pytorch de forma *manual*. la entrada serán imágenes de tamaño (28,28). Es decir contienen pixeles de 784 pixeles. \n",
        "La red contendrá una capa de entrada, una capa oculta con 200 unidades y una capa de salida con 10 categorías."
      ],
      "metadata": {
        "id": "DEH8zLXhazmN"
      }
    },
    {
      "cell_type": "code",
      "source": [
        "input_layer=torch.rand(784)\n",
        "# Inicializar los pesos de la red neuronal\n",
        "weight_1 = torch.rand(__,__)\n",
        "weight_2 = torch.rand(__,__)\n",
        "\n",
        "# Multiplicar la capa de entrada con el peso 1\n",
        "hidden_1 = torch.matmul(__,__)\n",
        "\n",
        "# Multiplicar la capa oculta con el peso 2\n",
        "output_layer = ___\n",
        "print(output_layer)"
      ],
      "metadata": {
        "colab": {
          "base_uri": "https://localhost:8080/"
        },
        "id": "uXjt0ggwGWbb",
        "outputId": "0acd0bcf-8784-4dba-bddc-b1107d400790"
      },
      "execution_count": null,
      "outputs": [
        {
          "output_type": "stream",
          "name": "stdout",
          "text": [
            "tensor([10103.1855,  8990.5244, 10255.5020, 11015.8242, 10729.8633,  9323.4658,\n",
            "         9258.4092, 10563.3281, 10526.0752,  9638.4189])\n"
          ]
        }
      ]
    },
    {
      "cell_type": "markdown",
      "source": [
        "Ahora construimos la misma rede neuronal pero utilizando los módulos de Pytorch. (Ver sección *The model* del cuaderno)"
      ],
      "metadata": {
        "id": "54kg7I1udw5p"
      }
    },
    {
      "cell_type": "code",
      "source": [
        "class Net(nn.Module):\n",
        "    def __init__(self):\n",
        "        super(Net, self).__init__()\n",
        "        \n",
        "        # Inicializar las dos capas lineales \n",
        "        self.fc1 = nn.Linear(__,__)\n",
        "        self.fc2 = ___\n",
        "\n",
        "    def forward(self, x):\n",
        "      \n",
        "        # Usar las capas inicializadas y devolver x\n",
        "        x = self.fc1(x)\n",
        "        x = self.___\n",
        "        return x"
      ],
      "metadata": {
        "id": "7bb9bFrzHBhT"
      },
      "execution_count": null,
      "outputs": []
    },
    {
      "cell_type": "markdown",
      "source": [
        "Construyamos la red neuronal en la gráfica NN1 dada ede forma *manual*\n",
        "\n"
      ],
      "metadata": {
        "id": "mM-RqOEQfjb4"
      }
    },
    {
      "cell_type": "code",
      "source": [
        "# Crear tensor aleatorio como capa de entrada\n",
        "input_layer= ___\n",
        "\n",
        "# Crear matrices de pesos\n",
        "weight_1= ___\n",
        "weight_2= ___\n",
        "weight_3= ___\n",
        "\n",
        "# Calcular la primera y segunda capa oculta\n",
        "\n",
        "hidden_1 = ___\n",
        "hidden_2 = ___\n",
        "\n",
        "# Imprimir la salida\n",
        "print(torch.matmul(__,__))\n"
      ],
      "metadata": {
        "id": "y4CXMDaaHjym"
      },
      "execution_count": null,
      "outputs": []
    },
    {
      "cell_type": "markdown",
      "source": [
        "La anterior era una red neuronal con 2 capas ocultas ocultas en donde no se aplica ninguna función no-lineal. Veamos que ésta se puede construir con una sola capa oculta."
      ],
      "metadata": {
        "id": "iSbwtRcygzpw"
      }
    },
    {
      "cell_type": "code",
      "source": [
        "# Calcular la compuesta de las matrices de pesos\n",
        "weight_composed_1 = torch.matmul(__,__)\n",
        "weight = torch.matmul(__,__)\n",
        "\n",
        "# Multiplicar la capa de entrada por weight e imprimir\n",
        "print(__)"
      ],
      "metadata": {
        "id": "HUVgFxvSgvHc"
      },
      "execution_count": null,
      "outputs": []
    },
    {
      "cell_type": "markdown",
      "source": [
        "## Entrenamiendo de una red neuronal para reconocimiento de dígitos (MNIST Dataset)\n",
        "### Preparar los datos"
      ],
      "metadata": {
        "id": "hLcs6NtUlo-f"
      }
    },
    {
      "cell_type": "markdown",
      "source": [
        "Para preparar los datos primero creamos un parámetro *transform* para transformarlos. Haremos dos cosas:\n",
        "- Transformar las imágenes del MNIST Dataset a tensores para poder alimentar la red neuronal. Esto lo hacemos con el método ToTensor.\n",
        "- Por otro lado, debemos normalizarlos con respecto a una media y variaza. Esto lo hacemos con el método Normalize. En este caso usaremos una media de 0.1307 y varianza de 0.3081. (Tenga en cuenta que en el MNIST Dataset los pixeles son en escala de grises, por lo cual sólo tienen un canal de código de color.)\n",
        "\n",
        "Para componer ambas transformaciones (Convertir a tensor y normalizar) usamos transforms.Compose ver [AQUÍ](https://www.programcreek.com/python/example/104832/torchvision.transforms.Compose)\n"
      ],
      "metadata": {
        "id": "jZkIa4FSl9h-"
      }
    },
    {
      "cell_type": "code",
      "source": [
        "# Transformar los datos a tensores y normalizarlos \n",
        "transform = transforms.Compose([transforms.___,\n",
        "\t\t\t\t\t\t\t\ttransforms.Normalize((___), ((___)))])"
      ],
      "metadata": {
        "id": "lg4S9bKLS2vp"
      },
      "execution_count": null,
      "outputs": []
    },
    {
      "cell_type": "markdown",
      "source": [
        "Ahora definimos el conjunto de entrenamiento y testeo. Torchvision permite cargar datasets conocidos para visión como el MNIST. \n",
        "Para entender y completar los parámetros ver [AQUÍ](https://pytorch.org/vision/main/generated/torchvision.datasets.MNIST.html)."
      ],
      "metadata": {
        "id": "4of_hxAcrdpi"
      }
    },
    {
      "cell_type": "code",
      "source": [
        "# Preparar el training set y testing set\n",
        "trainset = torchvision.datasets.MNIST('mnist', train=___, \n",
        "\t\t\t\t\t\t\t\t\t  download=___, transform=___)\n",
        "testset = ____('mnist',___,___,___)\n"
      ],
      "metadata": {
        "id": "61nyqG7wrSec"
      },
      "execution_count": null,
      "outputs": []
    },
    {
      "cell_type": "markdown",
      "source": [
        "El método DataLoader hace parte de torch.utils.data y permite cargar los datos por lotes de un tamaño definido. Para entender los parámetros ver [AQUÍ](https://pytorch.org/docs/stable/data.html#torch.utils.data.DataLoader).\n",
        "Preparar los datos para entrenamiento y testeo de manera que se procesen 32 imágenes cada vez y se barajen cada vez."
      ],
      "metadata": {
        "id": "JOxpKc2StPB6"
      }
    },
    {
      "cell_type": "code",
      "source": [
        "# Preparar training loader y testing loader. \n",
        "# Usar los parámetros dataset, batch_size, shuffle y num_workers.\n",
        "trainloader = torch.utils.data.DataLoader(___, ___, ___, num_workers=0)\n",
        "testloader = torch.utils.data.DataLoader(___, ___, ___, num_workers=0)"
      ],
      "metadata": {
        "id": "DCJcCLjytI5_"
      },
      "execution_count": null,
      "outputs": []
    },
    {
      "cell_type": "markdown",
      "source": [
        "Construya una clase para una red neuronal que será usada para entrenar el MNIST dataset. El dataset contiene imagenes de dimensiones (28,28,2), así que usted deducirá el tamaño de la capa de entrada. Para las calas ocultas use 200 unidades y para la capa de salida 10 unidades (una por cada categoría (Dígitos del 0 al 9)).\n",
        "Como función de activación use Relu de manera funcional (nn.Functional ya está importado como F).\n"
      ],
      "metadata": {
        "id": "z2ZNcnMLvjQr"
      }
    },
    {
      "cell_type": "code",
      "source": [
        "# Define the class Net\n",
        "class Net(nn.Module):\n",
        "    def __init__(self):    \n",
        "    \t# Define all the parameters of the net\n",
        "        super(Net, self).__init__()\n",
        "        self.fc1 = nn.Linear(___, ___)\n",
        "        self.fc2 = ___\n",
        "\n",
        "    def forward(self, x):   \n",
        "    \t# Do the forward pass\n",
        "        x = F.relu(self.__(__))\n",
        "        x = self.__(__)\n",
        "        return x"
      ],
      "metadata": {
        "id": "-v_2od5dVx33"
      },
      "execution_count": null,
      "outputs": []
    },
    {
      "cell_type": "markdown",
      "source": [
        "###Entrenamiento del modelo\n",
        "\n",
        "Por favor analice cuidadosamente el siguiente código, hasta que quede claro los pasos de entrenamiento y evaluación del modelo."
      ],
      "metadata": {
        "id": "hW1FzRFVvGFU"
      }
    },
    {
      "cell_type": "markdown",
      "source": [
        "En primer lugar, revisemos si estamos trabajando en GPU. De lo contrario debemos cambiar el tipo de entorno de ejecución en el menú de Colab."
      ],
      "metadata": {
        "id": "P4Hd2AAqwSRX"
      }
    },
    {
      "cell_type": "code",
      "source": [
        "gpu_avail = torch.cuda.is_available()\n",
        "print(f\"Is the GPU available? {gpu_avail}\")"
      ],
      "metadata": {
        "id": "3lSdEYQTvFFX"
      },
      "execution_count": null,
      "outputs": []
    },
    {
      "cell_type": "markdown",
      "source": [
        "Le daremos nombre a nuestro dispositivo GPU, al cual debemos transferir nuesto modelo y los datos a utilizar."
      ],
      "metadata": {
        "id": "uhlAJDQNcJRD"
      }
    },
    {
      "cell_type": "code",
      "source": [
        "device = torch.device(\"cuda\") if torch.cuda.is_available() else torch.device(\"cpu\")\n",
        "print(\"Device\", device)"
      ],
      "metadata": {
        "id": "TIy4UMIGX72j"
      },
      "execution_count": null,
      "outputs": []
    },
    {
      "cell_type": "markdown",
      "source": [
        "Definimos nuestro modelo"
      ],
      "metadata": {
        "id": "PrDZ6975w0SZ"
      }
    },
    {
      "cell_type": "code",
      "source": [
        "model=Net()\n",
        "print(model)"
      ],
      "metadata": {
        "id": "7yVvkS2lv2eU"
      },
      "execution_count": null,
      "outputs": []
    },
    {
      "cell_type": "markdown",
      "source": [
        "Empujamos nuestro modelo al dispositivo GPU"
      ],
      "metadata": {
        "id": "T42H97fqw7O0"
      }
    },
    {
      "cell_type": "code",
      "source": [
        "# Push model to device. Has to be only done once\n",
        "model.to(device)"
      ],
      "metadata": {
        "id": "jOvAocBcv6DD"
      },
      "execution_count": null,
      "outputs": []
    },
    {
      "cell_type": "markdown",
      "source": [
        "Definimos el ptimizador y la función de costo"
      ],
      "metadata": {
        "id": "M0kY1SvaxFep"
      }
    },
    {
      "cell_type": "code",
      "source": [
        "optimizer = torch.optim.SGD(model.parameters(), lr=0.001) # descenso de gradiente\n",
        "loss_module = nn.CrossEntropyLoss()  #función de costo"
      ],
      "metadata": {
        "id": "1GVA5xRAv98M"
      },
      "execution_count": null,
      "outputs": []
    },
    {
      "cell_type": "markdown",
      "source": [
        "Entrenamos el modelo, siguiendo los 5 pasos vistos en clase"
      ],
      "metadata": {
        "id": "WGIHuKHYxJIh"
      }
    },
    {
      "cell_type": "code",
      "source": [
        "def train_model(model, optimizer, testloader, loss_module, num_epochs=1):\n",
        "    # Set model to train mode\n",
        "    model.train() \n",
        "    \n",
        "    # Training loop\n",
        "    for epoch in tqdm(range(num_epochs)):\n",
        "        for data_inputs, data_labels in testloader:\n",
        "            data_inputs = data_inputs.view(-1, 28 * 28)\n",
        "            ## Step 1: Move input data to device (only strictly necessary if we use GPU)\n",
        "            data_inputs = data_inputs.to(device)\n",
        "            data_labels = data_labels.to(device)\n",
        "\n",
        "           \n",
        "            \n",
        "            ## Step 2: Run the model on the input data\n",
        "            preds = model(data_inputs)\n",
        "            preds = preds.squeeze(dim=1) # Output is [Batch size, 1], but we want [Batch size]\n",
        "            \n",
        "            ## Step 3: Calculate the loss\n",
        "            loss = loss_module(preds, data_labels)\n",
        "            \n",
        "            ## Step 4: Perform backpropagation\n",
        "            # Before calculating the gradients, we need to ensure that they are all zero. \n",
        "            # The gradients would not be overwritten, but actually added to the existing ones.\n",
        "            optimizer.zero_grad() \n",
        "            # Perform backpropagation\n",
        "            loss.backward()\n",
        "            \n",
        "            ## Step 5: Update the parameters\n",
        "            optimizer.step()"
      ],
      "metadata": {
        "id": "Z7e83caQwBdJ"
      },
      "execution_count": null,
      "outputs": []
    },
    {
      "cell_type": "code",
      "source": [
        "train_model(model, optimizer, trainloader, loss_module)"
      ],
      "metadata": {
        "id": "OxY1U-kkwFIW"
      },
      "execution_count": null,
      "outputs": []
    },
    {
      "cell_type": "markdown",
      "source": [
        "A continuación evaluaremos el desempeño del modelo"
      ],
      "metadata": {
        "id": "86WV34CqcfkM"
      }
    },
    {
      "cell_type": "code",
      "source": [
        "model.eval()\n",
        "total, correct =0,0\n",
        "for i, data in enumerate(testloader, 0):\n",
        "    inputs, labels = data[0].to(device), data[1].to(device)\n",
        "    \n",
        "    # Put each image into a vector\n",
        "    inputs = inputs.view(-1, 784)\n",
        "    \n",
        "    # Do the forward pass and get the predictions\n",
        "    outputs = model(inputs)\n",
        "    \n",
        "    _, outputs = torch.max(outputs.data, 1) #mayor valor entre los dígitos.\n",
        "    total += labels.size(0)\n",
        "    correct += (outputs == labels).sum().item()\n",
        "print('The testing set accuracy of the network is: %d %%' % (100 * correct / total))"
      ],
      "metadata": {
        "id": "KD6Z_tcOcxjI"
      },
      "execution_count": null,
      "outputs": []
    }
  ]
}