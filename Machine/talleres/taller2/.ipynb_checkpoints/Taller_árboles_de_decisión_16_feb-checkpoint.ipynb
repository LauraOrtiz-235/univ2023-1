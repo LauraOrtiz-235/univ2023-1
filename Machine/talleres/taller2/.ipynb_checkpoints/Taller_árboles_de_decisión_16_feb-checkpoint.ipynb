{
 "cells": [
  {
   "cell_type": "markdown",
   "metadata": {
    "id": "F1yqs8ZAAgoF"
   },
   "source": [
    "#Taller 2: Árboles de decisión"
   ]
  },
  {
   "cell_type": "markdown",
   "metadata": {
    "id": "Tw1mQlCZU5lX"
   },
   "source": [
    "En este taller analizaremos aspectos de árboles de decisión para varios conjuntos de datos. El primero es el [Play tennis dataset](https://www.kaggle.com/datasets/fredericobreno/play-tennis). El segundo es el [Iris dataset](https://archive.ics.uci.edu/ml/datasets/iris). El tercero es el [Pima Indians Diabetes Database](https://www.kaggle.com/datasets/uciml/pima-indians-diabetes-database). El cuarto es [Hitters](https://www.kaggle.com/datasets/floser/hitters).\n",
    "\n",
    "El taller consiste en realizar todas las tareas señaladas con #TO_DO.\n",
    "Se puede realizar de forma individual o en parejas.\n",
    "\n",
    "Entregar el cuaderno ejecutado y guardado en formato .ipynb y en formato .html Cargarlo a más tardar el miércoles 22 de febrero en la actividad creada en aulas."
   ]
  },
  {
   "cell_type": "code",
   "execution_count": 1,
   "metadata": {
    "id": "vkouMudDAiHb"
   },
   "outputs": [],
   "source": [
    "#Importar librerías\n",
    "import pandas as pd\n",
    "from sklearn.datasets import load_iris\n",
    "from sklearn.model_selection import cross_val_score\n",
    "from sklearn.model_selection import train_test_split\n",
    "from sklearn.tree import DecisionTreeClassifier, plot_tree, DecisionTreeRegressor\n",
    "from sklearn import metrics\n",
    "import matplotlib.pyplot as plt"
   ]
  },
  {
   "cell_type": "markdown",
   "metadata": {
    "id": "bHrRRlMqZSAh"
   },
   "source": [
    "## Calculando el mejor atributo para el Tennis Dataset"
   ]
  },
  {
   "cell_type": "markdown",
   "metadata": {
    "id": "HAqHm391W-Wp"
   },
   "source": [
    "En primer lugar, cargar y leer el conjunto de datos Play Tennis, e imprimir todas sus filas (son pocas)."
   ]
  },
  {
   "cell_type": "code",
   "execution_count": 3,
   "metadata": {
    "id": "n8AYV6tGXQLB"
   },
   "outputs": [
    {
     "name": "stdout",
     "output_type": "stream",
     "text": [
      "<class 'pandas.core.frame.DataFrame'>\n",
      "Int64Index: 14 entries, 0 to 13\n",
      "Data columns (total 6 columns):\n",
      " #   Column    Non-Null Count  Dtype \n",
      "---  ------    --------------  ----- \n",
      " 0   day       14 non-null     object\n",
      " 1   outlook   14 non-null     object\n",
      " 2   temp      14 non-null     object\n",
      " 3   humidity  14 non-null     object\n",
      " 4   wind      14 non-null     object\n",
      " 5   play      14 non-null     object\n",
      "dtypes: object(6)\n",
      "memory usage: 784.0+ bytes\n"
     ]
    }
   ],
   "source": [
    "#leer el Play tennis dataset.\n",
    "#Mostrar todas sus filas.\n",
    "\n",
    "df = pd.read_csv('play_tennis.csv').dropna()\n",
    "df.info()"
   ]
  },
  {
   "cell_type": "markdown",
   "metadata": {
    "id": "WklVjMXtXXEc"
   },
   "source": [
    "**TO_DO 1**\n",
    "Clacular la ganancia de información  para cada variable: \n",
    "$Gain(S,A)=Ent(S)-\\sum_{v\\in values(A)}\\frac{|S_v|}{|S|}Ent(S_v)$\n",
    "\n",
    "¿Cuál sería el mejor atributo para comenzar el árbol?\n",
    "Observación: Puede hacer sus cálculos a mano y adjuntar una imagen de los mismos, o programar. \n"
   ]
  },
  {
   "cell_type": "markdown",
   "metadata": {
    "id": "rxOyJkxRZYYk"
   },
   "source": [
    "## Árbol de decisión para clasificación del Iris Dataset"
   ]
  },
  {
   "cell_type": "markdown",
   "metadata": {
    "id": "JZsCE6Hnomib"
   },
   "source": [
    "Primero definimos el clasificador y lo entrenamos con el conjunto de datos de entrenamiento."
   ]
  },
  {
   "cell_type": "code",
   "execution_count": null,
   "metadata": {
    "id": "1-5c1RApEZDR"
   },
   "outputs": [],
   "source": [
    "#TO_DO 2 Importar el Iris Dataset usando load_iris de sklearn (ya se importó load_iris). Darle el nombre 'iris'.\n",
    "# Guardar en X,y las variables de entrada y salida respectivamente, en tipo DataFrame.\n",
    "# Usar iris.data, iris.target.\n"
   ]
  },
  {
   "cell_type": "code",
   "execution_count": null,
   "metadata": {
    "id": "nv4ayGetbLIn"
   },
   "outputs": [],
   "source": [
    "#TO_DO 3 Separar en Train y Test set con una proporción de 70%-30%."
   ]
  },
  {
   "cell_type": "code",
   "execution_count": null,
   "metadata": {
    "id": "YdWECaEdbajR"
   },
   "outputs": [],
   "source": [
    "#TO_DO 4 Definir un clasificador de árbol de decisión con DecisionTreeClassifier de SKLearn. \n",
    "#Usar los parámetros random_state=0 y criterion='entropy'\n",
    "#Entrenarlo\n",
    "\n",
    "clf = DecisionTreeClassifier()\n",
    "clf.fit()"
   ]
  },
  {
   "cell_type": "markdown",
   "metadata": {
    "id": "JToFDG6Bdsi1"
   },
   "source": [
    "Medimos la precisión: la proporción entre predicciones correctas y el total de predicciones:"
   ]
  },
  {
   "cell_type": "code",
   "execution_count": null,
   "metadata": {
    "id": "bvLS1_ZPd1iY"
   },
   "outputs": [],
   "source": [
    "y_pred = clf.predict(X_test)\n",
    "print(\"Accuracy:\",metrics.accuracy_score(y_test, y_pred))"
   ]
  },
  {
   "cell_type": "markdown",
   "metadata": {
    "id": "hMu-c-hDeec3"
   },
   "source": [
    "**Plot**\n",
    "Graficamos el árbol obtenido mediante el uso de plot_tree.\n",
    "To_do 5\n",
    "¿Qué información identifica en el árbol?"
   ]
  },
  {
   "cell_type": "code",
   "execution_count": null,
   "metadata": {
    "id": "YMkutzNned59"
   },
   "outputs": [],
   "source": [
    "plt.figure(figsize=(40,20))\n",
    "plot_tree(clf, filled=True, class_names=True)\n",
    "plt.title(\"Decision tree training for training dataset\")\n",
    "plt.show()"
   ]
  },
  {
   "cell_type": "markdown",
   "metadata": {
    "id": "nE6NI7e1eyPr"
   },
   "source": [
    "**TO_DO 6**: Explore algunos métodos del DecisionTreeClassifier como apply, get_depth, get_n_leaves. Calcúlelos y corrobore su resultado usando el diagrama de árbol. "
   ]
  },
  {
   "cell_type": "code",
   "execution_count": null,
   "metadata": {
    "id": "9r0qCM3zAisi"
   },
   "outputs": [],
   "source": [
    "# Aplicar métodos apply, get_depth, get_n_leaves y entender lo que dicen del árbol."
   ]
  },
  {
   "cell_type": "markdown",
   "metadata": {
    "id": "7yAjoEwLohzC"
   },
   "source": []
  },
  {
   "cell_type": "markdown",
   "metadata": {
    "id": "FcztccV6y_H-"
   },
   "source": [
    "## Diabetes Dataset\n",
    "\n",
    "\n",
    "\n"
   ]
  },
  {
   "cell_type": "markdown",
   "metadata": {
    "id": "7FA-uwnfpRYQ"
   },
   "source": [
    "\n",
    "A continuación se entrenará un árbol de decisión para el conjunto de datos sobre diabetes. \n",
    "\n",
    "**TO_DO 7**:\n",
    "- Entrene un árbol de decisión utilizando el clasificador de SKLearn con un conjunto de entrenamiento del 80% del dataset. Utilice random_state=0 y el criterio de entropía. \n",
    "\n",
    "**TO_DO 8**: \n",
    "- Grafique el árbol. ¿Cuál es la precisión de este modelo?"
   ]
  },
  {
   "cell_type": "code",
   "execution_count": null,
   "metadata": {
    "id": "yVG5qlHSH7GY"
   },
   "outputs": [],
   "source": [
    "## Su código aquí"
   ]
  },
  {
   "cell_type": "markdown",
   "metadata": {
    "id": "a3I0YkNKOSHb"
   },
   "source": [
    "## Poda del árbol"
   ]
  },
  {
   "cell_type": "markdown",
   "metadata": {
    "id": "-gX10nRMpXZF"
   },
   "source": [
    "Uno de los parámetros del DecisionTreeClassifier es *ccp_alpha*, el cual es un parámetro para la poda del árbol mediante el método *Mínimal cost complexity*. El código siguiente arroja una lista de valores de alpha que resultan efectivos en la poda del árbol. \n",
    "\n",
    "Entre mayor es el valor de $\\alpha$, más se poda el árbol. "
   ]
  },
  {
   "cell_type": "code",
   "execution_count": null,
   "metadata": {
    "id": "SnCQRsAD0lWi"
   },
   "outputs": [],
   "source": [
    "path = clf.cost_complexity_pruning_path(X_train, y_train)\n",
    "ccp_alphas, impurities = path.ccp_alphas, path.impurities\n",
    "ccp_alphas"
   ]
  },
  {
   "cell_type": "markdown",
   "metadata": {
    "id": "wdzfK6u_vt3B"
   },
   "source": [
    "**TO_DO 9:** \n",
    "Usando el arreglo de valores de *ccp_alpha* arrojados en la celda anterior, crear un loop que entrene un árbol para cada parámetro de ccp_alpha e imprima su precisión. \n",
    "¿Cuál es el valor de ccp_alpha optimo?"
   ]
  },
  {
   "cell_type": "code",
   "execution_count": null,
   "metadata": {
    "id": "DMpB5jff9PDe"
   },
   "outputs": [],
   "source": [
    "## código aquí"
   ]
  },
  {
   "cell_type": "markdown",
   "metadata": {
    "id": "yh0clgfIzWn9"
   },
   "source": [
    "**TO_DO 10:**\n",
    "Entrenar un clasificador con el ccp_alpha óptimo. Graficarlo y compararlo con el árbol inicial. "
   ]
  },
  {
   "cell_type": "markdown",
   "metadata": {
    "id": "2L8s8kKfBv_h"
   },
   "source": [
    "## Árbol de regresión"
   ]
  },
  {
   "cell_type": "markdown",
   "metadata": {
    "id": "um8L7CnRpeHx"
   },
   "source": [
    "Para éste ejercicio usamos el dataset de Hitters, cuya variable objetivo es el salario, el cual no es una variable categórica. Para esto necesitamos un árbol de regresión. A saber, DecisionTreeRegressor. "
   ]
  },
  {
   "cell_type": "markdown",
   "metadata": {
    "id": "k0vxBx4Nydan"
   },
   "source": [
    "Primero leemos el dataset, y consideramos como entrada  X únicamente dos de sus variables: Years, Hits. Tomamos como variable objetivo el salario."
   ]
  },
  {
   "cell_type": "code",
   "execution_count": null,
   "metadata": {
    "id": "fgBn00RvByaU"
   },
   "outputs": [],
   "source": [
    "df = pd.read_csv('Hitters.csv').dropna()\n",
    "df.info()"
   ]
  },
  {
   "cell_type": "code",
   "execution_count": null,
   "metadata": {
    "id": "X-3D0numCEch"
   },
   "outputs": [],
   "source": [
    "X = df[['Years', 'Hits']] # Tomamos sólo dos de las columnas\n",
    "y = df.Salary"
   ]
  },
  {
   "cell_type": "markdown",
   "metadata": {
    "id": "qbDpT0IyzsiS"
   },
   "source": [
    "**TO_DO 11**\n",
    "Entrenar un árbol de regresión en X,y con el parámetro max_leaf_nodes=3; usar el método score (coeficiente de determinación)para medir su desempeño, y graficarlo.\n"
   ]
  },
  {
   "cell_type": "code",
   "execution_count": null,
   "metadata": {
    "id": "SGD2Q1OdCKGV"
   },
   "outputs": [],
   "source": [
    "## código aquí"
   ]
  },
  {
   "cell_type": "code",
   "execution_count": null,
   "metadata": {
    "id": "E9DzyiqdDcmY"
   },
   "outputs": [],
   "source": [
    "## Graficar el árbol"
   ]
  },
  {
   "cell_type": "markdown",
   "metadata": {
    "id": "bIMxvL770bYG"
   },
   "source": [
    "**TO_DO 12:**\n",
    "¿En cuántas regiones $R_i$ separó el espacio de las dos variables de entrada el árbol anterior? Descríbalas."
   ]
  }
 ],
 "metadata": {
  "colab": {
   "provenance": []
  },
  "kernelspec": {
   "display_name": "Python 3 (ipykernel)",
   "language": "python",
   "name": "python3"
  },
  "language_info": {
   "codemirror_mode": {
    "name": "ipython",
    "version": 3
   },
   "file_extension": ".py",
   "mimetype": "text/x-python",
   "name": "python",
   "nbconvert_exporter": "python",
   "pygments_lexer": "ipython3",
   "version": "3.9.7"
  }
 },
 "nbformat": 4,
 "nbformat_minor": 1
}
