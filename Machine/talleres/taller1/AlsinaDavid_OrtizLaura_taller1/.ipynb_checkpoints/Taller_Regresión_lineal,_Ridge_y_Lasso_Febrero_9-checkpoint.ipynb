{
 "cells": [
  {
   "cell_type": "markdown",
   "metadata": {
    "cell_id": "e4af8bf751d2485a8c9c7e8c07df9099",
    "deepnote_cell_type": "markdown",
    "id": "o5VUaJXwjAX4"
   },
   "source": [
    "# Taller 1: Regresión lineal, Ridge y Lasso\n",
    "**Nombres:** "
   ]
  },
  {
   "cell_type": "markdown",
   "metadata": {
    "cell_id": "1e6bfccc3f5f4c1b9a953e26410a2b82",
    "deepnote_cell_type": "markdown",
    "id": "ibE1PgK4IGiF"
   },
   "source": [
    "En este taller analizaremos métodos de regresión lineal para el conjunto de datos [Hitters](https://www.kaggle.com/datasets/floser/hitters). Cada registro corresponde a un jugador de baseball. Las variables son registros como cantidad de *home runs* o número de años en las ligas mayores. La variable objetivo es el salario de dicho jugador. \n",
    "Usaremos regresión de Ridge y Lasso y las compararemos. \n",
    "\n",
    "- El taller consiste en realizar todas las tareas señaladas con **TO_DO**. \n",
    "\n",
    "- Se puede realizar de forma individual o en parejas.\n",
    "\n",
    "- Subir el cuaderno en dos formatos : 1. En formato .ipynb  2. En formato .html.\n",
    "- Subirlo al aula a más tardar el miércoles 15 de ferbero.\n",
    "\n"
   ]
  },
  {
   "cell_type": "code",
   "execution_count": 1,
   "metadata": {
    "cell_id": "73791112b01f414d9430bbc1d2922e31",
    "deepnote_cell_type": "code",
    "deepnote_to_be_reexecuted": false,
    "execution_millis": 1602,
    "execution_start": 1675974705570,
    "id": "mnPPGc-kv2gW",
    "source_hash": "6c90c73b"
   },
   "outputs": [],
   "source": [
    "#importar paquetes\n",
    "%matplotlib inline\n",
    "\n",
    "import pandas as pd\n",
    "import numpy as np\n",
    "import matplotlib.pyplot as plt\n",
    "from sklearn.preprocessing import scale \n",
    "from sklearn.model_selection import train_test_split\n",
    "from sklearn.linear_model import Ridge, RidgeCV, Lasso, LassoCV\n",
    "from sklearn.metrics import mean_squared_error\n",
    "from sklearn.linear_model import LinearRegression \n",
    "import random"
   ]
  },
  {
   "cell_type": "code",
   "execution_count": 2,
   "metadata": {
    "cell_id": "48f0740d75ea49f48903bb54cb07bf54",
    "deepnote_cell_type": "code",
    "deepnote_to_be_reexecuted": false,
    "execution_millis": 2,
    "execution_start": 1675974707179,
    "id": "XnKq_XsE24O0",
    "source_hash": "69a23e77"
   },
   "outputs": [],
   "source": [
    "#Evitar la impresión de warnings\n",
    "import warnings\n",
    "warnings.filterwarnings(\"ignore\")"
   ]
  },
  {
   "cell_type": "markdown",
   "metadata": {
    "cell_id": "35c9831b3ab44ae581577d60a11ab1cb",
    "deepnote_cell_type": "markdown",
    "id": "4MnY7M1vkav9"
   },
   "source": [
    "En primer lugar, leemos el conjunto de datos e imprimimos la información sobre sus columnas."
   ]
  },
  {
   "cell_type": "code",
   "execution_count": 3,
   "metadata": {
    "cell_id": "4cc6441f4cd245fab0423f4a7fdce1db",
    "deepnote_cell_type": "code",
    "deepnote_to_be_reexecuted": false,
    "execution_millis": 36,
    "execution_start": 1675974709613,
    "id": "hn49Fea4sqPM",
    "source_hash": "e2512206"
   },
   "outputs": [
    {
     "name": "stdout",
     "output_type": "stream",
     "text": [
      "<class 'pandas.core.frame.DataFrame'>\n",
      "Int64Index: 263 entries, 1 to 321\n",
      "Data columns (total 20 columns):\n",
      " #   Column     Non-Null Count  Dtype  \n",
      "---  ------     --------------  -----  \n",
      " 0   AtBat      263 non-null    int64  \n",
      " 1   Hits       263 non-null    int64  \n",
      " 2   HmRun      263 non-null    int64  \n",
      " 3   Runs       263 non-null    int64  \n",
      " 4   RBI        263 non-null    int64  \n",
      " 5   Walks      263 non-null    int64  \n",
      " 6   Years      263 non-null    int64  \n",
      " 7   CAtBat     263 non-null    int64  \n",
      " 8   CHits      263 non-null    int64  \n",
      " 9   CHmRun     263 non-null    int64  \n",
      " 10  CRuns      263 non-null    int64  \n",
      " 11  CRBI       263 non-null    int64  \n",
      " 12  CWalks     263 non-null    int64  \n",
      " 13  League     263 non-null    object \n",
      " 14  Division   263 non-null    object \n",
      " 15  PutOuts    263 non-null    int64  \n",
      " 16  Assists    263 non-null    int64  \n",
      " 17  Errors     263 non-null    int64  \n",
      " 18  Salary     263 non-null    float64\n",
      " 19  NewLeague  263 non-null    object \n",
      "dtypes: float64(1), int64(16), object(3)\n",
      "memory usage: 43.1+ KB\n"
     ]
    }
   ],
   "source": [
    "df = pd.read_csv('Hitters.csv').dropna()\n",
    "df.info()"
   ]
  },
  {
   "cell_type": "code",
   "execution_count": 4,
   "metadata": {
    "cell_id": "bf6a78dba8af4464926e96ce7ceb03c2",
    "deepnote_cell_type": "code",
    "deepnote_to_be_reexecuted": false,
    "execution_millis": 0,
    "execution_start": 1675974710932,
    "id": "DFZ_n8uHnTNN",
    "source_hash": "50106cf4"
   },
   "outputs": [],
   "source": [
    "#TO_DO 1: Codificar las 3 variables categóricas como variables Dummy (usar por ejemplo el\n",
    "#método get_dummies de Pandas). \n",
    "\n",
    "df = pd.get_dummies(df, \n",
    "                    columns = ['League','Division','NewLeague'])"
   ]
  },
  {
   "cell_type": "code",
   "execution_count": 5,
   "metadata": {
    "cell_id": "5895f7e79e9442fbadfc8221b0fb3d82",
    "deepnote_cell_type": "code",
    "deepnote_to_be_reexecuted": false,
    "execution_millis": 70,
    "execution_start": 1675974713762,
    "id": "3Lt_zZfLs78W",
    "source_hash": "fa9db461"
   },
   "outputs": [
    {
     "data": {
      "text/html": [
       "<div>\n",
       "<style scoped>\n",
       "    .dataframe tbody tr th:only-of-type {\n",
       "        vertical-align: middle;\n",
       "    }\n",
       "\n",
       "    .dataframe tbody tr th {\n",
       "        vertical-align: top;\n",
       "    }\n",
       "\n",
       "    .dataframe thead th {\n",
       "        text-align: right;\n",
       "    }\n",
       "</style>\n",
       "<table border=\"1\" class=\"dataframe\">\n",
       "  <thead>\n",
       "    <tr style=\"text-align: right;\">\n",
       "      <th></th>\n",
       "      <th>AtBat</th>\n",
       "      <th>Hits</th>\n",
       "      <th>HmRun</th>\n",
       "      <th>Runs</th>\n",
       "      <th>RBI</th>\n",
       "      <th>Walks</th>\n",
       "      <th>Years</th>\n",
       "      <th>CAtBat</th>\n",
       "      <th>CHits</th>\n",
       "      <th>CHmRun</th>\n",
       "      <th>...</th>\n",
       "      <th>PutOuts</th>\n",
       "      <th>Assists</th>\n",
       "      <th>Errors</th>\n",
       "      <th>Salary</th>\n",
       "      <th>League_A</th>\n",
       "      <th>League_N</th>\n",
       "      <th>Division_E</th>\n",
       "      <th>Division_W</th>\n",
       "      <th>NewLeague_A</th>\n",
       "      <th>NewLeague_N</th>\n",
       "    </tr>\n",
       "  </thead>\n",
       "  <tbody>\n",
       "    <tr>\n",
       "      <th>1</th>\n",
       "      <td>315</td>\n",
       "      <td>81</td>\n",
       "      <td>7</td>\n",
       "      <td>24</td>\n",
       "      <td>38</td>\n",
       "      <td>39</td>\n",
       "      <td>14</td>\n",
       "      <td>3449</td>\n",
       "      <td>835</td>\n",
       "      <td>69</td>\n",
       "      <td>...</td>\n",
       "      <td>632</td>\n",
       "      <td>43</td>\n",
       "      <td>10</td>\n",
       "      <td>475.0</td>\n",
       "      <td>0</td>\n",
       "      <td>1</td>\n",
       "      <td>0</td>\n",
       "      <td>1</td>\n",
       "      <td>0</td>\n",
       "      <td>1</td>\n",
       "    </tr>\n",
       "    <tr>\n",
       "      <th>2</th>\n",
       "      <td>479</td>\n",
       "      <td>130</td>\n",
       "      <td>18</td>\n",
       "      <td>66</td>\n",
       "      <td>72</td>\n",
       "      <td>76</td>\n",
       "      <td>3</td>\n",
       "      <td>1624</td>\n",
       "      <td>457</td>\n",
       "      <td>63</td>\n",
       "      <td>...</td>\n",
       "      <td>880</td>\n",
       "      <td>82</td>\n",
       "      <td>14</td>\n",
       "      <td>480.0</td>\n",
       "      <td>1</td>\n",
       "      <td>0</td>\n",
       "      <td>0</td>\n",
       "      <td>1</td>\n",
       "      <td>1</td>\n",
       "      <td>0</td>\n",
       "    </tr>\n",
       "    <tr>\n",
       "      <th>3</th>\n",
       "      <td>496</td>\n",
       "      <td>141</td>\n",
       "      <td>20</td>\n",
       "      <td>65</td>\n",
       "      <td>78</td>\n",
       "      <td>37</td>\n",
       "      <td>11</td>\n",
       "      <td>5628</td>\n",
       "      <td>1575</td>\n",
       "      <td>225</td>\n",
       "      <td>...</td>\n",
       "      <td>200</td>\n",
       "      <td>11</td>\n",
       "      <td>3</td>\n",
       "      <td>500.0</td>\n",
       "      <td>0</td>\n",
       "      <td>1</td>\n",
       "      <td>1</td>\n",
       "      <td>0</td>\n",
       "      <td>0</td>\n",
       "      <td>1</td>\n",
       "    </tr>\n",
       "    <tr>\n",
       "      <th>4</th>\n",
       "      <td>321</td>\n",
       "      <td>87</td>\n",
       "      <td>10</td>\n",
       "      <td>39</td>\n",
       "      <td>42</td>\n",
       "      <td>30</td>\n",
       "      <td>2</td>\n",
       "      <td>396</td>\n",
       "      <td>101</td>\n",
       "      <td>12</td>\n",
       "      <td>...</td>\n",
       "      <td>805</td>\n",
       "      <td>40</td>\n",
       "      <td>4</td>\n",
       "      <td>91.5</td>\n",
       "      <td>0</td>\n",
       "      <td>1</td>\n",
       "      <td>1</td>\n",
       "      <td>0</td>\n",
       "      <td>0</td>\n",
       "      <td>1</td>\n",
       "    </tr>\n",
       "    <tr>\n",
       "      <th>5</th>\n",
       "      <td>594</td>\n",
       "      <td>169</td>\n",
       "      <td>4</td>\n",
       "      <td>74</td>\n",
       "      <td>51</td>\n",
       "      <td>35</td>\n",
       "      <td>11</td>\n",
       "      <td>4408</td>\n",
       "      <td>1133</td>\n",
       "      <td>19</td>\n",
       "      <td>...</td>\n",
       "      <td>282</td>\n",
       "      <td>421</td>\n",
       "      <td>25</td>\n",
       "      <td>750.0</td>\n",
       "      <td>1</td>\n",
       "      <td>0</td>\n",
       "      <td>0</td>\n",
       "      <td>1</td>\n",
       "      <td>1</td>\n",
       "      <td>0</td>\n",
       "    </tr>\n",
       "  </tbody>\n",
       "</table>\n",
       "<p>5 rows × 23 columns</p>\n",
       "</div>"
      ],
      "text/plain": [
       "   AtBat  Hits  HmRun  Runs  RBI  Walks  Years  CAtBat  CHits  CHmRun  ...  \\\n",
       "1    315    81      7    24   38     39     14    3449    835      69  ...   \n",
       "2    479   130     18    66   72     76      3    1624    457      63  ...   \n",
       "3    496   141     20    65   78     37     11    5628   1575     225  ...   \n",
       "4    321    87     10    39   42     30      2     396    101      12  ...   \n",
       "5    594   169      4    74   51     35     11    4408   1133      19  ...   \n",
       "\n",
       "   PutOuts  Assists  Errors  Salary  League_A  League_N  Division_E  \\\n",
       "1      632       43      10   475.0         0         1           0   \n",
       "2      880       82      14   480.0         1         0           0   \n",
       "3      200       11       3   500.0         0         1           1   \n",
       "4      805       40       4    91.5         0         1           1   \n",
       "5      282      421      25   750.0         1         0           0   \n",
       "\n",
       "   Division_W  NewLeague_A  NewLeague_N  \n",
       "1           1            0            1  \n",
       "2           1            1            0  \n",
       "3           0            0            1  \n",
       "4           0            0            1  \n",
       "5           1            1            0  \n",
       "\n",
       "[5 rows x 23 columns]"
      ]
     },
     "execution_count": 5,
     "metadata": {},
     "output_type": "execute_result"
    }
   ],
   "source": [
    "#Verificar la codificación anterior\n",
    "df.head()"
   ]
  },
  {
   "cell_type": "code",
   "execution_count": 6,
   "metadata": {
    "cell_id": "d177c681ce064fea84a5b98fcf8b2306",
    "deepnote_cell_type": "code",
    "deepnote_to_be_reexecuted": false,
    "execution_millis": 6,
    "execution_start": 1675975135299,
    "id": "uAwIeNpdtID_",
    "source_hash": "5bfa9efa"
   },
   "outputs": [
    {
     "name": "stdout",
     "output_type": "stream",
     "text": [
      "<class 'pandas.core.frame.DataFrame'>\n",
      "Int64Index: 263 entries, 1 to 321\n",
      "Data columns (total 22 columns):\n",
      " #   Column       Non-Null Count  Dtype\n",
      "---  ------       --------------  -----\n",
      " 0   AtBat        263 non-null    int64\n",
      " 1   Hits         263 non-null    int64\n",
      " 2   HmRun        263 non-null    int64\n",
      " 3   Runs         263 non-null    int64\n",
      " 4   RBI          263 non-null    int64\n",
      " 5   Walks        263 non-null    int64\n",
      " 6   Years        263 non-null    int64\n",
      " 7   CAtBat       263 non-null    int64\n",
      " 8   CHits        263 non-null    int64\n",
      " 9   CHmRun       263 non-null    int64\n",
      " 10  CRuns        263 non-null    int64\n",
      " 11  CRBI         263 non-null    int64\n",
      " 12  CWalks       263 non-null    int64\n",
      " 13  PutOuts      263 non-null    int64\n",
      " 14  Assists      263 non-null    int64\n",
      " 15  Errors       263 non-null    int64\n",
      " 16  League_A     263 non-null    uint8\n",
      " 17  League_N     263 non-null    uint8\n",
      " 18  Division_E   263 non-null    uint8\n",
      " 19  Division_W   263 non-null    uint8\n",
      " 20  NewLeague_A  263 non-null    uint8\n",
      " 21  NewLeague_N  263 non-null    uint8\n",
      "dtypes: int64(16), uint8(6)\n",
      "memory usage: 36.5 KB\n"
     ]
    }
   ],
   "source": [
    "# Definimos la columna y, correspondiente a la variable objetivo.\n",
    "y = df.Salary\n",
    "\n",
    "#TO_DO 2:\n",
    "#Eliminar la columna con la variable dependiente (Salary) y de ser necesario, las columnas originales para las que se crearon\n",
    "#variables dummy. Dar a la nueva tabla de atributos el nombre X (mayúscula).\n",
    "\n",
    "X = df.drop(['Salary'], axis=1)\n",
    "\n",
    "#Verificar lo anterior\n",
    "X.info()"
   ]
  },
  {
   "cell_type": "markdown",
   "metadata": {
    "cell_id": "21eaedd1ea9d4101b193765242ce640a",
    "deepnote_cell_type": "markdown",
    "id": "9cdjFZR9lWGS"
   },
   "source": [
    "Vamos a generar valores de Lambda equidistantes para experimentar sobre un intervalo. Estos valores se encuentran entre 10^(-2) y 10^10. Experimentaremos con 100 valores distintos de lambda. Para esto usamos *linspace* de Numpy:"
   ]
  },
  {
   "cell_type": "code",
   "execution_count": 7,
   "metadata": {
    "cell_id": "0d7d890825de4fe9926afcbc7c81c4cb",
    "deepnote_cell_type": "code",
    "deepnote_to_be_reexecuted": false,
    "execution_millis": 3,
    "execution_start": 1675975379786,
    "id": "k7REJ95dtiuL",
    "source_hash": "c3d0c253"
   },
   "outputs": [
    {
     "data": {
      "text/plain": [
       "array([1.00000000e-02, 1.32194115e-02, 1.74752840e-02, 2.31012970e-02,\n",
       "       3.05385551e-02, 4.03701726e-02, 5.33669923e-02, 7.05480231e-02,\n",
       "       9.32603347e-02, 1.23284674e-01, 1.62975083e-01, 2.15443469e-01,\n",
       "       2.84803587e-01, 3.76493581e-01, 4.97702356e-01, 6.57933225e-01,\n",
       "       8.69749003e-01, 1.14975700e+00, 1.51991108e+00, 2.00923300e+00,\n",
       "       2.65608778e+00, 3.51119173e+00, 4.64158883e+00, 6.13590727e+00,\n",
       "       8.11130831e+00, 1.07226722e+01, 1.41747416e+01, 1.87381742e+01,\n",
       "       2.47707636e+01, 3.27454916e+01, 4.32876128e+01, 5.72236766e+01,\n",
       "       7.56463328e+01, 1.00000000e+02, 1.32194115e+02, 1.74752840e+02,\n",
       "       2.31012970e+02, 3.05385551e+02, 4.03701726e+02, 5.33669923e+02,\n",
       "       7.05480231e+02, 9.32603347e+02, 1.23284674e+03, 1.62975083e+03,\n",
       "       2.15443469e+03, 2.84803587e+03, 3.76493581e+03, 4.97702356e+03,\n",
       "       6.57933225e+03, 8.69749003e+03, 1.14975700e+04, 1.51991108e+04,\n",
       "       2.00923300e+04, 2.65608778e+04, 3.51119173e+04, 4.64158883e+04,\n",
       "       6.13590727e+04, 8.11130831e+04, 1.07226722e+05, 1.41747416e+05,\n",
       "       1.87381742e+05, 2.47707636e+05, 3.27454916e+05, 4.32876128e+05,\n",
       "       5.72236766e+05, 7.56463328e+05, 1.00000000e+06, 1.32194115e+06,\n",
       "       1.74752840e+06, 2.31012970e+06, 3.05385551e+06, 4.03701726e+06,\n",
       "       5.33669923e+06, 7.05480231e+06, 9.32603347e+06, 1.23284674e+07,\n",
       "       1.62975083e+07, 2.15443469e+07, 2.84803587e+07, 3.76493581e+07,\n",
       "       4.97702356e+07, 6.57933225e+07, 8.69749003e+07, 1.14975700e+08,\n",
       "       1.51991108e+08, 2.00923300e+08, 2.65608778e+08, 3.51119173e+08,\n",
       "       4.64158883e+08, 6.13590727e+08, 8.11130831e+08, 1.07226722e+09,\n",
       "       1.41747416e+09, 1.87381742e+09, 2.47707636e+09, 3.27454916e+09,\n",
       "       4.32876128e+09, 5.72236766e+09, 7.56463328e+09, 1.00000000e+10])"
      ]
     },
     "execution_count": 7,
     "metadata": {},
     "output_type": "execute_result"
    }
   ],
   "source": [
    "# Creamos una lista con posibles valores para el parámetro Lambda para los algoritmos Ridge y Lasso\n",
    "\n",
    "lambdas = 10**np.linspace(start = -2, stop = 10, num= 100)\n",
    "lambdas"
   ]
  },
  {
   "cell_type": "markdown",
   "metadata": {
    "cell_id": "f197b62d26e54181b837ba6dc04db3f8",
    "deepnote_cell_type": "markdown",
    "id": "MMkdjJinqgam"
   },
   "source": [
    "Vamos a usar el algoritmo de Ridge de SKlearn para hacer regresión con los diferentes valores del parámetro Lambda, de manera que podamos realizar algunas observaciones y comparaciones."
   ]
  },
  {
   "cell_type": "code",
   "execution_count": 8,
   "metadata": {
    "cell_id": "7585a9003a5c4f07832c3dedda9e562f",
    "deepnote_cell_type": "code",
    "deepnote_to_be_reexecuted": false,
    "execution_millis": 241,
    "execution_start": 1675975383509,
    "id": "p9N3z07Wtvmf",
    "source_hash": "f6bbaa87"
   },
   "outputs": [
    {
     "data": {
      "text/plain": [
       "(100, 22)"
      ]
     },
     "execution_count": 8,
     "metadata": {},
     "output_type": "execute_result"
    }
   ],
   "source": [
    "# Aplicamos el algoritmo Ridge de SKlearn para los diferentes valores de Lambda definidos\n",
    "# en la celda anterior. Guardar los vectores obtenidos de parámetros en la lista coefs.\n",
    "\n",
    "ridge = Ridge(normalize = True)\n",
    "coefs = []\n",
    "\n",
    "for a in lambdas:\n",
    "    ridge.set_params(alpha = a)\n",
    "    ridge.fit(X, y)\n",
    "    coefs.append(ridge.coef_)\n",
    "    \n",
    "#Imprimir las dimensiones de la matriz coef.   \n",
    "np.shape(coefs)"
   ]
  },
  {
   "cell_type": "markdown",
   "metadata": {
    "cell_id": "503fb48514614419bc40bdc3bef7f8a7",
    "deepnote_cell_type": "markdown",
    "id": "A1t0wbe1q12G"
   },
   "source": [
    "Usamos los arreglos *lambdas* y *coefs* para comparar los resultados de la regresión Ridge para diferentes valores del parámetro Lambda."
   ]
  },
  {
   "cell_type": "code",
   "execution_count": 11,
   "metadata": {
    "cell_id": "f1ccd388775a4960a0ad83e6c8592f98",
    "deepnote_cell_type": "code",
    "deepnote_to_be_reexecuted": false,
    "execution_millis": 483,
    "execution_start": 1675975443086,
    "id": "HsHxVKALuQgA",
    "source_hash": "258b3938"
   },
   "outputs": [
    {
     "data": {
      "text/plain": [
       "Text(0, 0.5, 'weights')"
      ]
     },
     "execution_count": 11,
     "metadata": {},
     "output_type": "execute_result"
    },
    {
     "data": {
      "image/png": "[encoded data removed]",
      "text/plain": [
       "<Figure size 432x288 with 1 Axes>"
      ]
     },
     "metadata": {
      "needs_background": "light"
     },
     "output_type": "display_data"
    }
   ],
   "source": [
    "ax = plt.gca()\n",
    "ax.plot(lambdas, coefs)\n",
    "ax.set_xscale('log')\n",
    "\n",
    "plt.axis('tight')\n",
    "plt.xlabel('alpha')\n",
    "plt.ylabel('weights')"
   ]
  },
  {
   "cell_type": "markdown",
   "metadata": {
    "cell_id": "070674c8d0df4245b3c3a50e13e8a9bb",
    "deepnote_cell_type": "markdown",
    "id": "ZoWHrSPPJCyG"
   },
   "source": [
    "TO_DO 3: Hallar el coeficiente de las variables Hits Runs y Walks, arrojado por el algoritmo Ridge, para 3 lambdas distintos.\n",
    "Ejemplo: \"Para lambda=3.06795364e+00, el coeficiente de Hits es (valor), el coeficiente de Runs es (valor) y el coeficiente de Walks es (valor).\"\n",
    "\n",
    "**Respuesta:**"
   ]
  },
  {
   "cell_type": "code",
   "execution_count": 12,
   "metadata": {
    "cell_id": "bf3b0e78e0d5407c8a842a5f16d730f3",
    "deepnote_cell_type": "code",
    "deepnote_to_be_reexecuted": false,
    "execution_millis": 11,
    "execution_start": 1675976983968,
    "source_hash": "7bd3d1fd",
    "tags": []
   },
   "outputs": [
    {
     "name": "stdout",
     "output_type": "stream",
     "text": [
      "Estos son los coefs de Hits, Runs y Walks respectivamente: [0.505805   0.77709181 1.04098424]\n",
      "Estos son los coefs de Hits, Runs y Walks respectivamente: [0.05822346 0.09796716 0.12226309]\n",
      "Estos son los coefs de Hits, Runs y Walks respectivamente: [0.04285366 0.07220668 0.09001691]\n"
     ]
    }
   ],
   "source": [
    "lambdawa = [3.06795364e+00, 69, 96]\n",
    "\n",
    "for lambdaia in lambdawa:\n",
    "    ridge = Ridge(normalize = True)\n",
    "    ridge.set_params(alpha = lambdaia)\n",
    "    ridge.fit(X, y)\n",
    "\n",
    "    print(f\"Estos son los coefs de Hits, Runs y Walks respectivamente: {ridge.coef_[[1,3,5]]}\")"
   ]
  },
  {
   "cell_type": "markdown",
   "metadata": {
    "cell_id": "94011731482a4bf686bb273ba5146bb8",
    "deepnote_cell_type": "markdown",
    "id": "BNB_1iWSs0x_"
   },
   "source": [
    "A continuación separamos el conjunto de datos en conjunto de Entrenamiento y Testeo."
   ]
  },
  {
   "cell_type": "code",
   "execution_count": 13,
   "metadata": {
    "cell_id": "a36cabe4ab5b46188a8ce98ba0ef15de",
    "deepnote_cell_type": "code",
    "deepnote_to_be_reexecuted": false,
    "execution_millis": 1,
    "execution_start": 1675976872574,
    "id": "ZT6Ulnl9ubYn",
    "source_hash": "5afe0bc2"
   },
   "outputs": [],
   "source": [
    "#TO_DO 4: \n",
    "#Escoger random_sate = 0. Y partir el conjunto de datos en Entrenamiento y Testeo, con porcentaje de Testeo de 20%\n",
    "\n",
    "X_train, X_test, y_train, y_test = train_test_split(X, y, test_size = 0.2, random_state = 0)"
   ]
  },
  {
   "cell_type": "markdown",
   "metadata": {
    "cell_id": "e348c780467e40d7a5451c844b09ac5f",
    "deepnote_cell_type": "markdown",
    "id": "VY6_5sQfvn1O"
   },
   "source": [
    "Apliquemos el algoritmo de regresión lineal de SKLearn a éste conjunto de datos."
   ]
  },
  {
   "cell_type": "code",
   "execution_count": 14,
   "metadata": {
    "cell_id": "f6b2166958534eaaac18578a8c9d5e4f",
    "deepnote_cell_type": "code",
    "deepnote_to_be_reexecuted": false,
    "execution_millis": 6,
    "execution_start": 1675977704452,
    "id": "D2bSIcULDiF5",
    "source_hash": "69bf43b4"
   },
   "outputs": [
    {
     "name": "stdout",
     "output_type": "stream",
     "text": [
      "El coeficiente de determinación es =  0.42037720430573566\n"
     ]
    }
   ],
   "source": [
    "#TO_DO 5: Aplicar el algoritmo de regresión lineal de SKLearn a éste conjunto de datos e\n",
    "# imprimir su coeficiente de determinación R^2 (score)\n",
    "\n",
    "ridge = Ridge(normalize = True)\n",
    "lambdawa = 3.06795364e+00\n",
    "ridge.set_params(alpha = lambdawa)\n",
    "\n",
    "coefs = []\n",
    "ridge.fit(X_train, y_train)\n",
    "\n",
    "print(\"El coeficiente de determinación es = \", ridge.score(X_test, y_test))"
   ]
  },
  {
   "cell_type": "markdown",
   "metadata": {
    "cell_id": "cf9fb5b1aa094b7aa31126dc1e2c4101",
    "deepnote_cell_type": "markdown",
    "id": "8aJWiIxKu29p"
   },
   "source": [
    "TO_DO 6: Cuáles son los valores de los parámetros en el modelo lineal obtenido? (Pista: En el taller anterior eran la pendiente y el punto de corte.) Cuál valor corresponde con cuál variable en el Dataset?\n",
    "\n",
    "**Respuesta:** Es un vector unidimensional con forma (22,) y está en orden, es decir, el primer valor corresponde a la primera variable, y así sucesivamente."
   ]
  },
  {
   "cell_type": "code",
   "execution_count": 15,
   "metadata": {
    "cell_id": "ec5ea75aeb734ac48fdf03da7a2518b0",
    "deepnote_cell_type": "code",
    "deepnote_to_be_reexecuted": false,
    "execution_millis": 5,
    "execution_start": 1675977157962,
    "source_hash": "4eb61579",
    "tags": []
   },
   "outputs": [
    {
     "name": "stdout",
     "output_type": "stream",
     "text": [
      "La pendiente es: [ 1.20257407e-01  5.27331347e-01  1.44770418e+00  8.67852773e-01\n",
      "  6.96205999e-01  1.08938375e+00  2.98016559e+00  9.07163962e-03\n",
      "  3.62477156e-02  2.32268295e-01  7.19038930e-02  7.17046292e-02\n",
      "  6.31961482e-02  5.63832858e-02  2.75631885e-02 -5.55537248e-01\n",
      " -4.29008639e+00  4.29008639e+00  2.44514412e+01 -2.44514412e+01\n",
      " -5.57018873e+00  5.57018873e+00]\n",
      "Punto de corte: 109.76167743788272\n"
     ]
    }
   ],
   "source": [
    "print('La pendiente es:', ridge.coef_) \n",
    "print('Punto de corte:', ridge.intercept_)"
   ]
  },
  {
   "cell_type": "markdown",
   "metadata": {
    "cell_id": "2b208523134f4cfdb461324971891826",
    "deepnote_cell_type": "markdown",
    "id": "UOipPDgdwHIj"
   },
   "source": [
    "## Regresión Ridge\n",
    "Ahora apliquemos Regresión de Ridge para algunos valores de lambda. En primer lugar usemos Lambda=4. "
   ]
  },
  {
   "cell_type": "code",
   "execution_count": 16,
   "metadata": {
    "cell_id": "d372c96c2521439a999dddaeb56e04f1",
    "deepnote_cell_type": "code",
    "deepnote_to_be_reexecuted": false,
    "execution_millis": 11,
    "execution_start": 1675978409230,
    "id": "FkxCVV82u0MH",
    "source_hash": "f8f7ce37"
   },
   "outputs": [
    {
     "name": "stdout",
     "output_type": "stream",
     "text": [
      "AtBat           0.111406\n",
      "Hits            0.467295\n",
      "HmRun           1.365857\n",
      "Runs            0.778508\n",
      "RBI             0.646139\n",
      "Walks           0.966759\n",
      "Years           2.796045\n",
      "CAtBat          0.008318\n",
      "CHits           0.032662\n",
      "CHmRun          0.219125\n",
      "CRuns           0.065070\n",
      "CRBI            0.065515\n",
      "CWalks          0.060097\n",
      "PutOuts         0.048401\n",
      "Assists         0.023814\n",
      "Errors         -0.396742\n",
      "League_A       -3.503111\n",
      "League_N        3.503111\n",
      "Division_E     20.698058\n",
      "Division_W    -20.698058\n",
      "NewLeague_A    -4.763146\n",
      "NewLeague_N     4.763146\n",
      "dtype: float64\n",
      "177295.1880623487\n",
      "0.39711269272001215\n"
     ]
    }
   ],
   "source": [
    "#Modelo de regresión de Ridge para Lambda=4\n",
    "# Note el uso del parámetro normalize=True\n",
    "\n",
    "ridge = Ridge(alpha = 4, normalize = True)\n",
    "ridge.fit(X_train, y_train)                # Entrenar una regresión de Ridge para el conjunto de entrenamiento.\n",
    "pred = ridge.predict(X_test)               # Uso del modelo para predecir el conjunto de Testeo\n",
    "\n",
    "print(pd.Series(ridge.coef_, index = X.columns)) # Imprimir los coeficientes del modelo\n",
    "print(mean_squared_error(y_test, pred))          # Imprimit el error de mínimos cuadrados MSE\n",
    "print(ridge.score(X_test, y_test))               # Imprimir el coeficiente de determinación R^2"
   ]
  },
  {
   "cell_type": "code",
   "execution_count": 17,
   "metadata": {
    "cell_id": "a784790267e54c8c815e9e973fd5ce56",
    "deepnote_cell_type": "code",
    "deepnote_to_be_reexecuted": false,
    "execution_millis": 11,
    "execution_start": 1675978410281,
    "id": "jFATExWKu3ZX",
    "source_hash": "21eb18d"
   },
   "outputs": [
    {
     "name": "stdout",
     "output_type": "stream",
     "text": [
      "AtBat          0.011263\n",
      "Hits           0.040814\n",
      "HmRun          0.153857\n",
      "Runs           0.070868\n",
      "RBI            0.067656\n",
      "Walks          0.084749\n",
      "Years          0.322649\n",
      "CAtBat         0.000878\n",
      "CHits          0.003245\n",
      "CHmRun         0.025455\n",
      "CRuns          0.006539\n",
      "CRBI           0.006857\n",
      "CWalks         0.007024\n",
      "PutOuts        0.003530\n",
      "Assists        0.001929\n",
      "Errors        -0.001574\n",
      "League_A      -0.099161\n",
      "League_N       0.099161\n",
      "Division_E     1.225685\n",
      "Division_W    -1.225685\n",
      "NewLeague_A   -0.236860\n",
      "NewLeague_N    0.236860\n",
      "dtype: float64\n",
      "RSE = 281032.1523109658\n",
      "R² = 0.044358059473816214\n"
     ]
    }
   ],
   "source": [
    "#TO_DO 7 Hacer regresión Ridge para lambda=10^10. Imprimir los coeficientes obtenidos y el error MSE\n",
    "# Usar el parámetro normalize=True\n",
    "\n",
    "ridge = Ridge(alpha = 100, normalize = True)\n",
    "ridge.fit(X_train, y_train)                \n",
    "pred = ridge.predict(X_test)               \n",
    "\n",
    "print(pd.Series(ridge.coef_, index = X.columns)) \n",
    "print(\"RSE =\", mean_squared_error(y_test, pred))        \n",
    "print('R² =', ridge.score(X_test, y_test)) "
   ]
  },
  {
   "cell_type": "markdown",
   "metadata": {
    "cell_id": "3513581dfd394039901033ad77cb6dbb",
    "deepnote_cell_type": "markdown",
    "id": "hG9rLSeBypmX"
   },
   "source": [
    "TO_DO 8: Cuál debería ser el coeficiente de determinación R^2 al asignar Lambda=0? Justifique y compruebe en la siguiente celda.\n",
    "\n",
    "**Respuesta y justificación:**\n",
    "\n",
    "Cuando alfa = 0, el objetivo es equivalente a mínimos cuadrados ordinarios."
   ]
  },
  {
   "cell_type": "code",
   "execution_count": 18,
   "metadata": {
    "cell_id": "f9c8e8f699f741c2a1eb069fecbd2990",
    "deepnote_cell_type": "code",
    "deepnote_to_be_reexecuted": false,
    "execution_millis": 16,
    "execution_start": 1675978412055,
    "id": "cPKuNNqivH8v",
    "source_hash": "c0a15276"
   },
   "outputs": [
    {
     "name": "stdout",
     "output_type": "stream",
     "text": [
      "AtBat          -1.834146\n",
      "Hits            7.021244\n",
      "HmRun          11.279774\n",
      "Runs           -1.786829\n",
      "RBI            -2.910850\n",
      "Walks           7.360806\n",
      "Years           5.858296\n",
      "CAtBat         -0.149143\n",
      "CHits           0.306629\n",
      "CHmRun         -0.652869\n",
      "CRuns           1.016259\n",
      "CRBI            0.695087\n",
      "CWalks         -0.863273\n",
      "PutOuts         0.193153\n",
      "Assists         0.459977\n",
      "Errors         -5.810322\n",
      "League_A      -16.099322\n",
      "League_N       16.099322\n",
      "Division_E     57.276941\n",
      "Division_W    -57.276941\n",
      "NewLeague_A    -2.118528\n",
      "NewLeague_N     2.118528\n",
      "dtype: float64\n",
      "RSE = 129058.6364962729\n",
      "R² = 0.5611397314906124\n"
     ]
    }
   ],
   "source": [
    "# TO_DO 9 Verifique su respuesta anterior.\n",
    "# Usar el parámetro normalize=True\n",
    "\n",
    "ridge = Ridge(alpha = 0, normalize = True)\n",
    "ridge.fit(X_train, y_train)                \n",
    "pred = ridge.predict(X_test)  \n",
    "\n",
    "print(pd.Series(ridge.coef_, index = X.columns)) \n",
    "print(\"RSE =\", mean_squared_error(y_test, pred))        \n",
    "print('R² =', ridge.score(X_test, y_test)) "
   ]
  },
  {
   "cell_type": "code",
   "execution_count": 19,
   "metadata": {
    "cell_id": "dc5d73d22b624efdbab531cff5aaac44",
    "deepnote_cell_type": "code",
    "deepnote_to_be_reexecuted": false,
    "execution_millis": 20,
    "execution_start": 1675978781283,
    "id": "ISu__2uNvbcp",
    "source_hash": "ec960f3c"
   },
   "outputs": [
    {
     "data": {
      "text/plain": [
       "0.01747528400007684"
      ]
     },
     "execution_count": 19,
     "metadata": {},
     "output_type": "execute_result"
    }
   ],
   "source": [
    "# con RidgeCV de SKLearn hacer cross validation con la lista de Lambdas y normalize True\n",
    "# Imprimir el alpha optimo. Note que usamos el parametro normalize=True\n",
    "ridgecv = RidgeCV(alphas = lambdas, normalize = True)\n",
    "ridgecv.fit(X_train, y_train)\n",
    "alphita = ridgecv.alpha_\n",
    "alphita"
   ]
  },
  {
   "cell_type": "code",
   "execution_count": 20,
   "metadata": {
    "cell_id": "4c49b78539744bbfa9e7c71a37c221f7",
    "deepnote_cell_type": "code",
    "deepnote_to_be_reexecuted": false,
    "execution_millis": 11,
    "execution_start": 1675978782786,
    "id": "-r72ay2gvjpo",
    "source_hash": "ffa74097"
   },
   "outputs": [
    {
     "name": "stdout",
     "output_type": "stream",
     "text": [
      "AtBat          -1.225726\n",
      "Hits            4.394193\n",
      "HmRun           5.949377\n",
      "Runs            0.500543\n",
      "RBI            -0.946982\n",
      "Walks           5.585597\n",
      "Years          -1.349922\n",
      "CAtBat         -0.018688\n",
      "CHits           0.205722\n",
      "CHmRun         -0.064280\n",
      "CRuns           0.432776\n",
      "CRBI            0.327277\n",
      "CWalks         -0.589424\n",
      "PutOuts         0.188154\n",
      "Assists         0.344924\n",
      "Errors         -6.137032\n",
      "League_A      -17.384447\n",
      "League_N       17.384447\n",
      "Division_E     60.225864\n",
      "Division_W    -60.225864\n",
      "NewLeague_A    -0.388878\n",
      "NewLeague_N     0.388878\n",
      "dtype: float64\n",
      "RSE = 133547.42368174865\n",
      "R² = 0.5458757367438813\n"
     ]
    }
   ],
   "source": [
    "#TO_DO 10 Con el alpha optimo hallado arriba, calcular los coeficientes(parámetros),\n",
    "# el error cuadrático MSE y el coeficiente de determinación R^2 en el conjunto de Testeo.\n",
    "# Usar el parámetro normalize=True\n",
    "\n",
    "ridge = Ridge(alpha = alphita, normalize = True)\n",
    "ridge.fit(X_train, y_train)                \n",
    "pred = ridge.predict(X_test)  \n",
    "\n",
    "print(pd.Series(ridge.coef_, index = X.columns)) \n",
    "print(\"RSE =\", mean_squared_error(y_test, pred))        \n",
    "print('R² =', ridge.score(X_test, y_test)) "
   ]
  },
  {
   "cell_type": "markdown",
   "metadata": {
    "cell_id": "f1ec7110280e4758b76d327bdb7d3b3c",
    "deepnote_cell_type": "markdown",
    "id": "X1tTtE2w1OcF"
   },
   "source": [
    "## Regresión Lasso\n",
    "Ahora aplicaremos regresión Lasso a éste conjunto de datos. Para esto, en primero lugar encontremos el valor óptimo de Lambda."
   ]
  },
  {
   "cell_type": "code",
   "execution_count": 23,
   "metadata": {
    "cell_id": "d4d7b7f37b18438cb7aa7b0f1c664b6e",
    "deepnote_cell_type": "code",
    "deepnote_to_be_reexecuted": false,
    "execution_millis": 48,
    "execution_start": 1675979025074,
    "id": "d_Acv6lawBDT",
    "source_hash": "5360553f"
   },
   "outputs": [
    {
     "data": {
      "text/plain": [
       "1.5199110829529332"
      ]
     },
     "execution_count": 23,
     "metadata": {},
     "output_type": "execute_result"
    }
   ],
   "source": [
    "# TO_DO 11 Determinar el valor óptimo de Lambda mediante corss-validation\n",
    "## Usar el parámetro normalize=True\n",
    "\n",
    "lassocv = LassoCV(alphas = lambdas, normalize = True)\n",
    "lassocv.fit(X_train, y_train)\n",
    "alphita = lassocv.alpha_\n",
    "alphita"
   ]
  },
  {
   "cell_type": "code",
   "execution_count": 24,
   "metadata": {
    "cell_id": "1f73331ec42f404180eb2a7e98d3bb62",
    "deepnote_cell_type": "code",
    "deepnote_to_be_reexecuted": false,
    "execution_millis": 15,
    "execution_start": 1675979044402,
    "id": "5dO8Eg-EwXND",
    "source_hash": "89048c72"
   },
   "outputs": [
    {
     "name": "stdout",
     "output_type": "stream",
     "text": [
      "RSE = 147855.5487504916\n"
     ]
    }
   ],
   "source": [
    "# TO_DO 12 Aplicar regresión de Lasso al conjunto de datos, usando el valor de Lambda encontrado arriba\n",
    "# Usar el parámetro normalize=True\n",
    "\n",
    "lasso = Lasso(alpha = alphita, normalize = True)\n",
    "lasso.fit(X_train, y_train)                \n",
    "pred = lasso.predict(X_test)  \n",
    "\n",
    "print(\"RSE =\", mean_squared_error(y_test, pred))        "
   ]
  },
  {
   "cell_type": "code",
   "execution_count": 25,
   "metadata": {
    "cell_id": "2b6a0780b936451a85687c44717e44d7",
    "deepnote_cell_type": "code",
    "deepnote_to_be_reexecuted": false,
    "execution_millis": 7,
    "execution_start": 1675979027024,
    "id": "mBX9-ongw1XA",
    "source_hash": "4a52b8ca"
   },
   "outputs": [
    {
     "data": {
      "text/plain": [
       "AtBat          0.000000e+00\n",
       "Hits           2.017124e+00\n",
       "HmRun          5.598871e-01\n",
       "Runs           0.000000e+00\n",
       "RBI            0.000000e+00\n",
       "Walks          2.597229e+00\n",
       "Years          0.000000e+00\n",
       "CAtBat         0.000000e+00\n",
       "CHits          1.081377e-01\n",
       "CHmRun         0.000000e+00\n",
       "CRuns          1.365369e-01\n",
       "CRBI           1.929720e-01\n",
       "CWalks         0.000000e+00\n",
       "PutOuts        1.058311e-01\n",
       "Assists       -0.000000e+00\n",
       "Errors        -0.000000e+00\n",
       "League_A      -0.000000e+00\n",
       "League_N       0.000000e+00\n",
       "Division_E     8.066397e+01\n",
       "Division_W    -1.768045e-12\n",
       "NewLeague_A   -0.000000e+00\n",
       "NewLeague_N    0.000000e+00\n",
       "dtype: float64"
      ]
     },
     "execution_count": 25,
     "metadata": {},
     "output_type": "execute_result"
    }
   ],
   "source": [
    "#Imprimir los coeficientes de la misma forma que en Ridge.\n",
    "pd.Series(lasso.coef_, index=X.columns)"
   ]
  },
  {
   "cell_type": "code",
   "execution_count": 26,
   "metadata": {
    "cell_id": "8f73c8c886bd4c19a2eefd6c311880c4",
    "deepnote_cell_type": "code",
    "deepnote_to_be_reexecuted": false,
    "execution_millis": 4,
    "execution_start": 1675979040180,
    "id": "JdjVTuwhxBf3",
    "source_hash": "5a89b1e0"
   },
   "outputs": [
    {
     "name": "stdout",
     "output_type": "stream",
     "text": [
      "R² = 0.4972213593228415\n"
     ]
    }
   ],
   "source": [
    "#Imprimir el score (R^2)\n",
    "print('R² =', lasso.score(X_test, y_test)) "
   ]
  },
  {
   "cell_type": "markdown",
   "metadata": {
    "cell_id": "100b54789c034a19bbb20a5e9201af87",
    "deepnote_cell_type": "markdown",
    "id": "xF5UUEhx5r1_"
   },
   "source": [
    "TO_DO 13: Escriba sus conclusiones acerca de los diferentes modelos obtenidos y sus métricas."
   ]
  },
  {
   "cell_type": "markdown",
   "metadata": {
    "cell_id": "08a4368f2305439cab06d9b7d382e6e7",
    "deepnote_cell_type": "text-cell-p",
    "formattedRanges": [],
    "is_collapsed": false,
    "tags": []
   },
   "source": [
    "Ridge da mucho mejor resultado que Lasso, además podemos ver que Lasso llega a volver a muchos de los pesos cero, mientras que en Ridge ninguno de ellos es cero."
   ]
  },
  {
   "cell_type": "markdown",
   "metadata": {
    "created_in_deepnote_cell": true,
    "deepnote_cell_type": "markdown",
    "tags": []
   },
   "source": [
    "<a style='text-decoration:none;line-height:16px;display:flex;color:#5B5B62;padding:10px;justify-content:end;' href='https://deepnote.com?utm_source=created-in-deepnote-cell&projectId=81522db6-28e8-41ef-9371-86481a774b0a' target=\"_blank\">\n",
    "<img alt='Created in deepnote.com' style='display:inline;max-height:16px;margin:0px;margin-right:7.5px;' src='data:image/svg+xml;base64,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' > </img>\n",
    "Created in <span style='font-weight:600;margin-left:4px;'>Deepnote</span></a>"
   ]
  }
 ],
 "metadata": {
  "colab": {
   "provenance": []
  },
  "deepnote": {},
  "deepnote_execution_queue": [],
  "deepnote_notebook_id": "205a85da280540d39efcc4d068501f38",
  "kernelspec": {
   "display_name": "Python 3 (ipykernel)",
   "language": "python",
   "name": "python3"
  },
  "language_info": {
   "codemirror_mode": {
    "name": "ipython",
    "version": 3
   },
   "file_extension": ".py",
   "mimetype": "text/x-python",
   "name": "python",
   "nbconvert_exporter": "python",
   "pygments_lexer": "ipython3",
   "version": "3.9.7"
  }
 },
 "nbformat": 4,
 "nbformat_minor": 1
}
