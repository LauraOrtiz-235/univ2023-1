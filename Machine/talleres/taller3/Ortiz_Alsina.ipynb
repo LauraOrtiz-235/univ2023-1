{
 "cells": [
  {
   "cell_type": "markdown",
   "metadata": {
    "cell_id": "a2f4e1feef1c42cab850856ae1158bd1",
    "deepnote_cell_type": "markdown",
    "id": "vb7JcpGytwI-"
   },
   "source": [
    "# Taller Vecinos más cercanos (KNN)"
   ]
  },
  {
   "cell_type": "markdown",
   "metadata": {
    "cell_id": "9819b59a947746f08a9ac1be7e4dda5e",
    "deepnote_cell_type": "markdown",
    "id": "TfBew5r1uKq3"
   },
   "source": [
    "Usamos el método de vecinos más cercanos para clasificación. Por un lado, analizamos el Iris Dataset sobre especies de flores. Por el otro lado analizamos la supervivencia en la tragedia del Titanic utilizando diferentes valores de K. \n",
    "\n",
    "Importamos primero las librerías y paquetes que utilizaremos. Puede importar otros si lo considera útil."
   ]
  },
  {
   "cell_type": "code",
   "execution_count": 1,
   "metadata": {
    "cell_id": "32e0a270dd2d49e29bcd2d4f57508c74",
    "deepnote_cell_type": "code",
    "deepnote_to_be_reexecuted": false,
    "execution_millis": 872,
    "execution_start": 1677189958830,
    "id": "y1nYtnFwncsf",
    "source_hash": "704469f2"
   },
   "outputs": [],
   "source": [
    "#importar paquetes\n",
    "import numpy as np\n",
    "import pandas as pd\n",
    "import matplotlib.pyplot as plt\n",
    "from sklearn.model_selection import train_test_split\n",
    "from sklearn.neighbors import KNeighborsClassifier"
   ]
  },
  {
   "cell_type": "markdown",
   "metadata": {
    "cell_id": "b294725106744fdcba17863947cbc041",
    "deepnote_cell_type": "markdown",
    "id": "y2PGF2SZV1Ep"
   },
   "source": [
    "## Iris Dataset\n",
    "\n",
    "Importamos el conjunto de datos desde sklearn.\n",
    "\n",
    "\n"
   ]
  },
  {
   "cell_type": "code",
   "execution_count": 2,
   "metadata": {
    "cell_id": "b4eb2326045a48eea9aefacef58b2244",
    "deepnote_cell_type": "code",
    "deepnote_to_be_reexecuted": false,
    "execution_millis": 38,
    "execution_start": 1677189959711,
    "id": "-je5Z5yIiAht",
    "source_hash": "a527aed9"
   },
   "outputs": [],
   "source": [
    "#importar dataset\n",
    "from sklearn.datasets import load_iris"
   ]
  },
  {
   "cell_type": "code",
   "execution_count": 3,
   "metadata": {
    "cell_id": "9f412290dc67444cb5921cf37dd0fc62",
    "deepnote_cell_type": "code",
    "deepnote_to_be_reexecuted": false,
    "execution_millis": 28,
    "execution_start": 1677189959753,
    "id": "aGVzYnkVAzcG",
    "source_hash": "cd44fdd8"
   },
   "outputs": [],
   "source": [
    "#Importar iris dataset y separar en data y target\n",
    "iris = load_iris()\n",
    "X=pd.DataFrame(iris.data)\n",
    "y=pd.DataFrame(iris.target)"
   ]
  },
  {
   "cell_type": "markdown",
   "metadata": {
    "cell_id": "68e56f49b954492aa6069fd716c8ea4e",
    "deepnote_cell_type": "markdown",
    "id": "4b1lK_jfRN0G"
   },
   "source": [
    "Primero separamos el conjunto de datos en Train y Test, en una proporción de 70%, 30%."
   ]
  },
  {
   "cell_type": "code",
   "execution_count": 4,
   "metadata": {
    "cell_id": "6cfd44e39a114a99b4fb566556ab17e9",
    "deepnote_cell_type": "code",
    "deepnote_to_be_reexecuted": false,
    "execution_millis": 0,
    "execution_start": 1677189959781,
    "id": "iD4eBBStBuIu",
    "source_hash": "247086ad"
   },
   "outputs": [],
   "source": [
    "#Separar en train y test\n",
    "X_train, X_test, y_train, y_test = train_test_split(X, y, test_size=0.3, train_size=0.7, random_state=0, shuffle=True)"
   ]
  },
  {
   "cell_type": "markdown",
   "metadata": {
    "cell_id": "bc3462252f6748a891e326496649dbc3",
    "deepnote_cell_type": "markdown",
    "id": "CCarZX--RanF"
   },
   "source": [
    "Importamos el classificador KNeighborsClassifier de SKLearn con el nombre *knn*. Usar k=3.\n"
   ]
  },
  {
   "cell_type": "code",
   "execution_count": 5,
   "metadata": {
    "cell_id": "89e6995befb8468ead5613c518e2f8e3",
    "deepnote_cell_type": "code",
    "deepnote_to_be_reexecuted": false,
    "execution_millis": 0,
    "execution_start": 1677189959782,
    "id": "vsn3h3j2BmAk",
    "source_hash": "7a09ae9b"
   },
   "outputs": [],
   "source": [
    "#TODO1 importar KNeighborsClassifier con k=3 con el nombre knn\n",
    "from sklearn.neighbors import KNeighborsClassifier\n",
    "\n",
    "knn = KNeighborsClassifier(n_neighbors=3)\n"
   ]
  },
  {
   "cell_type": "markdown",
   "metadata": {
    "cell_id": "e97cfe4a3b5e4d1bb8535d1743291613",
    "deepnote_cell_type": "markdown",
    "id": "EIWHeEGDSMeY"
   },
   "source": [
    "Entrenamos el clasificador con los datos de entrenamiento."
   ]
  },
  {
   "cell_type": "code",
   "execution_count": 6,
   "metadata": {
    "cell_id": "3b1a005c4dd3419eb331ca2d1ed559f6",
    "deepnote_cell_type": "code",
    "deepnote_to_be_reexecuted": false,
    "execution_millis": 4,
    "execution_start": 1677189959783,
    "id": "bxM2E55YB6n0",
    "source_hash": "e09a81c9"
   },
   "outputs": [
    {
     "name": "stderr",
     "output_type": "stream",
     "text": [
      "/shared-libs/python3.9/py/lib/python3.9/site-packages/sklearn/neighbors/_classification.py:207: DataConversionWarning: A column-vector y was passed when a 1d array was expected. Please change the shape of y to (n_samples,), for example using ravel().\n",
      "  return self._fit(X, y)\n"
     ]
    },
    {
     "data": {
      "text/html": [
       "<style>#sk-container-id-1 {color: black;background-color: white;}#sk-container-id-1 pre{padding: 0;}#sk-container-id-1 div.sk-toggleable {background-color: white;}#sk-container-id-1 label.sk-toggleable__label {cursor: pointer;display: block;width: 100%;margin-bottom: 0;padding: 0.3em;box-sizing: border-box;text-align: center;}#sk-container-id-1 label.sk-toggleable__label-arrow:before {content: \"▸\";float: left;margin-right: 0.25em;color: #696969;}#sk-container-id-1 label.sk-toggleable__label-arrow:hover:before {color: black;}#sk-container-id-1 div.sk-estimator:hover label.sk-toggleable__label-arrow:before {color: black;}#sk-container-id-1 div.sk-toggleable__content {max-height: 0;max-width: 0;overflow: hidden;text-align: left;background-color: #f0f8ff;}#sk-container-id-1 div.sk-toggleable__content pre {margin: 0.2em;color: black;border-radius: 0.25em;background-color: #f0f8ff;}#sk-container-id-1 input.sk-toggleable__control:checked~div.sk-toggleable__content {max-height: 200px;max-width: 100%;overflow: auto;}#sk-container-id-1 input.sk-toggleable__control:checked~label.sk-toggleable__label-arrow:before {content: \"▾\";}#sk-container-id-1 div.sk-estimator input.sk-toggleable__control:checked~label.sk-toggleable__label {background-color: #d4ebff;}#sk-container-id-1 div.sk-label input.sk-toggleable__control:checked~label.sk-toggleable__label {background-color: #d4ebff;}#sk-container-id-1 input.sk-hidden--visually {border: 0;clip: rect(1px 1px 1px 1px);clip: rect(1px, 1px, 1px, 1px);height: 1px;margin: -1px;overflow: hidden;padding: 0;position: absolute;width: 1px;}#sk-container-id-1 div.sk-estimator {font-family: monospace;background-color: #f0f8ff;border: 1px dotted black;border-radius: 0.25em;box-sizing: border-box;margin-bottom: 0.5em;}#sk-container-id-1 div.sk-estimator:hover {background-color: #d4ebff;}#sk-container-id-1 div.sk-parallel-item::after {content: \"\";width: 100%;border-bottom: 1px solid gray;flex-grow: 1;}#sk-container-id-1 div.sk-label:hover label.sk-toggleable__label {background-color: #d4ebff;}#sk-container-id-1 div.sk-serial::before {content: \"\";position: absolute;border-left: 1px solid gray;box-sizing: border-box;top: 0;bottom: 0;left: 50%;z-index: 0;}#sk-container-id-1 div.sk-serial {display: flex;flex-direction: column;align-items: center;background-color: white;padding-right: 0.2em;padding-left: 0.2em;position: relative;}#sk-container-id-1 div.sk-item {position: relative;z-index: 1;}#sk-container-id-1 div.sk-parallel {display: flex;align-items: stretch;justify-content: center;background-color: white;position: relative;}#sk-container-id-1 div.sk-item::before, #sk-container-id-1 div.sk-parallel-item::before {content: \"\";position: absolute;border-left: 1px solid gray;box-sizing: border-box;top: 0;bottom: 0;left: 50%;z-index: -1;}#sk-container-id-1 div.sk-parallel-item {display: flex;flex-direction: column;z-index: 1;position: relative;background-color: white;}#sk-container-id-1 div.sk-parallel-item:first-child::after {align-self: flex-end;width: 50%;}#sk-container-id-1 div.sk-parallel-item:last-child::after {align-self: flex-start;width: 50%;}#sk-container-id-1 div.sk-parallel-item:only-child::after {width: 0;}#sk-container-id-1 div.sk-dashed-wrapped {border: 1px dashed gray;margin: 0 0.4em 0.5em 0.4em;box-sizing: border-box;padding-bottom: 0.4em;background-color: white;}#sk-container-id-1 div.sk-label label {font-family: monospace;font-weight: bold;display: inline-block;line-height: 1.2em;}#sk-container-id-1 div.sk-label-container {text-align: center;}#sk-container-id-1 div.sk-container {/* jupyter's `normalize.less` sets `[hidden] { display: none; }` but bootstrap.min.css set `[hidden] { display: none !important; }` so we also need the `!important` here to be able to override the default hidden behavior on the sphinx rendered scikit-learn.org. See: https://github.com/scikit-learn/scikit-learn/issues/21755 */display: inline-block !important;position: relative;}#sk-container-id-1 div.sk-text-repr-fallback {display: none;}</style><div id=\"sk-container-id-1\" class=\"sk-top-container\"><div class=\"sk-text-repr-fallback\"><pre>KNeighborsClassifier(n_neighbors=3)</pre><b>In a Jupyter environment, please rerun this cell to show the HTML representation or trust the notebook. <br />On GitHub, the HTML representation is unable to render, please try loading this page with nbviewer.org.</b></div><div class=\"sk-container\" hidden><div class=\"sk-item\"><div class=\"sk-estimator sk-toggleable\"><input class=\"sk-toggleable__control sk-hidden--visually\" id=\"sk-estimator-id-1\" type=\"checkbox\" checked><label for=\"sk-estimator-id-1\" class=\"sk-toggleable__label sk-toggleable__label-arrow\">KNeighborsClassifier</label><div class=\"sk-toggleable__content\"><pre>KNeighborsClassifier(n_neighbors=3)</pre></div></div></div></div></div>"
      ],
      "text/plain": [
       "KNeighborsClassifier(n_neighbors=3)"
      ]
     },
     "execution_count": 6,
     "metadata": {},
     "output_type": "execute_result"
    }
   ],
   "source": [
    "#TODO2 entrenar knn con los datos de entrenamiento\n",
    "knn.fit(X_train, y_train)\n"
   ]
  },
  {
   "cell_type": "markdown",
   "metadata": {
    "cell_id": "78e0937c4c3242a1b51579b2711baa68",
    "deepnote_cell_type": "markdown",
    "id": "6cQAgKmeSd78"
   },
   "source": [
    "Calculamos la exactitud del modelo en los datos Test, con el método *score* del clasificador."
   ]
  },
  {
   "cell_type": "code",
   "execution_count": 7,
   "metadata": {
    "cell_id": "878ebfee7b0c4a93b9fe2109479338a3",
    "deepnote_cell_type": "code",
    "deepnote_to_be_reexecuted": false,
    "execution_millis": 6,
    "execution_start": 1677189959787,
    "id": "zlrL9JhAB87q",
    "source_hash": "4987935e"
   },
   "outputs": [
    {
     "name": "stdout",
     "output_type": "stream",
     "text": [
      "R²: 0.9619047619047619\n"
     ]
    }
   ],
   "source": [
    "#TODO3 calcular la exactitud (score) del modelo en los datos test.\n",
    "\n",
    "print(\"R²:\", knn.score(X_train, y_train))"
   ]
  },
  {
   "cell_type": "markdown",
   "metadata": {
    "cell_id": "0516a158267d4a11a1c8dc87814d328a",
    "deepnote_cell_type": "markdown",
    "id": "SeWq0Z6I0Jkk"
   },
   "source": [
    "**TODO 4**: Observe los diagramas de dispersión del Iris datset [aquí](https://es.wikipedia.org/wiki/Conjunto_de_datos_flor_iris).¿Cree que la exactitud mejorará con un k más pequeño?¿Cree que mejorará con un K más grande? ¿Por qué? \n",
    "\n",
    "- Dado que están muy bien agrupados dentro de sus clusters puede que aumentar el número de vecinos no suena a muy buena idea, por que pueden empezar a tenerse más encuenta los pesos de otros clusters.\n",
    "\n",
    "## Titanic Dataset\n",
    "Ahora analizamos la supervivencia en el naufragio del Titanic. El conjunto de datos, así como el diccionario de atributos, puede verlos [aquí](https://www.kaggle.com/competitions/titanic/data).\n",
    "\n",
    "*Observación* Usaremos sólo el conjunto Train proporcionado en Kaggle para la fase Test y Train en el taller."
   ]
  },
  {
   "cell_type": "code",
   "execution_count": 8,
   "metadata": {
    "cell_id": "ec957132cb7c434b95d8bd31b1408d18",
    "deepnote_cell_type": "code",
    "deepnote_table_loading": false,
    "deepnote_table_state": {
     "filters": [],
     "pageIndex": 0,
     "pageSize": 100,
     "sortBy": []
    },
    "deepnote_to_be_reexecuted": false,
    "execution_millis": 32,
    "execution_start": 1677189959795,
    "id": "mmzuPixPE4NO",
    "source_hash": "ed8e4f70"
   },
   "outputs": [
    {
     "data": {
      "application/vnd.deepnote.dataframe.v3+json": {
       "column_count": 12,
       "columns": [
        {
         "dtype": "int64",
         "name": "PassengerId",
         "stats": {
          "histogram": [
           {
            "bin_end": 1.4,
            "bin_start": 1,
            "count": 1
           },
           {
            "bin_end": 1.8,
            "bin_start": 1.4,
            "count": 0
           },
           {
            "bin_end": 2.2,
            "bin_start": 1.8,
            "count": 1
           },
           {
            "bin_end": 2.6,
            "bin_start": 2.2,
            "count": 0
           },
           {
            "bin_end": 3,
            "bin_start": 2.6,
            "count": 0
           },
           {
            "bin_end": 3.4000000000000004,
            "bin_start": 3,
            "count": 1
           },
           {
            "bin_end": 3.8000000000000003,
            "bin_start": 3.4000000000000004,
            "count": 0
           },
           {
            "bin_end": 4.2,
            "bin_start": 3.8000000000000003,
            "count": 1
           },
           {
            "bin_end": 4.6,
            "bin_start": 4.2,
            "count": 0
           },
           {
            "bin_end": 5,
            "bin_start": 4.6,
            "count": 1
           }
          ],
          "max": "5",
          "min": "1",
          "nan_count": 0,
          "unique_count": 5
         }
        },
        {
         "dtype": "int64",
         "name": "Survived",
         "stats": {
          "histogram": [
           {
            "bin_end": 0.1,
            "bin_start": 0,
            "count": 2
           },
           {
            "bin_end": 0.2,
            "bin_start": 0.1,
            "count": 0
           },
           {
            "bin_end": 0.30000000000000004,
            "bin_start": 0.2,
            "count": 0
           },
           {
            "bin_end": 0.4,
            "bin_start": 0.30000000000000004,
            "count": 0
           },
           {
            "bin_end": 0.5,
            "bin_start": 0.4,
            "count": 0
           },
           {
            "bin_end": 0.6000000000000001,
            "bin_start": 0.5,
            "count": 0
           },
           {
            "bin_end": 0.7000000000000001,
            "bin_start": 0.6000000000000001,
            "count": 0
           },
           {
            "bin_end": 0.8,
            "bin_start": 0.7000000000000001,
            "count": 0
           },
           {
            "bin_end": 0.9,
            "bin_start": 0.8,
            "count": 0
           },
           {
            "bin_end": 1,
            "bin_start": 0.9,
            "count": 3
           }
          ],
          "max": "1",
          "min": "0",
          "nan_count": 0,
          "unique_count": 2
         }
        },
        {
         "dtype": "int64",
         "name": "Pclass",
         "stats": {
          "histogram": [
           {
            "bin_end": 1.2,
            "bin_start": 1,
            "count": 2
           },
           {
            "bin_end": 1.4,
            "bin_start": 1.2,
            "count": 0
           },
           {
            "bin_end": 1.6,
            "bin_start": 1.4,
            "count": 0
           },
           {
            "bin_end": 1.8,
            "bin_start": 1.6,
            "count": 0
           },
           {
            "bin_end": 2,
            "bin_start": 1.8,
            "count": 0
           },
           {
            "bin_end": 2.2,
            "bin_start": 2,
            "count": 0
           },
           {
            "bin_end": 2.4000000000000004,
            "bin_start": 2.2,
            "count": 0
           },
           {
            "bin_end": 2.6,
            "bin_start": 2.4000000000000004,
            "count": 0
           },
           {
            "bin_end": 2.8,
            "bin_start": 2.6,
            "count": 0
           },
           {
            "bin_end": 3,
            "bin_start": 2.8,
            "count": 3
           }
          ],
          "max": "3",
          "min": "1",
          "nan_count": 0,
          "unique_count": 2
         }
        },
        {
         "dtype": "object",
         "name": "Name",
         "stats": {
          "categories": [
           {
            "count": 1,
            "name": "Braund, Mr. Owen Harris"
           },
           {
            "count": 1,
            "name": "Cumings, Mrs. John Bradley (Florence Briggs Thayer)"
           },
           {
            "count": 3,
            "name": "3 others"
           }
          ],
          "nan_count": 0,
          "unique_count": 5
         }
        },
        {
         "dtype": "object",
         "name": "Sex",
         "stats": {
          "categories": [
           {
            "count": 3,
            "name": "female"
           },
           {
            "count": 2,
            "name": "male"
           }
          ],
          "nan_count": 0,
          "unique_count": 2
         }
        },
        {
         "dtype": "float64",
         "name": "Age",
         "stats": {
          "histogram": [
           {
            "bin_end": 23.6,
            "bin_start": 22,
            "count": 1
           },
           {
            "bin_end": 25.2,
            "bin_start": 23.6,
            "count": 0
           },
           {
            "bin_end": 26.8,
            "bin_start": 25.2,
            "count": 1
           },
           {
            "bin_end": 28.4,
            "bin_start": 26.8,
            "count": 0
           },
           {
            "bin_end": 30,
            "bin_start": 28.4,
            "count": 0
           },
           {
            "bin_end": 31.6,
            "bin_start": 30,
            "count": 0
           },
           {
            "bin_end": 33.2,
            "bin_start": 31.6,
            "count": 0
           },
           {
            "bin_end": 34.8,
            "bin_start": 33.2,
            "count": 0
           },
           {
            "bin_end": 36.4,
            "bin_start": 34.8,
            "count": 2
           },
           {
            "bin_end": 38,
            "bin_start": 36.4,
            "count": 1
           }
          ],
          "max": "38.0",
          "min": "22.0",
          "nan_count": 0,
          "unique_count": 4
         }
        },
        {
         "dtype": "int64",
         "name": "SibSp",
         "stats": {
          "histogram": [
           {
            "bin_end": 0.1,
            "bin_start": 0,
            "count": 2
           },
           {
            "bin_end": 0.2,
            "bin_start": 0.1,
            "count": 0
           },
           {
            "bin_end": 0.30000000000000004,
            "bin_start": 0.2,
            "count": 0
           },
           {
            "bin_end": 0.4,
            "bin_start": 0.30000000000000004,
            "count": 0
           },
           {
            "bin_end": 0.5,
            "bin_start": 0.4,
            "count": 0
           },
           {
            "bin_end": 0.6000000000000001,
            "bin_start": 0.5,
            "count": 0
           },
           {
            "bin_end": 0.7000000000000001,
            "bin_start": 0.6000000000000001,
            "count": 0
           },
           {
            "bin_end": 0.8,
            "bin_start": 0.7000000000000001,
            "count": 0
           },
           {
            "bin_end": 0.9,
            "bin_start": 0.8,
            "count": 0
           },
           {
            "bin_end": 1,
            "bin_start": 0.9,
            "count": 3
           }
          ],
          "max": "1",
          "min": "0",
          "nan_count": 0,
          "unique_count": 2
         }
        },
        {
         "dtype": "int64",
         "name": "Parch",
         "stats": {
          "histogram": [
           {
            "bin_end": -0.4,
            "bin_start": -0.5,
            "count": 0
           },
           {
            "bin_end": -0.3,
            "bin_start": -0.4,
            "count": 0
           },
           {
            "bin_end": -0.19999999999999996,
            "bin_start": -0.3,
            "count": 0
           },
           {
            "bin_end": -0.09999999999999998,
            "bin_start": -0.19999999999999996,
            "count": 0
           },
           {
            "bin_end": 0,
            "bin_start": -0.09999999999999998,
            "count": 0
           },
           {
            "bin_end": 0.10000000000000009,
            "bin_start": 0,
            "count": 5
           },
           {
            "bin_end": 0.20000000000000007,
            "bin_start": 0.10000000000000009,
            "count": 0
           },
           {
            "bin_end": 0.30000000000000004,
            "bin_start": 0.20000000000000007,
            "count": 0
           },
           {
            "bin_end": 0.4,
            "bin_start": 0.30000000000000004,
            "count": 0
           },
           {
            "bin_end": 0.5,
            "bin_start": 0.4,
            "count": 0
           }
          ],
          "max": "0",
          "min": "0",
          "nan_count": 0,
          "unique_count": 1
         }
        },
        {
         "dtype": "object",
         "name": "Ticket",
         "stats": {
          "categories": [
           {
            "count": 1,
            "name": "A/5 21171"
           },
           {
            "count": 1,
            "name": "PC 17599"
           },
           {
            "count": 3,
            "name": "3 others"
           }
          ],
          "nan_count": 0,
          "unique_count": 5
         }
        },
        {
         "dtype": "float64",
         "name": "Fare",
         "stats": {
          "histogram": [
           {
            "bin_end": 13.65333,
            "bin_start": 7.25,
            "count": 3
           },
           {
            "bin_end": 20.05666,
            "bin_start": 13.65333,
            "count": 0
           },
           {
            "bin_end": 26.459989999999998,
            "bin_start": 20.05666,
            "count": 0
           },
           {
            "bin_end": 32.86332,
            "bin_start": 26.459989999999998,
            "count": 0
           },
           {
            "bin_end": 39.26665,
            "bin_start": 32.86332,
            "count": 0
           },
           {
            "bin_end": 45.669979999999995,
            "bin_start": 39.26665,
            "count": 0
           },
           {
            "bin_end": 52.07331,
            "bin_start": 45.669979999999995,
            "count": 0
           },
           {
            "bin_end": 58.476639999999996,
            "bin_start": 52.07331,
            "count": 1
           },
           {
            "bin_end": 64.87996999999999,
            "bin_start": 58.476639999999996,
            "count": 0
           },
           {
            "bin_end": 71.2833,
            "bin_start": 64.87996999999999,
            "count": 1
           }
          ],
          "max": "71.2833",
          "min": "7.25",
          "nan_count": 0,
          "unique_count": 5
         }
        },
        {
         "dtype": "object",
         "name": "Cabin",
         "stats": {
          "categories": [
           {
            "count": 1,
            "name": "C85"
           },
           {
            "count": 1,
            "name": "C123"
           },
           {
            "count": 3,
            "name": "Missing"
           }
          ],
          "nan_count": 3,
          "unique_count": 2
         }
        },
        {
         "dtype": "object",
         "name": "Embarked",
         "stats": {
          "categories": [
           {
            "count": 4,
            "name": "S"
           },
           {
            "count": 1,
            "name": "C"
           }
          ],
          "nan_count": 0,
          "unique_count": 2
         }
        },
        {
         "dtype": "int64",
         "name": "_deepnote_index_column"
        }
       ],
       "row_count": 5,
       "rows": [
        {
         "Age": "22.0",
         "Cabin": "nan",
         "Embarked": "S",
         "Fare": "7.25",
         "Name": "Braund, Mr. Owen Harris",
         "Parch": "0",
         "PassengerId": "1",
         "Pclass": "3",
         "Sex": "male",
         "SibSp": "1",
         "Survived": "0",
         "Ticket": "A/5 21171",
         "_deepnote_index_column": "0"
        },
        {
         "Age": "38.0",
         "Cabin": "C85",
         "Embarked": "C",
         "Fare": "71.2833",
         "Name": "Cumings, Mrs. John Bradley (Florence Briggs Thayer)",
         "Parch": "0",
         "PassengerId": "2",
         "Pclass": "1",
         "Sex": "female",
         "SibSp": "1",
         "Survived": "1",
         "Ticket": "PC 17599",
         "_deepnote_index_column": "1"
        },
        {
         "Age": "26.0",
         "Cabin": "nan",
         "Embarked": "S",
         "Fare": "7.925",
         "Name": "Heikkinen, Miss. Laina",
         "Parch": "0",
         "PassengerId": "3",
         "Pclass": "3",
         "Sex": "female",
         "SibSp": "0",
         "Survived": "1",
         "Ticket": "STON/O2. 3101282",
         "_deepnote_index_column": "2"
        },
        {
         "Age": "35.0",
         "Cabin": "C123",
         "Embarked": "S",
         "Fare": "53.1",
         "Name": "Futrelle, Mrs. Jacques Heath (Lily May Peel)",
         "Parch": "0",
         "PassengerId": "4",
         "Pclass": "1",
         "Sex": "female",
         "SibSp": "1",
         "Survived": "1",
         "Ticket": "113803",
         "_deepnote_index_column": "3"
        },
        {
         "Age": "35.0",
         "Cabin": "nan",
         "Embarked": "S",
         "Fare": "8.05",
         "Name": "Allen, Mr. William Henry",
         "Parch": "0",
         "PassengerId": "5",
         "Pclass": "3",
         "Sex": "male",
         "SibSp": "0",
         "Survived": "0",
         "Ticket": "373450",
         "_deepnote_index_column": "4"
        }
       ]
      },
      "text/html": [
       "<div>\n",
       "<style scoped>\n",
       "    .dataframe tbody tr th:only-of-type {\n",
       "        vertical-align: middle;\n",
       "    }\n",
       "\n",
       "    .dataframe tbody tr th {\n",
       "        vertical-align: top;\n",
       "    }\n",
       "\n",
       "    .dataframe thead th {\n",
       "        text-align: right;\n",
       "    }\n",
       "</style>\n",
       "<table border=\"1\" class=\"dataframe\">\n",
       "  <thead>\n",
       "    <tr style=\"text-align: right;\">\n",
       "      <th></th>\n",
       "      <th>PassengerId</th>\n",
       "      <th>Survived</th>\n",
       "      <th>Pclass</th>\n",
       "      <th>Name</th>\n",
       "      <th>Sex</th>\n",
       "      <th>Age</th>\n",
       "      <th>SibSp</th>\n",
       "      <th>Parch</th>\n",
       "      <th>Ticket</th>\n",
       "      <th>Fare</th>\n",
       "      <th>Cabin</th>\n",
       "      <th>Embarked</th>\n",
       "    </tr>\n",
       "  </thead>\n",
       "  <tbody>\n",
       "    <tr>\n",
       "      <th>0</th>\n",
       "      <td>1</td>\n",
       "      <td>0</td>\n",
       "      <td>3</td>\n",
       "      <td>Braund, Mr. Owen Harris</td>\n",
       "      <td>male</td>\n",
       "      <td>22.0</td>\n",
       "      <td>1</td>\n",
       "      <td>0</td>\n",
       "      <td>A/5 21171</td>\n",
       "      <td>7.2500</td>\n",
       "      <td>NaN</td>\n",
       "      <td>S</td>\n",
       "    </tr>\n",
       "    <tr>\n",
       "      <th>1</th>\n",
       "      <td>2</td>\n",
       "      <td>1</td>\n",
       "      <td>1</td>\n",
       "      <td>Cumings, Mrs. John Bradley (Florence Briggs Th...</td>\n",
       "      <td>female</td>\n",
       "      <td>38.0</td>\n",
       "      <td>1</td>\n",
       "      <td>0</td>\n",
       "      <td>PC 17599</td>\n",
       "      <td>71.2833</td>\n",
       "      <td>C85</td>\n",
       "      <td>C</td>\n",
       "    </tr>\n",
       "    <tr>\n",
       "      <th>2</th>\n",
       "      <td>3</td>\n",
       "      <td>1</td>\n",
       "      <td>3</td>\n",
       "      <td>Heikkinen, Miss. Laina</td>\n",
       "      <td>female</td>\n",
       "      <td>26.0</td>\n",
       "      <td>0</td>\n",
       "      <td>0</td>\n",
       "      <td>STON/O2. 3101282</td>\n",
       "      <td>7.9250</td>\n",
       "      <td>NaN</td>\n",
       "      <td>S</td>\n",
       "    </tr>\n",
       "    <tr>\n",
       "      <th>3</th>\n",
       "      <td>4</td>\n",
       "      <td>1</td>\n",
       "      <td>1</td>\n",
       "      <td>Futrelle, Mrs. Jacques Heath (Lily May Peel)</td>\n",
       "      <td>female</td>\n",
       "      <td>35.0</td>\n",
       "      <td>1</td>\n",
       "      <td>0</td>\n",
       "      <td>113803</td>\n",
       "      <td>53.1000</td>\n",
       "      <td>C123</td>\n",
       "      <td>S</td>\n",
       "    </tr>\n",
       "    <tr>\n",
       "      <th>4</th>\n",
       "      <td>5</td>\n",
       "      <td>0</td>\n",
       "      <td>3</td>\n",
       "      <td>Allen, Mr. William Henry</td>\n",
       "      <td>male</td>\n",
       "      <td>35.0</td>\n",
       "      <td>0</td>\n",
       "      <td>0</td>\n",
       "      <td>373450</td>\n",
       "      <td>8.0500</td>\n",
       "      <td>NaN</td>\n",
       "      <td>S</td>\n",
       "    </tr>\n",
       "  </tbody>\n",
       "</table>\n",
       "</div>"
      ],
      "text/plain": [
       "   PassengerId  Survived  Pclass  \\\n",
       "0            1         0       3   \n",
       "1            2         1       1   \n",
       "2            3         1       3   \n",
       "3            4         1       1   \n",
       "4            5         0       3   \n",
       "\n",
       "                                                Name     Sex   Age  SibSp  \\\n",
       "0                            Braund, Mr. Owen Harris    male  22.0      1   \n",
       "1  Cumings, Mrs. John Bradley (Florence Briggs Th...  female  38.0      1   \n",
       "2                             Heikkinen, Miss. Laina  female  26.0      0   \n",
       "3       Futrelle, Mrs. Jacques Heath (Lily May Peel)  female  35.0      1   \n",
       "4                           Allen, Mr. William Henry    male  35.0      0   \n",
       "\n",
       "   Parch            Ticket     Fare Cabin Embarked  \n",
       "0      0         A/5 21171   7.2500   NaN        S  \n",
       "1      0          PC 17599  71.2833   C85        C  \n",
       "2      0  STON/O2. 3101282   7.9250   NaN        S  \n",
       "3      0            113803  53.1000  C123        S  \n",
       "4      0            373450   8.0500   NaN        S  "
      ]
     },
     "execution_count": 8,
     "metadata": {},
     "output_type": "execute_result"
    }
   ],
   "source": [
    "#importar los datos de entrenamiento del Titanic Dataset.\n",
    "df=pd.read_csv(\"train.csv\")\n",
    "df.head()\n"
   ]
  },
  {
   "cell_type": "markdown",
   "metadata": {
    "cell_id": "99d75f9aab1b4579b13cfcc6f5a3e386",
    "deepnote_cell_type": "markdown",
    "id": "_NN0VP4BU2Pw"
   },
   "source": [
    "Eliminar del dataframe las filas con valores ausentes (NaN)."
   ]
  },
  {
   "cell_type": "code",
   "execution_count": 9,
   "metadata": {
    "cell_id": "1a971081eaa2440b93d40a12c3791c55",
    "deepnote_cell_type": "code",
    "deepnote_to_be_reexecuted": false,
    "execution_millis": 16,
    "execution_start": 1677189959869,
    "id": "PBJCxZPgVRb8",
    "source_hash": "6eb24b3a"
   },
   "outputs": [
    {
     "data": {
      "application/vnd.deepnote.dataframe.v3+json": {
       "column_count": 12,
       "columns": [
        {
         "dtype": "int64",
         "name": "PassengerId",
         "stats": {
          "histogram": [
           {
            "bin_end": 90.8,
            "bin_start": 2,
            "count": 14
           },
           {
            "bin_end": 179.6,
            "bin_start": 90.8,
            "count": 16
           },
           {
            "bin_end": 268.4,
            "bin_start": 179.6,
            "count": 17
           },
           {
            "bin_end": 357.2,
            "bin_start": 268.4,
            "count": 27
           },
           {
            "bin_end": 446,
            "bin_start": 357.2,
            "count": 13
           },
           {
            "bin_end": 534.8,
            "bin_start": 446,
            "count": 21
           },
           {
            "bin_end": 623.6,
            "bin_start": 534.8,
            "count": 19
           },
           {
            "bin_end": 712.4,
            "bin_start": 623.6,
            "count": 20
           },
           {
            "bin_end": 801.1999999999999,
            "bin_start": 712.4,
            "count": 21
           },
           {
            "bin_end": 890,
            "bin_start": 801.1999999999999,
            "count": 15
           }
          ],
          "max": "890",
          "min": "2",
          "nan_count": 0,
          "unique_count": 183
         }
        },
        {
         "dtype": "int64",
         "name": "Survived",
         "stats": {
          "histogram": [
           {
            "bin_end": 0.1,
            "bin_start": 0,
            "count": 60
           },
           {
            "bin_end": 0.2,
            "bin_start": 0.1,
            "count": 0
           },
           {
            "bin_end": 0.30000000000000004,
            "bin_start": 0.2,
            "count": 0
           },
           {
            "bin_end": 0.4,
            "bin_start": 0.30000000000000004,
            "count": 0
           },
           {
            "bin_end": 0.5,
            "bin_start": 0.4,
            "count": 0
           },
           {
            "bin_end": 0.6000000000000001,
            "bin_start": 0.5,
            "count": 0
           },
           {
            "bin_end": 0.7000000000000001,
            "bin_start": 0.6000000000000001,
            "count": 0
           },
           {
            "bin_end": 0.8,
            "bin_start": 0.7000000000000001,
            "count": 0
           },
           {
            "bin_end": 0.9,
            "bin_start": 0.8,
            "count": 0
           },
           {
            "bin_end": 1,
            "bin_start": 0.9,
            "count": 123
           }
          ],
          "max": "1",
          "min": "0",
          "nan_count": 0,
          "unique_count": 2
         }
        },
        {
         "dtype": "int64",
         "name": "Pclass",
         "stats": {
          "histogram": [
           {
            "bin_end": 1.2,
            "bin_start": 1,
            "count": 158
           },
           {
            "bin_end": 1.4,
            "bin_start": 1.2,
            "count": 0
           },
           {
            "bin_end": 1.6,
            "bin_start": 1.4,
            "count": 0
           },
           {
            "bin_end": 1.8,
            "bin_start": 1.6,
            "count": 0
           },
           {
            "bin_end": 2,
            "bin_start": 1.8,
            "count": 0
           },
           {
            "bin_end": 2.2,
            "bin_start": 2,
            "count": 15
           },
           {
            "bin_end": 2.4000000000000004,
            "bin_start": 2.2,
            "count": 0
           },
           {
            "bin_end": 2.6,
            "bin_start": 2.4000000000000004,
            "count": 0
           },
           {
            "bin_end": 2.8,
            "bin_start": 2.6,
            "count": 0
           },
           {
            "bin_end": 3,
            "bin_start": 2.8,
            "count": 10
           }
          ],
          "max": "3",
          "min": "1",
          "nan_count": 0,
          "unique_count": 3
         }
        },
        {
         "dtype": "object",
         "name": "Name",
         "stats": {
          "categories": [
           {
            "count": 1,
            "name": "Cumings, Mrs. John Bradley (Florence Briggs Thayer)"
           },
           {
            "count": 1,
            "name": "Futrelle, Mrs. Jacques Heath (Lily May Peel)"
           },
           {
            "count": 181,
            "name": "181 others"
           }
          ],
          "nan_count": 0,
          "unique_count": 183
         }
        },
        {
         "dtype": "object",
         "name": "Sex",
         "stats": {
          "categories": [
           {
            "count": 95,
            "name": "male"
           },
           {
            "count": 88,
            "name": "female"
           }
          ],
          "nan_count": 0,
          "unique_count": 2
         }
        },
        {
         "dtype": "float64",
         "name": "Age",
         "stats": {
          "histogram": [
           {
            "bin_end": 8.828,
            "bin_start": 0.92,
            "count": 10
           },
           {
            "bin_end": 16.736,
            "bin_start": 8.828,
            "count": 6
           },
           {
            "bin_end": 24.644,
            "bin_start": 16.736,
            "count": 32
           },
           {
            "bin_end": 32.552,
            "bin_start": 24.644,
            "count": 30
           },
           {
            "bin_end": 40.46,
            "bin_start": 32.552,
            "count": 40
           },
           {
            "bin_end": 48.367999999999995,
            "bin_start": 40.46,
            "count": 24
           },
           {
            "bin_end": 56.275999999999996,
            "bin_start": 48.367999999999995,
            "count": 23
           },
           {
            "bin_end": 64.184,
            "bin_start": 56.275999999999996,
            "count": 13
           },
           {
            "bin_end": 72.092,
            "bin_start": 64.184,
            "count": 4
           },
           {
            "bin_end": 80,
            "bin_start": 72.092,
            "count": 1
           }
          ],
          "max": "80.0",
          "min": "0.92",
          "nan_count": 0,
          "unique_count": 63
         }
        },
        {
         "dtype": "int64",
         "name": "SibSp",
         "stats": {
          "histogram": [
           {
            "bin_end": 0.3,
            "bin_start": 0,
            "count": 110
           },
           {
            "bin_end": 0.6,
            "bin_start": 0.3,
            "count": 0
           },
           {
            "bin_end": 0.8999999999999999,
            "bin_start": 0.6,
            "count": 0
           },
           {
            "bin_end": 1.2,
            "bin_start": 0.8999999999999999,
            "count": 64
           },
           {
            "bin_end": 1.5,
            "bin_start": 1.2,
            "count": 0
           },
           {
            "bin_end": 1.7999999999999998,
            "bin_start": 1.5,
            "count": 0
           },
           {
            "bin_end": 2.1,
            "bin_start": 1.7999999999999998,
            "count": 6
           },
           {
            "bin_end": 2.4,
            "bin_start": 2.1,
            "count": 0
           },
           {
            "bin_end": 2.6999999999999997,
            "bin_start": 2.4,
            "count": 0
           },
           {
            "bin_end": 3,
            "bin_start": 2.6999999999999997,
            "count": 3
           }
          ],
          "max": "3",
          "min": "0",
          "nan_count": 0,
          "unique_count": 4
         }
        },
        {
         "dtype": "int64",
         "name": "Parch",
         "stats": {
          "histogram": [
           {
            "bin_end": 0.4,
            "bin_start": 0,
            "count": 122
           },
           {
            "bin_end": 0.8,
            "bin_start": 0.4,
            "count": 0
           },
           {
            "bin_end": 1.2000000000000002,
            "bin_start": 0.8,
            "count": 37
           },
           {
            "bin_end": 1.6,
            "bin_start": 1.2000000000000002,
            "count": 0
           },
           {
            "bin_end": 2,
            "bin_start": 1.6,
            "count": 0
           },
           {
            "bin_end": 2.4000000000000004,
            "bin_start": 2,
            "count": 23
           },
           {
            "bin_end": 2.8000000000000003,
            "bin_start": 2.4000000000000004,
            "count": 0
           },
           {
            "bin_end": 3.2,
            "bin_start": 2.8000000000000003,
            "count": 0
           },
           {
            "bin_end": 3.6,
            "bin_start": 3.2,
            "count": 0
           },
           {
            "bin_end": 4,
            "bin_start": 3.6,
            "count": 1
           }
          ],
          "max": "4",
          "min": "0",
          "nan_count": 0,
          "unique_count": 4
         }
        },
        {
         "dtype": "object",
         "name": "Ticket",
         "stats": {
          "categories": [
           {
            "count": 4,
            "name": "19950"
           },
           {
            "count": 4,
            "name": "113760"
           },
           {
            "count": 175,
            "name": "125 others"
           }
          ],
          "nan_count": 0,
          "unique_count": 127
         }
        },
        {
         "dtype": "float64",
         "name": "Fare",
         "stats": {
          "histogram": [
           {
            "bin_end": 51.23292,
            "bin_start": 0,
            "count": 72
           },
           {
            "bin_end": 102.46584,
            "bin_start": 51.23292,
            "count": 70
           },
           {
            "bin_end": 153.69876,
            "bin_start": 102.46584,
            "count": 24
           },
           {
            "bin_end": 204.93168,
            "bin_start": 153.69876,
            "count": 1
           },
           {
            "bin_end": 256.1646,
            "bin_start": 204.93168,
            "count": 8
           },
           {
            "bin_end": 307.39752,
            "bin_start": 256.1646,
            "count": 6
           },
           {
            "bin_end": 358.63044,
            "bin_start": 307.39752,
            "count": 0
           },
           {
            "bin_end": 409.86336,
            "bin_start": 358.63044,
            "count": 0
           },
           {
            "bin_end": 461.09628,
            "bin_start": 409.86336,
            "count": 0
           },
           {
            "bin_end": 512.3292,
            "bin_start": 461.09628,
            "count": 2
           }
          ],
          "max": "512.3292",
          "min": "0.0",
          "nan_count": 0,
          "unique_count": 93
         }
        },
        {
         "dtype": "object",
         "name": "Cabin",
         "stats": {
          "categories": [
           {
            "count": 4,
            "name": "G6"
           },
           {
            "count": 4,
            "name": "C23 C25 C27"
           },
           {
            "count": 175,
            "name": "131 others"
           }
          ],
          "nan_count": 0,
          "unique_count": 133
         }
        },
        {
         "dtype": "object",
         "name": "Embarked",
         "stats": {
          "categories": [
           {
            "count": 116,
            "name": "S"
           },
           {
            "count": 65,
            "name": "C"
           },
           {
            "count": 2,
            "name": "Q"
           }
          ],
          "nan_count": 0,
          "unique_count": 3
         }
        },
        {
         "dtype": "int64",
         "name": "_deepnote_index_column"
        }
       ],
       "row_count": 183,
       "rows": [
        {
         "Age": "38.0",
         "Cabin": "C85",
         "Embarked": "C",
         "Fare": "71.2833",
         "Name": "Cumings, Mrs. John Bradley (Florence Briggs Thayer)",
         "Parch": "0",
         "PassengerId": "2",
         "Pclass": "1",
         "Sex": "female",
         "SibSp": "1",
         "Survived": "1",
         "Ticket": "PC 17599",
         "_deepnote_index_column": "1"
        },
        {
         "Age": "35.0",
         "Cabin": "C123",
         "Embarked": "S",
         "Fare": "53.1",
         "Name": "Futrelle, Mrs. Jacques Heath (Lily May Peel)",
         "Parch": "0",
         "PassengerId": "4",
         "Pclass": "1",
         "Sex": "female",
         "SibSp": "1",
         "Survived": "1",
         "Ticket": "113803",
         "_deepnote_index_column": "3"
        },
        {
         "Age": "54.0",
         "Cabin": "E46",
         "Embarked": "S",
         "Fare": "51.8625",
         "Name": "McCarthy, Mr. Timothy J",
         "Parch": "0",
         "PassengerId": "7",
         "Pclass": "1",
         "Sex": "male",
         "SibSp": "0",
         "Survived": "0",
         "Ticket": "17463",
         "_deepnote_index_column": "6"
        },
        {
         "Age": "4.0",
         "Cabin": "G6",
         "Embarked": "S",
         "Fare": "16.7",
         "Name": "Sandstrom, Miss. Marguerite Rut",
         "Parch": "1",
         "PassengerId": "11",
         "Pclass": "3",
         "Sex": "female",
         "SibSp": "1",
         "Survived": "1",
         "Ticket": "PP 9549",
         "_deepnote_index_column": "10"
        },
        {
         "Age": "58.0",
         "Cabin": "C103",
         "Embarked": "S",
         "Fare": "26.55",
         "Name": "Bonnell, Miss. Elizabeth",
         "Parch": "0",
         "PassengerId": "12",
         "Pclass": "1",
         "Sex": "female",
         "SibSp": "0",
         "Survived": "1",
         "Ticket": "113783",
         "_deepnote_index_column": "11"
        },
        {
         "Age": "34.0",
         "Cabin": "D56",
         "Embarked": "S",
         "Fare": "13.0",
         "Name": "Beesley, Mr. Lawrence",
         "Parch": "0",
         "PassengerId": "22",
         "Pclass": "2",
         "Sex": "male",
         "SibSp": "0",
         "Survived": "1",
         "Ticket": "248698",
         "_deepnote_index_column": "21"
        },
        {
         "Age": "28.0",
         "Cabin": "A6",
         "Embarked": "S",
         "Fare": "35.5",
         "Name": "Sloper, Mr. William Thompson",
         "Parch": "0",
         "PassengerId": "24",
         "Pclass": "1",
         "Sex": "male",
         "SibSp": "0",
         "Survived": "1",
         "Ticket": "113788",
         "_deepnote_index_column": "23"
        },
        {
         "Age": "19.0",
         "Cabin": "C23 C25 C27",
         "Embarked": "S",
         "Fare": "263.0",
         "Name": "Fortune, Mr. Charles Alexander",
         "Parch": "2",
         "PassengerId": "28",
         "Pclass": "1",
         "Sex": "male",
         "SibSp": "3",
         "Survived": "0",
         "Ticket": "19950",
         "_deepnote_index_column": "27"
        },
        {
         "Age": "49.0",
         "Cabin": "D33",
         "Embarked": "C",
         "Fare": "76.7292",
         "Name": "Harper, Mrs. Henry Sleeper (Myna Haxtun)",
         "Parch": "0",
         "PassengerId": "53",
         "Pclass": "1",
         "Sex": "female",
         "SibSp": "1",
         "Survived": "1",
         "Ticket": "PC 17572",
         "_deepnote_index_column": "52"
        },
        {
         "Age": "65.0",
         "Cabin": "B30",
         "Embarked": "C",
         "Fare": "61.9792",
         "Name": "Ostby, Mr. Engelhart Cornelius",
         "Parch": "1",
         "PassengerId": "55",
         "Pclass": "1",
         "Sex": "male",
         "SibSp": "0",
         "Survived": "0",
         "Ticket": "113509",
         "_deepnote_index_column": "54"
        }
       ]
      },
      "text/html": [
       "<div>\n",
       "<style scoped>\n",
       "    .dataframe tbody tr th:only-of-type {\n",
       "        vertical-align: middle;\n",
       "    }\n",
       "\n",
       "    .dataframe tbody tr th {\n",
       "        vertical-align: top;\n",
       "    }\n",
       "\n",
       "    .dataframe thead th {\n",
       "        text-align: right;\n",
       "    }\n",
       "</style>\n",
       "<table border=\"1\" class=\"dataframe\">\n",
       "  <thead>\n",
       "    <tr style=\"text-align: right;\">\n",
       "      <th></th>\n",
       "      <th>PassengerId</th>\n",
       "      <th>Survived</th>\n",
       "      <th>Pclass</th>\n",
       "      <th>Name</th>\n",
       "      <th>Sex</th>\n",
       "      <th>Age</th>\n",
       "      <th>SibSp</th>\n",
       "      <th>Parch</th>\n",
       "      <th>Ticket</th>\n",
       "      <th>Fare</th>\n",
       "      <th>Cabin</th>\n",
       "      <th>Embarked</th>\n",
       "    </tr>\n",
       "  </thead>\n",
       "  <tbody>\n",
       "    <tr>\n",
       "      <th>1</th>\n",
       "      <td>2</td>\n",
       "      <td>1</td>\n",
       "      <td>1</td>\n",
       "      <td>Cumings, Mrs. John Bradley (Florence Briggs Th...</td>\n",
       "      <td>female</td>\n",
       "      <td>38.0</td>\n",
       "      <td>1</td>\n",
       "      <td>0</td>\n",
       "      <td>PC 17599</td>\n",
       "      <td>71.2833</td>\n",
       "      <td>C85</td>\n",
       "      <td>C</td>\n",
       "    </tr>\n",
       "    <tr>\n",
       "      <th>3</th>\n",
       "      <td>4</td>\n",
       "      <td>1</td>\n",
       "      <td>1</td>\n",
       "      <td>Futrelle, Mrs. Jacques Heath (Lily May Peel)</td>\n",
       "      <td>female</td>\n",
       "      <td>35.0</td>\n",
       "      <td>1</td>\n",
       "      <td>0</td>\n",
       "      <td>113803</td>\n",
       "      <td>53.1000</td>\n",
       "      <td>C123</td>\n",
       "      <td>S</td>\n",
       "    </tr>\n",
       "    <tr>\n",
       "      <th>6</th>\n",
       "      <td>7</td>\n",
       "      <td>0</td>\n",
       "      <td>1</td>\n",
       "      <td>McCarthy, Mr. Timothy J</td>\n",
       "      <td>male</td>\n",
       "      <td>54.0</td>\n",
       "      <td>0</td>\n",
       "      <td>0</td>\n",
       "      <td>17463</td>\n",
       "      <td>51.8625</td>\n",
       "      <td>E46</td>\n",
       "      <td>S</td>\n",
       "    </tr>\n",
       "    <tr>\n",
       "      <th>10</th>\n",
       "      <td>11</td>\n",
       "      <td>1</td>\n",
       "      <td>3</td>\n",
       "      <td>Sandstrom, Miss. Marguerite Rut</td>\n",
       "      <td>female</td>\n",
       "      <td>4.0</td>\n",
       "      <td>1</td>\n",
       "      <td>1</td>\n",
       "      <td>PP 9549</td>\n",
       "      <td>16.7000</td>\n",
       "      <td>G6</td>\n",
       "      <td>S</td>\n",
       "    </tr>\n",
       "    <tr>\n",
       "      <th>11</th>\n",
       "      <td>12</td>\n",
       "      <td>1</td>\n",
       "      <td>1</td>\n",
       "      <td>Bonnell, Miss. Elizabeth</td>\n",
       "      <td>female</td>\n",
       "      <td>58.0</td>\n",
       "      <td>0</td>\n",
       "      <td>0</td>\n",
       "      <td>113783</td>\n",
       "      <td>26.5500</td>\n",
       "      <td>C103</td>\n",
       "      <td>S</td>\n",
       "    </tr>\n",
       "    <tr>\n",
       "      <th>...</th>\n",
       "      <td>...</td>\n",
       "      <td>...</td>\n",
       "      <td>...</td>\n",
       "      <td>...</td>\n",
       "      <td>...</td>\n",
       "      <td>...</td>\n",
       "      <td>...</td>\n",
       "      <td>...</td>\n",
       "      <td>...</td>\n",
       "      <td>...</td>\n",
       "      <td>...</td>\n",
       "      <td>...</td>\n",
       "    </tr>\n",
       "    <tr>\n",
       "      <th>871</th>\n",
       "      <td>872</td>\n",
       "      <td>1</td>\n",
       "      <td>1</td>\n",
       "      <td>Beckwith, Mrs. Richard Leonard (Sallie Monypeny)</td>\n",
       "      <td>female</td>\n",
       "      <td>47.0</td>\n",
       "      <td>1</td>\n",
       "      <td>1</td>\n",
       "      <td>11751</td>\n",
       "      <td>52.5542</td>\n",
       "      <td>D35</td>\n",
       "      <td>S</td>\n",
       "    </tr>\n",
       "    <tr>\n",
       "      <th>872</th>\n",
       "      <td>873</td>\n",
       "      <td>0</td>\n",
       "      <td>1</td>\n",
       "      <td>Carlsson, Mr. Frans Olof</td>\n",
       "      <td>male</td>\n",
       "      <td>33.0</td>\n",
       "      <td>0</td>\n",
       "      <td>0</td>\n",
       "      <td>695</td>\n",
       "      <td>5.0000</td>\n",
       "      <td>B51 B53 B55</td>\n",
       "      <td>S</td>\n",
       "    </tr>\n",
       "    <tr>\n",
       "      <th>879</th>\n",
       "      <td>880</td>\n",
       "      <td>1</td>\n",
       "      <td>1</td>\n",
       "      <td>Potter, Mrs. Thomas Jr (Lily Alexenia Wilson)</td>\n",
       "      <td>female</td>\n",
       "      <td>56.0</td>\n",
       "      <td>0</td>\n",
       "      <td>1</td>\n",
       "      <td>11767</td>\n",
       "      <td>83.1583</td>\n",
       "      <td>C50</td>\n",
       "      <td>C</td>\n",
       "    </tr>\n",
       "    <tr>\n",
       "      <th>887</th>\n",
       "      <td>888</td>\n",
       "      <td>1</td>\n",
       "      <td>1</td>\n",
       "      <td>Graham, Miss. Margaret Edith</td>\n",
       "      <td>female</td>\n",
       "      <td>19.0</td>\n",
       "      <td>0</td>\n",
       "      <td>0</td>\n",
       "      <td>112053</td>\n",
       "      <td>30.0000</td>\n",
       "      <td>B42</td>\n",
       "      <td>S</td>\n",
       "    </tr>\n",
       "    <tr>\n",
       "      <th>889</th>\n",
       "      <td>890</td>\n",
       "      <td>1</td>\n",
       "      <td>1</td>\n",
       "      <td>Behr, Mr. Karl Howell</td>\n",
       "      <td>male</td>\n",
       "      <td>26.0</td>\n",
       "      <td>0</td>\n",
       "      <td>0</td>\n",
       "      <td>111369</td>\n",
       "      <td>30.0000</td>\n",
       "      <td>C148</td>\n",
       "      <td>C</td>\n",
       "    </tr>\n",
       "  </tbody>\n",
       "</table>\n",
       "<p>183 rows × 12 columns</p>\n",
       "</div>"
      ],
      "text/plain": [
       "     PassengerId  Survived  Pclass  \\\n",
       "1              2         1       1   \n",
       "3              4         1       1   \n",
       "6              7         0       1   \n",
       "10            11         1       3   \n",
       "11            12         1       1   \n",
       "..           ...       ...     ...   \n",
       "871          872         1       1   \n",
       "872          873         0       1   \n",
       "879          880         1       1   \n",
       "887          888         1       1   \n",
       "889          890         1       1   \n",
       "\n",
       "                                                  Name     Sex   Age  SibSp  \\\n",
       "1    Cumings, Mrs. John Bradley (Florence Briggs Th...  female  38.0      1   \n",
       "3         Futrelle, Mrs. Jacques Heath (Lily May Peel)  female  35.0      1   \n",
       "6                              McCarthy, Mr. Timothy J    male  54.0      0   \n",
       "10                     Sandstrom, Miss. Marguerite Rut  female   4.0      1   \n",
       "11                            Bonnell, Miss. Elizabeth  female  58.0      0   \n",
       "..                                                 ...     ...   ...    ...   \n",
       "871   Beckwith, Mrs. Richard Leonard (Sallie Monypeny)  female  47.0      1   \n",
       "872                           Carlsson, Mr. Frans Olof    male  33.0      0   \n",
       "879      Potter, Mrs. Thomas Jr (Lily Alexenia Wilson)  female  56.0      0   \n",
       "887                       Graham, Miss. Margaret Edith  female  19.0      0   \n",
       "889                              Behr, Mr. Karl Howell    male  26.0      0   \n",
       "\n",
       "     Parch    Ticket     Fare        Cabin Embarked  \n",
       "1        0  PC 17599  71.2833          C85        C  \n",
       "3        0    113803  53.1000         C123        S  \n",
       "6        0     17463  51.8625          E46        S  \n",
       "10       1   PP 9549  16.7000           G6        S  \n",
       "11       0    113783  26.5500         C103        S  \n",
       "..     ...       ...      ...          ...      ...  \n",
       "871      1     11751  52.5542          D35        S  \n",
       "872      0       695   5.0000  B51 B53 B55        S  \n",
       "879      1     11767  83.1583          C50        C  \n",
       "887      0    112053  30.0000          B42        S  \n",
       "889      0    111369  30.0000         C148        C  \n",
       "\n",
       "[183 rows x 12 columns]"
      ]
     },
     "execution_count": 9,
     "metadata": {},
     "output_type": "execute_result"
    }
   ],
   "source": [
    "#TODO5 Remover filas con valores ausentes.\n",
    "df = df.dropna()\n",
    "df"
   ]
  },
  {
   "cell_type": "markdown",
   "metadata": {
    "cell_id": "5b7a7be7976044f19b58d699a97b8226",
    "deepnote_cell_type": "markdown",
    "id": "fjq8-ogxXt_5"
   },
   "source": [
    "Explorar el dataset mediante su visualización, el uso de los métodos *head*, *info* y *value_counts* para los Dataframes en pandas y sus columnas. ¿Qué tipo de variables tiene? qué caracteriza a los valores de dichas variables? ¿Qué tipos de datos se usan?\n",
    "\n",
    "- Tiene variables cuantitativas y cualitativas, algunas variables son binarias como por ejemplo 'sex', y otras tienen todos los valores diferentes como 'Cabin'."
   ]
  },
  {
   "cell_type": "code",
   "execution_count": 10,
   "metadata": {
    "cell_id": "f4096153a0cb4537bc2c55b898c59e2d",
    "deepnote_cell_type": "code",
    "deepnote_to_be_reexecuted": false,
    "execution_millis": 29,
    "execution_start": 1677189959943,
    "id": "03OZ6O4kFHaA",
    "source_hash": "f95f8339"
   },
   "outputs": [
    {
     "name": "stdout",
     "output_type": "stream",
     "text": [
      "<class 'pandas.core.frame.DataFrame'>\n",
      "Int64Index: 183 entries, 1 to 889\n",
      "Data columns (total 12 columns):\n",
      " #   Column       Non-Null Count  Dtype  \n",
      "---  ------       --------------  -----  \n",
      " 0   PassengerId  183 non-null    int64  \n",
      " 1   Survived     183 non-null    int64  \n",
      " 2   Pclass       183 non-null    int64  \n",
      " 3   Name         183 non-null    object \n",
      " 4   Sex          183 non-null    object \n",
      " 5   Age          183 non-null    float64\n",
      " 6   SibSp        183 non-null    int64  \n",
      " 7   Parch        183 non-null    int64  \n",
      " 8   Ticket       183 non-null    object \n",
      " 9   Fare         183 non-null    float64\n",
      " 10  Cabin        183 non-null    object \n",
      " 11  Embarked     183 non-null    object \n",
      "dtypes: float64(2), int64(5), object(5)\n",
      "memory usage: 18.6+ KB\n",
      "None\n"
     ]
    },
    {
     "data": {
      "text/plain": [
       "PassengerId  Survived  Pclass  Name                                                  Sex     Age   SibSp  Parch  Ticket    Fare      Cabin  Embarked\n",
       "2            1         1       Cumings, Mrs. John Bradley (Florence Briggs Thayer)   female  38.0  1      0      PC 17599  71.2833   C85    C           1\n",
       "572          1         1       Appleton, Mrs. Edward Dale (Charlotte Lamson)         female  53.0  2      0      11769     51.4792   C101   S           1\n",
       "578          1         1       Silvey, Mrs. William Baird (Alice Munger)             female  39.0  1      0      13507     55.9000   E44    S           1\n",
       "582          1         1       Thayer, Mrs. John Borland (Marian Longstreth Morris)  female  39.0  1      1      17421     110.8833  C68    C           1\n",
       "584          0         1       Ross, Mr. John Hugo                                   male    36.0  0      0      13049     40.1250   A10    C           1\n",
       "                                                                                                                                                       ..\n",
       "328          1         2       Ball, Mrs. (Ada E Hall)                               female  36.0  0      0      28551     13.0000   D      S           1\n",
       "330          1         1       Hippach, Miss. Jean Gertrude                          female  16.0  0      1      111361    57.9792   B18    C           1\n",
       "332          0         1       Partner, Mr. Austen                                   male    45.5  0      0      113043    28.5000   C124   S           1\n",
       "333          0         1       Graham, Mr. George Edward                             male    38.0  0      1      PC 17582  153.4625  C91    S           1\n",
       "890          1         1       Behr, Mr. Karl Howell                                 male    26.0  0      0      111369    30.0000   C148   C           1\n",
       "Length: 183, dtype: int64"
      ]
     },
     "execution_count": 10,
     "metadata": {},
     "output_type": "execute_result"
    }
   ],
   "source": [
    "#TODO6 Explorar el dataset\n",
    "print(df.info())\n",
    "df.value_counts()"
   ]
  },
  {
   "cell_type": "markdown",
   "metadata": {
    "cell_id": "bb88bf04e4a04273b5afe3c8e9edc24e",
    "deepnote_cell_type": "markdown",
    "id": "J0_OIMbr0ueD"
   },
   "source": [
    "**TODO7**: ¿Cuáles considera, de acuero a su intuición que son las variables más relevantes para predecir la columna 'Survived'? ¿Cuáles considera irrelevantes?¿Por qué?\n",
    "\n",
    "Consideramos que las variables más relevantes son, Age, Sex, SibSp, Parch, Pclass. Por que se evacuan primero las mujeres y niños, nos parece interensante, SibSp, Parch por que es la cantidad de relativos que tiene la persona, por lo que podrían llegar a ser de ayuda en el proceso de evacuación.\n",
    "\n",
    "Adicionalmente nos parece interesante ver si la clase del pasajero tiene un peso en su supervivencia.\n",
    "\n",
    "- 'Ticket', 'Fare', 'Embarked', 'PassangerId', 'Name', 'Cabin', no las consideramos significativas.\n"
   ]
  },
  {
   "cell_type": "code",
   "execution_count": 11,
   "metadata": {
    "cell_id": "fc5a5ce6ce9d4410a1b0caf134e7d61e",
    "deepnote_cell_type": "code",
    "deepnote_to_be_reexecuted": false,
    "execution_millis": 3,
    "execution_start": 1677189959973,
    "id": "iYLagSw_RRbm",
    "source_hash": "12e7082c"
   },
   "outputs": [],
   "source": [
    "#Separar la columna objetivo.\n",
    "X=df.drop('Survived',axis=1)\n",
    "y=df['Survived']"
   ]
  },
  {
   "cell_type": "code",
   "execution_count": 12,
   "metadata": {
    "cell_id": "6eb8ccdcf36a4d69ae957c9fa9a87260",
    "deepnote_cell_type": "code",
    "deepnote_to_be_reexecuted": false,
    "execution_millis": 0,
    "execution_start": 1677189960009,
    "id": "7JdsO_6TFuTN",
    "source_hash": "a351b5f7"
   },
   "outputs": [],
   "source": [
    "#TODO8 Remover columnas que usted considera irrelevantes.\n",
    "X=X.drop(['PassengerId', 'Name', 'Ticket', 'Fare', 'Embarked', 'Cabin'],axis=1)"
   ]
  },
  {
   "cell_type": "markdown",
   "metadata": {
    "cell_id": "2f22d60560b64b8cb75e7479271b8d2a",
    "deepnote_cell_type": "markdown",
    "id": "hjvGHlBPY0K-"
   },
   "source": [
    "Convertimos a dummies las columnas categóricas. Nos aseguramos de que las originales no permanezcan en la tabla. Se sugiere usar el parámetro drop_first = True si está trabajando con Getdummies. ¿Por qué cree que es conveniente usar este parámetro?\n",
    "\n",
    "- Para tener menos cantidad de categorías, y eso puede facilitar la clasificación.\n",
    "Por ejemplo, si tenemos una variable categórica \"color\" con tres categorías: \"rojo\", \"verde\" y \"azul\", y creamos columnas separadas para cada una, \"rojo\" y \"verde\" pueden ser suficientes para inferir que la tercera categoría es \"azul\", por lo que la columna \"azul\" se vuelve redundante. Al eliminar la primera columna de cada conjunto de columnas dummies, se evita esta redundancia y se reduce la multicolinealidad."
   ]
  },
  {
   "cell_type": "code",
   "execution_count": 13,
   "metadata": {
    "cell_id": "d74b98f76e804f9bb53f12b60a9ce990",
    "deepnote_cell_type": "code",
    "deepnote_to_be_reexecuted": false,
    "execution_millis": 0,
    "execution_start": 1677189960010,
    "id": "0Z6hkkziHYAh",
    "source_hash": "a9d44509"
   },
   "outputs": [],
   "source": [
    "#TODO9 Convertir a dummies. Asegurarse de eliminar las columnas originales. Se sugiere usar el parámetro drop_first=True si se está trabajando con getdummies.\n",
    "X = pd.get_dummies(X, columns=[\"Pclass\", \"Sex\"], drop_first = True)"
   ]
  },
  {
   "cell_type": "code",
   "execution_count": 14,
   "metadata": {
    "cell_id": "e2eb7ab645c84ae58e06b951cfd50078",
    "deepnote_cell_type": "code",
    "deepnote_to_be_reexecuted": false,
    "execution_millis": 3,
    "execution_start": 1677189960010,
    "id": "4kPUIxpLYCCC",
    "source_hash": "5cdf6bf7"
   },
   "outputs": [
    {
     "name": "stdout",
     "output_type": "stream",
     "text": [
      "<class 'pandas.core.frame.DataFrame'>\n",
      "Int64Index: 183 entries, 1 to 889\n",
      "Data columns (total 8 columns):\n",
      " #   Column      Non-Null Count  Dtype  \n",
      "---  ------      --------------  -----  \n",
      " 0   Age         183 non-null    float64\n",
      " 1   SibSp       183 non-null    int64  \n",
      " 2   Parch       183 non-null    int64  \n",
      " 3   Pclass_1    183 non-null    uint8  \n",
      " 4   Pclass_2    183 non-null    uint8  \n",
      " 5   Pclass_3    183 non-null    uint8  \n",
      " 6   Sex_female  183 non-null    uint8  \n",
      " 7   Sex_male    183 non-null    uint8  \n",
      "dtypes: float64(1), int64(2), uint8(5)\n",
      "memory usage: 6.6 KB\n"
     ]
    }
   ],
   "source": [
    "#Imprimir info de X\n",
    "X.info()"
   ]
  },
  {
   "cell_type": "code",
   "execution_count": 15,
   "metadata": {
    "cell_id": "06b77fff423244538fae699300ea6522",
    "deepnote_cell_type": "code",
    "deepnote_to_be_reexecuted": false,
    "execution_millis": 3,
    "execution_start": 1677189960012,
    "id": "PtAfpNePYEXH",
    "source_hash": "bb80c7c1"
   },
   "outputs": [],
   "source": [
    "X_train, X_test, y_train, y_test = train_test_split(X, y, random_state = 0, test_size=0.2, shuffle=True)"
   ]
  },
  {
   "cell_type": "code",
   "execution_count": 16,
   "metadata": {
    "cell_id": "a191250a949e4b738bd1c1a81ddefee9",
    "deepnote_cell_type": "code",
    "deepnote_to_be_reexecuted": false,
    "execution_millis": 1,
    "execution_start": 1677189960061,
    "source_hash": "1dfe563f",
    "tags": []
   },
   "outputs": [],
   "source": [
    "def all_in_one(data: pd.DataFrame,\n",
    "               used_vars = [],\n",
    "               unused_vars = [], \n",
    "               dummies = [], \n",
    "               outcome = 'Survived'):\n",
    "\n",
    "\n",
    "    data = data.dropna()\n",
    "\n",
    "    #selects the features we care about\n",
    "    if len(used_vars) > 0:\n",
    "        X  = data[used_vars]\n",
    "\n",
    "    elif len(unused_vars) > 0:\n",
    "        X = data.drop(columns = unused_vars + [outcome], axis=1)\n",
    "\n",
    "    else:\n",
    "        return \n",
    "\n",
    "    y  = data[outcome]\n",
    "\n",
    "    #converts to dummy variable\n",
    "    X = pd.get_dummies(X, columns = dummies, drop_first = True)\n",
    "\n",
    "    #splits the data\n",
    "    X_train, X_test, y_train, y_test = train_test_split(X, y, random_state = 0, test_size=0.2, shuffle=True)\n",
    "\n",
    "    return (X_train, X_test, y_train, y_test)\n",
    "    \n"
   ]
  },
  {
   "cell_type": "markdown",
   "metadata": {
    "cell_id": "18636b43a57842f88fa825cf776e1cc7",
    "deepnote_cell_type": "markdown",
    "id": "KMI-RrTtZ_ew"
   },
   "source": [
    "Ahora entrenamos clasificadores de KNN con diferentes valores de k y visualizamos el cambio entre ellos."
   ]
  },
  {
   "cell_type": "code",
   "execution_count": 28,
   "metadata": {
    "cell_id": "c95bad13a4c74aeda886f96f71836958",
    "deepnote_cell_type": "code",
    "deepnote_to_be_reexecuted": false,
    "execution_millis": 5500,
    "execution_start": 1677191099883,
    "id": "LkLTPdgR3wjt",
    "source_hash": "f8b1b7b9"
   },
   "outputs": [
    {
     "name": "stdout",
     "output_type": "stream",
     "text": [
      "El máximo es:  0.8648648648648649\n",
      "El mínimo es:  0.6216216216216216\n",
      "El promedio es:  0.812162162162162\n"
     ]
    }
   ],
   "source": [
    "#TODO10 para k entre 1 y 100, entrenar knn en los datos de entrenamiento. Calcular sus respectivos scores\n",
    "# Guardar los scores en una lista llamada \"scores\".\n",
    "df=pd.read_csv(\"train.csv\")\n",
    "\n",
    "X_train, X_test, y_train, y_test = all_in_one(df, \n",
    "                                              used_vars=['Age', 'Sex','SibSp', 'Parch', 'Pclass'], \n",
    "                                              dummies=['Age', 'Sex'])\n",
    "\n",
    "kn_max = 100\n",
    "scores_train = np.zeros(kn_max)\n",
    "scores_test  = np.zeros(kn_max)\n",
    "\n",
    "for kn in range(1, kn_max+1):\n",
    "    knn = KNeighborsClassifier(n_neighbors = kn)\n",
    "    knn.fit(X_train, y_train)\n",
    "\n",
    "    scores_train[kn-1] = knn.score(X_train, y_train)\n",
    "    scores_test[kn-1]  = knn.score(X_test, y_test)\n",
    "\n",
    "\n",
    "print('El máximo es: ', np.max(scores_test, axis=0))\n",
    "print('El mínimo es: ', np.min(scores_test, axis=0))\n",
    "print('El promedio es: ', np.mean(scores_test))"
   ]
  },
  {
   "cell_type": "code",
   "execution_count": 18,
   "metadata": {
    "cell_id": "016b0cc5ebcd419bb7ee9a9830e919d6",
    "deepnote_cell_type": "code",
    "deepnote_to_be_reexecuted": false,
    "execution_millis": 319,
    "execution_start": 1677189965809,
    "id": "tgH9ocJUcFRa",
    "source_hash": "631c5992"
   },
   "outputs": [
    {
     "data": {
      "image/png": "[encoded data removed]",
      "text/plain": [
       "<Figure size 640x480 with 1 Axes>"
      ]
     },
     "metadata": {
      "image/png": {
       "height": 413,
       "width": 556
      }
     },
     "output_type": "display_data"
    }
   ],
   "source": [
    "#Graficar scores\n",
    "plt.plot(scores_train)\n",
    "plt.plot(scores_test)\n",
    "plt.legend([\"Scores train\", \"Scores test\"])\n",
    "plt.show()"
   ]
  },
  {
   "cell_type": "markdown",
   "metadata": {
    "cell_id": "6813e2a1a04343f0a4cc26bd9635e568",
    "deepnote_cell_type": "markdown",
    "id": "7PqA_ttX5OKX"
   },
   "source": [
    "**TODO11** ¿Qué se puede concluir a partir de la gráfica anterior?\n",
    "\n",
    "A partir de un k = 23 vecinos no hay un cambio drástico en el Score test, además las variables relevantes elegidas parecen ser medianamente adecuadas. \n",
    "\n",
    "**TODO12:** Determinar si las siguientes afirmaciones son verdaderas o falsas. Justificar su respuesta.\n",
    "\n",
    "- El score en el test set de 1-NN siempre será menor o igual que el de 5-NN.\n",
    "***En este caso si.***\n",
    "\n",
    "- El tiempo para clasificar una muestra del testset con k-NN crece con el tamaño del train set. \n",
    "***Si, ya que tiene que computar la distancia a más puntos.***"
   ]
  },
  {
   "cell_type": "markdown",
   "metadata": {
    "cell_id": "f73a8dbe216041ddb7c8c45a7e1d6fea",
    "deepnote_cell_type": "markdown",
    "id": "LVAyfDXOa7q7"
   },
   "source": [
    "## Titanic dataset usando pesos en la distancia."
   ]
  },
  {
   "cell_type": "markdown",
   "metadata": {
    "cell_id": "589a9558eea54c3e81a29441fd576a4c",
    "deepnote_cell_type": "markdown",
    "id": "r75ERgX0bGdx"
   },
   "source": [
    "A continuación usamos clasificadores de KNN dándole pesos a las distancias. \n",
    "\n",
    "**TODO13:** ¿Nota alguna diferencia con la clasificación sin pesos en las distancias? ¿Alguna hipótesis sobre el porqué?\n",
    "\n",
    "- Podemos notar que el promedio con la clasificación sin pesos en las distancias es de 0.8121, y con pesos de 0.8397, es decir con pesos rinde mejor.\n",
    "\n",
    "- El mínimo usando pesos, es más grande que el mínimo sin pesos.\n",
    "\n",
    "- Por otro lado, el máximo es igual tanto con pesos y sin pesos.\n",
    "\n",
    "Parece que darle más peso a los vecinos más cercanos mejora la predicción."
   ]
  },
  {
   "cell_type": "code",
   "execution_count": 24,
   "metadata": {
    "cell_id": "d773ec9d85954860b97a7825f89a50b8",
    "deepnote_cell_type": "code",
    "deepnote_to_be_reexecuted": false,
    "execution_millis": 2295,
    "execution_start": 1677190137688,
    "id": "XlgtFggZbc48",
    "source_hash": "214e4721"
   },
   "outputs": [
    {
     "name": "stdout",
     "output_type": "stream",
     "text": [
      "El máximo es:  0.8648648648648649\n",
      "El mínimo es:  0.7297297297297297\n",
      "El promedio es:  0.83974883974884\n"
     ]
    }
   ],
   "source": [
    "# Weighted k-nn\n",
    "scores=[]\n",
    "for n in range(1,100):\n",
    "  knn = KNeighborsClassifier(n_neighbors=n, weights='distance')\n",
    "  knn.fit(X_train,y_train)\n",
    "  s=knn.score(X_test,y_test)\n",
    "  scores.append(s)\n",
    "\n",
    "print('El máximo es: ', np.max(scores, axis=0))\n",
    "print('El mínimo es: ', np.min(scores, axis=0))\n",
    "print('El promedio es: ', np.mean(scores))"
   ]
  },
  {
   "cell_type": "code",
   "execution_count": 20,
   "metadata": {
    "cell_id": "e0ca45b24a4248a9904546b080af78c5",
    "deepnote_cell_type": "code",
    "deepnote_to_be_reexecuted": false,
    "execution_millis": 217,
    "execution_start": 1677189968374,
    "id": "EMK3f_vNb5wV",
    "source_hash": "fd93362d"
   },
   "outputs": [
    {
     "data": {
      "text/plain": [
       "[<matplotlib.lines.Line2D at 0x7f843badeb20>]"
      ]
     },
     "execution_count": 20,
     "metadata": {},
     "output_type": "execute_result"
    },
    {
     "data": {
      "image/png": "[encoded data removed]",
      "text/plain": [
       "<Figure size 640x480 with 1 Axes>"
      ]
     },
     "metadata": {
      "image/png": {
       "height": 413,
       "width": 556
      }
     },
     "output_type": "display_data"
    }
   ],
   "source": [
    "#Graficar\n",
    "plt.plot(scores)"
   ]
  },
  {
   "cell_type": "code",
   "execution_count": 20,
   "metadata": {
    "cell_id": "f64dc7ad62ea478d8925f5c9b6ccc5a4",
    "deepnote_cell_type": "code",
    "deepnote_to_be_reexecuted": false,
    "execution_millis": 1,
    "execution_start": 1677189968593,
    "source_hash": "b623e53d",
    "tags": []
   },
   "outputs": [],
   "source": []
  },
  {
   "cell_type": "code",
   "execution_count": null,
   "metadata": {
    "cell_id": "f28a0fc8b3aa44b48306226b1cb12315",
    "deepnote_cell_type": "sql",
    "deepnote_sql_source": "SELECT *\nFROM 'train.csv'",
    "deepnote_variable_name": "df_1",
    "sql_integration_id": "deepnote-dataframe-sql",
    "tags": []
   },
   "outputs": [],
   "source": [
    "\n",
    "\n",
    "df_1 = _deepnote_execute_sql(\"\"\"SELECT *\n",
    "FROM 'train.csv'\n",
    "\"\"\", 'SQL_DEEPNOTE_DATAFRAME_SQL')\n",
    "df_1"
   ]
  },
  {
   "cell_type": "markdown",
   "metadata": {
    "created_in_deepnote_cell": true,
    "deepnote_cell_type": "markdown",
    "tags": []
   },
   "source": [
    "<a style='text-decoration:none;line-height:16px;display:flex;color:#5B5B62;padding:10px;justify-content:end;' href='https://deepnote.com?utm_source=created-in-deepnote-cell&projectId=30916fdd-4d74-4b41-bb09-340bc04a4b90' target=\"_blank\">\n",
    "<img alt='Created in deepnote.com' style='display:inline;max-height:16px;margin:0px;margin-right:7.5px;' src='data:image/svg+xml;base64,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' > </img>\n",
    "Created in <span style='font-weight:600;margin-left:4px;'>Deepnote</span></a>"
   ]
  }
 ],
 "metadata": {
  "colab": {
   "provenance": []
  },
  "deepnote": {},
  "deepnote_execution_queue": [],
  "deepnote_notebook_id": "b028496e8ffc49baa992d0fa20428caf",
  "deepnote_persisted_session": {
   "createdAt": "2023-02-23T23:00:11.895Z"
  },
  "kernelspec": {
   "display_name": "Python 3 (ipykernel)",
   "language": "python",
   "name": "python3"
  },
  "language_info": {
   "codemirror_mode": {
    "name": "ipython",
    "version": 3
   },
   "file_extension": ".py",
   "mimetype": "text/x-python",
   "name": "python",
   "nbconvert_exporter": "python",
   "pygments_lexer": "ipython3",
   "version": "3.9.7"
  }
 },
 "nbformat": 4,
 "nbformat_minor": 1
}
