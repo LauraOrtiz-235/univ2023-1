{
 "cells": [
  {
   "cell_type": "markdown",
   "metadata": {
    "id": "5bg6uek9FlQK"
   },
   "source": [
    "# Ejercicio de regresión lineal"
   ]
  },
  {
   "cell_type": "markdown",
   "metadata": {
    "id": "AG_cHbu0zzmL"
   },
   "source": [
    "Entrenaremos modelos de regresión lineal para un conjunto de datos sobre peces. Se desearía predecir el peso de un pez, a partir de algunas de sus medidas. Longitud vertical, diagonal, etc. Nuestra variable a predecir será el peso *Weight*.\n",
    "Detalles sobre el conjunto de datos [Aquí](https://www.kaggle.com/datasets/aungpyaeap/fish-market).\n",
    "\n",
    "En primer lugar importamos las librerías necesarias para el ejercicio:"
   ]
  },
  {
   "cell_type": "code",
   "execution_count": 1,
   "metadata": {
    "id": "B5H_LTe0KxCq"
   },
   "outputs": [],
   "source": [
    "import pandas as pd\n",
    "import numpy as np\n",
    "import matplotlib.pyplot as plt #para gráficas\n",
    "from sklearn.model_selection import train_test_split #para partir el conjunto de datos en Entrenamiento y Testeo\n",
    "from sklearn.linear_model import LinearRegression #Algoritmo de regresión lineal"
   ]
  },
  {
   "cell_type": "markdown",
   "metadata": {
    "id": "m13eR0jK2liv"
   },
   "source": [
    "Primero cargar el archivo Fish.csv enviado al correo electrónico. A continuación leer el conjunto de datos con la función read_csv de la librería Pandas. Y visualizar las primeras 10 líneas de éste."
   ]
  },
  {
   "cell_type": "code",
   "execution_count": 2,
   "metadata": {
    "id": "-Uyf3IEgL3BQ"
   },
   "outputs": [
    {
     "name": "stdout",
     "output_type": "stream",
     "text": [
      "  Species  Weight  Length1  Length2  Length3   Height   Width\n",
      "0   Bream   242.0     23.2     25.4     30.0  11.5200  4.0200\n",
      "1   Bream   290.0     24.0     26.3     31.2  12.4800  4.3056\n",
      "2   Bream   340.0     23.9     26.5     31.1  12.3778  4.6961\n",
      "3   Bream   363.0     26.3     29.0     33.5  12.7300  4.4555\n",
      "4   Bream   430.0     26.5     29.0     34.0  12.4440  5.1340\n",
      "5   Bream   450.0     26.8     29.7     34.7  13.6024  4.9274\n",
      "6   Bream   500.0     26.8     29.7     34.5  14.1795  5.2785\n",
      "7   Bream   390.0     27.6     30.0     35.0  12.6700  4.6900\n",
      "8   Bream   450.0     27.6     30.0     35.1  14.0049  4.8438\n",
      "9   Bream   500.0     28.5     30.7     36.2  14.2266  4.9594\n"
     ]
    }
   ],
   "source": [
    "#TODO Leer el conjunto de datos y darle el nombre df\n",
    "\n",
    "df = pd.read_csv('Fish.csv')\n",
    "\n",
    "#TODO Mostrar las primeras 10 líneas de\n",
    "\n",
    "print(df[0:10])"
   ]
  },
  {
   "cell_type": "markdown",
   "metadata": {
    "id": "NPsd2fEd3Rei"
   },
   "source": [
    "Procedamos a graficar puntos con coordenadas x=Length1, y=Weight para observar si aparentan tener un comportamiento cercano al lineal.\n",
    "\n",
    "Para más detalles sobre diagramas de dispersión ver [AQUÍ](https://www.w3schools.com/python/matplotlib_scatter.asp)."
   ]
  },
  {
   "cell_type": "code",
   "execution_count": 3,
   "metadata": {
    "id": "a8l7_pmRL-cx"
   },
   "outputs": [
    {
     "data": {
      "text/plain": [
       "<matplotlib.collections.PathCollection at 0x7f27e0902490>"
      ]
     },
     "execution_count": 3,
     "metadata": {},
     "output_type": "execute_result"
    },
    {
     "data": {
      "image/png": "[encoded data removed]",
      "text/plain": [
       "<Figure size 576x432 with 1 Axes>"
      ]
     },
     "metadata": {
      "needs_background": "light"
     },
     "output_type": "display_data"
    }
   ],
   "source": [
    "#Graficar diagrama de dispersión para Length1 vs Weight\n",
    "plt.figure(figsize = [8, 6]) #Establecemos el tamaño de la figura\n",
    "plt.scatter(data=df, x='Length1', y='Weight', color= \"green\") #Asignamos la variable x, y y el color para el diagrama de dispersión.\n"
   ]
  },
  {
   "cell_type": "code",
   "execution_count": null,
   "metadata": {
    "id": "PuAmrk3RuMtN"
   },
   "outputs": [],
   "source": []
  },
  {
   "cell_type": "markdown",
   "metadata": {
    "id": "Ur9xkj9r6Jdi"
   },
   "source": [
    "Usaremos el algoritmo para regresión lineal de SciKit Learn. Éste recibe arreglos de dos dimensiones (tablas). Pero aquí tenemos un vector para cada tributo. Queremos entonces una matriz de tamaño (lo que corresponda) x 1. Ése es el significado que tiene el valor -1 en arreglos de Numpy. "
   ]
  },
  {
   "cell_type": "code",
   "execution_count": 4,
   "metadata": {
    "id": "5Lt0FIELP3os"
   },
   "outputs": [],
   "source": [
    "X = np.array(df['Length1']).reshape(-1, 1)\n",
    "y = np.array(df['Weight']).reshape(-1, 1)"
   ]
  },
  {
   "cell_type": "markdown",
   "metadata": {
    "id": "qSyBda_Q7wl6"
   },
   "source": [
    "Ahora usamos la función train_test_split para partir el conjunto de datos en dos subconjuntos: entrenamiento y testeo. Para ver ejemplos del uso de esta función ver [AQUÍ](https://www.geeksforgeeks.org/how-to-split-the-dataset-with-scikit-learns-train_test_split-function/).\n",
    "\n",
    "Usar sólo los parámetros x,y, test_size (Porcentaje de los datos correspondiente al conjunto de testeo). Se suelen usar proporciones al rededor de Entrenamiento 80% y Testeo 20%. Elegir una proporción similar, por ejemplo *test_size=0.25*."
   ]
  },
  {
   "cell_type": "code",
   "execution_count": 5,
   "metadata": {
    "id": "NqjP-6yycAdR"
   },
   "outputs": [],
   "source": [
    "#TODO Partir el conjunto de datos en Entrenamiento y Testeo\n",
    "\n",
    "X_train, X_test, y_train, y_test = train_test_split(X, y, test_size=0.25)"
   ]
  },
  {
   "cell_type": "markdown",
   "metadata": {
    "id": "lAVD7H658zQV"
   },
   "source": [
    "Ahora definamos el modelo de regresión lineal. Nuestro modelo se llamará *regr*. Lo entrenaremos y mediremos su coeficiente de detrminación. Para ver cómo es el código ver [AQUÍ](https://www.geeksforgeeks.org/python-linear-regression-using-sklearn/)"
   ]
  },
  {
   "cell_type": "code",
   "execution_count": 6,
   "metadata": {
    "id": "qRaftP9ncB6A"
   },
   "outputs": [
    {
     "name": "stdout",
     "output_type": "stream",
     "text": [
      "score =  0.8613351820565798\n"
     ]
    }
   ],
   "source": [
    "# Modelo de regresión lineal de SciKit Learn\n",
    "\n",
    "regr = LinearRegression()\n",
    "regr.fit(X_train, y_train)\n",
    "print(\"score = \", regr.score(X_test, y_test))"
   ]
  },
  {
   "cell_type": "markdown",
   "metadata": {
    "id": "M1YCZ-nI-Yqg"
   },
   "source": [
    "La salida anterior es el coeficiente de determinación del modelo arrojado por el algoritmo.\n",
    "\n",
    "A continuación imprimimos la pendiente y el intercepto de la recta arrojada por el modelo."
   ]
  },
  {
   "cell_type": "code",
   "execution_count": 7,
   "metadata": {
    "id": "jfXPca1X-mSw"
   },
   "outputs": [
    {
     "name": "stdout",
     "output_type": "stream",
     "text": [
      "slope: [[31.44158873]]\n",
      "intercept: [-433.29688071]\n"
     ]
    }
   ],
   "source": [
    "print('slope:', regr.coef_) \n",
    "print('intercept:', regr.intercept_)"
   ]
  },
  {
   "cell_type": "markdown",
   "metadata": {
    "id": "SIKIBMg7_RmS"
   },
   "source": [
    "Ahora graficaremos el conjunto de testeo y la recta correspondiente al modelo en una misma gráfica."
   ]
  },
  {
   "cell_type": "code",
   "execution_count": 8,
   "metadata": {
    "id": "juhbsrCdcUKI"
   },
   "outputs": [
    {
     "data": {
      "image/png": "[encoded data removed]",
      "text/plain": [
       "<Figure size 576x432 with 1 Axes>"
      ]
     },
     "metadata": {
      "needs_background": "light"
     },
     "output_type": "display_data"
    }
   ],
   "source": [
    "y_pred = regr.predict(X_test)\n",
    "plt.figure(figsize = [8, 6])\n",
    "plt.scatter(X_test, y_test, color ='g')\n",
    "plt.plot(X_test, y_pred, color ='k')\n",
    "plt.show()"
   ]
  },
  {
   "cell_type": "markdown",
   "metadata": {
    "id": "fWQKeU51-W_P"
   },
   "source": [
    "# Ejercicio\n",
    "1. Bosquejar en la misma gráfica el diagrama de dispersión de (Lenght1,Weight) en color verde y el diagrama de dispersión para (Width, Weight) en color azul. Para esto sólo se requiere añadir al código dos líneas seguidas del tipo: plt.scatter(data=df, x=___, y=___, color= ___)\n",
    "\n",
    "2. ¿Cuál modelo tendrá una pendiente mayor?\n",
    "\n",
    "3. Entrenar un modelo de regresión lineal para la variable Width.\n",
    "\n",
    "4. ¿Cuál tiene mayor Coeficiente de detrrminación? ¿por qué cree que esto ocurre?"
   ]
  },
  {
   "cell_type": "code",
   "execution_count": 9,
   "metadata": {
    "id": "umAacxGhDZOK"
   },
   "outputs": [
    {
     "data": {
      "text/plain": [
       "<matplotlib.collections.PathCollection at 0x7f27de790820>"
      ]
     },
     "execution_count": 9,
     "metadata": {},
     "output_type": "execute_result"
    },
    {
     "data": {
      "image/png": "[encoded data removed]",
      "text/plain": [
       "<Figure size 432x288 with 1 Axes>"
      ]
     },
     "metadata": {
      "needs_background": "light"
     },
     "output_type": "display_data"
    }
   ],
   "source": [
    "plt.scatter(data=df, x='Length1', y='Weight', color= \"green\")\n",
    "plt.scatter(data=df, x='Width', y='Weight', color= \"lightblue\")"
   ]
  },
  {
   "cell_type": "code",
   "execution_count": 10,
   "metadata": {},
   "outputs": [],
   "source": [
    "X2 = np.array(df['Width']).reshape(-1, 1)\n",
    "y2 = np.array(df['Weight']).reshape(-1, 1)"
   ]
  },
  {
   "cell_type": "code",
   "execution_count": 11,
   "metadata": {},
   "outputs": [],
   "source": [
    "X_train, X_test, y_train, y_test = train_test_split(X, y, \n",
    "                                                    test_size=0.25)\n",
    "\n",
    "X2_train, X2_test, y2_train, y2_test = train_test_split(X2, y2, \n",
    "                                                        test_size=0.25)"
   ]
  },
  {
   "cell_type": "code",
   "execution_count": 12,
   "metadata": {},
   "outputs": [
    {
     "name": "stdout",
     "output_type": "stream",
     "text": [
      "slope: [[33.62073649]]\n",
      "slope: [[187.63787675]]\n"
     ]
    }
   ],
   "source": [
    "regr = LinearRegression()\n",
    "regr2 = LinearRegression()\n",
    "\n",
    "regr.fit(X_train, y_train)\n",
    "regr2.fit(X2_train, y2_train)\n",
    "\n",
    "print('slope:', regr.coef_) \n",
    "print('slope:', regr2.coef_) "
   ]
  },
  {
   "cell_type": "code",
   "execution_count": 13,
   "metadata": {
    "id": "LdTyFcuMfYVs"
   },
   "outputs": [
    {
     "name": "stdout",
     "output_type": "stream",
     "text": [
      "score =  0.7025321944765137\n",
      "score =  0.7348574098109923\n"
     ]
    }
   ],
   "source": [
    "print(\"score = \", regr.score(X_test, y_test))\n",
    "print(\"score = \", regr2.score(X2_test, y2_test))"
   ]
  },
  {
   "cell_type": "code",
   "execution_count": null,
   "metadata": {},
   "outputs": [],
   "source": []
  }
 ],
 "metadata": {
  "colab": {
   "provenance": []
  },
  "kernelspec": {
   "display_name": "Python 3 (ipykernel)",
   "language": "python",
   "name": "python3"
  },
  "language_info": {
   "codemirror_mode": {
    "name": "ipython",
    "version": 3
   },
   "file_extension": ".py",
   "mimetype": "text/x-python",
   "name": "python",
   "nbconvert_exporter": "python",
   "pygments_lexer": "ipython3",
   "version": "3.9.7"
  }
 },
 "nbformat": 4,
 "nbformat_minor": 1
}
