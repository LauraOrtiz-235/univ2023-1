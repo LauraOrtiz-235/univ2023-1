{
 "cells": [
  {
   "cell_type": "markdown",
   "metadata": {
    "cell_id": "b559bef4b99249a2912dd4e12658b128",
    "deepnote_cell_type": "markdown"
   },
   "source": [
    "<img src=\"https://s3.amazonaws.com/media-p.slid.es/uploads/1485763/images/9060062/Header.png\" alt=\"Header\" style=\"width: 800px;\"/>\n",
    "\n",
    "# Aprendizaje Automático de Máquina\n",
    "\n",
    "Yiby Karolina Morales Pinto\n",
    "\n",
    "```\n",
    "Laura Sofía Ortiz Arcos💡\n",
    "David Santiago Flórez Alsina💡\n",
    "```    \n",
    "\n",
    "<hr> </hr>\n",
    "\n",
    "Abril 27, 2023\n",
    "\n",
    "--------"
   ]
  },
  {
   "cell_type": "markdown",
   "metadata": {
    "cell_id": "b08cf5dbccd64bea933af8bb9d7c17fc",
    "deepnote_cell_type": "markdown"
   },
   "source": [
    "## Antecedentes\n",
    "\n",
    "Se detalla información de antecedentes del tema sobre el cual se propone el proyecto. Información (por ejemplo histórica) relevante. Debería describir una razón por la cual un problema al respecto debería resolverse.\n",
    "\n",
    "links para hablar: \n",
    "\n",
    "- https://repositorio.uniandes.edu.co/bitstream/handle/1992/45458/u827540.pdf?sequence=1 \n",
    "\n",
    "- https://upcommons.upc.edu/bitstream/handle/2117/108387/memoria-tfm-federico-aguilar-calvo.pdf?sequence=1&isAllowed=y\n",
    "\n",
    "- http://somim.org.mx/memorias/memorias2020/articulos/A4_6.pdf\n",
    "\n",
    "- https://oa.upm.es/11206/1/MARIA_GUADALUPE_CORTINA_JANUCHS.pdf\n",
    "\n",
    "_**Opcional:**_ una motivación personal para investigar el problema en particular."
   ]
  },
  {
   "cell_type": "markdown",
   "metadata": {
    "cell_id": "57134d5eff294f9599200e9788592acc",
    "deepnote_cell_type": "markdown"
   },
   "source": [
    "## Definición del problema\n",
    "\n",
    "Se describe claramente el problema que se resolverá. El problema debe estar bien definido, debe ser cuantificable y medible."
   ]
  },
  {
   "cell_type": "markdown",
   "metadata": {
    "cell_id": "e0db835c5426486eaf39c48cef6ae4cc",
    "deepnote_cell_type": "markdown"
   },
   "source": [
    "_Nos planteamos solucionar la problemática de predecir humedad y temperatura ambiental usando redes neuronales y tensorflow, lo haremos con predicciones para 10 min, 15 min, 30 min y 60 min en el futuro_."
   ]
  },
  {
   "cell_type": "markdown",
   "metadata": {
    "cell_id": "78a101d751d14f14a56b5575e4d1360f",
    "deepnote_cell_type": "markdown"
   },
   "source": [
    "## Descripción de la solución\n",
    "\n",
    "Descripción de cómo se abordará el problema. La estrategia planteada es aplicable al proyecto y apropiada para los datos dados. Adicionalmente, la solución es cuantificable y medible."
   ]
  },
  {
   "cell_type": "markdown",
   "metadata": {
    "cell_id": "f20810e77b4e419cb196a88583d49541",
    "deepnote_cell_type": "markdown"
   },
   "source": [
    "_Construir una red neuronal predictiva para los periodos de tiempo seleccionados, probaremos distintas arquitecturas y funciones de activación, para encontrar la mejor red de todas._"
   ]
  },
  {
   "cell_type": "markdown",
   "metadata": {
    "cell_id": "3bcf15922c74463381d7c7bf8aae9d24",
    "deepnote_cell_type": "markdown"
   },
   "source": [
    "## Datos\n",
    "\n",
    "El dataset a usar en el proyecto debe ser descrito detalladamente. Información acerca de dónde se obtuvo el dataset y sus características, debe ser incluída. Así como toda referencia utilizada."
   ]
  },
  {
   "cell_type": "markdown",
   "metadata": {
    "cell_id": "54df03c601af471eb6f10ccac7b5606c",
    "deepnote_cell_type": "markdown"
   },
   "source": [
    "Nuestro dataset se compone de las siguientes mediciones:\n",
    "- Luz (lux). \n",
    "- Humedad relativa (%). \n",
    "- Tempertura ambiental (°C). \n",
    "- Presión atmosférica (mmHg).\n",
    "\n",
    "Cada medición tiene un timestamp asociado que nos indica el instante en el que se midió."
   ]
  },
  {
   "cell_type": "markdown",
   "metadata": {
    "cell_id": "d0cc72a3ac104af5a7c025ac050a8283",
    "deepnote_cell_type": "markdown"
   },
   "source": [
    "## Modelo de referencia\n",
    "\n",
    "Se debe hacer un experimento preliminar con un primer algoritmo, puede ser simple. Esto con el fin de obtener una primera aproximación al problema, la cual se deberá mejorar durante el proyecto."
   ]
  },
  {
   "cell_type": "code",
   "execution_count": null,
   "metadata": {},
   "outputs": [
    {
     "name": "stdout",
     "output_type": "stream",
     "text": [
      "Collecting tensorflow\n",
      "  Downloading tensorflow-2.12.0-cp39-cp39-manylinux_2_17_x86_64.manylinux2014_x86_64.whl (585.9 MB)\n",
      "\u001b[K     |████████                        | 147.2 MB 2.2 MB/s eta 0:03:19    |████                            | 74.3 MB 1.8 MB/s eta 0:04:44     |█████▉                          | 107.5 MB 312 kB/s eta 0:25:33"
     ]
    }
   ],
   "source": [
    "pip install tensorflow"
   ]
  },
  {
   "cell_type": "code",
   "execution_count": 1,
   "metadata": {
    "cell_id": "3861cab6a64149e4ab91df807cd61937",
    "deepnote_cell_type": "code",
    "deepnote_to_be_reexecuted": false,
    "execution_millis": 1,
    "execution_start": 1683481761466,
    "source_hash": "b7bf94e2"
   },
   "outputs": [
    {
     "ename": "ModuleNotFoundError",
     "evalue": "No module named 'tensorflow'",
     "output_type": "error",
     "traceback": [
      "\u001b[0;31m---------------------------------------------------------------------------\u001b[0m",
      "\u001b[0;31mModuleNotFoundError\u001b[0m                       Traceback (most recent call last)",
      "\u001b[0;32m/tmp/ipykernel_7406/1730708167.py\u001b[0m in \u001b[0;36m<module>\u001b[0;34m\u001b[0m\n\u001b[1;32m      1\u001b[0m \u001b[0;32mimport\u001b[0m \u001b[0mpandas\u001b[0m     \u001b[0;32mas\u001b[0m \u001b[0mpd\u001b[0m\u001b[0;34m\u001b[0m\u001b[0;34m\u001b[0m\u001b[0m\n\u001b[0;32m----> 2\u001b[0;31m \u001b[0;32mimport\u001b[0m \u001b[0mtensorflow\u001b[0m \u001b[0;32mas\u001b[0m \u001b[0mtf\u001b[0m\u001b[0;34m\u001b[0m\u001b[0;34m\u001b[0m\u001b[0m\n\u001b[0m\u001b[1;32m      3\u001b[0m \u001b[0;34m\u001b[0m\u001b[0m\n\u001b[1;32m      4\u001b[0m \u001b[0;32mfrom\u001b[0m \u001b[0mtensorflow\u001b[0m  \u001b[0;32mimport\u001b[0m \u001b[0mkeras\u001b[0m\u001b[0;34m\u001b[0m\u001b[0;34m\u001b[0m\u001b[0m\n\u001b[1;32m      5\u001b[0m \u001b[0;32mfrom\u001b[0m \u001b[0mdatetime\u001b[0m    \u001b[0;32mimport\u001b[0m \u001b[0mtimedelta\u001b[0m\u001b[0;34m\u001b[0m\u001b[0;34m\u001b[0m\u001b[0m\n",
      "\u001b[0;31mModuleNotFoundError\u001b[0m: No module named 'tensorflow'"
     ]
    }
   ],
   "source": [
    "import pandas     as pd\n",
    "import tensorflow as tf\n",
    "\n",
    "from tensorflow  import keras\n",
    "from datetime    import timedelta"
   ]
  },
  {
   "cell_type": "code",
   "execution_count": null,
   "metadata": {
    "cell_id": "5ec286e4410b4c17bbe569f3b1caaf69",
    "deepnote_cell_type": "code",
    "deepnote_to_be_reexecuted": false,
    "execution_millis": 4,
    "execution_start": 1683479366118,
    "source_hash": "cfdfed55"
   },
   "outputs": [],
   "source": [
    "def separate_timestamp(df):\n",
    "    # Convert the 'time' column to a pandas datetime format\n",
    "    df['time'] = pd.to_datetime(df['time'])\n",
    "\n",
    "    # Extract the date, hour, minute, and second from the 'time' column\n",
    "    df['date'] = df['time'].dt.date\n",
    "    df['hour'] = df['time'].dt.hour\n",
    "    df['minute'] = df['time'].dt.minute\n",
    "    df['second'] = df['time'].dt.second\n",
    "\n",
    "    # Return the modified dataframe\n",
    "    return df"
   ]
  },
  {
   "cell_type": "code",
   "execution_count": 2,
   "metadata": {
    "cell_id": "5982699f61184089b19163f4fe7423a7",
    "deepnote_cell_type": "code",
    "deepnote_to_be_reexecuted": false,
    "execution_millis": 4,
    "execution_start": 1683479367219,
    "source_hash": "9e2d28fa"
   },
   "outputs": [],
   "source": [
    "def calculate_rolling_average(df:pd.DataFrame, N: list, var: str):\n",
    "\n",
    "    # Set the 'datetime' column as the dataframe index\n",
    "    df.set_index('time', inplace=True)\n",
    "\n",
    "\n",
    "    # Calculate the rolling statistics of the 'var' column for a window of N minutes\n",
    "    for n in N:\n",
    "        rolling_average   = df[var].rolling(f'{n}min').mean()\n",
    "        rolling_variance  = df[var].rolling(f'{n}min').var()\n",
    "        rolling_minimum   = df[var].rolling(f'{n}min').min()\n",
    "        rolling_maximum   = df[var].rolling(f'{n}min').max()\n",
    "\n",
    "\n",
    "        # Add the rolling feature as a new column in the dataframe\n",
    "        # and replace the NANs with the next valid value in the column \n",
    "        df[f'avg_{n}min']  = rolling_average.bfill()\n",
    "        df[f'var_{n}min']  = rolling_variance.bfill()\n",
    "        df[f'max_{n}min']  = rolling_maximum.bfill()\n",
    "        df[f'min_{n}min']  = rolling_minimum.bfill()\n",
    "\n",
    "    # Return the modified dataframe\n",
    "    return df\n"
   ]
  },
  {
   "cell_type": "code",
   "execution_count": 5,
   "metadata": {
    "cell_id": "045882e6c0cb4ebf9a7699f3bd767135",
    "deepnote_cell_type": "code",
    "deepnote_table_loading": false,
    "deepnote_table_state": {
     "filters": [],
     "pageIndex": 0,
     "pageSize": 10,
     "sortBy": []
    },
    "deepnote_to_be_reexecuted": false,
    "execution_millis": 3,
    "execution_start": 1683480120723,
    "source_hash": "c356a434"
   },
   "outputs": [
    {
     "ename": "NameError",
     "evalue": "name 'separate_timestamp' is not defined",
     "output_type": "error",
     "traceback": [
      "\u001b[0;31m---------------------------------------------------------------------------\u001b[0m",
      "\u001b[0;31mNameError\u001b[0m                                 Traceback (most recent call last)",
      "\u001b[0;32m/tmp/ipykernel_7406/3697629268.py\u001b[0m in \u001b[0;36m<module>\u001b[0;34m\u001b[0m\n\u001b[0;32m----> 1\u001b[0;31m \u001b[0mdf\u001b[0m \u001b[0;34m=\u001b[0m \u001b[0mseparate_timestamp\u001b[0m\u001b[0;34m(\u001b[0m \u001b[0mpd\u001b[0m\u001b[0;34m.\u001b[0m\u001b[0mread_csv\u001b[0m\u001b[0;34m(\u001b[0m\u001b[0;34m'hum.csv'\u001b[0m\u001b[0;34m)\u001b[0m \u001b[0;34m)\u001b[0m\u001b[0;34m\u001b[0m\u001b[0;34m\u001b[0m\u001b[0m\n\u001b[0m\u001b[1;32m      2\u001b[0m \u001b[0mfeatures\u001b[0m \u001b[0;34m=\u001b[0m \u001b[0mcalculate_rolling_average\u001b[0m\u001b[0;34m(\u001b[0m\u001b[0mdf\u001b[0m\u001b[0;34m,\u001b[0m \u001b[0;34m[\u001b[0m\u001b[0;36m10\u001b[0m\u001b[0;34m,\u001b[0m \u001b[0;36m15\u001b[0m\u001b[0;34m,\u001b[0m \u001b[0;36m30\u001b[0m\u001b[0;34m,\u001b[0m \u001b[0;36m60\u001b[0m\u001b[0;34m]\u001b[0m\u001b[0;34m,\u001b[0m \u001b[0;34m'hum_level'\u001b[0m\u001b[0;34m)\u001b[0m\u001b[0;34m\u001b[0m\u001b[0;34m\u001b[0m\u001b[0m\n",
      "\u001b[0;31mNameError\u001b[0m: name 'separate_timestamp' is not defined"
     ]
    }
   ],
   "source": [
    "df = separate_timestamp( pd.read_csv('hum.csv') )\n",
    "features = calculate_rolling_average(df, [10, 15, 30, 60], 'hum_level')"
   ]
  },
  {
   "cell_type": "code",
   "execution_count": 4,
   "metadata": {
    "cell_id": "a262f202f52546d3ab7c79fea3530466",
    "deepnote_cell_type": "code",
    "deepnote_to_be_reexecuted": false,
    "execution_millis": 3,
    "execution_start": 1683481703085,
    "source_hash": "c2f4ba83"
   },
   "outputs": [
    {
     "ename": "NameError",
     "evalue": "name 'features' is not defined",
     "output_type": "error",
     "traceback": [
      "\u001b[0;31m---------------------------------------------------------------------------\u001b[0m",
      "\u001b[0;31mNameError\u001b[0m                                 Traceback (most recent call last)",
      "\u001b[0;32m/tmp/ipykernel_7406/1517706230.py\u001b[0m in \u001b[0;36m<module>\u001b[0;34m\u001b[0m\n\u001b[0;32m----> 1\u001b[0;31m \u001b[0mfeatures\u001b[0m\u001b[0;34m.\u001b[0m\u001b[0mtail\u001b[0m\u001b[0;34m(\u001b[0m\u001b[0;36m1\u001b[0m\u001b[0;34m)\u001b[0m\u001b[0;34m.\u001b[0m\u001b[0mindex\u001b[0m\u001b[0;34m[\u001b[0m\u001b[0;36m0\u001b[0m\u001b[0;34m]\u001b[0m\u001b[0;34m.\u001b[0m\u001b[0mto_pydatetime\u001b[0m\u001b[0;34m(\u001b[0m\u001b[0;34m)\u001b[0m\u001b[0;34m\u001b[0m\u001b[0;34m\u001b[0m\u001b[0m\n\u001b[0m",
      "\u001b[0;31mNameError\u001b[0m: name 'features' is not defined"
     ]
    }
   ],
   "source": [
    "features.tail(1).index[0].to_pydatetime()"
   ]
  },
  {
   "cell_type": "code",
   "execution_count": null,
   "metadata": {
    "cell_id": "71f0d9ce7d644539a6ec05141839d70a",
    "deepnote_cell_type": "code"
   },
   "outputs": [],
   "source": [
    "def find_future_measurement(data: pd.DataFrame, curr_measurement: pd.DataFrame, N: list):\n",
    "\n",
    "    \"\"\"\n",
    "    This function recieves the complete dataframe (data) and a row of this dataframe (curr_measurement)\n",
    "\n",
    "    \"\"\"\n",
    "\n",
    "    #1. take current measurement index (datatime)\n",
    "\n",
    "    #2. go n units into the future for n in N\n",
    "\n",
    "    #3. find the nearest measurement to this time which is n units into the future\n",
    "\n",
    "    #4. pack the nearest measurement datetimes for each n units into the future, and return\n",
    "\n",
    "\n",
    "\n",
    "\n"
   ]
  },
  {
   "cell_type": "code",
   "execution_count": 29,
   "metadata": {
    "cell_id": "7ca71a201e25485fb945ce2cf4a53d9c",
    "deepnote_cell_type": "code",
    "deepnote_to_be_reexecuted": false,
    "execution_millis": 6,
    "execution_start": 1683481841364,
    "source_hash": "cc1876cc"
   },
   "outputs": [],
   "source": [
    "def data_preprocessing(data: pd.DataFrame, N: list):\n",
    "\n",
    "    #Get the last measurment\n",
    "    last_measurement = features.tail(1).index[0].to_pydatetime()\n",
    "    last_hour = last_measurement - timedelta(hours = -1)\n",
    "    \n",
    "    print(last_measurement, last_hour)\n",
    "    #Drop the last hour of data     \n",
    "    #X = \n",
    "\n",
    "    #Build the y matrix (the future measurements)\n",
    "\n",
    "\n",
    "\n"
   ]
  },
  {
   "cell_type": "code",
   "execution_count": 30,
   "metadata": {
    "cell_id": "0f3435d2c4ba4f7f9739f3e1395a55d1",
    "deepnote_cell_type": "code",
    "deepnote_to_be_reexecuted": false,
    "execution_millis": 4,
    "execution_start": 1683481863770,
    "source_hash": "cef3765d"
   },
   "outputs": [
    {
     "name": "stdout",
     "output_type": "stream",
     "text": [
      "2022-06-12 14:22:22 2022-06-12 15:22:22\n"
     ]
    }
   ],
   "source": [
    "data_preprocessing(features, [10, 15, 30, 60])"
   ]
  },
  {
   "cell_type": "markdown",
   "metadata": {
    "cell_id": "160558983d6843e08a0d44906da712cf",
    "deepnote_cell_type": "markdown"
   },
   "source": [
    "## Métricas\n",
    "\n",
    "Se propone al menos una métrica de evaluación para cuantificar el desempeño del modelo. Las métricas propuestas son apropiadas para el problema. Un resumen del flujo de trabajo para abordar el proyecto. Se comentan estrategias a utilizar, qué análisis de los datos se podría requerir o qué algoritmos se considerarán."
   ]
  },
  {
   "cell_type": "code",
   "execution_count": 0,
   "metadata": {
    "cell_id": "9a2908a1c4ad4bf5b912fdddb4eebe1e",
    "deepnote_cell_type": "code",
    "deepnote_to_be_reexecuted": true,
    "source_hash": "b623e53d"
   },
   "outputs": [],
   "source": []
  },
  {
   "cell_type": "markdown",
   "metadata": {
    "created_in_deepnote_cell": true,
    "deepnote_cell_type": "markdown"
   },
   "source": [
    "<a style='text-decoration:none;line-height:16px;display:flex;color:#5B5B62;padding:10px;justify-content:end;' href='https://deepnote.com?utm_source=created-in-deepnote-cell&projectId=ff9b19c4-718d-4116-a04b-62cd53a598e5' target=\"_blank\">\n",
    "<img alt='Created in deepnote.com' style='display:inline;max-height:16px;margin:0px;margin-right:7.5px;' src='data:image/svg+xml;base64,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' > </img>\n",
    "Created in <span style='font-weight:600;margin-left:4px;'>Deepnote</span></a>"
   ]
  }
 ],
 "metadata": {
  "deepnote": {},
  "deepnote_execution_queue": [],
  "deepnote_notebook_id": "bd7d7009b99d4716a5d35de3415dd33d",
  "kernelspec": {
   "display_name": "Python 3 (ipykernel)",
   "language": "python",
   "name": "python3"
  },
  "language_info": {
   "codemirror_mode": {
    "name": "ipython",
    "version": 3
   },
   "file_extension": ".py",
   "mimetype": "text/x-python",
   "name": "python",
   "nbconvert_exporter": "python",
   "pygments_lexer": "ipython3",
   "version": "3.9.7"
  }
 },
 "nbformat": 4,
 "nbformat_minor": 1
}
